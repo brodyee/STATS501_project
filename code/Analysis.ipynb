{
 "cells": [
  {
   "cell_type": "markdown",
   "id": "81a967d9",
   "metadata": {},
   "source": [
    "# Table of Contents\n",
    "\n",
    "* [Imports](#Imports)\n",
    "* [Data Read In](#Data-Read-In)\n",
    "* Model Fitting\n",
    "    * [Parameter Combination](#Parameter-Combination)\n",
    "    * [Split On Sex](#Split-On-Sex)\n",
    "    * [Split On Sex Parameter Combination](#Split-On-Sex-Parameter-Combination)\n",
    "* Model Evaluation\n",
    "    * [Cross Validation](#Cross-Validation)\n",
    "* Bootstrapping\n",
    "    * [Setup](#Setup)\n",
    "    * [Running](#Running)\n",
    "    * [Results](#Results)"
   ]
  },
  {
   "cell_type": "markdown",
   "id": "eba351b5",
   "metadata": {},
   "source": [
    "# Imports\n",
    "[Back to Top](#Table-of-Contents)"
   ]
  },
  {
   "cell_type": "code",
   "execution_count": 1,
   "id": "5f838301",
   "metadata": {},
   "outputs": [],
   "source": [
    "import pandas as pd\n",
    "import numpy as np\n",
    "import statsmodels.formula.api as smf\n",
    "from itertools import combinations\n",
    "from random import choices\n",
    "import seaborn as sns\n",
    "import matplotlib.pyplot as plt"
   ]
  },
  {
   "cell_type": "markdown",
   "id": "95fb8ab0",
   "metadata": {},
   "source": [
    "# Data Read In\n",
    "[Back to Top](#Table-of-Contents)"
   ]
  },
  {
   "cell_type": "code",
   "execution_count": 2,
   "id": "3fcd5d8f",
   "metadata": {},
   "outputs": [],
   "source": [
    "root = \"../data/\"\n",
    "\n",
    "#knnDat = pd.read_csv(root + \"violenceKNN_splitForImpute.csv\")\n",
    "#features = pd.read_csv(root + \"Economic_Data.csv\", index_col=0)\n",
    "#features.columns = [\"year\", \"sitename\"] + list(features.columns)[2:]\n",
    "#knnSplResp = pd.read_csv(root + \"vioRespKNNSexSplit.csv\")\n",
    "#knnSplResp = pd.read_csv(root + \"violenceKNNResp_wSex_NotSplitImp.csv\")\n",
    "#knnSplResp[\"sex\"] = knnSplResp[\"sex\"].replace({1 : \"Female\", 2 : \"Male\"})\n",
    "#knnSplResp[\"sex\"] = knnSplResp[\"sex\"].replace({\"Male\" : 1,\n",
    "#                                               \"Female\" : 0})\n",
    "#meanSplResp = pd.read_csv(root + \"vioRespMeanSexSplit.csv\")\n",
    "#MedSplResp = pd.read_csv(root + \"vioRespMedSexSplit.csv\")\n",
    "#ModeSplResp = pd.read_csv(root + \"vioRespModeSexSplit.csv\")\n",
    "#violenceqs = [\"q12\", \"q13\", \"q15\",\n",
    "#              \"q16\", \"q17\", \"q18\"]\n",
    "#bootDat = pd.read_csv(root + \"knnImputeVio_WSex.csv\")[violenceqs + [\"year\", \"sitename\", \"sex\"]]\n",
    "#bootDat[\"sex\"] = bootDat[\"sex\"].replace({1 : \"Female\", 2 : \"Male\"})\n",
    "#bootDat[\"sex\"] = bootDat[\"sex\"].replace({\"Male\" : 1,\n",
    "#                                         \"Female\" : 0})\n",
    "bootParams = pd.read_csv(root + \"params.csv\")\n",
    "bootPredVars = pd.read_csv(root + \"predictVars.csv\")\n",
    "bootSampleVars = pd.read_csv(root + \"sampleVars.csv\")"
   ]
  },
  {
   "cell_type": "markdown",
   "id": "7c1e952d",
   "metadata": {},
   "source": [
    "# Model Fitting"
   ]
  },
  {
   "cell_type": "markdown",
   "id": "42b78ce7",
   "metadata": {},
   "source": [
    "## Parameter Combination\n",
    "[Back to Top](#Table-of-Contents)"
   ]
  },
  {
   "cell_type": "code",
   "execution_count": 144,
   "id": "c7af36f3",
   "metadata": {},
   "outputs": [],
   "source": [
    "dropCols = [\"Year\", \n",
    "            \"State / County Name\",\n",
    "            \"Ages 5 to 17 in Families SAIPE Poverty Universe\",\n",
    "            \"Ages 5 to 17 in Families in Poverty Count\",\n",
    "            \"Ages 5 to 17 in Families in Poverty Percent\",\n",
    "            \"All Ages in Poverty Count\",\n",
    "            \"All Ages SAIPE Poverty Universe\",\n",
    "            \"Under Age 18 SAIPE Poverty Universe\",\n",
    "            \"Under Age 18 in Poverty Count\"]\n",
    "knnDat = knnDat.merge(features, how=\"inner\", left_on=[\"year\", \"sitename\"],\n",
    "                      right_on=[\"Year\", \"State / County Name\"]).drop(dropCols, axis=1)\n",
    "knnDat.columns = ['year', 'sitename', 'violenceScore',\n",
    "       'AllAgesInPovertyPercent', 'UnderAge18inPovertyPercent',\n",
    "       'MedianHouseholdIncomeInDollars', 'UnemploymentRate', 'Population',\n",
    "       'SNAP']"
   ]
  },
  {
   "cell_type": "code",
   "execution_count": 21,
   "id": "36cbe5bc",
   "metadata": {},
   "outputs": [],
   "source": [
    "allFeatures = np.asarray(knnDat.drop([\"sitename\", \"violenceScore\"], axis=1).columns)"
   ]
  },
  {
   "cell_type": "code",
   "execution_count": 22,
   "id": "e03e2163",
   "metadata": {},
   "outputs": [
    {
     "name": "stderr",
     "output_type": "stream",
     "text": [
      "/home/berlands/anaconda3/envs/STATS507/lib/python3.9/site-packages/statsmodels/base/model.py:566: ConvergenceWarning: Maximum Likelihood optimization failed to converge. Check mle_retvals\n",
      "  warnings.warn(\"Maximum Likelihood optimization failed to \"\n",
      "/home/berlands/anaconda3/envs/STATS507/lib/python3.9/site-packages/statsmodels/regression/mixed_linear_model.py:2200: ConvergenceWarning: Retrying MixedLM optimization with lbfgs\n",
      "  warnings.warn(\n",
      "/home/berlands/anaconda3/envs/STATS507/lib/python3.9/site-packages/statsmodels/base/model.py:566: ConvergenceWarning: Maximum Likelihood optimization failed to converge. Check mle_retvals\n",
      "  warnings.warn(\"Maximum Likelihood optimization failed to \"\n",
      "/home/berlands/anaconda3/envs/STATS507/lib/python3.9/site-packages/statsmodels/regression/mixed_linear_model.py:2200: ConvergenceWarning: Retrying MixedLM optimization with cg\n",
      "  warnings.warn(\n",
      "/home/berlands/anaconda3/envs/STATS507/lib/python3.9/site-packages/statsmodels/base/model.py:566: ConvergenceWarning: Maximum Likelihood optimization failed to converge. Check mle_retvals\n",
      "  warnings.warn(\"Maximum Likelihood optimization failed to \"\n",
      "/home/berlands/anaconda3/envs/STATS507/lib/python3.9/site-packages/statsmodels/regression/mixed_linear_model.py:2206: ConvergenceWarning: MixedLM optimization failed, trying a different optimizer may help.\n",
      "  warnings.warn(msg, ConvergenceWarning)\n",
      "/home/berlands/anaconda3/envs/STATS507/lib/python3.9/site-packages/statsmodels/regression/mixed_linear_model.py:2218: ConvergenceWarning: Gradient optimization failed, |grad| = 0.777901\n",
      "  warnings.warn(msg, ConvergenceWarning)\n",
      "/home/berlands/anaconda3/envs/STATS507/lib/python3.9/site-packages/statsmodels/base/model.py:566: ConvergenceWarning: Maximum Likelihood optimization failed to converge. Check mle_retvals\n",
      "  warnings.warn(\"Maximum Likelihood optimization failed to \"\n",
      "/home/berlands/anaconda3/envs/STATS507/lib/python3.9/site-packages/statsmodels/regression/mixed_linear_model.py:2200: ConvergenceWarning: Retrying MixedLM optimization with lbfgs\n",
      "  warnings.warn(\n",
      "/home/berlands/anaconda3/envs/STATS507/lib/python3.9/site-packages/statsmodels/base/model.py:566: ConvergenceWarning: Maximum Likelihood optimization failed to converge. Check mle_retvals\n",
      "  warnings.warn(\"Maximum Likelihood optimization failed to \"\n",
      "/home/berlands/anaconda3/envs/STATS507/lib/python3.9/site-packages/statsmodels/regression/mixed_linear_model.py:2200: ConvergenceWarning: Retrying MixedLM optimization with cg\n",
      "  warnings.warn(\n",
      "/home/berlands/anaconda3/envs/STATS507/lib/python3.9/site-packages/statsmodels/base/model.py:566: ConvergenceWarning: Maximum Likelihood optimization failed to converge. Check mle_retvals\n",
      "  warnings.warn(\"Maximum Likelihood optimization failed to \"\n",
      "/home/berlands/anaconda3/envs/STATS507/lib/python3.9/site-packages/statsmodels/regression/mixed_linear_model.py:2206: ConvergenceWarning: MixedLM optimization failed, trying a different optimizer may help.\n",
      "  warnings.warn(msg, ConvergenceWarning)\n",
      "/home/berlands/anaconda3/envs/STATS507/lib/python3.9/site-packages/statsmodels/regression/mixed_linear_model.py:2218: ConvergenceWarning: Gradient optimization failed, |grad| = 0.048639\n",
      "  warnings.warn(msg, ConvergenceWarning)\n",
      "/home/berlands/anaconda3/envs/STATS507/lib/python3.9/site-packages/statsmodels/regression/mixed_linear_model.py:2237: ConvergenceWarning: The MLE may be on the boundary of the parameter space.\n",
      "  warnings.warn(msg, ConvergenceWarning)\n",
      "/home/berlands/anaconda3/envs/STATS507/lib/python3.9/site-packages/statsmodels/base/model.py:566: ConvergenceWarning: Maximum Likelihood optimization failed to converge. Check mle_retvals\n",
      "  warnings.warn(\"Maximum Likelihood optimization failed to \"\n",
      "/home/berlands/anaconda3/envs/STATS507/lib/python3.9/site-packages/statsmodels/regression/mixed_linear_model.py:2200: ConvergenceWarning: Retrying MixedLM optimization with lbfgs\n",
      "  warnings.warn(\n",
      "/home/berlands/anaconda3/envs/STATS507/lib/python3.9/site-packages/statsmodels/base/model.py:566: ConvergenceWarning: Maximum Likelihood optimization failed to converge. Check mle_retvals\n",
      "  warnings.warn(\"Maximum Likelihood optimization failed to \"\n",
      "/home/berlands/anaconda3/envs/STATS507/lib/python3.9/site-packages/statsmodels/regression/mixed_linear_model.py:2200: ConvergenceWarning: Retrying MixedLM optimization with cg\n",
      "  warnings.warn(\n",
      "/home/berlands/anaconda3/envs/STATS507/lib/python3.9/site-packages/statsmodels/base/model.py:566: ConvergenceWarning: Maximum Likelihood optimization failed to converge. Check mle_retvals\n",
      "  warnings.warn(\"Maximum Likelihood optimization failed to \"\n",
      "/home/berlands/anaconda3/envs/STATS507/lib/python3.9/site-packages/statsmodels/regression/mixed_linear_model.py:2206: ConvergenceWarning: MixedLM optimization failed, trying a different optimizer may help.\n",
      "  warnings.warn(msg, ConvergenceWarning)\n",
      "/home/berlands/anaconda3/envs/STATS507/lib/python3.9/site-packages/statsmodels/regression/mixed_linear_model.py:2218: ConvergenceWarning: Gradient optimization failed, |grad| = 2.212378\n",
      "  warnings.warn(msg, ConvergenceWarning)\n",
      "/home/berlands/anaconda3/envs/STATS507/lib/python3.9/site-packages/statsmodels/base/model.py:566: ConvergenceWarning: Maximum Likelihood optimization failed to converge. Check mle_retvals\n",
      "  warnings.warn(\"Maximum Likelihood optimization failed to \"\n",
      "/home/berlands/anaconda3/envs/STATS507/lib/python3.9/site-packages/statsmodels/regression/mixed_linear_model.py:2200: ConvergenceWarning: Retrying MixedLM optimization with lbfgs\n",
      "  warnings.warn(\n",
      "/home/berlands/anaconda3/envs/STATS507/lib/python3.9/site-packages/statsmodels/base/model.py:566: ConvergenceWarning: Maximum Likelihood optimization failed to converge. Check mle_retvals\n",
      "  warnings.warn(\"Maximum Likelihood optimization failed to \"\n",
      "/home/berlands/anaconda3/envs/STATS507/lib/python3.9/site-packages/statsmodels/regression/mixed_linear_model.py:2200: ConvergenceWarning: Retrying MixedLM optimization with cg\n",
      "  warnings.warn(\n",
      "/home/berlands/anaconda3/envs/STATS507/lib/python3.9/site-packages/statsmodels/base/model.py:566: ConvergenceWarning: Maximum Likelihood optimization failed to converge. Check mle_retvals\n",
      "  warnings.warn(\"Maximum Likelihood optimization failed to \"\n",
      "/home/berlands/anaconda3/envs/STATS507/lib/python3.9/site-packages/statsmodels/regression/mixed_linear_model.py:2206: ConvergenceWarning: MixedLM optimization failed, trying a different optimizer may help.\n",
      "  warnings.warn(msg, ConvergenceWarning)\n",
      "/home/berlands/anaconda3/envs/STATS507/lib/python3.9/site-packages/statsmodels/regression/mixed_linear_model.py:2218: ConvergenceWarning: Gradient optimization failed, |grad| = 3.568369\n",
      "  warnings.warn(msg, ConvergenceWarning)\n",
      "/home/berlands/anaconda3/envs/STATS507/lib/python3.9/site-packages/statsmodels/base/model.py:566: ConvergenceWarning: Maximum Likelihood optimization failed to converge. Check mle_retvals\n",
      "  warnings.warn(\"Maximum Likelihood optimization failed to \"\n",
      "/home/berlands/anaconda3/envs/STATS507/lib/python3.9/site-packages/statsmodels/regression/mixed_linear_model.py:2200: ConvergenceWarning: Retrying MixedLM optimization with lbfgs\n",
      "  warnings.warn(\n",
      "/home/berlands/anaconda3/envs/STATS507/lib/python3.9/site-packages/statsmodels/base/model.py:566: ConvergenceWarning: Maximum Likelihood optimization failed to converge. Check mle_retvals\n",
      "  warnings.warn(\"Maximum Likelihood optimization failed to \"\n",
      "/home/berlands/anaconda3/envs/STATS507/lib/python3.9/site-packages/statsmodels/regression/mixed_linear_model.py:2200: ConvergenceWarning: Retrying MixedLM optimization with lbfgs\n",
      "  warnings.warn(\n",
      "/home/berlands/anaconda3/envs/STATS507/lib/python3.9/site-packages/statsmodels/base/model.py:566: ConvergenceWarning: Maximum Likelihood optimization failed to converge. Check mle_retvals\n",
      "  warnings.warn(\"Maximum Likelihood optimization failed to \"\n",
      "/home/berlands/anaconda3/envs/STATS507/lib/python3.9/site-packages/statsmodels/regression/mixed_linear_model.py:2200: ConvergenceWarning: Retrying MixedLM optimization with cg\n",
      "  warnings.warn(\n",
      "/home/berlands/anaconda3/envs/STATS507/lib/python3.9/site-packages/statsmodels/base/model.py:566: ConvergenceWarning: Maximum Likelihood optimization failed to converge. Check mle_retvals\n",
      "  warnings.warn(\"Maximum Likelihood optimization failed to \"\n",
      "/home/berlands/anaconda3/envs/STATS507/lib/python3.9/site-packages/statsmodels/regression/mixed_linear_model.py:2206: ConvergenceWarning: MixedLM optimization failed, trying a different optimizer may help.\n",
      "  warnings.warn(msg, ConvergenceWarning)\n",
      "/home/berlands/anaconda3/envs/STATS507/lib/python3.9/site-packages/statsmodels/regression/mixed_linear_model.py:2218: ConvergenceWarning: Gradient optimization failed, |grad| = 1.114072\n",
      "  warnings.warn(msg, ConvergenceWarning)\n"
     ]
    },
    {
     "name": "stderr",
     "output_type": "stream",
     "text": [
      "/home/berlands/anaconda3/envs/STATS507/lib/python3.9/site-packages/statsmodels/regression/mixed_linear_model.py:2237: ConvergenceWarning: The MLE may be on the boundary of the parameter space.\n",
      "  warnings.warn(msg, ConvergenceWarning)\n",
      "/home/berlands/anaconda3/envs/STATS507/lib/python3.9/site-packages/statsmodels/base/model.py:566: ConvergenceWarning: Maximum Likelihood optimization failed to converge. Check mle_retvals\n",
      "  warnings.warn(\"Maximum Likelihood optimization failed to \"\n",
      "/home/berlands/anaconda3/envs/STATS507/lib/python3.9/site-packages/statsmodels/regression/mixed_linear_model.py:2200: ConvergenceWarning: Retrying MixedLM optimization with lbfgs\n",
      "  warnings.warn(\n",
      "/home/berlands/anaconda3/envs/STATS507/lib/python3.9/site-packages/statsmodels/base/model.py:566: ConvergenceWarning: Maximum Likelihood optimization failed to converge. Check mle_retvals\n",
      "  warnings.warn(\"Maximum Likelihood optimization failed to \"\n",
      "/home/berlands/anaconda3/envs/STATS507/lib/python3.9/site-packages/statsmodels/regression/mixed_linear_model.py:2200: ConvergenceWarning: Retrying MixedLM optimization with cg\n",
      "  warnings.warn(\n",
      "/home/berlands/anaconda3/envs/STATS507/lib/python3.9/site-packages/statsmodels/base/model.py:566: ConvergenceWarning: Maximum Likelihood optimization failed to converge. Check mle_retvals\n",
      "  warnings.warn(\"Maximum Likelihood optimization failed to \"\n",
      "/home/berlands/anaconda3/envs/STATS507/lib/python3.9/site-packages/statsmodels/regression/mixed_linear_model.py:2206: ConvergenceWarning: MixedLM optimization failed, trying a different optimizer may help.\n",
      "  warnings.warn(msg, ConvergenceWarning)\n",
      "/home/berlands/anaconda3/envs/STATS507/lib/python3.9/site-packages/statsmodels/regression/mixed_linear_model.py:2218: ConvergenceWarning: Gradient optimization failed, |grad| = 2.144446\n",
      "  warnings.warn(msg, ConvergenceWarning)\n",
      "/home/berlands/anaconda3/envs/STATS507/lib/python3.9/site-packages/statsmodels/base/model.py:566: ConvergenceWarning: Maximum Likelihood optimization failed to converge. Check mle_retvals\n",
      "  warnings.warn(\"Maximum Likelihood optimization failed to \"\n",
      "/home/berlands/anaconda3/envs/STATS507/lib/python3.9/site-packages/statsmodels/regression/mixed_linear_model.py:2200: ConvergenceWarning: Retrying MixedLM optimization with lbfgs\n",
      "  warnings.warn(\n",
      "/home/berlands/anaconda3/envs/STATS507/lib/python3.9/site-packages/statsmodels/base/model.py:566: ConvergenceWarning: Maximum Likelihood optimization failed to converge. Check mle_retvals\n",
      "  warnings.warn(\"Maximum Likelihood optimization failed to \"\n",
      "/home/berlands/anaconda3/envs/STATS507/lib/python3.9/site-packages/statsmodels/regression/mixed_linear_model.py:2200: ConvergenceWarning: Retrying MixedLM optimization with cg\n",
      "  warnings.warn(\n",
      "/home/berlands/anaconda3/envs/STATS507/lib/python3.9/site-packages/statsmodels/base/model.py:566: ConvergenceWarning: Maximum Likelihood optimization failed to converge. Check mle_retvals\n",
      "  warnings.warn(\"Maximum Likelihood optimization failed to \"\n",
      "/home/berlands/anaconda3/envs/STATS507/lib/python3.9/site-packages/statsmodels/regression/mixed_linear_model.py:2206: ConvergenceWarning: MixedLM optimization failed, trying a different optimizer may help.\n",
      "  warnings.warn(msg, ConvergenceWarning)\n",
      "/home/berlands/anaconda3/envs/STATS507/lib/python3.9/site-packages/statsmodels/regression/mixed_linear_model.py:2218: ConvergenceWarning: Gradient optimization failed, |grad| = 2.130794\n",
      "  warnings.warn(msg, ConvergenceWarning)\n",
      "/home/berlands/anaconda3/envs/STATS507/lib/python3.9/site-packages/statsmodels/base/model.py:566: ConvergenceWarning: Maximum Likelihood optimization failed to converge. Check mle_retvals\n",
      "  warnings.warn(\"Maximum Likelihood optimization failed to \"\n",
      "/home/berlands/anaconda3/envs/STATS507/lib/python3.9/site-packages/statsmodels/regression/mixed_linear_model.py:2200: ConvergenceWarning: Retrying MixedLM optimization with lbfgs\n",
      "  warnings.warn(\n",
      "/home/berlands/anaconda3/envs/STATS507/lib/python3.9/site-packages/statsmodels/base/model.py:566: ConvergenceWarning: Maximum Likelihood optimization failed to converge. Check mle_retvals\n",
      "  warnings.warn(\"Maximum Likelihood optimization failed to \"\n",
      "/home/berlands/anaconda3/envs/STATS507/lib/python3.9/site-packages/statsmodels/regression/mixed_linear_model.py:2200: ConvergenceWarning: Retrying MixedLM optimization with lbfgs\n",
      "  warnings.warn(\n",
      "/home/berlands/anaconda3/envs/STATS507/lib/python3.9/site-packages/statsmodels/base/model.py:566: ConvergenceWarning: Maximum Likelihood optimization failed to converge. Check mle_retvals\n",
      "  warnings.warn(\"Maximum Likelihood optimization failed to \"\n",
      "/home/berlands/anaconda3/envs/STATS507/lib/python3.9/site-packages/statsmodels/regression/mixed_linear_model.py:2200: ConvergenceWarning: Retrying MixedLM optimization with cg\n",
      "  warnings.warn(\n",
      "/home/berlands/anaconda3/envs/STATS507/lib/python3.9/site-packages/statsmodels/base/model.py:566: ConvergenceWarning: Maximum Likelihood optimization failed to converge. Check mle_retvals\n",
      "  warnings.warn(\"Maximum Likelihood optimization failed to \"\n",
      "/home/berlands/anaconda3/envs/STATS507/lib/python3.9/site-packages/statsmodels/regression/mixed_linear_model.py:2206: ConvergenceWarning: MixedLM optimization failed, trying a different optimizer may help.\n",
      "  warnings.warn(msg, ConvergenceWarning)\n",
      "/home/berlands/anaconda3/envs/STATS507/lib/python3.9/site-packages/statsmodels/regression/mixed_linear_model.py:2218: ConvergenceWarning: Gradient optimization failed, |grad| = 2.068343\n",
      "  warnings.warn(msg, ConvergenceWarning)\n",
      "/home/berlands/anaconda3/envs/STATS507/lib/python3.9/site-packages/statsmodels/base/model.py:566: ConvergenceWarning: Maximum Likelihood optimization failed to converge. Check mle_retvals\n",
      "  warnings.warn(\"Maximum Likelihood optimization failed to \"\n",
      "/home/berlands/anaconda3/envs/STATS507/lib/python3.9/site-packages/statsmodels/regression/mixed_linear_model.py:2200: ConvergenceWarning: Retrying MixedLM optimization with lbfgs\n",
      "  warnings.warn(\n",
      "/home/berlands/anaconda3/envs/STATS507/lib/python3.9/site-packages/statsmodels/base/model.py:566: ConvergenceWarning: Maximum Likelihood optimization failed to converge. Check mle_retvals\n",
      "  warnings.warn(\"Maximum Likelihood optimization failed to \"\n",
      "/home/berlands/anaconda3/envs/STATS507/lib/python3.9/site-packages/statsmodels/regression/mixed_linear_model.py:2200: ConvergenceWarning: Retrying MixedLM optimization with lbfgs\n",
      "  warnings.warn(\n",
      "/home/berlands/anaconda3/envs/STATS507/lib/python3.9/site-packages/statsmodels/base/model.py:566: ConvergenceWarning: Maximum Likelihood optimization failed to converge. Check mle_retvals\n",
      "  warnings.warn(\"Maximum Likelihood optimization failed to \"\n",
      "/home/berlands/anaconda3/envs/STATS507/lib/python3.9/site-packages/statsmodels/regression/mixed_linear_model.py:2200: ConvergenceWarning: Retrying MixedLM optimization with cg\n",
      "  warnings.warn(\n",
      "/home/berlands/anaconda3/envs/STATS507/lib/python3.9/site-packages/statsmodels/base/model.py:566: ConvergenceWarning: Maximum Likelihood optimization failed to converge. Check mle_retvals\n",
      "  warnings.warn(\"Maximum Likelihood optimization failed to \"\n",
      "/home/berlands/anaconda3/envs/STATS507/lib/python3.9/site-packages/statsmodels/regression/mixed_linear_model.py:2206: ConvergenceWarning: MixedLM optimization failed, trying a different optimizer may help.\n",
      "  warnings.warn(msg, ConvergenceWarning)\n",
      "/home/berlands/anaconda3/envs/STATS507/lib/python3.9/site-packages/statsmodels/regression/mixed_linear_model.py:2218: ConvergenceWarning: Gradient optimization failed, |grad| = 1.417201\n",
      "  warnings.warn(msg, ConvergenceWarning)\n",
      "/home/berlands/anaconda3/envs/STATS507/lib/python3.9/site-packages/statsmodels/base/model.py:566: ConvergenceWarning: Maximum Likelihood optimization failed to converge. Check mle_retvals\n",
      "  warnings.warn(\"Maximum Likelihood optimization failed to \"\n",
      "/home/berlands/anaconda3/envs/STATS507/lib/python3.9/site-packages/statsmodels/regression/mixed_linear_model.py:2200: ConvergenceWarning: Retrying MixedLM optimization with lbfgs\n",
      "  warnings.warn(\n",
      "/home/berlands/anaconda3/envs/STATS507/lib/python3.9/site-packages/statsmodels/base/model.py:566: ConvergenceWarning: Maximum Likelihood optimization failed to converge. Check mle_retvals\n",
      "  warnings.warn(\"Maximum Likelihood optimization failed to \"\n",
      "/home/berlands/anaconda3/envs/STATS507/lib/python3.9/site-packages/statsmodels/regression/mixed_linear_model.py:2200: ConvergenceWarning: Retrying MixedLM optimization with cg\n",
      "  warnings.warn(\n"
     ]
    },
    {
     "name": "stderr",
     "output_type": "stream",
     "text": [
      "/home/berlands/anaconda3/envs/STATS507/lib/python3.9/site-packages/statsmodels/base/model.py:566: ConvergenceWarning: Maximum Likelihood optimization failed to converge. Check mle_retvals\n",
      "  warnings.warn(\"Maximum Likelihood optimization failed to \"\n",
      "/home/berlands/anaconda3/envs/STATS507/lib/python3.9/site-packages/statsmodels/regression/mixed_linear_model.py:2206: ConvergenceWarning: MixedLM optimization failed, trying a different optimizer may help.\n",
      "  warnings.warn(msg, ConvergenceWarning)\n",
      "/home/berlands/anaconda3/envs/STATS507/lib/python3.9/site-packages/statsmodels/regression/mixed_linear_model.py:2218: ConvergenceWarning: Gradient optimization failed, |grad| = 7.803333\n",
      "  warnings.warn(msg, ConvergenceWarning)\n",
      "/home/berlands/anaconda3/envs/STATS507/lib/python3.9/site-packages/statsmodels/base/model.py:566: ConvergenceWarning: Maximum Likelihood optimization failed to converge. Check mle_retvals\n",
      "  warnings.warn(\"Maximum Likelihood optimization failed to \"\n",
      "/home/berlands/anaconda3/envs/STATS507/lib/python3.9/site-packages/statsmodels/regression/mixed_linear_model.py:2200: ConvergenceWarning: Retrying MixedLM optimization with lbfgs\n",
      "  warnings.warn(\n"
     ]
    }
   ],
   "source": [
    "modelsAIC = pd.DataFrame(columns=[\"AIC\", \"features\"])\n",
    "for nComb in reversed(range(1, 7)):\n",
    "    combs = combinations(allFeatures, nComb)\n",
    "    for comb in combs:\n",
    "        equ = \"violenceScore ~ \"\n",
    "        i = 0\n",
    "        for feat in comb:\n",
    "            equ += feat \n",
    "            if len(comb) - 1 != i:\n",
    "                equ += \"+\"\n",
    "            i += 1\n",
    "        md = smf.mixedlm(equ, knnDat, \n",
    "                         groups=knnDat[\"sitename\"])\n",
    "        mdf = md.fit(reml=False)\n",
    "        modelsAIC = modelsAIC.append({'AIC' : mdf.aic, \"features\" : comb}, ignore_index=True)"
   ]
  },
  {
   "cell_type": "code",
   "execution_count": 23,
   "id": "b00fd5de",
   "metadata": {},
   "outputs": [
    {
     "data": {
      "text/html": [
       "<div>\n",
       "<style scoped>\n",
       "    .dataframe tbody tr th:only-of-type {\n",
       "        vertical-align: middle;\n",
       "    }\n",
       "\n",
       "    .dataframe tbody tr th {\n",
       "        vertical-align: top;\n",
       "    }\n",
       "\n",
       "    .dataframe thead th {\n",
       "        text-align: right;\n",
       "    }\n",
       "</style>\n",
       "<table border=\"1\" class=\"dataframe\">\n",
       "  <thead>\n",
       "    <tr style=\"text-align: right;\">\n",
       "      <th></th>\n",
       "      <th>AIC</th>\n",
       "      <th>features</th>\n",
       "    </tr>\n",
       "  </thead>\n",
       "  <tbody>\n",
       "    <tr>\n",
       "      <th>101</th>\n",
       "      <td>772.352482</td>\n",
       "      <td>(year, UnemploymentRate)</td>\n",
       "    </tr>\n",
       "    <tr>\n",
       "      <th>69</th>\n",
       "      <td>773.931227</td>\n",
       "      <td>(year, UnderAge18inPovertyPercent, Unemploymen...</td>\n",
       "    </tr>\n",
       "    <tr>\n",
       "      <th>76</th>\n",
       "      <td>774.176704</td>\n",
       "      <td>(year, UnemploymentRate, SNAP)</td>\n",
       "    </tr>\n",
       "    <tr>\n",
       "      <th>75</th>\n",
       "      <td>774.197420</td>\n",
       "      <td>(year, UnemploymentRate, Population)</td>\n",
       "    </tr>\n",
       "    <tr>\n",
       "      <th>72</th>\n",
       "      <td>774.232398</td>\n",
       "      <td>(year, MedianHouseholdIncomeInDollars, Unemplo...</td>\n",
       "    </tr>\n",
       "    <tr>\n",
       "      <th>...</th>\n",
       "      <td>...</td>\n",
       "      <td>...</td>\n",
       "    </tr>\n",
       "    <tr>\n",
       "      <th>121</th>\n",
       "      <td>870.691511</td>\n",
       "      <td>(UnderAge18inPovertyPercent,)</td>\n",
       "    </tr>\n",
       "    <tr>\n",
       "      <th>111</th>\n",
       "      <td>872.638754</td>\n",
       "      <td>(UnderAge18inPovertyPercent, Population)</td>\n",
       "    </tr>\n",
       "    <tr>\n",
       "      <th>120</th>\n",
       "      <td>874.095724</td>\n",
       "      <td>(AllAgesInPovertyPercent,)</td>\n",
       "    </tr>\n",
       "    <tr>\n",
       "      <th>107</th>\n",
       "      <td>876.185382</td>\n",
       "      <td>(AllAgesInPovertyPercent, Population)</td>\n",
       "    </tr>\n",
       "    <tr>\n",
       "      <th>124</th>\n",
       "      <td>878.390376</td>\n",
       "      <td>(Population,)</td>\n",
       "    </tr>\n",
       "  </tbody>\n",
       "</table>\n",
       "<p>126 rows × 2 columns</p>\n",
       "</div>"
      ],
      "text/plain": [
       "            AIC                                           features\n",
       "101  772.352482                           (year, UnemploymentRate)\n",
       "69   773.931227  (year, UnderAge18inPovertyPercent, Unemploymen...\n",
       "76   774.176704                     (year, UnemploymentRate, SNAP)\n",
       "75   774.197420               (year, UnemploymentRate, Population)\n",
       "72   774.232398  (year, MedianHouseholdIncomeInDollars, Unemplo...\n",
       "..          ...                                                ...\n",
       "121  870.691511                      (UnderAge18inPovertyPercent,)\n",
       "111  872.638754           (UnderAge18inPovertyPercent, Population)\n",
       "120  874.095724                         (AllAgesInPovertyPercent,)\n",
       "107  876.185382              (AllAgesInPovertyPercent, Population)\n",
       "124  878.390376                                      (Population,)\n",
       "\n",
       "[126 rows x 2 columns]"
      ]
     },
     "execution_count": 23,
     "metadata": {},
     "output_type": "execute_result"
    }
   ],
   "source": [
    "modelsAIC.sort_values(\"AIC\")"
   ]
  },
  {
   "cell_type": "code",
   "execution_count": 24,
   "id": "96fd5867",
   "metadata": {
    "scrolled": true
   },
   "outputs": [
    {
     "name": "stderr",
     "output_type": "stream",
     "text": [
      "/home/berlands/anaconda3/envs/STATS507/lib/python3.9/site-packages/statsmodels/base/model.py:566: ConvergenceWarning: Maximum Likelihood optimization failed to converge. Check mle_retvals\n",
      "  warnings.warn(\"Maximum Likelihood optimization failed to \"\n",
      "/home/berlands/anaconda3/envs/STATS507/lib/python3.9/site-packages/statsmodels/regression/mixed_linear_model.py:2200: ConvergenceWarning: Retrying MixedLM optimization with lbfgs\n",
      "  warnings.warn(\n",
      "/home/berlands/anaconda3/envs/STATS507/lib/python3.9/site-packages/statsmodels/base/model.py:566: ConvergenceWarning: Maximum Likelihood optimization failed to converge. Check mle_retvals\n",
      "  warnings.warn(\"Maximum Likelihood optimization failed to \"\n",
      "/home/berlands/anaconda3/envs/STATS507/lib/python3.9/site-packages/statsmodels/regression/mixed_linear_model.py:2200: ConvergenceWarning: Retrying MixedLM optimization with cg\n",
      "  warnings.warn(\n",
      "/home/berlands/anaconda3/envs/STATS507/lib/python3.9/site-packages/statsmodels/base/model.py:566: ConvergenceWarning: Maximum Likelihood optimization failed to converge. Check mle_retvals\n",
      "  warnings.warn(\"Maximum Likelihood optimization failed to \"\n",
      "/home/berlands/anaconda3/envs/STATS507/lib/python3.9/site-packages/statsmodels/regression/mixed_linear_model.py:2206: ConvergenceWarning: MixedLM optimization failed, trying a different optimizer may help.\n",
      "  warnings.warn(msg, ConvergenceWarning)\n",
      "/home/berlands/anaconda3/envs/STATS507/lib/python3.9/site-packages/statsmodels/regression/mixed_linear_model.py:2218: ConvergenceWarning: Gradient optimization failed, |grad| = 0.777901\n",
      "  warnings.warn(msg, ConvergenceWarning)\n",
      "/home/berlands/anaconda3/envs/STATS507/lib/python3.9/site-packages/statsmodels/base/model.py:566: ConvergenceWarning: Maximum Likelihood optimization failed to converge. Check mle_retvals\n",
      "  warnings.warn(\"Maximum Likelihood optimization failed to \"\n",
      "/home/berlands/anaconda3/envs/STATS507/lib/python3.9/site-packages/statsmodels/regression/mixed_linear_model.py:2200: ConvergenceWarning: Retrying MixedLM optimization with lbfgs\n",
      "  warnings.warn(\n",
      "/home/berlands/anaconda3/envs/STATS507/lib/python3.9/site-packages/statsmodels/base/model.py:566: ConvergenceWarning: Maximum Likelihood optimization failed to converge. Check mle_retvals\n",
      "  warnings.warn(\"Maximum Likelihood optimization failed to \"\n",
      "/home/berlands/anaconda3/envs/STATS507/lib/python3.9/site-packages/statsmodels/regression/mixed_linear_model.py:2200: ConvergenceWarning: Retrying MixedLM optimization with cg\n",
      "  warnings.warn(\n",
      "/home/berlands/anaconda3/envs/STATS507/lib/python3.9/site-packages/statsmodels/base/model.py:566: ConvergenceWarning: Maximum Likelihood optimization failed to converge. Check mle_retvals\n",
      "  warnings.warn(\"Maximum Likelihood optimization failed to \"\n",
      "/home/berlands/anaconda3/envs/STATS507/lib/python3.9/site-packages/statsmodels/regression/mixed_linear_model.py:2206: ConvergenceWarning: MixedLM optimization failed, trying a different optimizer may help.\n",
      "  warnings.warn(msg, ConvergenceWarning)\n",
      "/home/berlands/anaconda3/envs/STATS507/lib/python3.9/site-packages/statsmodels/regression/mixed_linear_model.py:2218: ConvergenceWarning: Gradient optimization failed, |grad| = 0.048639\n",
      "  warnings.warn(msg, ConvergenceWarning)\n",
      "/home/berlands/anaconda3/envs/STATS507/lib/python3.9/site-packages/statsmodels/regression/mixed_linear_model.py:2237: ConvergenceWarning: The MLE may be on the boundary of the parameter space.\n",
      "  warnings.warn(msg, ConvergenceWarning)\n",
      "/home/berlands/anaconda3/envs/STATS507/lib/python3.9/site-packages/statsmodels/base/model.py:566: ConvergenceWarning: Maximum Likelihood optimization failed to converge. Check mle_retvals\n",
      "  warnings.warn(\"Maximum Likelihood optimization failed to \"\n",
      "/home/berlands/anaconda3/envs/STATS507/lib/python3.9/site-packages/statsmodels/regression/mixed_linear_model.py:2200: ConvergenceWarning: Retrying MixedLM optimization with lbfgs\n",
      "  warnings.warn(\n",
      "/home/berlands/anaconda3/envs/STATS507/lib/python3.9/site-packages/statsmodels/base/model.py:566: ConvergenceWarning: Maximum Likelihood optimization failed to converge. Check mle_retvals\n",
      "  warnings.warn(\"Maximum Likelihood optimization failed to \"\n",
      "/home/berlands/anaconda3/envs/STATS507/lib/python3.9/site-packages/statsmodels/regression/mixed_linear_model.py:2200: ConvergenceWarning: Retrying MixedLM optimization with cg\n",
      "  warnings.warn(\n",
      "/home/berlands/anaconda3/envs/STATS507/lib/python3.9/site-packages/statsmodels/base/model.py:566: ConvergenceWarning: Maximum Likelihood optimization failed to converge. Check mle_retvals\n",
      "  warnings.warn(\"Maximum Likelihood optimization failed to \"\n",
      "/home/berlands/anaconda3/envs/STATS507/lib/python3.9/site-packages/statsmodels/regression/mixed_linear_model.py:2206: ConvergenceWarning: MixedLM optimization failed, trying a different optimizer may help.\n",
      "  warnings.warn(msg, ConvergenceWarning)\n",
      "/home/berlands/anaconda3/envs/STATS507/lib/python3.9/site-packages/statsmodels/regression/mixed_linear_model.py:2218: ConvergenceWarning: Gradient optimization failed, |grad| = 2.212378\n",
      "  warnings.warn(msg, ConvergenceWarning)\n",
      "/home/berlands/anaconda3/envs/STATS507/lib/python3.9/site-packages/statsmodels/base/model.py:566: ConvergenceWarning: Maximum Likelihood optimization failed to converge. Check mle_retvals\n",
      "  warnings.warn(\"Maximum Likelihood optimization failed to \"\n",
      "/home/berlands/anaconda3/envs/STATS507/lib/python3.9/site-packages/statsmodels/regression/mixed_linear_model.py:2200: ConvergenceWarning: Retrying MixedLM optimization with lbfgs\n",
      "  warnings.warn(\n",
      "/home/berlands/anaconda3/envs/STATS507/lib/python3.9/site-packages/statsmodels/base/model.py:566: ConvergenceWarning: Maximum Likelihood optimization failed to converge. Check mle_retvals\n",
      "  warnings.warn(\"Maximum Likelihood optimization failed to \"\n",
      "/home/berlands/anaconda3/envs/STATS507/lib/python3.9/site-packages/statsmodels/regression/mixed_linear_model.py:2200: ConvergenceWarning: Retrying MixedLM optimization with cg\n",
      "  warnings.warn(\n",
      "/home/berlands/anaconda3/envs/STATS507/lib/python3.9/site-packages/statsmodels/base/model.py:566: ConvergenceWarning: Maximum Likelihood optimization failed to converge. Check mle_retvals\n",
      "  warnings.warn(\"Maximum Likelihood optimization failed to \"\n",
      "/home/berlands/anaconda3/envs/STATS507/lib/python3.9/site-packages/statsmodels/regression/mixed_linear_model.py:2206: ConvergenceWarning: MixedLM optimization failed, trying a different optimizer may help.\n",
      "  warnings.warn(msg, ConvergenceWarning)\n",
      "/home/berlands/anaconda3/envs/STATS507/lib/python3.9/site-packages/statsmodels/regression/mixed_linear_model.py:2218: ConvergenceWarning: Gradient optimization failed, |grad| = 3.568369\n",
      "  warnings.warn(msg, ConvergenceWarning)\n",
      "/home/berlands/anaconda3/envs/STATS507/lib/python3.9/site-packages/statsmodels/base/model.py:566: ConvergenceWarning: Maximum Likelihood optimization failed to converge. Check mle_retvals\n",
      "  warnings.warn(\"Maximum Likelihood optimization failed to \"\n",
      "/home/berlands/anaconda3/envs/STATS507/lib/python3.9/site-packages/statsmodels/regression/mixed_linear_model.py:2200: ConvergenceWarning: Retrying MixedLM optimization with lbfgs\n",
      "  warnings.warn(\n",
      "/home/berlands/anaconda3/envs/STATS507/lib/python3.9/site-packages/statsmodels/base/model.py:566: ConvergenceWarning: Maximum Likelihood optimization failed to converge. Check mle_retvals\n",
      "  warnings.warn(\"Maximum Likelihood optimization failed to \"\n",
      "/home/berlands/anaconda3/envs/STATS507/lib/python3.9/site-packages/statsmodels/regression/mixed_linear_model.py:2200: ConvergenceWarning: Retrying MixedLM optimization with lbfgs\n",
      "  warnings.warn(\n",
      "/home/berlands/anaconda3/envs/STATS507/lib/python3.9/site-packages/statsmodels/base/model.py:566: ConvergenceWarning: Maximum Likelihood optimization failed to converge. Check mle_retvals\n",
      "  warnings.warn(\"Maximum Likelihood optimization failed to \"\n",
      "/home/berlands/anaconda3/envs/STATS507/lib/python3.9/site-packages/statsmodels/regression/mixed_linear_model.py:2200: ConvergenceWarning: Retrying MixedLM optimization with cg\n",
      "  warnings.warn(\n",
      "/home/berlands/anaconda3/envs/STATS507/lib/python3.9/site-packages/statsmodels/base/model.py:566: ConvergenceWarning: Maximum Likelihood optimization failed to converge. Check mle_retvals\n",
      "  warnings.warn(\"Maximum Likelihood optimization failed to \"\n",
      "/home/berlands/anaconda3/envs/STATS507/lib/python3.9/site-packages/statsmodels/regression/mixed_linear_model.py:2206: ConvergenceWarning: MixedLM optimization failed, trying a different optimizer may help.\n",
      "  warnings.warn(msg, ConvergenceWarning)\n",
      "/home/berlands/anaconda3/envs/STATS507/lib/python3.9/site-packages/statsmodels/regression/mixed_linear_model.py:2218: ConvergenceWarning: Gradient optimization failed, |grad| = 1.114072\n",
      "  warnings.warn(msg, ConvergenceWarning)\n"
     ]
    },
    {
     "name": "stderr",
     "output_type": "stream",
     "text": [
      "/home/berlands/anaconda3/envs/STATS507/lib/python3.9/site-packages/statsmodels/regression/mixed_linear_model.py:2237: ConvergenceWarning: The MLE may be on the boundary of the parameter space.\n",
      "  warnings.warn(msg, ConvergenceWarning)\n",
      "/home/berlands/anaconda3/envs/STATS507/lib/python3.9/site-packages/statsmodels/base/model.py:566: ConvergenceWarning: Maximum Likelihood optimization failed to converge. Check mle_retvals\n",
      "  warnings.warn(\"Maximum Likelihood optimization failed to \"\n",
      "/home/berlands/anaconda3/envs/STATS507/lib/python3.9/site-packages/statsmodels/regression/mixed_linear_model.py:2200: ConvergenceWarning: Retrying MixedLM optimization with lbfgs\n",
      "  warnings.warn(\n",
      "/home/berlands/anaconda3/envs/STATS507/lib/python3.9/site-packages/statsmodels/base/model.py:566: ConvergenceWarning: Maximum Likelihood optimization failed to converge. Check mle_retvals\n",
      "  warnings.warn(\"Maximum Likelihood optimization failed to \"\n",
      "/home/berlands/anaconda3/envs/STATS507/lib/python3.9/site-packages/statsmodels/regression/mixed_linear_model.py:2200: ConvergenceWarning: Retrying MixedLM optimization with cg\n",
      "  warnings.warn(\n",
      "/home/berlands/anaconda3/envs/STATS507/lib/python3.9/site-packages/statsmodels/base/model.py:566: ConvergenceWarning: Maximum Likelihood optimization failed to converge. Check mle_retvals\n",
      "  warnings.warn(\"Maximum Likelihood optimization failed to \"\n",
      "/home/berlands/anaconda3/envs/STATS507/lib/python3.9/site-packages/statsmodels/regression/mixed_linear_model.py:2206: ConvergenceWarning: MixedLM optimization failed, trying a different optimizer may help.\n",
      "  warnings.warn(msg, ConvergenceWarning)\n",
      "/home/berlands/anaconda3/envs/STATS507/lib/python3.9/site-packages/statsmodels/regression/mixed_linear_model.py:2218: ConvergenceWarning: Gradient optimization failed, |grad| = 2.144446\n",
      "  warnings.warn(msg, ConvergenceWarning)\n",
      "/home/berlands/anaconda3/envs/STATS507/lib/python3.9/site-packages/statsmodels/base/model.py:566: ConvergenceWarning: Maximum Likelihood optimization failed to converge. Check mle_retvals\n",
      "  warnings.warn(\"Maximum Likelihood optimization failed to \"\n",
      "/home/berlands/anaconda3/envs/STATS507/lib/python3.9/site-packages/statsmodels/regression/mixed_linear_model.py:2200: ConvergenceWarning: Retrying MixedLM optimization with lbfgs\n",
      "  warnings.warn(\n",
      "/home/berlands/anaconda3/envs/STATS507/lib/python3.9/site-packages/statsmodels/base/model.py:566: ConvergenceWarning: Maximum Likelihood optimization failed to converge. Check mle_retvals\n",
      "  warnings.warn(\"Maximum Likelihood optimization failed to \"\n",
      "/home/berlands/anaconda3/envs/STATS507/lib/python3.9/site-packages/statsmodels/regression/mixed_linear_model.py:2200: ConvergenceWarning: Retrying MixedLM optimization with cg\n",
      "  warnings.warn(\n",
      "/home/berlands/anaconda3/envs/STATS507/lib/python3.9/site-packages/statsmodels/base/model.py:566: ConvergenceWarning: Maximum Likelihood optimization failed to converge. Check mle_retvals\n",
      "  warnings.warn(\"Maximum Likelihood optimization failed to \"\n",
      "/home/berlands/anaconda3/envs/STATS507/lib/python3.9/site-packages/statsmodels/regression/mixed_linear_model.py:2206: ConvergenceWarning: MixedLM optimization failed, trying a different optimizer may help.\n",
      "  warnings.warn(msg, ConvergenceWarning)\n",
      "/home/berlands/anaconda3/envs/STATS507/lib/python3.9/site-packages/statsmodels/regression/mixed_linear_model.py:2218: ConvergenceWarning: Gradient optimization failed, |grad| = 2.130794\n",
      "  warnings.warn(msg, ConvergenceWarning)\n",
      "/home/berlands/anaconda3/envs/STATS507/lib/python3.9/site-packages/statsmodels/base/model.py:566: ConvergenceWarning: Maximum Likelihood optimization failed to converge. Check mle_retvals\n",
      "  warnings.warn(\"Maximum Likelihood optimization failed to \"\n",
      "/home/berlands/anaconda3/envs/STATS507/lib/python3.9/site-packages/statsmodels/regression/mixed_linear_model.py:2200: ConvergenceWarning: Retrying MixedLM optimization with lbfgs\n",
      "  warnings.warn(\n",
      "/home/berlands/anaconda3/envs/STATS507/lib/python3.9/site-packages/statsmodels/base/model.py:566: ConvergenceWarning: Maximum Likelihood optimization failed to converge. Check mle_retvals\n",
      "  warnings.warn(\"Maximum Likelihood optimization failed to \"\n",
      "/home/berlands/anaconda3/envs/STATS507/lib/python3.9/site-packages/statsmodels/regression/mixed_linear_model.py:2200: ConvergenceWarning: Retrying MixedLM optimization with lbfgs\n",
      "  warnings.warn(\n",
      "/home/berlands/anaconda3/envs/STATS507/lib/python3.9/site-packages/statsmodels/base/model.py:566: ConvergenceWarning: Maximum Likelihood optimization failed to converge. Check mle_retvals\n",
      "  warnings.warn(\"Maximum Likelihood optimization failed to \"\n",
      "/home/berlands/anaconda3/envs/STATS507/lib/python3.9/site-packages/statsmodels/regression/mixed_linear_model.py:2200: ConvergenceWarning: Retrying MixedLM optimization with cg\n",
      "  warnings.warn(\n",
      "/home/berlands/anaconda3/envs/STATS507/lib/python3.9/site-packages/statsmodels/base/model.py:566: ConvergenceWarning: Maximum Likelihood optimization failed to converge. Check mle_retvals\n",
      "  warnings.warn(\"Maximum Likelihood optimization failed to \"\n",
      "/home/berlands/anaconda3/envs/STATS507/lib/python3.9/site-packages/statsmodels/regression/mixed_linear_model.py:2206: ConvergenceWarning: MixedLM optimization failed, trying a different optimizer may help.\n",
      "  warnings.warn(msg, ConvergenceWarning)\n",
      "/home/berlands/anaconda3/envs/STATS507/lib/python3.9/site-packages/statsmodels/regression/mixed_linear_model.py:2218: ConvergenceWarning: Gradient optimization failed, |grad| = 2.068343\n",
      "  warnings.warn(msg, ConvergenceWarning)\n",
      "/home/berlands/anaconda3/envs/STATS507/lib/python3.9/site-packages/statsmodels/base/model.py:566: ConvergenceWarning: Maximum Likelihood optimization failed to converge. Check mle_retvals\n",
      "  warnings.warn(\"Maximum Likelihood optimization failed to \"\n",
      "/home/berlands/anaconda3/envs/STATS507/lib/python3.9/site-packages/statsmodels/regression/mixed_linear_model.py:2200: ConvergenceWarning: Retrying MixedLM optimization with lbfgs\n",
      "  warnings.warn(\n",
      "/home/berlands/anaconda3/envs/STATS507/lib/python3.9/site-packages/statsmodels/base/model.py:566: ConvergenceWarning: Maximum Likelihood optimization failed to converge. Check mle_retvals\n",
      "  warnings.warn(\"Maximum Likelihood optimization failed to \"\n",
      "/home/berlands/anaconda3/envs/STATS507/lib/python3.9/site-packages/statsmodels/regression/mixed_linear_model.py:2200: ConvergenceWarning: Retrying MixedLM optimization with lbfgs\n",
      "  warnings.warn(\n",
      "/home/berlands/anaconda3/envs/STATS507/lib/python3.9/site-packages/statsmodels/base/model.py:566: ConvergenceWarning: Maximum Likelihood optimization failed to converge. Check mle_retvals\n",
      "  warnings.warn(\"Maximum Likelihood optimization failed to \"\n",
      "/home/berlands/anaconda3/envs/STATS507/lib/python3.9/site-packages/statsmodels/regression/mixed_linear_model.py:2200: ConvergenceWarning: Retrying MixedLM optimization with cg\n",
      "  warnings.warn(\n",
      "/home/berlands/anaconda3/envs/STATS507/lib/python3.9/site-packages/statsmodels/base/model.py:566: ConvergenceWarning: Maximum Likelihood optimization failed to converge. Check mle_retvals\n",
      "  warnings.warn(\"Maximum Likelihood optimization failed to \"\n",
      "/home/berlands/anaconda3/envs/STATS507/lib/python3.9/site-packages/statsmodels/regression/mixed_linear_model.py:2206: ConvergenceWarning: MixedLM optimization failed, trying a different optimizer may help.\n",
      "  warnings.warn(msg, ConvergenceWarning)\n",
      "/home/berlands/anaconda3/envs/STATS507/lib/python3.9/site-packages/statsmodels/regression/mixed_linear_model.py:2218: ConvergenceWarning: Gradient optimization failed, |grad| = 1.417201\n",
      "  warnings.warn(msg, ConvergenceWarning)\n",
      "/home/berlands/anaconda3/envs/STATS507/lib/python3.9/site-packages/statsmodels/base/model.py:566: ConvergenceWarning: Maximum Likelihood optimization failed to converge. Check mle_retvals\n",
      "  warnings.warn(\"Maximum Likelihood optimization failed to \"\n",
      "/home/berlands/anaconda3/envs/STATS507/lib/python3.9/site-packages/statsmodels/regression/mixed_linear_model.py:2200: ConvergenceWarning: Retrying MixedLM optimization with lbfgs\n",
      "  warnings.warn(\n",
      "/home/berlands/anaconda3/envs/STATS507/lib/python3.9/site-packages/statsmodels/base/model.py:566: ConvergenceWarning: Maximum Likelihood optimization failed to converge. Check mle_retvals\n",
      "  warnings.warn(\"Maximum Likelihood optimization failed to \"\n",
      "/home/berlands/anaconda3/envs/STATS507/lib/python3.9/site-packages/statsmodels/regression/mixed_linear_model.py:2200: ConvergenceWarning: Retrying MixedLM optimization with cg\n",
      "  warnings.warn(\n"
     ]
    },
    {
     "name": "stderr",
     "output_type": "stream",
     "text": [
      "/home/berlands/anaconda3/envs/STATS507/lib/python3.9/site-packages/statsmodels/base/model.py:566: ConvergenceWarning: Maximum Likelihood optimization failed to converge. Check mle_retvals\n",
      "  warnings.warn(\"Maximum Likelihood optimization failed to \"\n",
      "/home/berlands/anaconda3/envs/STATS507/lib/python3.9/site-packages/statsmodels/regression/mixed_linear_model.py:2206: ConvergenceWarning: MixedLM optimization failed, trying a different optimizer may help.\n",
      "  warnings.warn(msg, ConvergenceWarning)\n",
      "/home/berlands/anaconda3/envs/STATS507/lib/python3.9/site-packages/statsmodels/regression/mixed_linear_model.py:2218: ConvergenceWarning: Gradient optimization failed, |grad| = 7.803333\n",
      "  warnings.warn(msg, ConvergenceWarning)\n",
      "/home/berlands/anaconda3/envs/STATS507/lib/python3.9/site-packages/statsmodels/base/model.py:566: ConvergenceWarning: Maximum Likelihood optimization failed to converge. Check mle_retvals\n",
      "  warnings.warn(\"Maximum Likelihood optimization failed to \"\n",
      "/home/berlands/anaconda3/envs/STATS507/lib/python3.9/site-packages/statsmodels/regression/mixed_linear_model.py:2200: ConvergenceWarning: Retrying MixedLM optimization with lbfgs\n",
      "  warnings.warn(\n"
     ]
    }
   ],
   "source": [
    "allFeatures = np.asarray(knnDat.drop([\"sitename\", \"violenceScore\", \"year\"], axis=1).columns)\n",
    "\n",
    "modelsAIC = pd.DataFrame(columns=[\"AIC\", \"features\"])\n",
    "for nComb in reversed(range(1, 7)):\n",
    "    combs = combinations(allFeatures, nComb)\n",
    "    for comb in combs:\n",
    "        equ = \"violenceScore ~ \"\n",
    "        i = 0\n",
    "        for feat in comb:\n",
    "            equ += feat \n",
    "            if len(comb) - 1 != i:\n",
    "                equ += \"+\"\n",
    "            i += 1\n",
    "        md = smf.mixedlm(equ, knnDat, \n",
    "                         groups=knnDat[\"sitename\"])\n",
    "        mdf = md.fit(reml=False)\n",
    "        modelsAIC = modelsAIC.append({'AIC' : mdf.aic, \"features\" : comb}, ignore_index=True)"
   ]
  },
  {
   "cell_type": "code",
   "execution_count": 25,
   "id": "8079170c",
   "metadata": {},
   "outputs": [
    {
     "data": {
      "text/html": [
       "<div>\n",
       "<style scoped>\n",
       "    .dataframe tbody tr th:only-of-type {\n",
       "        vertical-align: middle;\n",
       "    }\n",
       "\n",
       "    .dataframe tbody tr th {\n",
       "        vertical-align: top;\n",
       "    }\n",
       "\n",
       "    .dataframe thead th {\n",
       "        text-align: right;\n",
       "    }\n",
       "</style>\n",
       "<table border=\"1\" class=\"dataframe\">\n",
       "  <thead>\n",
       "    <tr style=\"text-align: right;\">\n",
       "      <th></th>\n",
       "      <th>AIC</th>\n",
       "      <th>features</th>\n",
       "    </tr>\n",
       "  </thead>\n",
       "  <tbody>\n",
       "    <tr>\n",
       "      <th>55</th>\n",
       "      <td>784.257982</td>\n",
       "      <td>(UnemploymentRate, SNAP)</td>\n",
       "    </tr>\n",
       "    <tr>\n",
       "      <th>39</th>\n",
       "      <td>785.452798</td>\n",
       "      <td>(MedianHouseholdIncomeInDollars, UnemploymentR...</td>\n",
       "    </tr>\n",
       "    <tr>\n",
       "      <th>41</th>\n",
       "      <td>785.666856</td>\n",
       "      <td>(UnemploymentRate, Population, SNAP)</td>\n",
       "    </tr>\n",
       "    <tr>\n",
       "      <th>36</th>\n",
       "      <td>786.048424</td>\n",
       "      <td>(UnderAge18inPovertyPercent, UnemploymentRate,...</td>\n",
       "    </tr>\n",
       "    <tr>\n",
       "      <th>11</th>\n",
       "      <td>786.171478</td>\n",
       "      <td>(AllAgesInPovertyPercent, UnderAge18inPovertyP...</td>\n",
       "    </tr>\n",
       "    <tr>\n",
       "      <th>...</th>\n",
       "      <td>...</td>\n",
       "      <td>...</td>\n",
       "    </tr>\n",
       "    <tr>\n",
       "      <th>58</th>\n",
       "      <td>870.691511</td>\n",
       "      <td>(UnderAge18inPovertyPercent,)</td>\n",
       "    </tr>\n",
       "    <tr>\n",
       "      <th>49</th>\n",
       "      <td>872.638754</td>\n",
       "      <td>(UnderAge18inPovertyPercent, Population)</td>\n",
       "    </tr>\n",
       "    <tr>\n",
       "      <th>57</th>\n",
       "      <td>874.095724</td>\n",
       "      <td>(AllAgesInPovertyPercent,)</td>\n",
       "    </tr>\n",
       "    <tr>\n",
       "      <th>45</th>\n",
       "      <td>876.185382</td>\n",
       "      <td>(AllAgesInPovertyPercent, Population)</td>\n",
       "    </tr>\n",
       "    <tr>\n",
       "      <th>61</th>\n",
       "      <td>878.390376</td>\n",
       "      <td>(Population,)</td>\n",
       "    </tr>\n",
       "  </tbody>\n",
       "</table>\n",
       "<p>63 rows × 2 columns</p>\n",
       "</div>"
      ],
      "text/plain": [
       "           AIC                                           features\n",
       "55  784.257982                           (UnemploymentRate, SNAP)\n",
       "39  785.452798  (MedianHouseholdIncomeInDollars, UnemploymentR...\n",
       "41  785.666856               (UnemploymentRate, Population, SNAP)\n",
       "36  786.048424  (UnderAge18inPovertyPercent, UnemploymentRate,...\n",
       "11  786.171478  (AllAgesInPovertyPercent, UnderAge18inPovertyP...\n",
       "..         ...                                                ...\n",
       "58  870.691511                      (UnderAge18inPovertyPercent,)\n",
       "49  872.638754           (UnderAge18inPovertyPercent, Population)\n",
       "57  874.095724                         (AllAgesInPovertyPercent,)\n",
       "45  876.185382              (AllAgesInPovertyPercent, Population)\n",
       "61  878.390376                                      (Population,)\n",
       "\n",
       "[63 rows x 2 columns]"
      ]
     },
     "execution_count": 25,
     "metadata": {},
     "output_type": "execute_result"
    }
   ],
   "source": [
    "modelsAIC.sort_values(\"AIC\")"
   ]
  },
  {
   "cell_type": "code",
   "execution_count": 26,
   "id": "607ceada",
   "metadata": {
    "scrolled": true
   },
   "outputs": [
    {
     "name": "stderr",
     "output_type": "stream",
     "text": [
      "/home/berlands/anaconda3/envs/STATS507/lib/python3.9/site-packages/statsmodels/base/model.py:566: ConvergenceWarning: Maximum Likelihood optimization failed to converge. Check mle_retvals\n",
      "  warnings.warn(\"Maximum Likelihood optimization failed to \"\n",
      "/home/berlands/anaconda3/envs/STATS507/lib/python3.9/site-packages/statsmodels/regression/mixed_linear_model.py:2200: ConvergenceWarning: Retrying MixedLM optimization with lbfgs\n",
      "  warnings.warn(\n",
      "/home/berlands/anaconda3/envs/STATS507/lib/python3.9/site-packages/statsmodels/base/model.py:566: ConvergenceWarning: Maximum Likelihood optimization failed to converge. Check mle_retvals\n",
      "  warnings.warn(\"Maximum Likelihood optimization failed to \"\n",
      "/home/berlands/anaconda3/envs/STATS507/lib/python3.9/site-packages/statsmodels/regression/mixed_linear_model.py:2200: ConvergenceWarning: Retrying MixedLM optimization with cg\n",
      "  warnings.warn(\n"
     ]
    },
    {
     "name": "stdout",
     "output_type": "stream",
     "text": [
      "           Mixed Linear Model Regression Results\n",
      "===========================================================\n",
      "Model:            MixedLM Dependent Variable: violenceScore\n",
      "No. Observations: 122     Method:             ML           \n",
      "No. Groups:       14      Scale:              69.5832      \n",
      "Min. group size:  8       Log-Likelihood:     -435.5395    \n",
      "Max. group size:  9       Converged:          No           \n",
      "Mean group size:  8.7                                      \n",
      "------------------------------------------------------------\n",
      "             Coef.   Std.Err.    z     P>|z|  [0.025  0.975]\n",
      "------------------------------------------------------------\n",
      "Intercept    38.443     0.980  39.245  0.000  36.523  40.363\n",
      "Group Var     5.439     0.535                               \n",
      "===========================================================\n",
      "\n"
     ]
    },
    {
     "name": "stderr",
     "output_type": "stream",
     "text": [
      "/home/berlands/anaconda3/envs/STATS507/lib/python3.9/site-packages/statsmodels/base/model.py:566: ConvergenceWarning: Maximum Likelihood optimization failed to converge. Check mle_retvals\n",
      "  warnings.warn(\"Maximum Likelihood optimization failed to \"\n",
      "/home/berlands/anaconda3/envs/STATS507/lib/python3.9/site-packages/statsmodels/regression/mixed_linear_model.py:2206: ConvergenceWarning: MixedLM optimization failed, trying a different optimizer may help.\n",
      "  warnings.warn(msg, ConvergenceWarning)\n",
      "/home/berlands/anaconda3/envs/STATS507/lib/python3.9/site-packages/statsmodels/regression/mixed_linear_model.py:2218: ConvergenceWarning: Gradient optimization failed, |grad| = 5.356236\n",
      "  warnings.warn(msg, ConvergenceWarning)\n"
     ]
    }
   ],
   "source": [
    "md = smf.mixedlm(\"violenceScore ~ 1\", knnDat, groups=knnDat[\"sitename\"])\n",
    "mdf = md.fit(reml=False)\n",
    "print(mdf.summary())#-431.9609 "
   ]
  },
  {
   "cell_type": "code",
   "execution_count": 27,
   "id": "980903c5",
   "metadata": {},
   "outputs": [
    {
     "data": {
      "text/plain": [
       "877.0790323019997"
      ]
     },
     "execution_count": 27,
     "metadata": {},
     "output_type": "execute_result"
    }
   ],
   "source": [
    "mdf.aic"
   ]
  },
  {
   "cell_type": "markdown",
   "id": "2b7c0638",
   "metadata": {},
   "source": [
    "## Split On Sex\n",
    "[Back to Top](#Table-of-Contents)"
   ]
  },
  {
   "cell_type": "code",
   "execution_count": 103,
   "id": "786ed2f1",
   "metadata": {},
   "outputs": [],
   "source": [
    "dropCols = [\"Year\", \n",
    "            \"State / County Name\",\n",
    "            \"Ages 5 to 17 in Families SAIPE Poverty Universe\",\n",
    "            \"Ages 5 to 17 in Families in Poverty Count\",\n",
    "            \"Ages 5 to 17 in Families in Poverty Percent\",\n",
    "            \"All Ages in Poverty Count\",\n",
    "            \"All Ages SAIPE Poverty Universe\",\n",
    "            \"Under Age 18 SAIPE Poverty Universe\",\n",
    "            \"Under Age 18 in Poverty Count\"]\n",
    "dat = knnSplResp.merge(features, how=\"inner\", left_on=[\"year\", \"sitename\"],\n",
    "                       right_on=[\"Year\", \"State / County Name\"]).drop(dropCols, axis=1)"
   ]
  },
  {
   "cell_type": "code",
   "execution_count": 104,
   "id": "0ce3b91d",
   "metadata": {},
   "outputs": [],
   "source": [
    "dat.columns = ['year', 'sitename', 'sex', 'violenceScore',\n",
    "       'AllAgesInPovertyPercent', 'UnderAge18inPovertyPercent',\n",
    "       'MedianHouseholdIncomeInDollars', 'UnemploymentRate', 'Population',\n",
    "       'SNAP']"
   ]
  },
  {
   "cell_type": "code",
   "execution_count": 7,
   "id": "4890d19b",
   "metadata": {},
   "outputs": [
    {
     "name": "stdout",
     "output_type": "stream",
     "text": [
      "1638.6848034575946\n",
      "                            OLS Regression Results                            \n",
      "==============================================================================\n",
      "Dep. Variable:          violenceScore   R-squared:                       0.824\n",
      "Model:                            OLS   Adj. R-squared:                  0.820\n",
      "Method:                 Least Squares   F-statistic:                     222.7\n",
      "Date:                Sun, 21 Nov 2021   Prob (F-statistic):           1.28e-87\n",
      "Time:                        15:08:35   Log-Likelihood:                -813.34\n",
      "No. Observations:                 244   AIC:                             1639.\n",
      "Df Residuals:                     238   BIC:                             1660.\n",
      "Df Model:                           5                                         \n",
      "Covariance Type:            nonrobust                                         \n",
      "========================================================================================\n",
      "                           coef    std err          t      P>|t|      [0.025      0.975]\n",
      "----------------------------------------------------------------------------------------\n",
      "Intercept               35.6478      3.564     10.002      0.000      28.627      42.669\n",
      "sex                     48.9089      5.040      9.704      0.000      38.980      58.838\n",
      "UnemploymentRate         1.2891      0.239      5.386      0.000       0.818       1.761\n",
      "sex:UnemploymentRate     0.8544      0.338      2.524      0.012       0.188       1.521\n",
      "SNAP                    -0.1385      0.028     -4.965      0.000      -0.193      -0.084\n",
      "sex:SNAP                -0.2242      0.039     -5.685      0.000      -0.302      -0.147\n",
      "==============================================================================\n",
      "Omnibus:                        2.338   Durbin-Watson:                   1.200\n",
      "Prob(Omnibus):                  0.311   Jarque-Bera (JB):                1.988\n",
      "Skew:                           0.179   Prob(JB):                        0.370\n",
      "Kurtosis:                       3.260   Cond. No.                     1.93e+03\n",
      "==============================================================================\n",
      "\n",
      "Notes:\n",
      "[1] Standard Errors assume that the covariance matrix of the errors is correctly specified.\n",
      "[2] The condition number is large, 1.93e+03. This might indicate that there are\n",
      "strong multicollinearity or other numerical problems.\n"
     ]
    }
   ],
   "source": [
    "# run with new data\n",
    "md = smf.ols(\"violenceScore ~ sex*UnemploymentRate + sex*SNAP\", dat)\n",
    "mdf = md.fit()\n",
    "print(mdf.aic)\n",
    "print(mdf.summary())"
   ]
  },
  {
   "cell_type": "code",
   "execution_count": 84,
   "id": "04adb896",
   "metadata": {
    "scrolled": false
   },
   "outputs": [
    {
     "name": "stdout",
     "output_type": "stream",
     "text": [
      "1640.0872233672335\n",
      "                            OLS Regression Results                            \n",
      "==============================================================================\n",
      "Dep. Variable:          violenceScore   R-squared:                       0.826\n",
      "Model:                            OLS   Adj. R-squared:                  0.822\n",
      "Method:                 Least Squares   F-statistic:                     226.2\n",
      "Date:                Sat, 20 Nov 2021   Prob (F-statistic):           2.86e-88\n",
      "Time:                        14:53:55   Log-Likelihood:                -814.04\n",
      "No. Observations:                 244   AIC:                             1640.\n",
      "Df Residuals:                     238   BIC:                             1661.\n",
      "Df Model:                           5                                         \n",
      "Covariance Type:            nonrobust                                         \n",
      "================================================================================================\n",
      "                                   coef    std err          t      P>|t|      [0.025      0.975]\n",
      "------------------------------------------------------------------------------------------------\n",
      "Intercept                       35.4539      3.574      9.919      0.000      28.413      42.495\n",
      "sex[T.Male]                     49.4685      5.055      9.786      0.000      39.511      59.426\n",
      "UnemploymentRate                 1.2856      0.240      5.356      0.000       0.813       1.758\n",
      "sex[T.Male]:UnemploymentRate     0.8703      0.339      2.564      0.011       0.202       1.539\n",
      "SNAP                            -0.1379      0.028     -4.928      0.000      -0.193      -0.083\n",
      "sex[T.Male]:SNAP                -0.2269      0.040     -5.735      0.000      -0.305      -0.149\n",
      "==============================================================================\n",
      "Omnibus:                        2.102   Durbin-Watson:                   1.216\n",
      "Prob(Omnibus):                  0.350   Jarque-Bera (JB):                1.758\n",
      "Skew:                           0.165   Prob(JB):                        0.415\n",
      "Kurtosis:                       3.253   Cond. No.                     1.93e+03\n",
      "==============================================================================\n",
      "\n",
      "Notes:\n",
      "[1] Standard Errors assume that the covariance matrix of the errors is correctly specified.\n",
      "[2] The condition number is large, 1.93e+03. This might indicate that there are\n",
      "strong multicollinearity or other numerical problems.\n"
     ]
    }
   ],
   "source": [
    "md = smf.ols(\"violenceScore ~ sex*UnemploymentRate + sex*SNAP\", dat)\n",
    "mdf = md.fit()\n",
    "print(mdf.aic)\n",
    "print(mdf.summary())"
   ]
  },
  {
   "cell_type": "code",
   "execution_count": 8,
   "id": "63894b96",
   "metadata": {},
   "outputs": [
    {
     "name": "stdout",
     "output_type": "stream",
     "text": [
      "1655.3197274360884\n",
      "           Mixed Linear Model Regression Results\n",
      "============================================================\n",
      "Model:             MixedLM Dependent Variable: violenceScore\n",
      "No. Observations:  244     Method:             ML           \n",
      "No. Groups:        14      Scale:              45.6675      \n",
      "Min. group size:   16      Log-Likelihood:     -821.6599    \n",
      "Max. group size:   18      Converged:          Yes          \n",
      "Mean group size:   17.4                                     \n",
      "------------------------------------------------------------\n",
      "                 Coef.  Std.Err.    z    P>|z| [0.025 0.975]\n",
      "------------------------------------------------------------\n",
      "Intercept        47.636    2.669  17.845 0.000 42.404 52.868\n",
      "sex              25.788    0.865  29.804 0.000 24.092 27.484\n",
      "UnemploymentRate  1.568    0.178   8.785 0.000  1.218  1.918\n",
      "SNAP             -0.247    0.020 -12.412 0.000 -0.286 -0.208\n",
      "Group Var         7.181    0.573                            \n",
      "============================================================\n",
      "\n"
     ]
    }
   ],
   "source": [
    "# run with new data\n",
    "md = smf.mixedlm(\"violenceScore ~ sex + UnemploymentRate + SNAP\", dat, groups=dat[\"sitename\"])\n",
    "mdf = md.fit(reml=False)\n",
    "print(mdf.aic)\n",
    "print(mdf.summary())"
   ]
  },
  {
   "cell_type": "code",
   "execution_count": 79,
   "id": "6593af0c",
   "metadata": {},
   "outputs": [
    {
     "name": "stdout",
     "output_type": "stream",
     "text": [
      "1657.5762363435827\n",
      "           Mixed Linear Model Regression Results\n",
      "============================================================\n",
      "Model:             MixedLM Dependent Variable: violenceScore\n",
      "No. Observations:  244     Method:             ML           \n",
      "No. Groups:        14      Scale:              46.1138      \n",
      "Min. group size:   16      Log-Likelihood:     -822.7881    \n",
      "Max. group size:   18      Converged:          Yes          \n",
      "Mean group size:   17.4                                     \n",
      "------------------------------------------------------------\n",
      "                 Coef.  Std.Err.    z    P>|z| [0.025 0.975]\n",
      "------------------------------------------------------------\n",
      "Intercept        47.548    2.681  17.734 0.000 42.293 52.803\n",
      "sex[T.Male]      26.111    0.869  30.032 0.000 24.407 27.816\n",
      "UnemploymentRate  1.571    0.179   8.760 0.000  1.220  1.923\n",
      "SNAP             -0.247    0.020 -12.379 0.000 -0.287 -0.208\n",
      "Group Var         7.169    0.572                            \n",
      "============================================================\n",
      "\n"
     ]
    }
   ],
   "source": [
    "md = smf.mixedlm(\"violenceScore ~ sex + UnemploymentRate + SNAP\", dat, groups=dat[\"sitename\"])\n",
    "mdf = md.fit(reml=False)\n",
    "print(mdf.aic)\n",
    "print(mdf.summary())"
   ]
  },
  {
   "cell_type": "code",
   "execution_count": 80,
   "id": "34aae2dd",
   "metadata": {
    "scrolled": false
   },
   "outputs": [
    {
     "name": "stdout",
     "output_type": "stream",
     "text": [
      "1622.658252423583\n",
      "                 Mixed Linear Model Regression Results\n",
      "=======================================================================\n",
      "Model:                MixedLM     Dependent Variable:     violenceScore\n",
      "No. Observations:     244         Method:                 ML           \n",
      "No. Groups:           14          Scale:                  38.9244      \n",
      "Min. group size:      16          Log-Likelihood:         -803.3291    \n",
      "Max. group size:      18          Converged:              Yes          \n",
      "Mean group size:      17.4                                             \n",
      "-----------------------------------------------------------------------\n",
      "                             Coef.  Std.Err.   z    P>|z| [0.025 0.975]\n",
      "-----------------------------------------------------------------------\n",
      "Intercept                    35.895    3.358 10.689 0.000 29.313 42.476\n",
      "sex[T.Male]                  49.469    4.579 10.804 0.000 40.495 58.442\n",
      "UnemploymentRate              1.126    0.226  4.989 0.000  0.684  1.568\n",
      "sex[T.Male]:UnemploymentRate  0.870    0.307  2.830 0.005  0.268  1.473\n",
      "SNAP                         -0.134    0.026 -5.207 0.000 -0.184 -0.083\n",
      "sex[T.Male]:SNAP             -0.227    0.036 -6.331 0.000 -0.297 -0.157\n",
      "Group Var                     7.628    0.624                           \n",
      "=======================================================================\n",
      "\n"
     ]
    }
   ],
   "source": [
    "md = smf.mixedlm(\"violenceScore ~ sex*UnemploymentRate + sex*SNAP\", dat, groups=dat[\"sitename\"])\n",
    "mdf = md.fit(reml=False)\n",
    "print(mdf.aic)\n",
    "print(mdf.summary())"
   ]
  },
  {
   "cell_type": "code",
   "execution_count": 81,
   "id": "db9122d3",
   "metadata": {},
   "outputs": [
    {
     "name": "stdout",
     "output_type": "stream",
     "text": [
      "1660.6332095921155\n",
      "               Mixed Linear Model Regression Results\n",
      "===================================================================\n",
      "Model:                MixedLM   Dependent Variable:   violenceScore\n",
      "No. Observations:     244       Method:               ML           \n",
      "No. Groups:           14        Scale:                45.8600      \n",
      "Min. group size:      16        Log-Likelihood:       -822.3166    \n",
      "Max. group size:      18        Converged:            Yes          \n",
      "Mean group size:      17.4                                         \n",
      "-------------------------------------------------------------------\n",
      "                        Coef.  Std.Err.    z    P>|z| [0.025 0.975]\n",
      "-------------------------------------------------------------------\n",
      "Intercept               47.471    2.644  17.952 0.000 42.288 52.654\n",
      "sex[T.Male]             26.109    0.906  28.820 0.000 24.334 27.885\n",
      "UnemploymentRate         1.580    0.179   8.808 0.000  1.228  1.931\n",
      "SNAP                    -0.247    0.020 -12.410 0.000 -0.286 -0.208\n",
      "Group Var                4.807    0.622                            \n",
      "Group x sex[T.Male] Cov  2.134    0.497                            \n",
      "sex[T.Male] Var          0.947    0.759                            \n",
      "===================================================================\n",
      "\n"
     ]
    }
   ],
   "source": [
    "md = smf.mixedlm(\"violenceScore ~ sex + UnemploymentRate + SNAP\", dat, groups=dat[\"sitename\"], re_formula=\"~sex\")\n",
    "mdf = md.fit(reml=False)\n",
    "print(mdf.aic)\n",
    "print(mdf.summary())"
   ]
  },
  {
   "cell_type": "code",
   "execution_count": 82,
   "id": "a73f3107",
   "metadata": {},
   "outputs": [
    {
     "name": "stdout",
     "output_type": "stream",
     "text": [
      "1625.7340980885758\n",
      "                 Mixed Linear Model Regression Results\n",
      "=======================================================================\n",
      "Model:                MixedLM     Dependent Variable:     violenceScore\n",
      "No. Observations:     244         Method:                 ML           \n",
      "No. Groups:           14          Scale:                  38.0806      \n",
      "Min. group size:      16          Log-Likelihood:         -802.8670    \n",
      "Max. group size:      18          Converged:              Yes          \n",
      "Mean group size:      17.4                                             \n",
      "-----------------------------------------------------------------------\n",
      "                             Coef.  Std.Err.   z    P>|z| [0.025 0.975]\n",
      "-----------------------------------------------------------------------\n",
      "Intercept                    35.854    3.324 10.785 0.000 29.339 42.370\n",
      "sex[T.Male]                  49.555    4.590 10.798 0.000 40.560 58.551\n",
      "UnemploymentRate              1.116    0.232  4.813 0.000  0.662  1.571\n",
      "sex[T.Male]:UnemploymentRate  0.901    0.323  2.791 0.005  0.269  1.534\n",
      "SNAP                         -0.133    0.026 -5.192 0.000 -0.183 -0.083\n",
      "sex[T.Male]:SNAP             -0.229    0.036 -6.375 0.000 -0.300 -0.159\n",
      "Group Var                     7.065    0.750                           \n",
      "Group x sex[T.Male] Cov      -0.212    0.577                           \n",
      "sex[T.Male] Var               3.211    0.775                           \n",
      "=======================================================================\n",
      "\n"
     ]
    }
   ],
   "source": [
    "md = smf.mixedlm(\"violenceScore ~ sex*UnemploymentRate + sex*SNAP\", dat, groups=dat[\"sitename\"], re_formula=\"~sex\")\n",
    "mdf = md.fit(reml=False)\n",
    "print(mdf.aic)\n",
    "print(mdf.summary())"
   ]
  },
  {
   "cell_type": "markdown",
   "id": "dfd75e3c",
   "metadata": {},
   "source": [
    "## Split On Sex Parameter Combination\n",
    "[Back to Top](#Table-of-Contents)"
   ]
  },
  {
   "cell_type": "code",
   "execution_count": 5,
   "id": "7943051f",
   "metadata": {},
   "outputs": [],
   "source": [
    "dropCols = [\"Year\", \n",
    "            \"State / County Name\",\n",
    "            \"Ages 5 to 17 in Families SAIPE Poverty Universe\",\n",
    "            \"Ages 5 to 17 in Families in Poverty Count\",\n",
    "            \"Ages 5 to 17 in Families in Poverty Percent\",\n",
    "            \"All Ages in Poverty Count\",\n",
    "            \"All Ages SAIPE Poverty Universe\",\n",
    "            \"Under Age 18 SAIPE Poverty Universe\",\n",
    "            \"Under Age 18 in Poverty Count\"]\n",
    "\n",
    "dat = knnSplResp.merge(features, how=\"inner\", left_on=[\"year\", \"sitename\"],\n",
    "                       right_on=[\"Year\", \"State / County Name\"]).drop(dropCols, axis=1)\n",
    "\n",
    "dat.columns = ['year', 'sitename',\n",
    "               'sex', 'violenceScore',\n",
    "               'AllAgesInPovertyPercent',\n",
    "               'UnderAge18inPovertyPercent', \n",
    "               'MedianHouseholdIncomeInDollars',\n",
    "               'UnemploymentRate', 'Population',\n",
    "               'SNAP']\n",
    "\n",
    "datMales = dat[dat[\"sex\"] == 1]\n",
    "datFemales = dat[dat[\"sex\"] == 0]"
   ]
  },
  {
   "cell_type": "code",
   "execution_count": 91,
   "id": "428e95fa",
   "metadata": {},
   "outputs": [],
   "source": [
    "def allParamComb(dat, allFeatures):\n",
    "    modelsAIC = pd.DataFrame(columns=[\"AIC\", \"features\"])\n",
    "    didntWork = []\n",
    "    for nComb in reversed(range(1, 7)):\n",
    "        # creates all combinations of length nComb\n",
    "        combs = combinations(allFeatures, nComb)\n",
    "        for comb in combs:\n",
    "            # initializes the equations\n",
    "            equ = \"violenceScore ~\"\n",
    "            i = 0\n",
    "            \n",
    "            # makes the equation from all combs\n",
    "            for feat in comb:\n",
    "                equ += feat \n",
    "                if len(comb) - 1 != i:\n",
    "                    equ += \"+\"\n",
    "                i += 1\n",
    "            \n",
    "            # fits the model\n",
    "            try:\n",
    "                md = smf.mixedlm(equ, dat, \n",
    "                                 groups=dat[\"sitename\"])\n",
    "                mdf = md.fit(reml=False)\n",
    "                modelsAIC = modelsAIC.append({'AIC' : mdf.aic,\n",
    "                                              \"features\" : comb},\n",
    "                                             ignore_index=True)\n",
    "            except:\n",
    "                didntWork.append(equ)\n",
    "    \n",
    "    print(\"Didn't Work\", didntWork)\n",
    "    return modelsAIC"
   ]
  },
  {
   "cell_type": "code",
   "execution_count": 92,
   "id": "60cbee6e",
   "metadata": {
    "scrolled": true
   },
   "outputs": [
    {
     "name": "stderr",
     "output_type": "stream",
     "text": [
      "/home/berlands/anaconda3/envs/STATS507/lib/python3.9/site-packages/statsmodels/base/model.py:566: ConvergenceWarning: Maximum Likelihood optimization failed to converge. Check mle_retvals\n",
      "  warnings.warn(\"Maximum Likelihood optimization failed to \"\n",
      "/home/berlands/anaconda3/envs/STATS507/lib/python3.9/site-packages/statsmodels/regression/mixed_linear_model.py:2200: ConvergenceWarning: Retrying MixedLM optimization with lbfgs\n",
      "  warnings.warn(\n",
      "/home/berlands/anaconda3/envs/STATS507/lib/python3.9/site-packages/statsmodels/base/model.py:566: ConvergenceWarning: Maximum Likelihood optimization failed to converge. Check mle_retvals\n",
      "  warnings.warn(\"Maximum Likelihood optimization failed to \"\n",
      "/home/berlands/anaconda3/envs/STATS507/lib/python3.9/site-packages/statsmodels/regression/mixed_linear_model.py:2200: ConvergenceWarning: Retrying MixedLM optimization with lbfgs\n",
      "  warnings.warn(\n",
      "/home/berlands/anaconda3/envs/STATS507/lib/python3.9/site-packages/statsmodels/base/model.py:566: ConvergenceWarning: Maximum Likelihood optimization failed to converge. Check mle_retvals\n",
      "  warnings.warn(\"Maximum Likelihood optimization failed to \"\n",
      "/home/berlands/anaconda3/envs/STATS507/lib/python3.9/site-packages/statsmodels/regression/mixed_linear_model.py:2200: ConvergenceWarning: Retrying MixedLM optimization with lbfgs\n",
      "  warnings.warn(\n",
      "/home/berlands/anaconda3/envs/STATS507/lib/python3.9/site-packages/statsmodels/base/model.py:566: ConvergenceWarning: Maximum Likelihood optimization failed to converge. Check mle_retvals\n",
      "  warnings.warn(\"Maximum Likelihood optimization failed to \"\n",
      "/home/berlands/anaconda3/envs/STATS507/lib/python3.9/site-packages/statsmodels/regression/mixed_linear_model.py:2200: ConvergenceWarning: Retrying MixedLM optimization with cg\n",
      "  warnings.warn(\n",
      "/home/berlands/anaconda3/envs/STATS507/lib/python3.9/site-packages/statsmodels/base/model.py:566: ConvergenceWarning: Maximum Likelihood optimization failed to converge. Check mle_retvals\n",
      "  warnings.warn(\"Maximum Likelihood optimization failed to \"\n",
      "/home/berlands/anaconda3/envs/STATS507/lib/python3.9/site-packages/statsmodels/regression/mixed_linear_model.py:2206: ConvergenceWarning: MixedLM optimization failed, trying a different optimizer may help.\n",
      "  warnings.warn(msg, ConvergenceWarning)\n",
      "/home/berlands/anaconda3/envs/STATS507/lib/python3.9/site-packages/statsmodels/regression/mixed_linear_model.py:2218: ConvergenceWarning: Gradient optimization failed, |grad| = 0.497502\n",
      "  warnings.warn(msg, ConvergenceWarning)\n",
      "/home/berlands/anaconda3/envs/STATS507/lib/python3.9/site-packages/statsmodels/base/model.py:566: ConvergenceWarning: Maximum Likelihood optimization failed to converge. Check mle_retvals\n",
      "  warnings.warn(\"Maximum Likelihood optimization failed to \"\n",
      "/home/berlands/anaconda3/envs/STATS507/lib/python3.9/site-packages/statsmodels/regression/mixed_linear_model.py:2200: ConvergenceWarning: Retrying MixedLM optimization with lbfgs\n",
      "  warnings.warn(\n",
      "/home/berlands/anaconda3/envs/STATS507/lib/python3.9/site-packages/statsmodels/base/model.py:566: ConvergenceWarning: Maximum Likelihood optimization failed to converge. Check mle_retvals\n",
      "  warnings.warn(\"Maximum Likelihood optimization failed to \"\n",
      "/home/berlands/anaconda3/envs/STATS507/lib/python3.9/site-packages/statsmodels/regression/mixed_linear_model.py:2200: ConvergenceWarning: Retrying MixedLM optimization with lbfgs\n",
      "  warnings.warn(\n",
      "/home/berlands/anaconda3/envs/STATS507/lib/python3.9/site-packages/statsmodels/base/model.py:566: ConvergenceWarning: Maximum Likelihood optimization failed to converge. Check mle_retvals\n",
      "  warnings.warn(\"Maximum Likelihood optimization failed to \"\n",
      "/home/berlands/anaconda3/envs/STATS507/lib/python3.9/site-packages/statsmodels/regression/mixed_linear_model.py:2200: ConvergenceWarning: Retrying MixedLM optimization with cg\n",
      "  warnings.warn(\n",
      "/home/berlands/anaconda3/envs/STATS507/lib/python3.9/site-packages/statsmodels/base/model.py:566: ConvergenceWarning: Maximum Likelihood optimization failed to converge. Check mle_retvals\n",
      "  warnings.warn(\"Maximum Likelihood optimization failed to \"\n",
      "/home/berlands/anaconda3/envs/STATS507/lib/python3.9/site-packages/statsmodels/regression/mixed_linear_model.py:2206: ConvergenceWarning: MixedLM optimization failed, trying a different optimizer may help.\n",
      "  warnings.warn(msg, ConvergenceWarning)\n",
      "/home/berlands/anaconda3/envs/STATS507/lib/python3.9/site-packages/statsmodels/regression/mixed_linear_model.py:2218: ConvergenceWarning: Gradient optimization failed, |grad| = 3.414993\n",
      "  warnings.warn(msg, ConvergenceWarning)\n",
      "/home/berlands/anaconda3/envs/STATS507/lib/python3.9/site-packages/statsmodels/regression/mixed_linear_model.py:2237: ConvergenceWarning: The MLE may be on the boundary of the parameter space.\n",
      "  warnings.warn(msg, ConvergenceWarning)\n",
      "/home/berlands/anaconda3/envs/STATS507/lib/python3.9/site-packages/statsmodels/regression/mixed_linear_model.py:1634: UserWarning: Random effects covariance is singular\n",
      "  warnings.warn(msg)\n",
      "/home/berlands/anaconda3/envs/STATS507/lib/python3.9/site-packages/statsmodels/regression/mixed_linear_model.py:2237: ConvergenceWarning: The MLE may be on the boundary of the parameter space.\n",
      "  warnings.warn(msg, ConvergenceWarning)\n",
      "/home/berlands/anaconda3/envs/STATS507/lib/python3.9/site-packages/statsmodels/regression/mixed_linear_model.py:2237: ConvergenceWarning: The MLE may be on the boundary of the parameter space.\n",
      "  warnings.warn(msg, ConvergenceWarning)\n",
      "/home/berlands/anaconda3/envs/STATS507/lib/python3.9/site-packages/statsmodels/base/model.py:566: ConvergenceWarning: Maximum Likelihood optimization failed to converge. Check mle_retvals\n",
      "  warnings.warn(\"Maximum Likelihood optimization failed to \"\n",
      "/home/berlands/anaconda3/envs/STATS507/lib/python3.9/site-packages/statsmodels/regression/mixed_linear_model.py:2200: ConvergenceWarning: Retrying MixedLM optimization with lbfgs\n",
      "  warnings.warn(\n",
      "/home/berlands/anaconda3/envs/STATS507/lib/python3.9/site-packages/statsmodels/base/model.py:566: ConvergenceWarning: Maximum Likelihood optimization failed to converge. Check mle_retvals\n",
      "  warnings.warn(\"Maximum Likelihood optimization failed to \"\n",
      "/home/berlands/anaconda3/envs/STATS507/lib/python3.9/site-packages/statsmodels/regression/mixed_linear_model.py:2200: ConvergenceWarning: Retrying MixedLM optimization with cg\n",
      "  warnings.warn(\n",
      "/home/berlands/anaconda3/envs/STATS507/lib/python3.9/site-packages/statsmodels/base/model.py:566: ConvergenceWarning: Maximum Likelihood optimization failed to converge. Check mle_retvals\n",
      "  warnings.warn(\"Maximum Likelihood optimization failed to \"\n",
      "/home/berlands/anaconda3/envs/STATS507/lib/python3.9/site-packages/statsmodels/regression/mixed_linear_model.py:2206: ConvergenceWarning: MixedLM optimization failed, trying a different optimizer may help.\n",
      "  warnings.warn(msg, ConvergenceWarning)\n",
      "/home/berlands/anaconda3/envs/STATS507/lib/python3.9/site-packages/statsmodels/regression/mixed_linear_model.py:2218: ConvergenceWarning: Gradient optimization failed, |grad| = 0.564821\n",
      "  warnings.warn(msg, ConvergenceWarning)\n",
      "/home/berlands/anaconda3/envs/STATS507/lib/python3.9/site-packages/statsmodels/base/model.py:566: ConvergenceWarning: Maximum Likelihood optimization failed to converge. Check mle_retvals\n",
      "  warnings.warn(\"Maximum Likelihood optimization failed to \"\n",
      "/home/berlands/anaconda3/envs/STATS507/lib/python3.9/site-packages/statsmodels/regression/mixed_linear_model.py:2200: ConvergenceWarning: Retrying MixedLM optimization with lbfgs\n",
      "  warnings.warn(\n",
      "/home/berlands/anaconda3/envs/STATS507/lib/python3.9/site-packages/statsmodels/base/model.py:566: ConvergenceWarning: Maximum Likelihood optimization failed to converge. Check mle_retvals\n",
      "  warnings.warn(\"Maximum Likelihood optimization failed to \"\n",
      "/home/berlands/anaconda3/envs/STATS507/lib/python3.9/site-packages/statsmodels/regression/mixed_linear_model.py:2200: ConvergenceWarning: Retrying MixedLM optimization with lbfgs\n",
      "  warnings.warn(\n",
      "/home/berlands/anaconda3/envs/STATS507/lib/python3.9/site-packages/statsmodels/base/model.py:566: ConvergenceWarning: Maximum Likelihood optimization failed to converge. Check mle_retvals\n",
      "  warnings.warn(\"Maximum Likelihood optimization failed to \"\n",
      "/home/berlands/anaconda3/envs/STATS507/lib/python3.9/site-packages/statsmodels/regression/mixed_linear_model.py:2200: ConvergenceWarning: Retrying MixedLM optimization with cg\n",
      "  warnings.warn(\n"
     ]
    },
    {
     "name": "stderr",
     "output_type": "stream",
     "text": [
      "/home/berlands/anaconda3/envs/STATS507/lib/python3.9/site-packages/statsmodels/base/model.py:566: ConvergenceWarning: Maximum Likelihood optimization failed to converge. Check mle_retvals\n",
      "  warnings.warn(\"Maximum Likelihood optimization failed to \"\n",
      "/home/berlands/anaconda3/envs/STATS507/lib/python3.9/site-packages/statsmodels/regression/mixed_linear_model.py:2206: ConvergenceWarning: MixedLM optimization failed, trying a different optimizer may help.\n",
      "  warnings.warn(msg, ConvergenceWarning)\n",
      "/home/berlands/anaconda3/envs/STATS507/lib/python3.9/site-packages/statsmodels/regression/mixed_linear_model.py:2218: ConvergenceWarning: Gradient optimization failed, |grad| = 0.020619\n",
      "  warnings.warn(msg, ConvergenceWarning)\n",
      "/home/berlands/anaconda3/envs/STATS507/lib/python3.9/site-packages/statsmodels/base/model.py:566: ConvergenceWarning: Maximum Likelihood optimization failed to converge. Check mle_retvals\n",
      "  warnings.warn(\"Maximum Likelihood optimization failed to \"\n",
      "/home/berlands/anaconda3/envs/STATS507/lib/python3.9/site-packages/statsmodels/regression/mixed_linear_model.py:2200: ConvergenceWarning: Retrying MixedLM optimization with lbfgs\n",
      "  warnings.warn(\n",
      "/home/berlands/anaconda3/envs/STATS507/lib/python3.9/site-packages/statsmodels/base/model.py:566: ConvergenceWarning: Maximum Likelihood optimization failed to converge. Check mle_retvals\n",
      "  warnings.warn(\"Maximum Likelihood optimization failed to \"\n",
      "/home/berlands/anaconda3/envs/STATS507/lib/python3.9/site-packages/statsmodels/regression/mixed_linear_model.py:2200: ConvergenceWarning: Retrying MixedLM optimization with lbfgs\n",
      "  warnings.warn(\n",
      "/home/berlands/anaconda3/envs/STATS507/lib/python3.9/site-packages/statsmodels/base/model.py:566: ConvergenceWarning: Maximum Likelihood optimization failed to converge. Check mle_retvals\n",
      "  warnings.warn(\"Maximum Likelihood optimization failed to \"\n",
      "/home/berlands/anaconda3/envs/STATS507/lib/python3.9/site-packages/statsmodels/regression/mixed_linear_model.py:2200: ConvergenceWarning: Retrying MixedLM optimization with lbfgs\n",
      "  warnings.warn(\n",
      "/home/berlands/anaconda3/envs/STATS507/lib/python3.9/site-packages/statsmodels/base/model.py:566: ConvergenceWarning: Maximum Likelihood optimization failed to converge. Check mle_retvals\n",
      "  warnings.warn(\"Maximum Likelihood optimization failed to \"\n",
      "/home/berlands/anaconda3/envs/STATS507/lib/python3.9/site-packages/statsmodels/regression/mixed_linear_model.py:2200: ConvergenceWarning: Retrying MixedLM optimization with lbfgs\n",
      "  warnings.warn(\n",
      "/home/berlands/anaconda3/envs/STATS507/lib/python3.9/site-packages/statsmodels/base/model.py:566: ConvergenceWarning: Maximum Likelihood optimization failed to converge. Check mle_retvals\n",
      "  warnings.warn(\"Maximum Likelihood optimization failed to \"\n",
      "/home/berlands/anaconda3/envs/STATS507/lib/python3.9/site-packages/statsmodels/regression/mixed_linear_model.py:2200: ConvergenceWarning: Retrying MixedLM optimization with cg\n",
      "  warnings.warn(\n",
      "/home/berlands/anaconda3/envs/STATS507/lib/python3.9/site-packages/statsmodels/base/model.py:566: ConvergenceWarning: Maximum Likelihood optimization failed to converge. Check mle_retvals\n",
      "  warnings.warn(\"Maximum Likelihood optimization failed to \"\n",
      "/home/berlands/anaconda3/envs/STATS507/lib/python3.9/site-packages/statsmodels/regression/mixed_linear_model.py:2206: ConvergenceWarning: MixedLM optimization failed, trying a different optimizer may help.\n",
      "  warnings.warn(msg, ConvergenceWarning)\n",
      "/home/berlands/anaconda3/envs/STATS507/lib/python3.9/site-packages/statsmodels/regression/mixed_linear_model.py:2218: ConvergenceWarning: Gradient optimization failed, |grad| = 1.535626\n",
      "  warnings.warn(msg, ConvergenceWarning)\n",
      "/home/berlands/anaconda3/envs/STATS507/lib/python3.9/site-packages/statsmodels/base/model.py:566: ConvergenceWarning: Maximum Likelihood optimization failed to converge. Check mle_retvals\n",
      "  warnings.warn(\"Maximum Likelihood optimization failed to \"\n",
      "/home/berlands/anaconda3/envs/STATS507/lib/python3.9/site-packages/statsmodels/regression/mixed_linear_model.py:2200: ConvergenceWarning: Retrying MixedLM optimization with lbfgs\n",
      "  warnings.warn(\n",
      "/home/berlands/anaconda3/envs/STATS507/lib/python3.9/site-packages/statsmodels/base/model.py:566: ConvergenceWarning: Maximum Likelihood optimization failed to converge. Check mle_retvals\n",
      "  warnings.warn(\"Maximum Likelihood optimization failed to \"\n",
      "/home/berlands/anaconda3/envs/STATS507/lib/python3.9/site-packages/statsmodels/regression/mixed_linear_model.py:2200: ConvergenceWarning: Retrying MixedLM optimization with cg\n",
      "  warnings.warn(\n",
      "/home/berlands/anaconda3/envs/STATS507/lib/python3.9/site-packages/statsmodels/base/model.py:566: ConvergenceWarning: Maximum Likelihood optimization failed to converge. Check mle_retvals\n",
      "  warnings.warn(\"Maximum Likelihood optimization failed to \"\n",
      "/home/berlands/anaconda3/envs/STATS507/lib/python3.9/site-packages/statsmodels/regression/mixed_linear_model.py:2206: ConvergenceWarning: MixedLM optimization failed, trying a different optimizer may help.\n",
      "  warnings.warn(msg, ConvergenceWarning)\n",
      "/home/berlands/anaconda3/envs/STATS507/lib/python3.9/site-packages/statsmodels/regression/mixed_linear_model.py:2218: ConvergenceWarning: Gradient optimization failed, |grad| = 3.755814\n",
      "  warnings.warn(msg, ConvergenceWarning)\n",
      "/home/berlands/anaconda3/envs/STATS507/lib/python3.9/site-packages/statsmodels/base/model.py:566: ConvergenceWarning: Maximum Likelihood optimization failed to converge. Check mle_retvals\n",
      "  warnings.warn(\"Maximum Likelihood optimization failed to \"\n",
      "/home/berlands/anaconda3/envs/STATS507/lib/python3.9/site-packages/statsmodels/regression/mixed_linear_model.py:2200: ConvergenceWarning: Retrying MixedLM optimization with lbfgs\n",
      "  warnings.warn(\n",
      "/home/berlands/anaconda3/envs/STATS507/lib/python3.9/site-packages/statsmodels/base/model.py:566: ConvergenceWarning: Maximum Likelihood optimization failed to converge. Check mle_retvals\n",
      "  warnings.warn(\"Maximum Likelihood optimization failed to \"\n",
      "/home/berlands/anaconda3/envs/STATS507/lib/python3.9/site-packages/statsmodels/regression/mixed_linear_model.py:2200: ConvergenceWarning: Retrying MixedLM optimization with lbfgs\n",
      "  warnings.warn(\n",
      "/home/berlands/anaconda3/envs/STATS507/lib/python3.9/site-packages/statsmodels/base/model.py:566: ConvergenceWarning: Maximum Likelihood optimization failed to converge. Check mle_retvals\n",
      "  warnings.warn(\"Maximum Likelihood optimization failed to \"\n",
      "/home/berlands/anaconda3/envs/STATS507/lib/python3.9/site-packages/statsmodels/regression/mixed_linear_model.py:2200: ConvergenceWarning: Retrying MixedLM optimization with cg\n",
      "  warnings.warn(\n",
      "/home/berlands/anaconda3/envs/STATS507/lib/python3.9/site-packages/statsmodels/base/model.py:566: ConvergenceWarning: Maximum Likelihood optimization failed to converge. Check mle_retvals\n",
      "  warnings.warn(\"Maximum Likelihood optimization failed to \"\n",
      "/home/berlands/anaconda3/envs/STATS507/lib/python3.9/site-packages/statsmodels/regression/mixed_linear_model.py:2206: ConvergenceWarning: MixedLM optimization failed, trying a different optimizer may help.\n",
      "  warnings.warn(msg, ConvergenceWarning)\n",
      "/home/berlands/anaconda3/envs/STATS507/lib/python3.9/site-packages/statsmodels/regression/mixed_linear_model.py:2218: ConvergenceWarning: Gradient optimization failed, |grad| = 6.335805\n",
      "  warnings.warn(msg, ConvergenceWarning)\n"
     ]
    },
    {
     "name": "stdout",
     "output_type": "stream",
     "text": [
      "Didn't Work []\n"
     ]
    },
    {
     "name": "stderr",
     "output_type": "stream",
     "text": [
      "/home/berlands/anaconda3/envs/STATS507/lib/python3.9/site-packages/statsmodels/base/model.py:566: ConvergenceWarning: Maximum Likelihood optimization failed to converge. Check mle_retvals\n",
      "  warnings.warn(\"Maximum Likelihood optimization failed to \"\n",
      "/home/berlands/anaconda3/envs/STATS507/lib/python3.9/site-packages/statsmodels/regression/mixed_linear_model.py:2200: ConvergenceWarning: Retrying MixedLM optimization with lbfgs\n",
      "  warnings.warn(\n",
      "/home/berlands/anaconda3/envs/STATS507/lib/python3.9/site-packages/statsmodels/base/model.py:566: ConvergenceWarning: Maximum Likelihood optimization failed to converge. Check mle_retvals\n",
      "  warnings.warn(\"Maximum Likelihood optimization failed to \"\n",
      "/home/berlands/anaconda3/envs/STATS507/lib/python3.9/site-packages/statsmodels/regression/mixed_linear_model.py:2200: ConvergenceWarning: Retrying MixedLM optimization with cg\n",
      "  warnings.warn(\n",
      "/home/berlands/anaconda3/envs/STATS507/lib/python3.9/site-packages/statsmodels/base/model.py:566: ConvergenceWarning: Maximum Likelihood optimization failed to converge. Check mle_retvals\n",
      "  warnings.warn(\"Maximum Likelihood optimization failed to \"\n",
      "/home/berlands/anaconda3/envs/STATS507/lib/python3.9/site-packages/statsmodels/regression/mixed_linear_model.py:2206: ConvergenceWarning: MixedLM optimization failed, trying a different optimizer may help.\n",
      "  warnings.warn(msg, ConvergenceWarning)\n",
      "/home/berlands/anaconda3/envs/STATS507/lib/python3.9/site-packages/statsmodels/regression/mixed_linear_model.py:2218: ConvergenceWarning: Gradient optimization failed, |grad| = 6.900144\n",
      "  warnings.warn(msg, ConvergenceWarning)\n",
      "/home/berlands/anaconda3/envs/STATS507/lib/python3.9/site-packages/statsmodels/base/model.py:566: ConvergenceWarning: Maximum Likelihood optimization failed to converge. Check mle_retvals\n",
      "  warnings.warn(\"Maximum Likelihood optimization failed to \"\n",
      "/home/berlands/anaconda3/envs/STATS507/lib/python3.9/site-packages/statsmodels/regression/mixed_linear_model.py:2200: ConvergenceWarning: Retrying MixedLM optimization with lbfgs\n",
      "  warnings.warn(\n",
      "/home/berlands/anaconda3/envs/STATS507/lib/python3.9/site-packages/statsmodels/base/model.py:566: ConvergenceWarning: Maximum Likelihood optimization failed to converge. Check mle_retvals\n",
      "  warnings.warn(\"Maximum Likelihood optimization failed to \"\n",
      "/home/berlands/anaconda3/envs/STATS507/lib/python3.9/site-packages/statsmodels/regression/mixed_linear_model.py:2200: ConvergenceWarning: Retrying MixedLM optimization with cg\n",
      "  warnings.warn(\n",
      "/home/berlands/anaconda3/envs/STATS507/lib/python3.9/site-packages/statsmodels/base/model.py:566: ConvergenceWarning: Maximum Likelihood optimization failed to converge. Check mle_retvals\n",
      "  warnings.warn(\"Maximum Likelihood optimization failed to \"\n",
      "/home/berlands/anaconda3/envs/STATS507/lib/python3.9/site-packages/statsmodels/regression/mixed_linear_model.py:2206: ConvergenceWarning: MixedLM optimization failed, trying a different optimizer may help.\n",
      "  warnings.warn(msg, ConvergenceWarning)\n",
      "/home/berlands/anaconda3/envs/STATS507/lib/python3.9/site-packages/statsmodels/regression/mixed_linear_model.py:2218: ConvergenceWarning: Gradient optimization failed, |grad| = 2.772336\n",
      "  warnings.warn(msg, ConvergenceWarning)\n",
      "/home/berlands/anaconda3/envs/STATS507/lib/python3.9/site-packages/statsmodels/base/model.py:566: ConvergenceWarning: Maximum Likelihood optimization failed to converge. Check mle_retvals\n",
      "  warnings.warn(\"Maximum Likelihood optimization failed to \"\n",
      "/home/berlands/anaconda3/envs/STATS507/lib/python3.9/site-packages/statsmodels/regression/mixed_linear_model.py:2200: ConvergenceWarning: Retrying MixedLM optimization with lbfgs\n",
      "  warnings.warn(\n",
      "/home/berlands/anaconda3/envs/STATS507/lib/python3.9/site-packages/statsmodels/base/model.py:566: ConvergenceWarning: Maximum Likelihood optimization failed to converge. Check mle_retvals\n",
      "  warnings.warn(\"Maximum Likelihood optimization failed to \"\n",
      "/home/berlands/anaconda3/envs/STATS507/lib/python3.9/site-packages/statsmodels/regression/mixed_linear_model.py:2200: ConvergenceWarning: Retrying MixedLM optimization with cg\n",
      "  warnings.warn(\n",
      "/home/berlands/anaconda3/envs/STATS507/lib/python3.9/site-packages/statsmodels/base/model.py:566: ConvergenceWarning: Maximum Likelihood optimization failed to converge. Check mle_retvals\n",
      "  warnings.warn(\"Maximum Likelihood optimization failed to \"\n",
      "/home/berlands/anaconda3/envs/STATS507/lib/python3.9/site-packages/statsmodels/regression/mixed_linear_model.py:2206: ConvergenceWarning: MixedLM optimization failed, trying a different optimizer may help.\n",
      "  warnings.warn(msg, ConvergenceWarning)\n",
      "/home/berlands/anaconda3/envs/STATS507/lib/python3.9/site-packages/statsmodels/regression/mixed_linear_model.py:2218: ConvergenceWarning: Gradient optimization failed, |grad| = 5.623742\n",
      "  warnings.warn(msg, ConvergenceWarning)\n",
      "/home/berlands/anaconda3/envs/STATS507/lib/python3.9/site-packages/statsmodels/base/model.py:566: ConvergenceWarning: Maximum Likelihood optimization failed to converge. Check mle_retvals\n",
      "  warnings.warn(\"Maximum Likelihood optimization failed to \"\n",
      "/home/berlands/anaconda3/envs/STATS507/lib/python3.9/site-packages/statsmodels/regression/mixed_linear_model.py:2200: ConvergenceWarning: Retrying MixedLM optimization with lbfgs\n",
      "  warnings.warn(\n",
      "/home/berlands/anaconda3/envs/STATS507/lib/python3.9/site-packages/statsmodels/base/model.py:566: ConvergenceWarning: Maximum Likelihood optimization failed to converge. Check mle_retvals\n",
      "  warnings.warn(\"Maximum Likelihood optimization failed to \"\n",
      "/home/berlands/anaconda3/envs/STATS507/lib/python3.9/site-packages/statsmodels/regression/mixed_linear_model.py:2200: ConvergenceWarning: Retrying MixedLM optimization with cg\n",
      "  warnings.warn(\n",
      "/home/berlands/anaconda3/envs/STATS507/lib/python3.9/site-packages/statsmodels/base/model.py:566: ConvergenceWarning: Maximum Likelihood optimization failed to converge. Check mle_retvals\n",
      "  warnings.warn(\"Maximum Likelihood optimization failed to \"\n",
      "/home/berlands/anaconda3/envs/STATS507/lib/python3.9/site-packages/statsmodels/regression/mixed_linear_model.py:2206: ConvergenceWarning: MixedLM optimization failed, trying a different optimizer may help.\n",
      "  warnings.warn(msg, ConvergenceWarning)\n",
      "/home/berlands/anaconda3/envs/STATS507/lib/python3.9/site-packages/statsmodels/regression/mixed_linear_model.py:2218: ConvergenceWarning: Gradient optimization failed, |grad| = 6.507307\n",
      "  warnings.warn(msg, ConvergenceWarning)\n",
      "/home/berlands/anaconda3/envs/STATS507/lib/python3.9/site-packages/statsmodels/base/model.py:566: ConvergenceWarning: Maximum Likelihood optimization failed to converge. Check mle_retvals\n",
      "  warnings.warn(\"Maximum Likelihood optimization failed to \"\n",
      "/home/berlands/anaconda3/envs/STATS507/lib/python3.9/site-packages/statsmodels/regression/mixed_linear_model.py:2200: ConvergenceWarning: Retrying MixedLM optimization with lbfgs\n",
      "  warnings.warn(\n",
      "/home/berlands/anaconda3/envs/STATS507/lib/python3.9/site-packages/statsmodels/base/model.py:566: ConvergenceWarning: Maximum Likelihood optimization failed to converge. Check mle_retvals\n",
      "  warnings.warn(\"Maximum Likelihood optimization failed to \"\n",
      "/home/berlands/anaconda3/envs/STATS507/lib/python3.9/site-packages/statsmodels/regression/mixed_linear_model.py:2200: ConvergenceWarning: Retrying MixedLM optimization with cg\n",
      "  warnings.warn(\n",
      "/home/berlands/anaconda3/envs/STATS507/lib/python3.9/site-packages/statsmodels/base/model.py:566: ConvergenceWarning: Maximum Likelihood optimization failed to converge. Check mle_retvals\n",
      "  warnings.warn(\"Maximum Likelihood optimization failed to \"\n",
      "/home/berlands/anaconda3/envs/STATS507/lib/python3.9/site-packages/statsmodels/regression/mixed_linear_model.py:2206: ConvergenceWarning: MixedLM optimization failed, trying a different optimizer may help.\n",
      "  warnings.warn(msg, ConvergenceWarning)\n",
      "/home/berlands/anaconda3/envs/STATS507/lib/python3.9/site-packages/statsmodels/regression/mixed_linear_model.py:2218: ConvergenceWarning: Gradient optimization failed, |grad| = 2.063065\n",
      "  warnings.warn(msg, ConvergenceWarning)\n",
      "/home/berlands/anaconda3/envs/STATS507/lib/python3.9/site-packages/statsmodels/base/model.py:566: ConvergenceWarning: Maximum Likelihood optimization failed to converge. Check mle_retvals\n",
      "  warnings.warn(\"Maximum Likelihood optimization failed to \"\n",
      "/home/berlands/anaconda3/envs/STATS507/lib/python3.9/site-packages/statsmodels/regression/mixed_linear_model.py:2200: ConvergenceWarning: Retrying MixedLM optimization with lbfgs\n",
      "  warnings.warn(\n"
     ]
    },
    {
     "name": "stderr",
     "output_type": "stream",
     "text": [
      "/home/berlands/anaconda3/envs/STATS507/lib/python3.9/site-packages/statsmodels/base/model.py:566: ConvergenceWarning: Maximum Likelihood optimization failed to converge. Check mle_retvals\n",
      "  warnings.warn(\"Maximum Likelihood optimization failed to \"\n",
      "/home/berlands/anaconda3/envs/STATS507/lib/python3.9/site-packages/statsmodels/regression/mixed_linear_model.py:2200: ConvergenceWarning: Retrying MixedLM optimization with lbfgs\n",
      "  warnings.warn(\n",
      "/home/berlands/anaconda3/envs/STATS507/lib/python3.9/site-packages/statsmodels/base/model.py:566: ConvergenceWarning: Maximum Likelihood optimization failed to converge. Check mle_retvals\n",
      "  warnings.warn(\"Maximum Likelihood optimization failed to \"\n",
      "/home/berlands/anaconda3/envs/STATS507/lib/python3.9/site-packages/statsmodels/regression/mixed_linear_model.py:2200: ConvergenceWarning: Retrying MixedLM optimization with cg\n",
      "  warnings.warn(\n",
      "/home/berlands/anaconda3/envs/STATS507/lib/python3.9/site-packages/statsmodels/base/model.py:566: ConvergenceWarning: Maximum Likelihood optimization failed to converge. Check mle_retvals\n",
      "  warnings.warn(\"Maximum Likelihood optimization failed to \"\n",
      "/home/berlands/anaconda3/envs/STATS507/lib/python3.9/site-packages/statsmodels/regression/mixed_linear_model.py:2206: ConvergenceWarning: MixedLM optimization failed, trying a different optimizer may help.\n",
      "  warnings.warn(msg, ConvergenceWarning)\n",
      "/home/berlands/anaconda3/envs/STATS507/lib/python3.9/site-packages/statsmodels/regression/mixed_linear_model.py:2218: ConvergenceWarning: Gradient optimization failed, |grad| = 4.923237\n",
      "  warnings.warn(msg, ConvergenceWarning)\n",
      "/home/berlands/anaconda3/envs/STATS507/lib/python3.9/site-packages/statsmodels/base/model.py:566: ConvergenceWarning: Maximum Likelihood optimization failed to converge. Check mle_retvals\n",
      "  warnings.warn(\"Maximum Likelihood optimization failed to \"\n",
      "/home/berlands/anaconda3/envs/STATS507/lib/python3.9/site-packages/statsmodels/regression/mixed_linear_model.py:2200: ConvergenceWarning: Retrying MixedLM optimization with lbfgs\n",
      "  warnings.warn(\n",
      "/home/berlands/anaconda3/envs/STATS507/lib/python3.9/site-packages/statsmodels/base/model.py:566: ConvergenceWarning: Maximum Likelihood optimization failed to converge. Check mle_retvals\n",
      "  warnings.warn(\"Maximum Likelihood optimization failed to \"\n",
      "/home/berlands/anaconda3/envs/STATS507/lib/python3.9/site-packages/statsmodels/regression/mixed_linear_model.py:2200: ConvergenceWarning: Retrying MixedLM optimization with cg\n",
      "  warnings.warn(\n",
      "/home/berlands/anaconda3/envs/STATS507/lib/python3.9/site-packages/statsmodels/base/model.py:566: ConvergenceWarning: Maximum Likelihood optimization failed to converge. Check mle_retvals\n",
      "  warnings.warn(\"Maximum Likelihood optimization failed to \"\n",
      "/home/berlands/anaconda3/envs/STATS507/lib/python3.9/site-packages/statsmodels/regression/mixed_linear_model.py:2206: ConvergenceWarning: MixedLM optimization failed, trying a different optimizer may help.\n",
      "  warnings.warn(msg, ConvergenceWarning)\n",
      "/home/berlands/anaconda3/envs/STATS507/lib/python3.9/site-packages/statsmodels/regression/mixed_linear_model.py:2218: ConvergenceWarning: Gradient optimization failed, |grad| = 6.260225\n",
      "  warnings.warn(msg, ConvergenceWarning)\n",
      "/home/berlands/anaconda3/envs/STATS507/lib/python3.9/site-packages/statsmodels/base/model.py:566: ConvergenceWarning: Maximum Likelihood optimization failed to converge. Check mle_retvals\n",
      "  warnings.warn(\"Maximum Likelihood optimization failed to \"\n",
      "/home/berlands/anaconda3/envs/STATS507/lib/python3.9/site-packages/statsmodels/regression/mixed_linear_model.py:2200: ConvergenceWarning: Retrying MixedLM optimization with lbfgs\n",
      "  warnings.warn(\n",
      "/home/berlands/anaconda3/envs/STATS507/lib/python3.9/site-packages/statsmodels/base/model.py:566: ConvergenceWarning: Maximum Likelihood optimization failed to converge. Check mle_retvals\n",
      "  warnings.warn(\"Maximum Likelihood optimization failed to \"\n",
      "/home/berlands/anaconda3/envs/STATS507/lib/python3.9/site-packages/statsmodels/regression/mixed_linear_model.py:2200: ConvergenceWarning: Retrying MixedLM optimization with cg\n",
      "  warnings.warn(\n",
      "/home/berlands/anaconda3/envs/STATS507/lib/python3.9/site-packages/statsmodels/base/model.py:566: ConvergenceWarning: Maximum Likelihood optimization failed to converge. Check mle_retvals\n",
      "  warnings.warn(\"Maximum Likelihood optimization failed to \"\n",
      "/home/berlands/anaconda3/envs/STATS507/lib/python3.9/site-packages/statsmodels/regression/mixed_linear_model.py:2206: ConvergenceWarning: MixedLM optimization failed, trying a different optimizer may help.\n",
      "  warnings.warn(msg, ConvergenceWarning)\n",
      "/home/berlands/anaconda3/envs/STATS507/lib/python3.9/site-packages/statsmodels/regression/mixed_linear_model.py:2218: ConvergenceWarning: Gradient optimization failed, |grad| = 7.955741\n",
      "  warnings.warn(msg, ConvergenceWarning)\n"
     ]
    },
    {
     "name": "stdout",
     "output_type": "stream",
     "text": [
      "Didn't Work []\n"
     ]
    }
   ],
   "source": [
    "allFeatures = np.asarray(dat.drop([\"sitename\",\n",
    "                                   \"violenceScore\",\n",
    "                                   \"sex\"],\n",
    "                                  axis=1).columns)\n",
    "\n",
    "maleModelsAIC = allParamComb(datMales, allFeatures)\n",
    "femaleModelsAIC = allParamComb(datFemales, allFeatures)"
   ]
  },
  {
   "cell_type": "code",
   "execution_count": 93,
   "id": "e1bd5428",
   "metadata": {},
   "outputs": [
    {
     "data": {
      "text/html": [
       "<div>\n",
       "<style scoped>\n",
       "    .dataframe tbody tr th:only-of-type {\n",
       "        vertical-align: middle;\n",
       "    }\n",
       "\n",
       "    .dataframe tbody tr th {\n",
       "        vertical-align: top;\n",
       "    }\n",
       "\n",
       "    .dataframe thead th {\n",
       "        text-align: right;\n",
       "    }\n",
       "</style>\n",
       "<table border=\"1\" class=\"dataframe\">\n",
       "  <thead>\n",
       "    <tr style=\"text-align: right;\">\n",
       "      <th></th>\n",
       "      <th>AIC</th>\n",
       "      <th>features</th>\n",
       "    </tr>\n",
       "  </thead>\n",
       "  <tbody>\n",
       "    <tr>\n",
       "      <th>101</th>\n",
       "      <td>838.593040</td>\n",
       "      <td>(year, UnemploymentRate)</td>\n",
       "    </tr>\n",
       "    <tr>\n",
       "      <th>76</th>\n",
       "      <td>839.735151</td>\n",
       "      <td>(year, UnemploymentRate, SNAP)</td>\n",
       "    </tr>\n",
       "    <tr>\n",
       "      <th>65</th>\n",
       "      <td>840.037641</td>\n",
       "      <td>(year, AllAgesInPovertyPercent, UnemploymentRate)</td>\n",
       "    </tr>\n",
       "    <tr>\n",
       "      <th>75</th>\n",
       "      <td>840.339865</td>\n",
       "      <td>(year, UnemploymentRate, Population)</td>\n",
       "    </tr>\n",
       "    <tr>\n",
       "      <th>69</th>\n",
       "      <td>840.464688</td>\n",
       "      <td>(year, UnderAge18inPovertyPercent, Unemploymen...</td>\n",
       "    </tr>\n",
       "    <tr>\n",
       "      <th>...</th>\n",
       "      <td>...</td>\n",
       "      <td>...</td>\n",
       "    </tr>\n",
       "    <tr>\n",
       "      <th>121</th>\n",
       "      <td>954.538224</td>\n",
       "      <td>(UnderAge18inPovertyPercent,)</td>\n",
       "    </tr>\n",
       "    <tr>\n",
       "      <th>111</th>\n",
       "      <td>956.689661</td>\n",
       "      <td>(UnderAge18inPovertyPercent, Population)</td>\n",
       "    </tr>\n",
       "    <tr>\n",
       "      <th>120</th>\n",
       "      <td>956.768956</td>\n",
       "      <td>(AllAgesInPovertyPercent,)</td>\n",
       "    </tr>\n",
       "    <tr>\n",
       "      <th>124</th>\n",
       "      <td>958.028958</td>\n",
       "      <td>(Population,)</td>\n",
       "    </tr>\n",
       "    <tr>\n",
       "      <th>107</th>\n",
       "      <td>958.584356</td>\n",
       "      <td>(AllAgesInPovertyPercent, Population)</td>\n",
       "    </tr>\n",
       "  </tbody>\n",
       "</table>\n",
       "<p>126 rows × 2 columns</p>\n",
       "</div>"
      ],
      "text/plain": [
       "            AIC                                           features\n",
       "101  838.593040                           (year, UnemploymentRate)\n",
       "76   839.735151                     (year, UnemploymentRate, SNAP)\n",
       "65   840.037641  (year, AllAgesInPovertyPercent, UnemploymentRate)\n",
       "75   840.339865               (year, UnemploymentRate, Population)\n",
       "69   840.464688  (year, UnderAge18inPovertyPercent, Unemploymen...\n",
       "..          ...                                                ...\n",
       "121  954.538224                      (UnderAge18inPovertyPercent,)\n",
       "111  956.689661           (UnderAge18inPovertyPercent, Population)\n",
       "120  956.768956                         (AllAgesInPovertyPercent,)\n",
       "124  958.028958                                      (Population,)\n",
       "107  958.584356              (AllAgesInPovertyPercent, Population)\n",
       "\n",
       "[126 rows x 2 columns]"
      ]
     },
     "execution_count": 93,
     "metadata": {},
     "output_type": "execute_result"
    }
   ],
   "source": [
    "maleModelsAIC.sort_values(\"AIC\")"
   ]
  },
  {
   "cell_type": "code",
   "execution_count": 94,
   "id": "c65fb4b6",
   "metadata": {
    "scrolled": true
   },
   "outputs": [
    {
     "data": {
      "text/html": [
       "<div>\n",
       "<style scoped>\n",
       "    .dataframe tbody tr th:only-of-type {\n",
       "        vertical-align: middle;\n",
       "    }\n",
       "\n",
       "    .dataframe tbody tr th {\n",
       "        vertical-align: top;\n",
       "    }\n",
       "\n",
       "    .dataframe thead th {\n",
       "        text-align: right;\n",
       "    }\n",
       "</style>\n",
       "<table border=\"1\" class=\"dataframe\">\n",
       "  <thead>\n",
       "    <tr style=\"text-align: right;\">\n",
       "      <th></th>\n",
       "      <th>AIC</th>\n",
       "      <th>features</th>\n",
       "    </tr>\n",
       "  </thead>\n",
       "  <tbody>\n",
       "    <tr>\n",
       "      <th>71</th>\n",
       "      <td>751.915476</td>\n",
       "      <td>(year, UnderAge18inPovertyPercent, SNAP)</td>\n",
       "    </tr>\n",
       "    <tr>\n",
       "      <th>69</th>\n",
       "      <td>751.973126</td>\n",
       "      <td>(year, UnderAge18inPovertyPercent, Unemploymen...</td>\n",
       "    </tr>\n",
       "    <tr>\n",
       "      <th>99</th>\n",
       "      <td>752.681740</td>\n",
       "      <td>(year, UnderAge18inPovertyPercent)</td>\n",
       "    </tr>\n",
       "    <tr>\n",
       "      <th>101</th>\n",
       "      <td>752.741765</td>\n",
       "      <td>(year, UnemploymentRate)</td>\n",
       "    </tr>\n",
       "    <tr>\n",
       "      <th>65</th>\n",
       "      <td>753.054362</td>\n",
       "      <td>(year, AllAgesInPovertyPercent, UnemploymentRate)</td>\n",
       "    </tr>\n",
       "    <tr>\n",
       "      <th>...</th>\n",
       "      <td>...</td>\n",
       "      <td>...</td>\n",
       "    </tr>\n",
       "    <tr>\n",
       "      <th>121</th>\n",
       "      <td>800.067935</td>\n",
       "      <td>(UnderAge18inPovertyPercent,)</td>\n",
       "    </tr>\n",
       "    <tr>\n",
       "      <th>111</th>\n",
       "      <td>800.177094</td>\n",
       "      <td>(UnderAge18inPovertyPercent, Population)</td>\n",
       "    </tr>\n",
       "    <tr>\n",
       "      <th>120</th>\n",
       "      <td>801.471199</td>\n",
       "      <td>(AllAgesInPovertyPercent,)</td>\n",
       "    </tr>\n",
       "    <tr>\n",
       "      <th>107</th>\n",
       "      <td>803.494639</td>\n",
       "      <td>(AllAgesInPovertyPercent, Population)</td>\n",
       "    </tr>\n",
       "    <tr>\n",
       "      <th>124</th>\n",
       "      <td>808.487904</td>\n",
       "      <td>(Population,)</td>\n",
       "    </tr>\n",
       "  </tbody>\n",
       "</table>\n",
       "<p>126 rows × 2 columns</p>\n",
       "</div>"
      ],
      "text/plain": [
       "            AIC                                           features\n",
       "71   751.915476           (year, UnderAge18inPovertyPercent, SNAP)\n",
       "69   751.973126  (year, UnderAge18inPovertyPercent, Unemploymen...\n",
       "99   752.681740                 (year, UnderAge18inPovertyPercent)\n",
       "101  752.741765                           (year, UnemploymentRate)\n",
       "65   753.054362  (year, AllAgesInPovertyPercent, UnemploymentRate)\n",
       "..          ...                                                ...\n",
       "121  800.067935                      (UnderAge18inPovertyPercent,)\n",
       "111  800.177094           (UnderAge18inPovertyPercent, Population)\n",
       "120  801.471199                         (AllAgesInPovertyPercent,)\n",
       "107  803.494639              (AllAgesInPovertyPercent, Population)\n",
       "124  808.487904                                      (Population,)\n",
       "\n",
       "[126 rows x 2 columns]"
      ]
     },
     "execution_count": 94,
     "metadata": {},
     "output_type": "execute_result"
    }
   ],
   "source": [
    "femaleModelsAIC.sort_values(\"AIC\")"
   ]
  },
  {
   "cell_type": "code",
   "execution_count": 95,
   "id": "57c04a01",
   "metadata": {
    "scrolled": true
   },
   "outputs": [
    {
     "name": "stderr",
     "output_type": "stream",
     "text": [
      "/home/berlands/anaconda3/envs/STATS507/lib/python3.9/site-packages/statsmodels/base/model.py:566: ConvergenceWarning: Maximum Likelihood optimization failed to converge. Check mle_retvals\n",
      "  warnings.warn(\"Maximum Likelihood optimization failed to \"\n",
      "/home/berlands/anaconda3/envs/STATS507/lib/python3.9/site-packages/statsmodels/regression/mixed_linear_model.py:2200: ConvergenceWarning: Retrying MixedLM optimization with lbfgs\n",
      "  warnings.warn(\n",
      "/home/berlands/anaconda3/envs/STATS507/lib/python3.9/site-packages/statsmodels/base/model.py:566: ConvergenceWarning: Maximum Likelihood optimization failed to converge. Check mle_retvals\n",
      "  warnings.warn(\"Maximum Likelihood optimization failed to \"\n",
      "/home/berlands/anaconda3/envs/STATS507/lib/python3.9/site-packages/statsmodels/regression/mixed_linear_model.py:2200: ConvergenceWarning: Retrying MixedLM optimization with lbfgs\n",
      "  warnings.warn(\n",
      "/home/berlands/anaconda3/envs/STATS507/lib/python3.9/site-packages/statsmodels/base/model.py:566: ConvergenceWarning: Maximum Likelihood optimization failed to converge. Check mle_retvals\n",
      "  warnings.warn(\"Maximum Likelihood optimization failed to \"\n",
      "/home/berlands/anaconda3/envs/STATS507/lib/python3.9/site-packages/statsmodels/regression/mixed_linear_model.py:2200: ConvergenceWarning: Retrying MixedLM optimization with lbfgs\n",
      "  warnings.warn(\n",
      "/home/berlands/anaconda3/envs/STATS507/lib/python3.9/site-packages/statsmodels/base/model.py:566: ConvergenceWarning: Maximum Likelihood optimization failed to converge. Check mle_retvals\n",
      "  warnings.warn(\"Maximum Likelihood optimization failed to \"\n",
      "/home/berlands/anaconda3/envs/STATS507/lib/python3.9/site-packages/statsmodels/regression/mixed_linear_model.py:2200: ConvergenceWarning: Retrying MixedLM optimization with cg\n",
      "  warnings.warn(\n",
      "/home/berlands/anaconda3/envs/STATS507/lib/python3.9/site-packages/statsmodels/base/model.py:566: ConvergenceWarning: Maximum Likelihood optimization failed to converge. Check mle_retvals\n",
      "  warnings.warn(\"Maximum Likelihood optimization failed to \"\n",
      "/home/berlands/anaconda3/envs/STATS507/lib/python3.9/site-packages/statsmodels/regression/mixed_linear_model.py:2206: ConvergenceWarning: MixedLM optimization failed, trying a different optimizer may help.\n",
      "  warnings.warn(msg, ConvergenceWarning)\n",
      "/home/berlands/anaconda3/envs/STATS507/lib/python3.9/site-packages/statsmodels/regression/mixed_linear_model.py:2218: ConvergenceWarning: Gradient optimization failed, |grad| = 0.497502\n",
      "  warnings.warn(msg, ConvergenceWarning)\n",
      "/home/berlands/anaconda3/envs/STATS507/lib/python3.9/site-packages/statsmodels/base/model.py:566: ConvergenceWarning: Maximum Likelihood optimization failed to converge. Check mle_retvals\n",
      "  warnings.warn(\"Maximum Likelihood optimization failed to \"\n",
      "/home/berlands/anaconda3/envs/STATS507/lib/python3.9/site-packages/statsmodels/regression/mixed_linear_model.py:2200: ConvergenceWarning: Retrying MixedLM optimization with lbfgs\n",
      "  warnings.warn(\n",
      "/home/berlands/anaconda3/envs/STATS507/lib/python3.9/site-packages/statsmodels/base/model.py:566: ConvergenceWarning: Maximum Likelihood optimization failed to converge. Check mle_retvals\n",
      "  warnings.warn(\"Maximum Likelihood optimization failed to \"\n",
      "/home/berlands/anaconda3/envs/STATS507/lib/python3.9/site-packages/statsmodels/regression/mixed_linear_model.py:2200: ConvergenceWarning: Retrying MixedLM optimization with lbfgs\n",
      "  warnings.warn(\n",
      "/home/berlands/anaconda3/envs/STATS507/lib/python3.9/site-packages/statsmodels/base/model.py:566: ConvergenceWarning: Maximum Likelihood optimization failed to converge. Check mle_retvals\n",
      "  warnings.warn(\"Maximum Likelihood optimization failed to \"\n",
      "/home/berlands/anaconda3/envs/STATS507/lib/python3.9/site-packages/statsmodels/regression/mixed_linear_model.py:2200: ConvergenceWarning: Retrying MixedLM optimization with cg\n",
      "  warnings.warn(\n",
      "/home/berlands/anaconda3/envs/STATS507/lib/python3.9/site-packages/statsmodels/base/model.py:566: ConvergenceWarning: Maximum Likelihood optimization failed to converge. Check mle_retvals\n",
      "  warnings.warn(\"Maximum Likelihood optimization failed to \"\n",
      "/home/berlands/anaconda3/envs/STATS507/lib/python3.9/site-packages/statsmodels/regression/mixed_linear_model.py:2206: ConvergenceWarning: MixedLM optimization failed, trying a different optimizer may help.\n",
      "  warnings.warn(msg, ConvergenceWarning)\n",
      "/home/berlands/anaconda3/envs/STATS507/lib/python3.9/site-packages/statsmodels/regression/mixed_linear_model.py:2218: ConvergenceWarning: Gradient optimization failed, |grad| = 3.414993\n",
      "  warnings.warn(msg, ConvergenceWarning)\n",
      "/home/berlands/anaconda3/envs/STATS507/lib/python3.9/site-packages/statsmodels/regression/mixed_linear_model.py:2237: ConvergenceWarning: The MLE may be on the boundary of the parameter space.\n",
      "  warnings.warn(msg, ConvergenceWarning)\n",
      "/home/berlands/anaconda3/envs/STATS507/lib/python3.9/site-packages/statsmodels/regression/mixed_linear_model.py:1634: UserWarning: Random effects covariance is singular\n",
      "  warnings.warn(msg)\n",
      "/home/berlands/anaconda3/envs/STATS507/lib/python3.9/site-packages/statsmodels/regression/mixed_linear_model.py:2237: ConvergenceWarning: The MLE may be on the boundary of the parameter space.\n",
      "  warnings.warn(msg, ConvergenceWarning)\n",
      "/home/berlands/anaconda3/envs/STATS507/lib/python3.9/site-packages/statsmodels/regression/mixed_linear_model.py:2237: ConvergenceWarning: The MLE may be on the boundary of the parameter space.\n",
      "  warnings.warn(msg, ConvergenceWarning)\n",
      "/home/berlands/anaconda3/envs/STATS507/lib/python3.9/site-packages/statsmodels/base/model.py:566: ConvergenceWarning: Maximum Likelihood optimization failed to converge. Check mle_retvals\n",
      "  warnings.warn(\"Maximum Likelihood optimization failed to \"\n",
      "/home/berlands/anaconda3/envs/STATS507/lib/python3.9/site-packages/statsmodels/regression/mixed_linear_model.py:2200: ConvergenceWarning: Retrying MixedLM optimization with lbfgs\n",
      "  warnings.warn(\n",
      "/home/berlands/anaconda3/envs/STATS507/lib/python3.9/site-packages/statsmodels/base/model.py:566: ConvergenceWarning: Maximum Likelihood optimization failed to converge. Check mle_retvals\n",
      "  warnings.warn(\"Maximum Likelihood optimization failed to \"\n",
      "/home/berlands/anaconda3/envs/STATS507/lib/python3.9/site-packages/statsmodels/regression/mixed_linear_model.py:2200: ConvergenceWarning: Retrying MixedLM optimization with cg\n",
      "  warnings.warn(\n",
      "/home/berlands/anaconda3/envs/STATS507/lib/python3.9/site-packages/statsmodels/base/model.py:566: ConvergenceWarning: Maximum Likelihood optimization failed to converge. Check mle_retvals\n",
      "  warnings.warn(\"Maximum Likelihood optimization failed to \"\n",
      "/home/berlands/anaconda3/envs/STATS507/lib/python3.9/site-packages/statsmodels/regression/mixed_linear_model.py:2206: ConvergenceWarning: MixedLM optimization failed, trying a different optimizer may help.\n",
      "  warnings.warn(msg, ConvergenceWarning)\n",
      "/home/berlands/anaconda3/envs/STATS507/lib/python3.9/site-packages/statsmodels/regression/mixed_linear_model.py:2218: ConvergenceWarning: Gradient optimization failed, |grad| = 0.564821\n",
      "  warnings.warn(msg, ConvergenceWarning)\n",
      "/home/berlands/anaconda3/envs/STATS507/lib/python3.9/site-packages/statsmodels/base/model.py:566: ConvergenceWarning: Maximum Likelihood optimization failed to converge. Check mle_retvals\n",
      "  warnings.warn(\"Maximum Likelihood optimization failed to \"\n",
      "/home/berlands/anaconda3/envs/STATS507/lib/python3.9/site-packages/statsmodels/regression/mixed_linear_model.py:2200: ConvergenceWarning: Retrying MixedLM optimization with lbfgs\n",
      "  warnings.warn(\n",
      "/home/berlands/anaconda3/envs/STATS507/lib/python3.9/site-packages/statsmodels/base/model.py:566: ConvergenceWarning: Maximum Likelihood optimization failed to converge. Check mle_retvals\n",
      "  warnings.warn(\"Maximum Likelihood optimization failed to \"\n",
      "/home/berlands/anaconda3/envs/STATS507/lib/python3.9/site-packages/statsmodels/regression/mixed_linear_model.py:2200: ConvergenceWarning: Retrying MixedLM optimization with lbfgs\n",
      "  warnings.warn(\n",
      "/home/berlands/anaconda3/envs/STATS507/lib/python3.9/site-packages/statsmodels/base/model.py:566: ConvergenceWarning: Maximum Likelihood optimization failed to converge. Check mle_retvals\n",
      "  warnings.warn(\"Maximum Likelihood optimization failed to \"\n",
      "/home/berlands/anaconda3/envs/STATS507/lib/python3.9/site-packages/statsmodels/regression/mixed_linear_model.py:2200: ConvergenceWarning: Retrying MixedLM optimization with cg\n",
      "  warnings.warn(\n"
     ]
    },
    {
     "name": "stderr",
     "output_type": "stream",
     "text": [
      "/home/berlands/anaconda3/envs/STATS507/lib/python3.9/site-packages/statsmodels/base/model.py:566: ConvergenceWarning: Maximum Likelihood optimization failed to converge. Check mle_retvals\n",
      "  warnings.warn(\"Maximum Likelihood optimization failed to \"\n",
      "/home/berlands/anaconda3/envs/STATS507/lib/python3.9/site-packages/statsmodels/regression/mixed_linear_model.py:2206: ConvergenceWarning: MixedLM optimization failed, trying a different optimizer may help.\n",
      "  warnings.warn(msg, ConvergenceWarning)\n",
      "/home/berlands/anaconda3/envs/STATS507/lib/python3.9/site-packages/statsmodels/regression/mixed_linear_model.py:2218: ConvergenceWarning: Gradient optimization failed, |grad| = 0.020619\n",
      "  warnings.warn(msg, ConvergenceWarning)\n",
      "/home/berlands/anaconda3/envs/STATS507/lib/python3.9/site-packages/statsmodels/base/model.py:566: ConvergenceWarning: Maximum Likelihood optimization failed to converge. Check mle_retvals\n",
      "  warnings.warn(\"Maximum Likelihood optimization failed to \"\n",
      "/home/berlands/anaconda3/envs/STATS507/lib/python3.9/site-packages/statsmodels/regression/mixed_linear_model.py:2200: ConvergenceWarning: Retrying MixedLM optimization with lbfgs\n",
      "  warnings.warn(\n",
      "/home/berlands/anaconda3/envs/STATS507/lib/python3.9/site-packages/statsmodels/base/model.py:566: ConvergenceWarning: Maximum Likelihood optimization failed to converge. Check mle_retvals\n",
      "  warnings.warn(\"Maximum Likelihood optimization failed to \"\n",
      "/home/berlands/anaconda3/envs/STATS507/lib/python3.9/site-packages/statsmodels/regression/mixed_linear_model.py:2200: ConvergenceWarning: Retrying MixedLM optimization with lbfgs\n",
      "  warnings.warn(\n",
      "/home/berlands/anaconda3/envs/STATS507/lib/python3.9/site-packages/statsmodels/base/model.py:566: ConvergenceWarning: Maximum Likelihood optimization failed to converge. Check mle_retvals\n",
      "  warnings.warn(\"Maximum Likelihood optimization failed to \"\n",
      "/home/berlands/anaconda3/envs/STATS507/lib/python3.9/site-packages/statsmodels/regression/mixed_linear_model.py:2200: ConvergenceWarning: Retrying MixedLM optimization with lbfgs\n",
      "  warnings.warn(\n",
      "/home/berlands/anaconda3/envs/STATS507/lib/python3.9/site-packages/statsmodels/base/model.py:566: ConvergenceWarning: Maximum Likelihood optimization failed to converge. Check mle_retvals\n",
      "  warnings.warn(\"Maximum Likelihood optimization failed to \"\n",
      "/home/berlands/anaconda3/envs/STATS507/lib/python3.9/site-packages/statsmodels/regression/mixed_linear_model.py:2200: ConvergenceWarning: Retrying MixedLM optimization with lbfgs\n",
      "  warnings.warn(\n",
      "/home/berlands/anaconda3/envs/STATS507/lib/python3.9/site-packages/statsmodels/base/model.py:566: ConvergenceWarning: Maximum Likelihood optimization failed to converge. Check mle_retvals\n",
      "  warnings.warn(\"Maximum Likelihood optimization failed to \"\n",
      "/home/berlands/anaconda3/envs/STATS507/lib/python3.9/site-packages/statsmodels/regression/mixed_linear_model.py:2200: ConvergenceWarning: Retrying MixedLM optimization with cg\n",
      "  warnings.warn(\n",
      "/home/berlands/anaconda3/envs/STATS507/lib/python3.9/site-packages/statsmodels/base/model.py:566: ConvergenceWarning: Maximum Likelihood optimization failed to converge. Check mle_retvals\n",
      "  warnings.warn(\"Maximum Likelihood optimization failed to \"\n",
      "/home/berlands/anaconda3/envs/STATS507/lib/python3.9/site-packages/statsmodels/regression/mixed_linear_model.py:2206: ConvergenceWarning: MixedLM optimization failed, trying a different optimizer may help.\n",
      "  warnings.warn(msg, ConvergenceWarning)\n",
      "/home/berlands/anaconda3/envs/STATS507/lib/python3.9/site-packages/statsmodels/regression/mixed_linear_model.py:2218: ConvergenceWarning: Gradient optimization failed, |grad| = 1.535626\n",
      "  warnings.warn(msg, ConvergenceWarning)\n",
      "/home/berlands/anaconda3/envs/STATS507/lib/python3.9/site-packages/statsmodels/base/model.py:566: ConvergenceWarning: Maximum Likelihood optimization failed to converge. Check mle_retvals\n",
      "  warnings.warn(\"Maximum Likelihood optimization failed to \"\n",
      "/home/berlands/anaconda3/envs/STATS507/lib/python3.9/site-packages/statsmodels/regression/mixed_linear_model.py:2200: ConvergenceWarning: Retrying MixedLM optimization with lbfgs\n",
      "  warnings.warn(\n",
      "/home/berlands/anaconda3/envs/STATS507/lib/python3.9/site-packages/statsmodels/base/model.py:566: ConvergenceWarning: Maximum Likelihood optimization failed to converge. Check mle_retvals\n",
      "  warnings.warn(\"Maximum Likelihood optimization failed to \"\n",
      "/home/berlands/anaconda3/envs/STATS507/lib/python3.9/site-packages/statsmodels/regression/mixed_linear_model.py:2200: ConvergenceWarning: Retrying MixedLM optimization with cg\n",
      "  warnings.warn(\n",
      "/home/berlands/anaconda3/envs/STATS507/lib/python3.9/site-packages/statsmodels/base/model.py:566: ConvergenceWarning: Maximum Likelihood optimization failed to converge. Check mle_retvals\n",
      "  warnings.warn(\"Maximum Likelihood optimization failed to \"\n",
      "/home/berlands/anaconda3/envs/STATS507/lib/python3.9/site-packages/statsmodels/regression/mixed_linear_model.py:2206: ConvergenceWarning: MixedLM optimization failed, trying a different optimizer may help.\n",
      "  warnings.warn(msg, ConvergenceWarning)\n",
      "/home/berlands/anaconda3/envs/STATS507/lib/python3.9/site-packages/statsmodels/regression/mixed_linear_model.py:2218: ConvergenceWarning: Gradient optimization failed, |grad| = 3.755814\n",
      "  warnings.warn(msg, ConvergenceWarning)\n",
      "/home/berlands/anaconda3/envs/STATS507/lib/python3.9/site-packages/statsmodels/base/model.py:566: ConvergenceWarning: Maximum Likelihood optimization failed to converge. Check mle_retvals\n",
      "  warnings.warn(\"Maximum Likelihood optimization failed to \"\n",
      "/home/berlands/anaconda3/envs/STATS507/lib/python3.9/site-packages/statsmodels/regression/mixed_linear_model.py:2200: ConvergenceWarning: Retrying MixedLM optimization with lbfgs\n",
      "  warnings.warn(\n",
      "/home/berlands/anaconda3/envs/STATS507/lib/python3.9/site-packages/statsmodels/base/model.py:566: ConvergenceWarning: Maximum Likelihood optimization failed to converge. Check mle_retvals\n",
      "  warnings.warn(\"Maximum Likelihood optimization failed to \"\n",
      "/home/berlands/anaconda3/envs/STATS507/lib/python3.9/site-packages/statsmodels/regression/mixed_linear_model.py:2200: ConvergenceWarning: Retrying MixedLM optimization with lbfgs\n",
      "  warnings.warn(\n",
      "/home/berlands/anaconda3/envs/STATS507/lib/python3.9/site-packages/statsmodels/base/model.py:566: ConvergenceWarning: Maximum Likelihood optimization failed to converge. Check mle_retvals\n",
      "  warnings.warn(\"Maximum Likelihood optimization failed to \"\n",
      "/home/berlands/anaconda3/envs/STATS507/lib/python3.9/site-packages/statsmodels/regression/mixed_linear_model.py:2200: ConvergenceWarning: Retrying MixedLM optimization with cg\n",
      "  warnings.warn(\n",
      "/home/berlands/anaconda3/envs/STATS507/lib/python3.9/site-packages/statsmodels/base/model.py:566: ConvergenceWarning: Maximum Likelihood optimization failed to converge. Check mle_retvals\n",
      "  warnings.warn(\"Maximum Likelihood optimization failed to \"\n",
      "/home/berlands/anaconda3/envs/STATS507/lib/python3.9/site-packages/statsmodels/regression/mixed_linear_model.py:2206: ConvergenceWarning: MixedLM optimization failed, trying a different optimizer may help.\n",
      "  warnings.warn(msg, ConvergenceWarning)\n",
      "/home/berlands/anaconda3/envs/STATS507/lib/python3.9/site-packages/statsmodels/regression/mixed_linear_model.py:2218: ConvergenceWarning: Gradient optimization failed, |grad| = 6.335805\n",
      "  warnings.warn(msg, ConvergenceWarning)\n"
     ]
    },
    {
     "name": "stdout",
     "output_type": "stream",
     "text": [
      "Didn't Work []\n"
     ]
    },
    {
     "name": "stderr",
     "output_type": "stream",
     "text": [
      "/home/berlands/anaconda3/envs/STATS507/lib/python3.9/site-packages/statsmodels/base/model.py:566: ConvergenceWarning: Maximum Likelihood optimization failed to converge. Check mle_retvals\n",
      "  warnings.warn(\"Maximum Likelihood optimization failed to \"\n",
      "/home/berlands/anaconda3/envs/STATS507/lib/python3.9/site-packages/statsmodels/regression/mixed_linear_model.py:2200: ConvergenceWarning: Retrying MixedLM optimization with lbfgs\n",
      "  warnings.warn(\n",
      "/home/berlands/anaconda3/envs/STATS507/lib/python3.9/site-packages/statsmodels/base/model.py:566: ConvergenceWarning: Maximum Likelihood optimization failed to converge. Check mle_retvals\n",
      "  warnings.warn(\"Maximum Likelihood optimization failed to \"\n",
      "/home/berlands/anaconda3/envs/STATS507/lib/python3.9/site-packages/statsmodels/regression/mixed_linear_model.py:2200: ConvergenceWarning: Retrying MixedLM optimization with cg\n",
      "  warnings.warn(\n",
      "/home/berlands/anaconda3/envs/STATS507/lib/python3.9/site-packages/statsmodels/base/model.py:566: ConvergenceWarning: Maximum Likelihood optimization failed to converge. Check mle_retvals\n",
      "  warnings.warn(\"Maximum Likelihood optimization failed to \"\n",
      "/home/berlands/anaconda3/envs/STATS507/lib/python3.9/site-packages/statsmodels/regression/mixed_linear_model.py:2206: ConvergenceWarning: MixedLM optimization failed, trying a different optimizer may help.\n",
      "  warnings.warn(msg, ConvergenceWarning)\n",
      "/home/berlands/anaconda3/envs/STATS507/lib/python3.9/site-packages/statsmodels/regression/mixed_linear_model.py:2218: ConvergenceWarning: Gradient optimization failed, |grad| = 6.900144\n",
      "  warnings.warn(msg, ConvergenceWarning)\n",
      "/home/berlands/anaconda3/envs/STATS507/lib/python3.9/site-packages/statsmodels/base/model.py:566: ConvergenceWarning: Maximum Likelihood optimization failed to converge. Check mle_retvals\n",
      "  warnings.warn(\"Maximum Likelihood optimization failed to \"\n",
      "/home/berlands/anaconda3/envs/STATS507/lib/python3.9/site-packages/statsmodels/regression/mixed_linear_model.py:2200: ConvergenceWarning: Retrying MixedLM optimization with lbfgs\n",
      "  warnings.warn(\n",
      "/home/berlands/anaconda3/envs/STATS507/lib/python3.9/site-packages/statsmodels/base/model.py:566: ConvergenceWarning: Maximum Likelihood optimization failed to converge. Check mle_retvals\n",
      "  warnings.warn(\"Maximum Likelihood optimization failed to \"\n",
      "/home/berlands/anaconda3/envs/STATS507/lib/python3.9/site-packages/statsmodels/regression/mixed_linear_model.py:2200: ConvergenceWarning: Retrying MixedLM optimization with cg\n",
      "  warnings.warn(\n",
      "/home/berlands/anaconda3/envs/STATS507/lib/python3.9/site-packages/statsmodels/base/model.py:566: ConvergenceWarning: Maximum Likelihood optimization failed to converge. Check mle_retvals\n",
      "  warnings.warn(\"Maximum Likelihood optimization failed to \"\n",
      "/home/berlands/anaconda3/envs/STATS507/lib/python3.9/site-packages/statsmodels/regression/mixed_linear_model.py:2206: ConvergenceWarning: MixedLM optimization failed, trying a different optimizer may help.\n",
      "  warnings.warn(msg, ConvergenceWarning)\n",
      "/home/berlands/anaconda3/envs/STATS507/lib/python3.9/site-packages/statsmodels/regression/mixed_linear_model.py:2218: ConvergenceWarning: Gradient optimization failed, |grad| = 2.772336\n",
      "  warnings.warn(msg, ConvergenceWarning)\n",
      "/home/berlands/anaconda3/envs/STATS507/lib/python3.9/site-packages/statsmodels/base/model.py:566: ConvergenceWarning: Maximum Likelihood optimization failed to converge. Check mle_retvals\n",
      "  warnings.warn(\"Maximum Likelihood optimization failed to \"\n",
      "/home/berlands/anaconda3/envs/STATS507/lib/python3.9/site-packages/statsmodels/regression/mixed_linear_model.py:2200: ConvergenceWarning: Retrying MixedLM optimization with lbfgs\n",
      "  warnings.warn(\n",
      "/home/berlands/anaconda3/envs/STATS507/lib/python3.9/site-packages/statsmodels/base/model.py:566: ConvergenceWarning: Maximum Likelihood optimization failed to converge. Check mle_retvals\n",
      "  warnings.warn(\"Maximum Likelihood optimization failed to \"\n",
      "/home/berlands/anaconda3/envs/STATS507/lib/python3.9/site-packages/statsmodels/regression/mixed_linear_model.py:2200: ConvergenceWarning: Retrying MixedLM optimization with cg\n",
      "  warnings.warn(\n",
      "/home/berlands/anaconda3/envs/STATS507/lib/python3.9/site-packages/statsmodels/base/model.py:566: ConvergenceWarning: Maximum Likelihood optimization failed to converge. Check mle_retvals\n",
      "  warnings.warn(\"Maximum Likelihood optimization failed to \"\n",
      "/home/berlands/anaconda3/envs/STATS507/lib/python3.9/site-packages/statsmodels/regression/mixed_linear_model.py:2206: ConvergenceWarning: MixedLM optimization failed, trying a different optimizer may help.\n",
      "  warnings.warn(msg, ConvergenceWarning)\n",
      "/home/berlands/anaconda3/envs/STATS507/lib/python3.9/site-packages/statsmodels/regression/mixed_linear_model.py:2218: ConvergenceWarning: Gradient optimization failed, |grad| = 5.623742\n",
      "  warnings.warn(msg, ConvergenceWarning)\n",
      "/home/berlands/anaconda3/envs/STATS507/lib/python3.9/site-packages/statsmodels/base/model.py:566: ConvergenceWarning: Maximum Likelihood optimization failed to converge. Check mle_retvals\n",
      "  warnings.warn(\"Maximum Likelihood optimization failed to \"\n",
      "/home/berlands/anaconda3/envs/STATS507/lib/python3.9/site-packages/statsmodels/regression/mixed_linear_model.py:2200: ConvergenceWarning: Retrying MixedLM optimization with lbfgs\n",
      "  warnings.warn(\n",
      "/home/berlands/anaconda3/envs/STATS507/lib/python3.9/site-packages/statsmodels/base/model.py:566: ConvergenceWarning: Maximum Likelihood optimization failed to converge. Check mle_retvals\n",
      "  warnings.warn(\"Maximum Likelihood optimization failed to \"\n",
      "/home/berlands/anaconda3/envs/STATS507/lib/python3.9/site-packages/statsmodels/regression/mixed_linear_model.py:2200: ConvergenceWarning: Retrying MixedLM optimization with cg\n",
      "  warnings.warn(\n",
      "/home/berlands/anaconda3/envs/STATS507/lib/python3.9/site-packages/statsmodels/base/model.py:566: ConvergenceWarning: Maximum Likelihood optimization failed to converge. Check mle_retvals\n",
      "  warnings.warn(\"Maximum Likelihood optimization failed to \"\n",
      "/home/berlands/anaconda3/envs/STATS507/lib/python3.9/site-packages/statsmodels/regression/mixed_linear_model.py:2206: ConvergenceWarning: MixedLM optimization failed, trying a different optimizer may help.\n",
      "  warnings.warn(msg, ConvergenceWarning)\n",
      "/home/berlands/anaconda3/envs/STATS507/lib/python3.9/site-packages/statsmodels/regression/mixed_linear_model.py:2218: ConvergenceWarning: Gradient optimization failed, |grad| = 6.507307\n",
      "  warnings.warn(msg, ConvergenceWarning)\n",
      "/home/berlands/anaconda3/envs/STATS507/lib/python3.9/site-packages/statsmodels/base/model.py:566: ConvergenceWarning: Maximum Likelihood optimization failed to converge. Check mle_retvals\n",
      "  warnings.warn(\"Maximum Likelihood optimization failed to \"\n",
      "/home/berlands/anaconda3/envs/STATS507/lib/python3.9/site-packages/statsmodels/regression/mixed_linear_model.py:2200: ConvergenceWarning: Retrying MixedLM optimization with lbfgs\n",
      "  warnings.warn(\n",
      "/home/berlands/anaconda3/envs/STATS507/lib/python3.9/site-packages/statsmodels/base/model.py:566: ConvergenceWarning: Maximum Likelihood optimization failed to converge. Check mle_retvals\n",
      "  warnings.warn(\"Maximum Likelihood optimization failed to \"\n",
      "/home/berlands/anaconda3/envs/STATS507/lib/python3.9/site-packages/statsmodels/regression/mixed_linear_model.py:2200: ConvergenceWarning: Retrying MixedLM optimization with cg\n",
      "  warnings.warn(\n",
      "/home/berlands/anaconda3/envs/STATS507/lib/python3.9/site-packages/statsmodels/base/model.py:566: ConvergenceWarning: Maximum Likelihood optimization failed to converge. Check mle_retvals\n",
      "  warnings.warn(\"Maximum Likelihood optimization failed to \"\n",
      "/home/berlands/anaconda3/envs/STATS507/lib/python3.9/site-packages/statsmodels/regression/mixed_linear_model.py:2206: ConvergenceWarning: MixedLM optimization failed, trying a different optimizer may help.\n",
      "  warnings.warn(msg, ConvergenceWarning)\n",
      "/home/berlands/anaconda3/envs/STATS507/lib/python3.9/site-packages/statsmodels/regression/mixed_linear_model.py:2218: ConvergenceWarning: Gradient optimization failed, |grad| = 2.063065\n",
      "  warnings.warn(msg, ConvergenceWarning)\n",
      "/home/berlands/anaconda3/envs/STATS507/lib/python3.9/site-packages/statsmodels/base/model.py:566: ConvergenceWarning: Maximum Likelihood optimization failed to converge. Check mle_retvals\n",
      "  warnings.warn(\"Maximum Likelihood optimization failed to \"\n",
      "/home/berlands/anaconda3/envs/STATS507/lib/python3.9/site-packages/statsmodels/regression/mixed_linear_model.py:2200: ConvergenceWarning: Retrying MixedLM optimization with lbfgs\n",
      "  warnings.warn(\n"
     ]
    },
    {
     "name": "stderr",
     "output_type": "stream",
     "text": [
      "/home/berlands/anaconda3/envs/STATS507/lib/python3.9/site-packages/statsmodels/base/model.py:566: ConvergenceWarning: Maximum Likelihood optimization failed to converge. Check mle_retvals\n",
      "  warnings.warn(\"Maximum Likelihood optimization failed to \"\n",
      "/home/berlands/anaconda3/envs/STATS507/lib/python3.9/site-packages/statsmodels/regression/mixed_linear_model.py:2200: ConvergenceWarning: Retrying MixedLM optimization with lbfgs\n",
      "  warnings.warn(\n",
      "/home/berlands/anaconda3/envs/STATS507/lib/python3.9/site-packages/statsmodels/base/model.py:566: ConvergenceWarning: Maximum Likelihood optimization failed to converge. Check mle_retvals\n",
      "  warnings.warn(\"Maximum Likelihood optimization failed to \"\n",
      "/home/berlands/anaconda3/envs/STATS507/lib/python3.9/site-packages/statsmodels/regression/mixed_linear_model.py:2200: ConvergenceWarning: Retrying MixedLM optimization with cg\n",
      "  warnings.warn(\n",
      "/home/berlands/anaconda3/envs/STATS507/lib/python3.9/site-packages/statsmodels/base/model.py:566: ConvergenceWarning: Maximum Likelihood optimization failed to converge. Check mle_retvals\n",
      "  warnings.warn(\"Maximum Likelihood optimization failed to \"\n",
      "/home/berlands/anaconda3/envs/STATS507/lib/python3.9/site-packages/statsmodels/regression/mixed_linear_model.py:2206: ConvergenceWarning: MixedLM optimization failed, trying a different optimizer may help.\n",
      "  warnings.warn(msg, ConvergenceWarning)\n",
      "/home/berlands/anaconda3/envs/STATS507/lib/python3.9/site-packages/statsmodels/regression/mixed_linear_model.py:2218: ConvergenceWarning: Gradient optimization failed, |grad| = 4.923237\n",
      "  warnings.warn(msg, ConvergenceWarning)\n",
      "/home/berlands/anaconda3/envs/STATS507/lib/python3.9/site-packages/statsmodels/base/model.py:566: ConvergenceWarning: Maximum Likelihood optimization failed to converge. Check mle_retvals\n",
      "  warnings.warn(\"Maximum Likelihood optimization failed to \"\n",
      "/home/berlands/anaconda3/envs/STATS507/lib/python3.9/site-packages/statsmodels/regression/mixed_linear_model.py:2200: ConvergenceWarning: Retrying MixedLM optimization with lbfgs\n",
      "  warnings.warn(\n",
      "/home/berlands/anaconda3/envs/STATS507/lib/python3.9/site-packages/statsmodels/base/model.py:566: ConvergenceWarning: Maximum Likelihood optimization failed to converge. Check mle_retvals\n",
      "  warnings.warn(\"Maximum Likelihood optimization failed to \"\n",
      "/home/berlands/anaconda3/envs/STATS507/lib/python3.9/site-packages/statsmodels/regression/mixed_linear_model.py:2200: ConvergenceWarning: Retrying MixedLM optimization with cg\n",
      "  warnings.warn(\n",
      "/home/berlands/anaconda3/envs/STATS507/lib/python3.9/site-packages/statsmodels/base/model.py:566: ConvergenceWarning: Maximum Likelihood optimization failed to converge. Check mle_retvals\n",
      "  warnings.warn(\"Maximum Likelihood optimization failed to \"\n",
      "/home/berlands/anaconda3/envs/STATS507/lib/python3.9/site-packages/statsmodels/regression/mixed_linear_model.py:2206: ConvergenceWarning: MixedLM optimization failed, trying a different optimizer may help.\n",
      "  warnings.warn(msg, ConvergenceWarning)\n",
      "/home/berlands/anaconda3/envs/STATS507/lib/python3.9/site-packages/statsmodels/regression/mixed_linear_model.py:2218: ConvergenceWarning: Gradient optimization failed, |grad| = 6.260225\n",
      "  warnings.warn(msg, ConvergenceWarning)\n",
      "/home/berlands/anaconda3/envs/STATS507/lib/python3.9/site-packages/statsmodels/base/model.py:566: ConvergenceWarning: Maximum Likelihood optimization failed to converge. Check mle_retvals\n",
      "  warnings.warn(\"Maximum Likelihood optimization failed to \"\n",
      "/home/berlands/anaconda3/envs/STATS507/lib/python3.9/site-packages/statsmodels/regression/mixed_linear_model.py:2200: ConvergenceWarning: Retrying MixedLM optimization with lbfgs\n",
      "  warnings.warn(\n",
      "/home/berlands/anaconda3/envs/STATS507/lib/python3.9/site-packages/statsmodels/base/model.py:566: ConvergenceWarning: Maximum Likelihood optimization failed to converge. Check mle_retvals\n",
      "  warnings.warn(\"Maximum Likelihood optimization failed to \"\n",
      "/home/berlands/anaconda3/envs/STATS507/lib/python3.9/site-packages/statsmodels/regression/mixed_linear_model.py:2200: ConvergenceWarning: Retrying MixedLM optimization with cg\n",
      "  warnings.warn(\n",
      "/home/berlands/anaconda3/envs/STATS507/lib/python3.9/site-packages/statsmodels/base/model.py:566: ConvergenceWarning: Maximum Likelihood optimization failed to converge. Check mle_retvals\n",
      "  warnings.warn(\"Maximum Likelihood optimization failed to \"\n",
      "/home/berlands/anaconda3/envs/STATS507/lib/python3.9/site-packages/statsmodels/regression/mixed_linear_model.py:2206: ConvergenceWarning: MixedLM optimization failed, trying a different optimizer may help.\n",
      "  warnings.warn(msg, ConvergenceWarning)\n",
      "/home/berlands/anaconda3/envs/STATS507/lib/python3.9/site-packages/statsmodels/regression/mixed_linear_model.py:2218: ConvergenceWarning: Gradient optimization failed, |grad| = 7.955741\n",
      "  warnings.warn(msg, ConvergenceWarning)\n"
     ]
    },
    {
     "name": "stdout",
     "output_type": "stream",
     "text": [
      "Didn't Work []\n"
     ]
    }
   ],
   "source": [
    "allFeatures = np.asarray(dat.drop([\"sitename\",\n",
    "                                   \"violenceScore\",\n",
    "                                   \"year\", \"sex\"],\n",
    "                                  axis=1).columns)\n",
    "\n",
    "maleModelsAIC = allParamComb(datMales, allFeatures)\n",
    "femaleModelsAIC = allParamComb(datFemales, allFeatures)"
   ]
  },
  {
   "cell_type": "code",
   "execution_count": 96,
   "id": "865536aa",
   "metadata": {},
   "outputs": [
    {
     "data": {
      "text/html": [
       "<div>\n",
       "<style scoped>\n",
       "    .dataframe tbody tr th:only-of-type {\n",
       "        vertical-align: middle;\n",
       "    }\n",
       "\n",
       "    .dataframe tbody tr th {\n",
       "        vertical-align: top;\n",
       "    }\n",
       "\n",
       "    .dataframe thead th {\n",
       "        text-align: right;\n",
       "    }\n",
       "</style>\n",
       "<table border=\"1\" class=\"dataframe\">\n",
       "  <thead>\n",
       "    <tr style=\"text-align: right;\">\n",
       "      <th></th>\n",
       "      <th>AIC</th>\n",
       "      <th>features</th>\n",
       "    </tr>\n",
       "  </thead>\n",
       "  <tbody>\n",
       "    <tr>\n",
       "      <th>4</th>\n",
       "      <td>851.952430</td>\n",
       "      <td>(AllAgesInPovertyPercent, UnderAge18inPovertyP...</td>\n",
       "    </tr>\n",
       "    <tr>\n",
       "      <th>11</th>\n",
       "      <td>851.982874</td>\n",
       "      <td>(AllAgesInPovertyPercent, UnderAge18inPovertyP...</td>\n",
       "    </tr>\n",
       "    <tr>\n",
       "      <th>30</th>\n",
       "      <td>852.085407</td>\n",
       "      <td>(AllAgesInPovertyPercent, UnemploymentRate, SNAP)</td>\n",
       "    </tr>\n",
       "    <tr>\n",
       "      <th>55</th>\n",
       "      <td>852.376483</td>\n",
       "      <td>(UnemploymentRate, SNAP)</td>\n",
       "    </tr>\n",
       "    <tr>\n",
       "      <th>41</th>\n",
       "      <td>852.855823</td>\n",
       "      <td>(UnemploymentRate, Population, SNAP)</td>\n",
       "    </tr>\n",
       "    <tr>\n",
       "      <th>...</th>\n",
       "      <td>...</td>\n",
       "      <td>...</td>\n",
       "    </tr>\n",
       "    <tr>\n",
       "      <th>58</th>\n",
       "      <td>954.538224</td>\n",
       "      <td>(UnderAge18inPovertyPercent,)</td>\n",
       "    </tr>\n",
       "    <tr>\n",
       "      <th>49</th>\n",
       "      <td>956.689661</td>\n",
       "      <td>(UnderAge18inPovertyPercent, Population)</td>\n",
       "    </tr>\n",
       "    <tr>\n",
       "      <th>57</th>\n",
       "      <td>956.768956</td>\n",
       "      <td>(AllAgesInPovertyPercent,)</td>\n",
       "    </tr>\n",
       "    <tr>\n",
       "      <th>61</th>\n",
       "      <td>958.028958</td>\n",
       "      <td>(Population,)</td>\n",
       "    </tr>\n",
       "    <tr>\n",
       "      <th>45</th>\n",
       "      <td>958.584356</td>\n",
       "      <td>(AllAgesInPovertyPercent, Population)</td>\n",
       "    </tr>\n",
       "  </tbody>\n",
       "</table>\n",
       "<p>63 rows × 2 columns</p>\n",
       "</div>"
      ],
      "text/plain": [
       "           AIC                                           features\n",
       "4   851.952430  (AllAgesInPovertyPercent, UnderAge18inPovertyP...\n",
       "11  851.982874  (AllAgesInPovertyPercent, UnderAge18inPovertyP...\n",
       "30  852.085407  (AllAgesInPovertyPercent, UnemploymentRate, SNAP)\n",
       "55  852.376483                           (UnemploymentRate, SNAP)\n",
       "41  852.855823               (UnemploymentRate, Population, SNAP)\n",
       "..         ...                                                ...\n",
       "58  954.538224                      (UnderAge18inPovertyPercent,)\n",
       "49  956.689661           (UnderAge18inPovertyPercent, Population)\n",
       "57  956.768956                         (AllAgesInPovertyPercent,)\n",
       "61  958.028958                                      (Population,)\n",
       "45  958.584356              (AllAgesInPovertyPercent, Population)\n",
       "\n",
       "[63 rows x 2 columns]"
      ]
     },
     "execution_count": 96,
     "metadata": {},
     "output_type": "execute_result"
    }
   ],
   "source": [
    "maleModelsAIC.sort_values(\"AIC\")"
   ]
  },
  {
   "cell_type": "code",
   "execution_count": 104,
   "id": "566212af",
   "metadata": {},
   "outputs": [
    {
     "data": {
      "text/html": [
       "<div>\n",
       "<style scoped>\n",
       "    .dataframe tbody tr th:only-of-type {\n",
       "        vertical-align: middle;\n",
       "    }\n",
       "\n",
       "    .dataframe tbody tr th {\n",
       "        vertical-align: top;\n",
       "    }\n",
       "\n",
       "    .dataframe thead th {\n",
       "        text-align: right;\n",
       "    }\n",
       "</style>\n",
       "<table border=\"1\" class=\"dataframe\">\n",
       "  <thead>\n",
       "    <tr style=\"text-align: right;\">\n",
       "      <th></th>\n",
       "      <th>AIC</th>\n",
       "      <th>features</th>\n",
       "    </tr>\n",
       "  </thead>\n",
       "  <tbody>\n",
       "    <tr>\n",
       "      <th>36</th>\n",
       "      <td>760.217388</td>\n",
       "      <td>(UnderAge18inPovertyPercent, UnemploymentRate,...</td>\n",
       "    </tr>\n",
       "    <tr>\n",
       "      <th>55</th>\n",
       "      <td>761.176652</td>\n",
       "      <td>(UnemploymentRate, SNAP)</td>\n",
       "    </tr>\n",
       "    <tr>\n",
       "      <th>30</th>\n",
       "      <td>761.298159</td>\n",
       "      <td>(AllAgesInPovertyPercent, UnemploymentRate, SNAP)</td>\n",
       "    </tr>\n",
       "    <tr>\n",
       "      <th>11</th>\n",
       "      <td>761.509663</td>\n",
       "      <td>(AllAgesInPovertyPercent, UnderAge18inPovertyP...</td>\n",
       "    </tr>\n",
       "    <tr>\n",
       "      <th>39</th>\n",
       "      <td>761.982929</td>\n",
       "      <td>(MedianHouseholdIncomeInDollars, UnemploymentR...</td>\n",
       "    </tr>\n",
       "    <tr>\n",
       "      <th>...</th>\n",
       "      <td>...</td>\n",
       "      <td>...</td>\n",
       "    </tr>\n",
       "    <tr>\n",
       "      <th>58</th>\n",
       "      <td>800.067935</td>\n",
       "      <td>(UnderAge18inPovertyPercent,)</td>\n",
       "    </tr>\n",
       "    <tr>\n",
       "      <th>49</th>\n",
       "      <td>800.177094</td>\n",
       "      <td>(UnderAge18inPovertyPercent, Population)</td>\n",
       "    </tr>\n",
       "    <tr>\n",
       "      <th>57</th>\n",
       "      <td>801.471199</td>\n",
       "      <td>(AllAgesInPovertyPercent,)</td>\n",
       "    </tr>\n",
       "    <tr>\n",
       "      <th>45</th>\n",
       "      <td>803.494639</td>\n",
       "      <td>(AllAgesInPovertyPercent, Population)</td>\n",
       "    </tr>\n",
       "    <tr>\n",
       "      <th>61</th>\n",
       "      <td>808.487904</td>\n",
       "      <td>(Population,)</td>\n",
       "    </tr>\n",
       "  </tbody>\n",
       "</table>\n",
       "<p>63 rows × 2 columns</p>\n",
       "</div>"
      ],
      "text/plain": [
       "           AIC                                           features\n",
       "36  760.217388  (UnderAge18inPovertyPercent, UnemploymentRate,...\n",
       "55  761.176652                           (UnemploymentRate, SNAP)\n",
       "30  761.298159  (AllAgesInPovertyPercent, UnemploymentRate, SNAP)\n",
       "11  761.509663  (AllAgesInPovertyPercent, UnderAge18inPovertyP...\n",
       "39  761.982929  (MedianHouseholdIncomeInDollars, UnemploymentR...\n",
       "..         ...                                                ...\n",
       "58  800.067935                      (UnderAge18inPovertyPercent,)\n",
       "49  800.177094           (UnderAge18inPovertyPercent, Population)\n",
       "57  801.471199                         (AllAgesInPovertyPercent,)\n",
       "45  803.494639              (AllAgesInPovertyPercent, Population)\n",
       "61  808.487904                                      (Population,)\n",
       "\n",
       "[63 rows x 2 columns]"
      ]
     },
     "execution_count": 104,
     "metadata": {},
     "output_type": "execute_result"
    }
   ],
   "source": [
    "femaleModelsAIC.sort_values(\"AIC\")"
   ]
  },
  {
   "cell_type": "code",
   "execution_count": 105,
   "id": "b4501ac8",
   "metadata": {},
   "outputs": [
    {
     "data": {
      "text/plain": [
       "array([('AllAgesInPovertyPercent', 'UnderAge18inPovertyPercent', 'UnemploymentRate', 'Population', 'SNAP'),\n",
       "       ('AllAgesInPovertyPercent', 'UnderAge18inPovertyPercent', 'UnemploymentRate', 'SNAP')],\n",
       "      dtype=object)"
      ]
     },
     "execution_count": 105,
     "metadata": {},
     "output_type": "execute_result"
    }
   ],
   "source": [
    "maleModelsAIC.sort_values(\"AIC\").features.iloc[:2,].values"
   ]
  },
  {
   "cell_type": "code",
   "execution_count": 106,
   "id": "46d88da4",
   "metadata": {},
   "outputs": [
    {
     "data": {
      "text/plain": [
       "array([('UnderAge18inPovertyPercent', 'UnemploymentRate', 'SNAP'),\n",
       "       ('UnemploymentRate', 'SNAP')], dtype=object)"
      ]
     },
     "execution_count": 106,
     "metadata": {},
     "output_type": "execute_result"
    }
   ],
   "source": [
    "femaleModelsAIC.sort_values(\"AIC\").features.iloc[:2,].values"
   ]
  },
  {
   "cell_type": "code",
   "execution_count": 6,
   "id": "8fa6ed6e",
   "metadata": {
    "scrolled": true
   },
   "outputs": [
    {
     "name": "stdout",
     "output_type": "stream",
     "text": [
      "1590.9309200620357\n",
      "              Mixed Linear Model Regression Results\n",
      "=================================================================\n",
      "Model:              MixedLM   Dependent Variable:   violenceScore\n",
      "No. Observations:   244       Method:               ML           \n",
      "No. Groups:         14        Scale:                33.3495      \n",
      "Min. group size:    16        Log-Likelihood:       -788.4655    \n",
      "Max. group size:    18        Converged:            Yes          \n",
      "Mean group size:    17.4                                         \n",
      "-----------------------------------------------------------------\n",
      "                  Coef.   Std.Err.   z    P>|z|  [0.025   0.975] \n",
      "-----------------------------------------------------------------\n",
      "Intercept        1240.826  209.254  5.930 0.000  830.696 1650.956\n",
      "UnemploymentRate    0.506    0.154  3.278 0.001    0.204    0.809\n",
      "sex              2197.946  291.250  7.547 0.000 1627.107 2768.785\n",
      "year               -0.606    0.104 -5.825 0.000   -0.809   -0.402\n",
      "sex:year           -1.080    0.145 -7.457 0.000   -1.364   -0.796\n",
      "Group Var          13.041    1.023                               \n",
      "=================================================================\n",
      "\n"
     ]
    }
   ],
   "source": [
    "md = smf.mixedlm(\"violenceScore ~ UnemploymentRate + sex*year\", dat, groups=dat[\"sitename\"])\n",
    "mdf = md.fit(reml=False)\n",
    "print(mdf.aic)\n",
    "print(mdf.summary())"
   ]
  },
  {
   "cell_type": "code",
   "execution_count": 7,
   "id": "29582519",
   "metadata": {},
   "outputs": [
    {
     "name": "stdout",
     "output_type": "stream",
     "text": [
      "1596.6449394236654\n",
      "               Mixed Linear Model Regression Results\n",
      "====================================================================\n",
      "Model:               MixedLM    Dependent Variable:    violenceScore\n",
      "No. Observations:    244        Method:                ML           \n",
      "No. Groups:          14         Scale:                 33.2886      \n",
      "Min. group size:     16         Log-Likelihood:        -788.3225    \n",
      "Max. group size:     18         Converged:             Yes          \n",
      "Mean group size:     17.4                                           \n",
      "--------------------------------------------------------------------\n",
      "                      Coef.   Std.Err.   z    P>|z|  [0.025  0.975] \n",
      "--------------------------------------------------------------------\n",
      "Intercept            1450.916  580.222  2.501 0.012 313.702 2588.131\n",
      "sex                  1854.080  713.562  2.598 0.009 455.524 3252.637\n",
      "UnemploymentRate        0.406    0.330  1.230 0.219  -0.241    1.054\n",
      "sex:UnemploymentRate    0.162    0.399  0.406 0.685  -0.620    0.944\n",
      "SNAP                    0.026    0.066  0.388 0.698  -0.104    0.156\n",
      "sex:SNAP               -0.042    0.080 -0.525 0.599  -0.199    0.115\n",
      "year                   -0.711    0.292 -2.440 0.015  -1.283   -0.140\n",
      "sex:year               -0.907    0.359 -2.529 0.011  -1.610   -0.204\n",
      "Group Var              13.189    1.076                              \n",
      "====================================================================\n",
      "\n"
     ]
    }
   ],
   "source": [
    "md = smf.mixedlm(\"violenceScore ~ sex*UnemploymentRate + sex*SNAP + sex*year\", dat, groups=dat[\"sitename\"])\n",
    "mdf = md.fit(reml=False)\n",
    "print(mdf.aic)\n",
    "print(mdf.summary())"
   ]
  },
  {
   "cell_type": "code",
   "execution_count": 9,
   "id": "481337e8",
   "metadata": {},
   "outputs": [
    {
     "name": "stdout",
     "output_type": "stream",
     "text": [
      "1617.9116461546412\n",
      "                  Mixed Linear Model Regression Results\n",
      "=========================================================================\n",
      "Model:                  MixedLM     Dependent Variable:     violenceScore\n",
      "No. Observations:       244         Method:                 ML           \n",
      "No. Groups:             14          Scale:                  37.0685      \n",
      "Min. group size:        16          Log-Likelihood:         -799.9558    \n",
      "Max. group size:        18          Converged:              Yes          \n",
      "Mean group size:        17.4                                             \n",
      "-------------------------------------------------------------------------\n",
      "                               Coef.  Std.Err.   z    P>|z| [0.025 0.975]\n",
      "-------------------------------------------------------------------------\n",
      "Intercept                      36.140    3.327 10.862 0.000 29.619 42.661\n",
      "sex                            54.400    4.851 11.214 0.000 44.891 63.908\n",
      "UnemploymentRate                1.014    0.226  4.497 0.000  0.572  1.456\n",
      "sex:UnemploymentRate            1.271    0.337  3.771 0.000  0.610  1.931\n",
      "SNAP                           -0.130    0.025 -5.185 0.000 -0.180 -0.081\n",
      "sex:SNAP                       -0.233    0.035 -6.658 0.000 -0.302 -0.165\n",
      "sex:UnderAge18inPovertyPercent -0.284    0.109 -2.610 0.009 -0.497 -0.071\n",
      "Group Var                      11.466    0.934                           \n",
      "=========================================================================\n",
      "\n"
     ]
    }
   ],
   "source": [
    "md = smf.mixedlm(\"violenceScore ~ sex*UnemploymentRate + sex*SNAP + sex:UnderAge18inPovertyPercent\", dat, groups=dat[\"sitename\"])\n",
    "mdf = md.fit(reml=False)\n",
    "print(mdf.aic)\n",
    "print(mdf.summary())"
   ]
  },
  {
   "cell_type": "code",
   "execution_count": 8,
   "id": "b3792771",
   "metadata": {},
   "outputs": [
    {
     "name": "stdout",
     "output_type": "stream",
     "text": [
      "1619.7110180969696\n",
      "                  Mixed Linear Model Regression Results\n",
      "=========================================================================\n",
      "Model:                  MixedLM     Dependent Variable:     violenceScore\n",
      "No. Observations:       244         Method:                 ML           \n",
      "No. Groups:             14          Scale:                  37.3713      \n",
      "Min. group size:        16          Log-Likelihood:         -799.8555    \n",
      "Max. group size:        18          Converged:              Yes          \n",
      "Mean group size:        17.4                                             \n",
      "-------------------------------------------------------------------------\n",
      "                               Coef.  Std.Err.   z    P>|z| [0.025 0.975]\n",
      "-------------------------------------------------------------------------\n",
      "Intercept                      34.786    4.420  7.870 0.000 26.123 43.449\n",
      "sex                            54.714    4.917 11.126 0.000 45.075 64.352\n",
      "UnemploymentRate                0.963    0.253  3.808 0.000  0.467  1.459\n",
      "sex:UnemploymentRate            1.296    0.343  3.781 0.000  0.624  1.968\n",
      "SNAP                           -0.130    0.025 -5.162 0.000 -0.180 -0.081\n",
      "sex:SNAP                       -0.234    0.035 -6.641 0.000 -0.303 -0.165\n",
      "UnderAge18inPovertyPercent      0.072    0.155  0.462 0.644 -0.232  0.375\n",
      "sex:UnderAge18inPovertyPercent -0.302    0.116 -2.605 0.009 -0.529 -0.075\n",
      "Group Var                       9.578    1.013                           \n",
      "=========================================================================\n",
      "\n"
     ]
    }
   ],
   "source": [
    "md = smf.mixedlm(\"violenceScore ~ sex*UnemploymentRate + sex*SNAP + sex*UnderAge18inPovertyPercent\", dat, groups=dat[\"sitename\"])\n",
    "mdf = md.fit(reml=False)\n",
    "print(mdf.aic)\n",
    "print(mdf.summary())"
   ]
  },
  {
   "cell_type": "code",
   "execution_count": 10,
   "id": "5d858096",
   "metadata": {},
   "outputs": [
    {
     "name": "stdout",
     "output_type": "stream",
     "text": [
      "1622.658252423583\n",
      "             Mixed Linear Model Regression Results\n",
      "===============================================================\n",
      "Model:              MixedLM  Dependent Variable:  violenceScore\n",
      "No. Observations:   244      Method:              ML           \n",
      "No. Groups:         14       Scale:               38.9244      \n",
      "Min. group size:    16       Log-Likelihood:      -803.3291    \n",
      "Max. group size:    18       Converged:           Yes          \n",
      "Mean group size:    17.4                                       \n",
      "---------------------------------------------------------------\n",
      "                     Coef.  Std.Err.   z    P>|z| [0.025 0.975]\n",
      "---------------------------------------------------------------\n",
      "Intercept            35.895    3.358 10.689 0.000 29.313 42.476\n",
      "sex                  49.469    4.579 10.804 0.000 40.495 58.442\n",
      "UnemploymentRate      1.126    0.226  4.989 0.000  0.684  1.568\n",
      "sex:UnemploymentRate  0.870    0.307  2.830 0.005  0.268  1.473\n",
      "SNAP                 -0.134    0.026 -5.207 0.000 -0.184 -0.083\n",
      "sex:SNAP             -0.227    0.036 -6.331 0.000 -0.297 -0.157\n",
      "Group Var             7.628    0.624                           \n",
      "===============================================================\n",
      "\n"
     ]
    }
   ],
   "source": [
    "md = smf.mixedlm(\"violenceScore ~ sex*UnemploymentRate + sex*SNAP\", dat, groups=dat[\"sitename\"])\n",
    "mdf = md.fit(reml=False)\n",
    "print(mdf.aic)\n",
    "print(mdf.summary())"
   ]
  },
  {
   "cell_type": "markdown",
   "id": "0a39a506",
   "metadata": {},
   "source": [
    "# Model Evaluation\n",
    "## Cross Validation\n",
    "[Back to Top](#Table-of-Contents)\n",
    "\n",
    "To do the cross validation we will leave out n counties in each run, then see how the model performs on these. We will do this with every n-pair of counties. We will use this to find what model predicts the best, and if the split on sex makes for a better prediction.\n",
    "\n",
    "Note:\n",
    "\n",
    "\"Male\" : 1  \n",
    "\"Female\" : 0"
   ]
  },
  {
   "cell_type": "code",
   "execution_count": 9,
   "id": "765372d7",
   "metadata": {},
   "outputs": [],
   "source": [
    "def CrossValMSE(modelEqu, modelGroup, nLeftOut, dat, mseSplitOn=None):\n",
    "    leftOutCols = combinations(dat[modelGroup].unique(),\n",
    "                               nLeftOut)\n",
    "    mses = []\n",
    "    if mseSplitOn is not None:\n",
    "        msesSplit = {}\n",
    "        for group in dat[mseSplitOn].unique():\n",
    "            msesSplit[group] = []\n",
    "            \n",
    "    for lo in leftOutCols:\n",
    "        md = smf.mixedlm(modelEqu, \n",
    "                         dat[~dat[modelGroup].isin(lo)],\n",
    "                         groups=dat[~dat[modelGroup].isin(lo)][modelGroup])\n",
    "        mdf = md.fit(reml=False)\n",
    "        pred = mdf.predict(dat[dat[modelGroup].isin(lo)])\n",
    "        mses.append(np.square(dat[dat[modelGroup].isin(lo)][\"violenceScore\"] \n",
    "                              - pred)\n",
    "                    .sum())\n",
    "        if mseSplitOn is not None:\n",
    "            for group in dat[mseSplitOn].unique():\n",
    "                pred = mdf.predict(dat[(dat[modelGroup].isin(lo))\n",
    "                                       & (dat[mseSplitOn] == group)])\n",
    "                msesSplit[group].append(np.square(dat[(dat[modelGroup].isin(lo)) \n",
    "                                                & (dat[mseSplitOn] == group)][\"violenceScore\"] \n",
    "                                  - pred)\n",
    "                         .sum())\n",
    "    if mseSplitOn is not None:\n",
    "        return np.mean(mses), pd.DataFrame(msesSplit).mean()\n",
    "    return np.mean(mses)"
   ]
  },
  {
   "cell_type": "code",
   "execution_count": 10,
   "id": "20e60015",
   "metadata": {},
   "outputs": [],
   "source": [
    "import warnings\n",
    "from statsmodels.tools.sm_exceptions import ConvergenceWarning\n",
    "warnings.simplefilter('ignore', ConvergenceWarning)"
   ]
  },
  {
   "cell_type": "code",
   "execution_count": 11,
   "id": "ce9c7114",
   "metadata": {},
   "outputs": [
    {
     "data": {
      "text/plain": [
       "(1753.6945901437982,\n",
       " 0     610.663254\n",
       " 1    1143.031336\n",
       " dtype: float64)"
      ]
     },
     "execution_count": 11,
     "metadata": {},
     "output_type": "execute_result"
    }
   ],
   "source": [
    "# run with new data\n",
    "CrossValMSE(\"violenceScore ~ sex*UnemploymentRate + sex*SNAP\", \"sitename\",\n",
    "            2, dat, mseSplitOn=\"sex\")"
   ]
  },
  {
   "cell_type": "code",
   "execution_count": 67,
   "id": "b5bbc666",
   "metadata": {
    "scrolled": true
   },
   "outputs": [
    {
     "data": {
      "text/plain": [
       "(1763.1716347685156,\n",
       " 0     613.458954\n",
       " 1    1149.712681\n",
       " dtype: float64)"
      ]
     },
     "execution_count": 67,
     "metadata": {},
     "output_type": "execute_result"
    }
   ],
   "source": [
    "CrossValMSE(\"violenceScore ~ sex*UnemploymentRate + sex*SNAP\", \"sitename\",\n",
    "            2, dat, mseSplitOn=\"sex\")"
   ]
  },
  {
   "cell_type": "code",
   "execution_count": 12,
   "id": "b7418003",
   "metadata": {},
   "outputs": [
    {
     "data": {
      "text/plain": [
       "(1899.3880595252076,\n",
       " 0     633.760664\n",
       " 1    1265.627396\n",
       " dtype: float64)"
      ]
     },
     "execution_count": 12,
     "metadata": {},
     "output_type": "execute_result"
    }
   ],
   "source": [
    "# run with new data\n",
    "CrossValMSE(\"violenceScore ~ sex*UnemploymentRate + sex*SNAP + sex*UnderAge18inPovertyPercent\",\n",
    "            \"sitename\", 2, dat, mseSplitOn=\"sex\")"
   ]
  },
  {
   "cell_type": "code",
   "execution_count": 68,
   "id": "bb297ecb",
   "metadata": {},
   "outputs": [
    {
     "data": {
      "text/plain": [
       "(1905.9720669190135,\n",
       " 0     633.964273\n",
       " 1    1272.007794\n",
       " dtype: float64)"
      ]
     },
     "execution_count": 68,
     "metadata": {},
     "output_type": "execute_result"
    }
   ],
   "source": [
    "CrossValMSE(\"violenceScore ~ sex*UnemploymentRate + sex*SNAP + sex*UnderAge18inPovertyPercent\",\n",
    "            \"sitename\", 2, dat, mseSplitOn=\"sex\")"
   ]
  },
  {
   "cell_type": "code",
   "execution_count": 13,
   "id": "5eeafbcf",
   "metadata": {},
   "outputs": [
    {
     "data": {
      "text/plain": [
       "(1877.6137300216885,\n",
       " 0     616.783297\n",
       " 1    1260.830433\n",
       " dtype: float64)"
      ]
     },
     "execution_count": 13,
     "metadata": {},
     "output_type": "execute_result"
    }
   ],
   "source": [
    "# run with new data\n",
    "CrossValMSE(\"violenceScore ~ sex*UnemploymentRate + sex*SNAP + sex:UnderAge18inPovertyPercent\",\n",
    "            \"sitename\", 2, dat, mseSplitOn=\"sex\")"
   ]
  },
  {
   "cell_type": "code",
   "execution_count": 69,
   "id": "89ae815e",
   "metadata": {},
   "outputs": [
    {
     "data": {
      "text/plain": [
       "(1888.1006708149769,\n",
       " 0     619.724057\n",
       " 1    1268.376614\n",
       " dtype: float64)"
      ]
     },
     "execution_count": 69,
     "metadata": {},
     "output_type": "execute_result"
    }
   ],
   "source": [
    "CrossValMSE(\"violenceScore ~ sex*UnemploymentRate + sex*SNAP + sex:UnderAge18inPovertyPercent\",\n",
    "            \"sitename\", 2, dat, mseSplitOn=\"sex\")"
   ]
  },
  {
   "cell_type": "code",
   "execution_count": 14,
   "id": "1d8ac8b8",
   "metadata": {},
   "outputs": [
    {
     "data": {
      "text/plain": [
       "(1779.8250953544891,\n",
       " 0     667.458458\n",
       " 1    1112.366637\n",
       " dtype: float64)"
      ]
     },
     "execution_count": 14,
     "metadata": {},
     "output_type": "execute_result"
    }
   ],
   "source": [
    "# run with new data\n",
    "CrossValMSE(\"violenceScore ~ sex*UnemploymentRate + sex*SNAP + sex*year\", \"sitename\",\n",
    "            2, dat, mseSplitOn=\"sex\")"
   ]
  },
  {
   "cell_type": "code",
   "execution_count": 70,
   "id": "8545cf82",
   "metadata": {},
   "outputs": [
    {
     "data": {
      "text/plain": [
       "(1793.5042402507318,\n",
       " 0     671.458066\n",
       " 1    1122.046174\n",
       " dtype: float64)"
      ]
     },
     "execution_count": 70,
     "metadata": {},
     "output_type": "execute_result"
    }
   ],
   "source": [
    "CrossValMSE(\"violenceScore ~ sex*UnemploymentRate + sex*SNAP + sex*year\", \"sitename\",\n",
    "            2, dat, mseSplitOn=\"sex\")"
   ]
  },
  {
   "cell_type": "code",
   "execution_count": 15,
   "id": "dee507b0",
   "metadata": {},
   "outputs": [
    {
     "data": {
      "text/plain": [
       "(1742.7764680175978,\n",
       " 0     640.973026\n",
       " 1    1101.803442\n",
       " dtype: float64)"
      ]
     },
     "execution_count": 15,
     "metadata": {},
     "output_type": "execute_result"
    }
   ],
   "source": [
    "# run with new data\n",
    "CrossValMSE(\"violenceScore ~ UnemploymentRate + sex*year\", \"sitename\",\n",
    "            2, dat, mseSplitOn=\"sex\")"
   ]
  },
  {
   "cell_type": "code",
   "execution_count": 71,
   "id": "476ff215",
   "metadata": {},
   "outputs": [
    {
     "data": {
      "text/plain": [
       "(1756.437523886009,\n",
       " 0     643.193382\n",
       " 1    1113.244142\n",
       " dtype: float64)"
      ]
     },
     "execution_count": 71,
     "metadata": {},
     "output_type": "execute_result"
    }
   ],
   "source": [
    "CrossValMSE(\"violenceScore ~ UnemploymentRate + sex*year\", \"sitename\",\n",
    "            2, dat, mseSplitOn=\"sex\")"
   ]
  },
  {
   "cell_type": "code",
   "execution_count": 30,
   "id": "36ef0df0",
   "metadata": {},
   "outputs": [
    {
     "data": {
      "text/plain": [
       "667.4821611912405"
      ]
     },
     "execution_count": 30,
     "metadata": {},
     "output_type": "execute_result"
    }
   ],
   "source": [
    "CrossValMSE(\"violenceScore ~ UnemploymentRate + SNAP\", \"sitename\", 2, knnDat)"
   ]
  },
  {
   "cell_type": "code",
   "execution_count": 31,
   "id": "643e8640",
   "metadata": {},
   "outputs": [
    {
     "data": {
      "text/plain": [
       "683.9819454578279"
      ]
     },
     "execution_count": 31,
     "metadata": {},
     "output_type": "execute_result"
    }
   ],
   "source": [
    "CrossValMSE(\"violenceScore ~ UnemploymentRate + year\", \"sitename\", 2, knnDat)"
   ]
  },
  {
   "cell_type": "markdown",
   "id": "8749db16",
   "metadata": {},
   "source": [
    "# BootStrapping\n",
    "## Setup\n",
    "[Back to Top](#Table-of-Contents)"
   ]
  },
  {
   "cell_type": "code",
   "execution_count": 15,
   "id": "a9121947",
   "metadata": {},
   "outputs": [],
   "source": [
    "dropCols = [\"Ages 5 to 17 in Families SAIPE Poverty Universe\",\n",
    "            \"Ages 5 to 17 in Families in Poverty Count\",\n",
    "            \"Ages 5 to 17 in Families in Poverty Percent\",\n",
    "            \"All Ages in Poverty Count\",\n",
    "            \"All Ages SAIPE Poverty Universe\",\n",
    "            \"Under Age 18 SAIPE Poverty Universe\",\n",
    "            \"Under Age 18 in Poverty Count\"]\n",
    "features = features.drop(dropCols, axis=1)\n",
    "features.columns = ['year', 'sitename',\n",
    "                    'AllAgesInPovertyPercent', 'UnderAge18inPovertyPercent',\n",
    "                    'MedianHouseholdIncomeInDollars', 'UnemploymentRate', 'Population',\n",
    "                    'SNAP']"
   ]
  },
  {
   "cell_type": "code",
   "execution_count": 23,
   "id": "c72c013f",
   "metadata": {},
   "outputs": [],
   "source": [
    "def violenceScore(dat):\n",
    "    n = dat.shape[0]\n",
    "    dat = dat.loc[:, ~dat.isna().any()]\n",
    "    score = 0\n",
    "    satScore = 0\n",
    "    for col in dat.columns:\n",
    "        if col == \"q12\":\n",
    "            w = 1\n",
    "            dat[col].replace({5 : 6})\n",
    "            score += (dat[col] - 1).sum()\n",
    "            satScore += n * w * 5\n",
    "        elif col == \"q13\":\n",
    "            w = 2\n",
    "            dat[col].replace({5 : 6})\n",
    "            score += w * (dat[col] - 1).sum()\n",
    "            satScore += n * w * 5\n",
    "        elif col == \"q15\":\n",
    "            w = .5\n",
    "            dat[col].replace({5 : 6})\n",
    "            score += w * (dat[col] - 1).sum()\n",
    "            satScore += n * w * 5\n",
    "        elif col == \"q16\":\n",
    "            w = 5\n",
    "            dat[col].replace({8 : 9})\n",
    "            score += w * (dat[col] - 1).sum()\n",
    "            satScore += n * w * 8\n",
    "        elif col == \"q17\":\n",
    "            w = 3\n",
    "            dat[col].replace({8 : 9})\n",
    "            score += w * (dat[col] - 1).sum()\n",
    "            satScore += n * w * 8\n",
    "        elif col == \"q18\":\n",
    "            w = 4\n",
    "            dat[col].replace({8 : 9})\n",
    "            score += w * (dat[col] - 1).sum()\n",
    "            satScore += n * w * 8\n",
    "        \n",
    "    return 1000 * (score / satScore)\n",
    "\n",
    "def randomSampleStatistic(dat, size, statFunc):\n",
    "    randomIdx = choices(range(dat.shape[0]),\n",
    "                        k=size)\n",
    "    stat = statFunc(dat.iloc[randomIdx, :])\n",
    "    return stat\n",
    "\n",
    "def bootstrap(dat, params, numSamples, statFunc, equ):\n",
    "    \n",
    "    for i in range(numSamples):\n",
    "        print(\"Starting \", i, \"sample\")\n",
    "        \n",
    "        bsSample = (dat.groupby([\"year\", \"sitename\", \"sex\"])\n",
    "                       .apply(lambda x : \n",
    "                                 randomSampleStatistic(x.drop([\"year\", \"sitename\", \"sex\"],\n",
    "                                                              axis=1),\n",
    "                                                       20,\n",
    "                                                       violenceScore))\n",
    "                        .reset_index())\n",
    "        \n",
    "        modDat = (bsSample.merge(params,\n",
    "                                 how=\"inner\",\n",
    "                                 on=[\"year\", \"sitename\"])\n",
    "                          .rename(columns={0 : \"violenceScore\"}))\n",
    "        md = smf.mixedlm(equ, modDat, groups=modDat[\"sitename\"])\n",
    "        mdf = md.fit(reml=False)\n",
    "        \n",
    "        if i == 0:\n",
    "            sampleStats = pd.DataFrame(bsSample.groupby([\"year\", \"sex\"])\n",
    "                                               .apply(lambda x : statFunc(x[0])),\n",
    "                                       columns=[0])\n",
    "            predictedValsStat = pd.DataFrame(modDat.groupby([\"year\", \"sex\"])\n",
    "                                               .apply(lambda x : statFunc(mdf.predict(x))),\n",
    "                                             columns=[0])\n",
    "            paramsVals = pd.concat([mdf.params], axis=1)\n",
    "        else:\n",
    "            sampleStats[i] = (bsSample.groupby([\"year\", \"sex\"])\n",
    "                                      .apply(lambda x : statFunc(x[0])))\n",
    "            predictedValsStat[i] = (modDat.groupby([\"year\", \"sex\"])\n",
    "                                          .apply(lambda x : statFunc(mdf.predict(x))))\n",
    "            paramsVals = pd.concat([paramsVals, mdf.params], axis=1)\n",
    "            \n",
    "    return paramsVals, sampleStats, predictedValsStat"
   ]
  },
  {
   "cell_type": "markdown",
   "id": "e45f9f95",
   "metadata": {},
   "source": [
    "## Running\n",
    "[Back to Top](#Table-of-Contents)"
   ]
  },
  {
   "cell_type": "code",
   "execution_count": 24,
   "id": "0a5e5a8e",
   "metadata": {
    "scrolled": true
   },
   "outputs": [
    {
     "name": "stdout",
     "output_type": "stream",
     "text": [
      "Starting  0 sample\n",
      "Starting  1 sample\n"
     ]
    },
    {
     "name": "stderr",
     "output_type": "stream",
     "text": [
      "/home/berlands/anaconda3/envs/STATS507/lib/python3.9/site-packages/statsmodels/base/model.py:566: ConvergenceWarning: Maximum Likelihood optimization failed to converge. Check mle_retvals\n",
      "  warnings.warn(\"Maximum Likelihood optimization failed to \"\n",
      "/home/berlands/anaconda3/envs/STATS507/lib/python3.9/site-packages/statsmodels/regression/mixed_linear_model.py:2200: ConvergenceWarning: Retrying MixedLM optimization with lbfgs\n",
      "  warnings.warn(\n"
     ]
    },
    {
     "name": "stdout",
     "output_type": "stream",
     "text": [
      "Starting  2 sample\n",
      "Starting  3 sample\n",
      "Starting  4 sample\n"
     ]
    },
    {
     "name": "stderr",
     "output_type": "stream",
     "text": [
      "/home/berlands/anaconda3/envs/STATS507/lib/python3.9/site-packages/statsmodels/base/model.py:566: ConvergenceWarning: Maximum Likelihood optimization failed to converge. Check mle_retvals\n",
      "  warnings.warn(\"Maximum Likelihood optimization failed to \"\n",
      "/home/berlands/anaconda3/envs/STATS507/lib/python3.9/site-packages/statsmodels/regression/mixed_linear_model.py:2200: ConvergenceWarning: Retrying MixedLM optimization with lbfgs\n",
      "  warnings.warn(\n",
      "/home/berlands/anaconda3/envs/STATS507/lib/python3.9/site-packages/statsmodels/base/model.py:566: ConvergenceWarning: Maximum Likelihood optimization failed to converge. Check mle_retvals\n",
      "  warnings.warn(\"Maximum Likelihood optimization failed to \"\n",
      "/home/berlands/anaconda3/envs/STATS507/lib/python3.9/site-packages/statsmodels/regression/mixed_linear_model.py:2200: ConvergenceWarning: Retrying MixedLM optimization with cg\n",
      "  warnings.warn(\n",
      "/home/berlands/anaconda3/envs/STATS507/lib/python3.9/site-packages/statsmodels/base/model.py:566: ConvergenceWarning: Maximum Likelihood optimization failed to converge. Check mle_retvals\n",
      "  warnings.warn(\"Maximum Likelihood optimization failed to \"\n",
      "/home/berlands/anaconda3/envs/STATS507/lib/python3.9/site-packages/statsmodels/regression/mixed_linear_model.py:2206: ConvergenceWarning: MixedLM optimization failed, trying a different optimizer may help.\n",
      "  warnings.warn(msg, ConvergenceWarning)\n",
      "/home/berlands/anaconda3/envs/STATS507/lib/python3.9/site-packages/statsmodels/regression/mixed_linear_model.py:2218: ConvergenceWarning: Gradient optimization failed, |grad| = 3.019695\n",
      "  warnings.warn(msg, ConvergenceWarning)\n"
     ]
    },
    {
     "name": "stdout",
     "output_type": "stream",
     "text": [
      "Starting  5 sample\n",
      "Starting  6 sample\n",
      "Starting  7 sample\n"
     ]
    },
    {
     "name": "stderr",
     "output_type": "stream",
     "text": [
      "/home/berlands/anaconda3/envs/STATS507/lib/python3.9/site-packages/statsmodels/base/model.py:566: ConvergenceWarning: Maximum Likelihood optimization failed to converge. Check mle_retvals\n",
      "  warnings.warn(\"Maximum Likelihood optimization failed to \"\n",
      "/home/berlands/anaconda3/envs/STATS507/lib/python3.9/site-packages/statsmodels/regression/mixed_linear_model.py:2200: ConvergenceWarning: Retrying MixedLM optimization with lbfgs\n",
      "  warnings.warn(\n",
      "/home/berlands/anaconda3/envs/STATS507/lib/python3.9/site-packages/statsmodels/base/model.py:566: ConvergenceWarning: Maximum Likelihood optimization failed to converge. Check mle_retvals\n",
      "  warnings.warn(\"Maximum Likelihood optimization failed to \"\n",
      "/home/berlands/anaconda3/envs/STATS507/lib/python3.9/site-packages/statsmodels/regression/mixed_linear_model.py:2200: ConvergenceWarning: Retrying MixedLM optimization with cg\n",
      "  warnings.warn(\n",
      "/home/berlands/anaconda3/envs/STATS507/lib/python3.9/site-packages/statsmodels/base/model.py:566: ConvergenceWarning: Maximum Likelihood optimization failed to converge. Check mle_retvals\n",
      "  warnings.warn(\"Maximum Likelihood optimization failed to \"\n",
      "/home/berlands/anaconda3/envs/STATS507/lib/python3.9/site-packages/statsmodels/regression/mixed_linear_model.py:2206: ConvergenceWarning: MixedLM optimization failed, trying a different optimizer may help.\n",
      "  warnings.warn(msg, ConvergenceWarning)\n",
      "/home/berlands/anaconda3/envs/STATS507/lib/python3.9/site-packages/statsmodels/regression/mixed_linear_model.py:2218: ConvergenceWarning: Gradient optimization failed, |grad| = 5.542754\n",
      "  warnings.warn(msg, ConvergenceWarning)\n"
     ]
    },
    {
     "name": "stdout",
     "output_type": "stream",
     "text": [
      "Starting  8 sample\n"
     ]
    },
    {
     "name": "stderr",
     "output_type": "stream",
     "text": [
      "/home/berlands/anaconda3/envs/STATS507/lib/python3.9/site-packages/statsmodels/base/model.py:566: ConvergenceWarning: Maximum Likelihood optimization failed to converge. Check mle_retvals\n",
      "  warnings.warn(\"Maximum Likelihood optimization failed to \"\n",
      "/home/berlands/anaconda3/envs/STATS507/lib/python3.9/site-packages/statsmodels/regression/mixed_linear_model.py:2200: ConvergenceWarning: Retrying MixedLM optimization with lbfgs\n",
      "  warnings.warn(\n"
     ]
    },
    {
     "name": "stdout",
     "output_type": "stream",
     "text": [
      "Starting  9 sample\n",
      "Starting  10 sample\n"
     ]
    },
    {
     "name": "stderr",
     "output_type": "stream",
     "text": [
      "/home/berlands/anaconda3/envs/STATS507/lib/python3.9/site-packages/statsmodels/base/model.py:566: ConvergenceWarning: Maximum Likelihood optimization failed to converge. Check mle_retvals\n",
      "  warnings.warn(\"Maximum Likelihood optimization failed to \"\n",
      "/home/berlands/anaconda3/envs/STATS507/lib/python3.9/site-packages/statsmodels/regression/mixed_linear_model.py:2200: ConvergenceWarning: Retrying MixedLM optimization with lbfgs\n",
      "  warnings.warn(\n"
     ]
    },
    {
     "name": "stdout",
     "output_type": "stream",
     "text": [
      "Starting  11 sample\n"
     ]
    },
    {
     "name": "stderr",
     "output_type": "stream",
     "text": [
      "/home/berlands/anaconda3/envs/STATS507/lib/python3.9/site-packages/statsmodels/base/model.py:566: ConvergenceWarning: Maximum Likelihood optimization failed to converge. Check mle_retvals\n",
      "  warnings.warn(\"Maximum Likelihood optimization failed to \"\n",
      "/home/berlands/anaconda3/envs/STATS507/lib/python3.9/site-packages/statsmodels/regression/mixed_linear_model.py:2200: ConvergenceWarning: Retrying MixedLM optimization with lbfgs\n",
      "  warnings.warn(\n"
     ]
    },
    {
     "name": "stdout",
     "output_type": "stream",
     "text": [
      "Starting  12 sample\n"
     ]
    },
    {
     "name": "stderr",
     "output_type": "stream",
     "text": [
      "/home/berlands/anaconda3/envs/STATS507/lib/python3.9/site-packages/statsmodels/base/model.py:566: ConvergenceWarning: Maximum Likelihood optimization failed to converge. Check mle_retvals\n",
      "  warnings.warn(\"Maximum Likelihood optimization failed to \"\n",
      "/home/berlands/anaconda3/envs/STATS507/lib/python3.9/site-packages/statsmodels/regression/mixed_linear_model.py:2200: ConvergenceWarning: Retrying MixedLM optimization with lbfgs\n",
      "  warnings.warn(\n"
     ]
    },
    {
     "name": "stdout",
     "output_type": "stream",
     "text": [
      "Starting  13 sample\n",
      "Starting  14 sample\n"
     ]
    },
    {
     "name": "stderr",
     "output_type": "stream",
     "text": [
      "/home/berlands/anaconda3/envs/STATS507/lib/python3.9/site-packages/statsmodels/base/model.py:566: ConvergenceWarning: Maximum Likelihood optimization failed to converge. Check mle_retvals\n",
      "  warnings.warn(\"Maximum Likelihood optimization failed to \"\n",
      "/home/berlands/anaconda3/envs/STATS507/lib/python3.9/site-packages/statsmodels/regression/mixed_linear_model.py:2200: ConvergenceWarning: Retrying MixedLM optimization with lbfgs\n",
      "  warnings.warn(\n",
      "/home/berlands/anaconda3/envs/STATS507/lib/python3.9/site-packages/statsmodels/base/model.py:566: ConvergenceWarning: Maximum Likelihood optimization failed to converge. Check mle_retvals\n",
      "  warnings.warn(\"Maximum Likelihood optimization failed to \"\n",
      "/home/berlands/anaconda3/envs/STATS507/lib/python3.9/site-packages/statsmodels/regression/mixed_linear_model.py:2200: ConvergenceWarning: Retrying MixedLM optimization with cg\n",
      "  warnings.warn(\n",
      "/home/berlands/anaconda3/envs/STATS507/lib/python3.9/site-packages/statsmodels/base/model.py:566: ConvergenceWarning: Maximum Likelihood optimization failed to converge. Check mle_retvals\n",
      "  warnings.warn(\"Maximum Likelihood optimization failed to \"\n",
      "/home/berlands/anaconda3/envs/STATS507/lib/python3.9/site-packages/statsmodels/regression/mixed_linear_model.py:2206: ConvergenceWarning: MixedLM optimization failed, trying a different optimizer may help.\n",
      "  warnings.warn(msg, ConvergenceWarning)\n",
      "/home/berlands/anaconda3/envs/STATS507/lib/python3.9/site-packages/statsmodels/regression/mixed_linear_model.py:2218: ConvergenceWarning: Gradient optimization failed, |grad| = 8.884254\n",
      "  warnings.warn(msg, ConvergenceWarning)\n"
     ]
    },
    {
     "name": "stdout",
     "output_type": "stream",
     "text": [
      "Starting  15 sample\n",
      "Starting  16 sample\n"
     ]
    },
    {
     "name": "stderr",
     "output_type": "stream",
     "text": [
      "/home/berlands/anaconda3/envs/STATS507/lib/python3.9/site-packages/statsmodels/base/model.py:566: ConvergenceWarning: Maximum Likelihood optimization failed to converge. Check mle_retvals\n",
      "  warnings.warn(\"Maximum Likelihood optimization failed to \"\n",
      "/home/berlands/anaconda3/envs/STATS507/lib/python3.9/site-packages/statsmodels/regression/mixed_linear_model.py:2200: ConvergenceWarning: Retrying MixedLM optimization with lbfgs\n",
      "  warnings.warn(\n",
      "/home/berlands/anaconda3/envs/STATS507/lib/python3.9/site-packages/statsmodels/base/model.py:566: ConvergenceWarning: Maximum Likelihood optimization failed to converge. Check mle_retvals\n",
      "  warnings.warn(\"Maximum Likelihood optimization failed to \"\n",
      "/home/berlands/anaconda3/envs/STATS507/lib/python3.9/site-packages/statsmodels/regression/mixed_linear_model.py:2200: ConvergenceWarning: Retrying MixedLM optimization with cg\n",
      "  warnings.warn(\n",
      "/home/berlands/anaconda3/envs/STATS507/lib/python3.9/site-packages/statsmodels/base/model.py:566: ConvergenceWarning: Maximum Likelihood optimization failed to converge. Check mle_retvals\n",
      "  warnings.warn(\"Maximum Likelihood optimization failed to \"\n",
      "/home/berlands/anaconda3/envs/STATS507/lib/python3.9/site-packages/statsmodels/regression/mixed_linear_model.py:2206: ConvergenceWarning: MixedLM optimization failed, trying a different optimizer may help.\n",
      "  warnings.warn(msg, ConvergenceWarning)\n",
      "/home/berlands/anaconda3/envs/STATS507/lib/python3.9/site-packages/statsmodels/regression/mixed_linear_model.py:2218: ConvergenceWarning: Gradient optimization failed, |grad| = 2.518286\n",
      "  warnings.warn(msg, ConvergenceWarning)\n"
     ]
    },
    {
     "name": "stdout",
     "output_type": "stream",
     "text": [
      "Starting  17 sample\n",
      "Starting  18 sample\n",
      "Starting  19 sample\n",
      "Starting  20 sample\n"
     ]
    },
    {
     "name": "stderr",
     "output_type": "stream",
     "text": [
      "/home/berlands/anaconda3/envs/STATS507/lib/python3.9/site-packages/statsmodels/base/model.py:566: ConvergenceWarning: Maximum Likelihood optimization failed to converge. Check mle_retvals\n",
      "  warnings.warn(\"Maximum Likelihood optimization failed to \"\n",
      "/home/berlands/anaconda3/envs/STATS507/lib/python3.9/site-packages/statsmodels/regression/mixed_linear_model.py:2200: ConvergenceWarning: Retrying MixedLM optimization with lbfgs\n",
      "  warnings.warn(\n"
     ]
    },
    {
     "name": "stdout",
     "output_type": "stream",
     "text": [
      "Starting  21 sample\n"
     ]
    },
    {
     "name": "stderr",
     "output_type": "stream",
     "text": [
      "/home/berlands/anaconda3/envs/STATS507/lib/python3.9/site-packages/statsmodels/base/model.py:566: ConvergenceWarning: Maximum Likelihood optimization failed to converge. Check mle_retvals\n",
      "  warnings.warn(\"Maximum Likelihood optimization failed to \"\n",
      "/home/berlands/anaconda3/envs/STATS507/lib/python3.9/site-packages/statsmodels/regression/mixed_linear_model.py:2200: ConvergenceWarning: Retrying MixedLM optimization with lbfgs\n",
      "  warnings.warn(\n",
      "/home/berlands/anaconda3/envs/STATS507/lib/python3.9/site-packages/statsmodels/base/model.py:566: ConvergenceWarning: Maximum Likelihood optimization failed to converge. Check mle_retvals\n",
      "  warnings.warn(\"Maximum Likelihood optimization failed to \"\n",
      "/home/berlands/anaconda3/envs/STATS507/lib/python3.9/site-packages/statsmodels/regression/mixed_linear_model.py:2200: ConvergenceWarning: Retrying MixedLM optimization with cg\n",
      "  warnings.warn(\n",
      "/home/berlands/anaconda3/envs/STATS507/lib/python3.9/site-packages/statsmodels/base/model.py:566: ConvergenceWarning: Maximum Likelihood optimization failed to converge. Check mle_retvals\n",
      "  warnings.warn(\"Maximum Likelihood optimization failed to \"\n",
      "/home/berlands/anaconda3/envs/STATS507/lib/python3.9/site-packages/statsmodels/regression/mixed_linear_model.py:2206: ConvergenceWarning: MixedLM optimization failed, trying a different optimizer may help.\n",
      "  warnings.warn(msg, ConvergenceWarning)\n",
      "/home/berlands/anaconda3/envs/STATS507/lib/python3.9/site-packages/statsmodels/regression/mixed_linear_model.py:2218: ConvergenceWarning: Gradient optimization failed, |grad| = 6.560956\n",
      "  warnings.warn(msg, ConvergenceWarning)\n"
     ]
    },
    {
     "name": "stdout",
     "output_type": "stream",
     "text": [
      "Starting  22 sample\n"
     ]
    },
    {
     "name": "stderr",
     "output_type": "stream",
     "text": [
      "/home/berlands/anaconda3/envs/STATS507/lib/python3.9/site-packages/statsmodels/base/model.py:566: ConvergenceWarning: Maximum Likelihood optimization failed to converge. Check mle_retvals\n",
      "  warnings.warn(\"Maximum Likelihood optimization failed to \"\n",
      "/home/berlands/anaconda3/envs/STATS507/lib/python3.9/site-packages/statsmodels/regression/mixed_linear_model.py:2200: ConvergenceWarning: Retrying MixedLM optimization with lbfgs\n",
      "  warnings.warn(\n"
     ]
    },
    {
     "name": "stdout",
     "output_type": "stream",
     "text": [
      "Starting  23 sample\n",
      "Starting  24 sample\n"
     ]
    },
    {
     "name": "stderr",
     "output_type": "stream",
     "text": [
      "/home/berlands/anaconda3/envs/STATS507/lib/python3.9/site-packages/statsmodels/base/model.py:566: ConvergenceWarning: Maximum Likelihood optimization failed to converge. Check mle_retvals\n",
      "  warnings.warn(\"Maximum Likelihood optimization failed to \"\n",
      "/home/berlands/anaconda3/envs/STATS507/lib/python3.9/site-packages/statsmodels/regression/mixed_linear_model.py:2200: ConvergenceWarning: Retrying MixedLM optimization with lbfgs\n",
      "  warnings.warn(\n",
      "/home/berlands/anaconda3/envs/STATS507/lib/python3.9/site-packages/statsmodels/base/model.py:566: ConvergenceWarning: Maximum Likelihood optimization failed to converge. Check mle_retvals\n",
      "  warnings.warn(\"Maximum Likelihood optimization failed to \"\n",
      "/home/berlands/anaconda3/envs/STATS507/lib/python3.9/site-packages/statsmodels/regression/mixed_linear_model.py:2200: ConvergenceWarning: Retrying MixedLM optimization with cg\n",
      "  warnings.warn(\n",
      "/home/berlands/anaconda3/envs/STATS507/lib/python3.9/site-packages/statsmodels/base/model.py:566: ConvergenceWarning: Maximum Likelihood optimization failed to converge. Check mle_retvals\n",
      "  warnings.warn(\"Maximum Likelihood optimization failed to \"\n",
      "/home/berlands/anaconda3/envs/STATS507/lib/python3.9/site-packages/statsmodels/regression/mixed_linear_model.py:2206: ConvergenceWarning: MixedLM optimization failed, trying a different optimizer may help.\n",
      "  warnings.warn(msg, ConvergenceWarning)\n",
      "/home/berlands/anaconda3/envs/STATS507/lib/python3.9/site-packages/statsmodels/regression/mixed_linear_model.py:2218: ConvergenceWarning: Gradient optimization failed, |grad| = 2.933622\n",
      "  warnings.warn(msg, ConvergenceWarning)\n"
     ]
    },
    {
     "name": "stdout",
     "output_type": "stream",
     "text": [
      "Starting  25 sample\n"
     ]
    },
    {
     "name": "stderr",
     "output_type": "stream",
     "text": [
      "/home/berlands/anaconda3/envs/STATS507/lib/python3.9/site-packages/statsmodels/base/model.py:566: ConvergenceWarning: Maximum Likelihood optimization failed to converge. Check mle_retvals\n",
      "  warnings.warn(\"Maximum Likelihood optimization failed to \"\n",
      "/home/berlands/anaconda3/envs/STATS507/lib/python3.9/site-packages/statsmodels/regression/mixed_linear_model.py:2200: ConvergenceWarning: Retrying MixedLM optimization with lbfgs\n",
      "  warnings.warn(\n",
      "/home/berlands/anaconda3/envs/STATS507/lib/python3.9/site-packages/statsmodels/base/model.py:566: ConvergenceWarning: Maximum Likelihood optimization failed to converge. Check mle_retvals\n",
      "  warnings.warn(\"Maximum Likelihood optimization failed to \"\n",
      "/home/berlands/anaconda3/envs/STATS507/lib/python3.9/site-packages/statsmodels/regression/mixed_linear_model.py:2200: ConvergenceWarning: Retrying MixedLM optimization with cg\n",
      "  warnings.warn(\n",
      "/home/berlands/anaconda3/envs/STATS507/lib/python3.9/site-packages/statsmodels/base/model.py:566: ConvergenceWarning: Maximum Likelihood optimization failed to converge. Check mle_retvals\n",
      "  warnings.warn(\"Maximum Likelihood optimization failed to \"\n",
      "/home/berlands/anaconda3/envs/STATS507/lib/python3.9/site-packages/statsmodels/regression/mixed_linear_model.py:2206: ConvergenceWarning: MixedLM optimization failed, trying a different optimizer may help.\n",
      "  warnings.warn(msg, ConvergenceWarning)\n",
      "/home/berlands/anaconda3/envs/STATS507/lib/python3.9/site-packages/statsmodels/regression/mixed_linear_model.py:2218: ConvergenceWarning: Gradient optimization failed, |grad| = 10.142792\n",
      "  warnings.warn(msg, ConvergenceWarning)\n"
     ]
    },
    {
     "name": "stdout",
     "output_type": "stream",
     "text": [
      "Starting  26 sample\n"
     ]
    },
    {
     "name": "stderr",
     "output_type": "stream",
     "text": [
      "/home/berlands/anaconda3/envs/STATS507/lib/python3.9/site-packages/statsmodels/base/model.py:566: ConvergenceWarning: Maximum Likelihood optimization failed to converge. Check mle_retvals\n",
      "  warnings.warn(\"Maximum Likelihood optimization failed to \"\n",
      "/home/berlands/anaconda3/envs/STATS507/lib/python3.9/site-packages/statsmodels/regression/mixed_linear_model.py:2200: ConvergenceWarning: Retrying MixedLM optimization with lbfgs\n",
      "  warnings.warn(\n",
      "/home/berlands/anaconda3/envs/STATS507/lib/python3.9/site-packages/statsmodels/base/model.py:566: ConvergenceWarning: Maximum Likelihood optimization failed to converge. Check mle_retvals\n",
      "  warnings.warn(\"Maximum Likelihood optimization failed to \"\n",
      "/home/berlands/anaconda3/envs/STATS507/lib/python3.9/site-packages/statsmodels/regression/mixed_linear_model.py:2200: ConvergenceWarning: Retrying MixedLM optimization with cg\n",
      "  warnings.warn(\n",
      "/home/berlands/anaconda3/envs/STATS507/lib/python3.9/site-packages/statsmodels/base/model.py:566: ConvergenceWarning: Maximum Likelihood optimization failed to converge. Check mle_retvals\n",
      "  warnings.warn(\"Maximum Likelihood optimization failed to \"\n",
      "/home/berlands/anaconda3/envs/STATS507/lib/python3.9/site-packages/statsmodels/regression/mixed_linear_model.py:2206: ConvergenceWarning: MixedLM optimization failed, trying a different optimizer may help.\n",
      "  warnings.warn(msg, ConvergenceWarning)\n",
      "/home/berlands/anaconda3/envs/STATS507/lib/python3.9/site-packages/statsmodels/regression/mixed_linear_model.py:2218: ConvergenceWarning: Gradient optimization failed, |grad| = 9.181982\n",
      "  warnings.warn(msg, ConvergenceWarning)\n"
     ]
    },
    {
     "name": "stdout",
     "output_type": "stream",
     "text": [
      "Starting  27 sample\n",
      "Starting  28 sample\n",
      "Starting  29 sample\n"
     ]
    },
    {
     "name": "stderr",
     "output_type": "stream",
     "text": [
      "/home/berlands/anaconda3/envs/STATS507/lib/python3.9/site-packages/statsmodels/base/model.py:566: ConvergenceWarning: Maximum Likelihood optimization failed to converge. Check mle_retvals\n",
      "  warnings.warn(\"Maximum Likelihood optimization failed to \"\n",
      "/home/berlands/anaconda3/envs/STATS507/lib/python3.9/site-packages/statsmodels/regression/mixed_linear_model.py:2200: ConvergenceWarning: Retrying MixedLM optimization with lbfgs\n",
      "  warnings.warn(\n"
     ]
    },
    {
     "name": "stdout",
     "output_type": "stream",
     "text": [
      "Starting  30 sample\n",
      "Starting  31 sample\n",
      "Starting  32 sample\n",
      "Starting  33 sample\n",
      "Starting  34 sample\n"
     ]
    },
    {
     "name": "stderr",
     "output_type": "stream",
     "text": [
      "/home/berlands/anaconda3/envs/STATS507/lib/python3.9/site-packages/statsmodels/base/model.py:566: ConvergenceWarning: Maximum Likelihood optimization failed to converge. Check mle_retvals\n",
      "  warnings.warn(\"Maximum Likelihood optimization failed to \"\n",
      "/home/berlands/anaconda3/envs/STATS507/lib/python3.9/site-packages/statsmodels/regression/mixed_linear_model.py:2200: ConvergenceWarning: Retrying MixedLM optimization with lbfgs\n",
      "  warnings.warn(\n"
     ]
    },
    {
     "name": "stdout",
     "output_type": "stream",
     "text": [
      "Starting  35 sample\n",
      "Starting  36 sample\n"
     ]
    },
    {
     "name": "stderr",
     "output_type": "stream",
     "text": [
      "/home/berlands/anaconda3/envs/STATS507/lib/python3.9/site-packages/statsmodels/base/model.py:566: ConvergenceWarning: Maximum Likelihood optimization failed to converge. Check mle_retvals\n",
      "  warnings.warn(\"Maximum Likelihood optimization failed to \"\n",
      "/home/berlands/anaconda3/envs/STATS507/lib/python3.9/site-packages/statsmodels/regression/mixed_linear_model.py:2200: ConvergenceWarning: Retrying MixedLM optimization with lbfgs\n",
      "  warnings.warn(\n"
     ]
    },
    {
     "name": "stdout",
     "output_type": "stream",
     "text": [
      "Starting  37 sample\n",
      "Starting  38 sample\n"
     ]
    },
    {
     "name": "stderr",
     "output_type": "stream",
     "text": [
      "/home/berlands/anaconda3/envs/STATS507/lib/python3.9/site-packages/statsmodels/base/model.py:566: ConvergenceWarning: Maximum Likelihood optimization failed to converge. Check mle_retvals\n",
      "  warnings.warn(\"Maximum Likelihood optimization failed to \"\n",
      "/home/berlands/anaconda3/envs/STATS507/lib/python3.9/site-packages/statsmodels/regression/mixed_linear_model.py:2200: ConvergenceWarning: Retrying MixedLM optimization with lbfgs\n",
      "  warnings.warn(\n"
     ]
    },
    {
     "name": "stdout",
     "output_type": "stream",
     "text": [
      "Starting  39 sample\n"
     ]
    },
    {
     "name": "stderr",
     "output_type": "stream",
     "text": [
      "/home/berlands/anaconda3/envs/STATS507/lib/python3.9/site-packages/statsmodels/base/model.py:566: ConvergenceWarning: Maximum Likelihood optimization failed to converge. Check mle_retvals\n",
      "  warnings.warn(\"Maximum Likelihood optimization failed to \"\n",
      "/home/berlands/anaconda3/envs/STATS507/lib/python3.9/site-packages/statsmodels/regression/mixed_linear_model.py:2200: ConvergenceWarning: Retrying MixedLM optimization with lbfgs\n",
      "  warnings.warn(\n",
      "/home/berlands/anaconda3/envs/STATS507/lib/python3.9/site-packages/statsmodels/base/model.py:566: ConvergenceWarning: Maximum Likelihood optimization failed to converge. Check mle_retvals\n",
      "  warnings.warn(\"Maximum Likelihood optimization failed to \"\n",
      "/home/berlands/anaconda3/envs/STATS507/lib/python3.9/site-packages/statsmodels/regression/mixed_linear_model.py:2200: ConvergenceWarning: Retrying MixedLM optimization with cg\n",
      "  warnings.warn(\n",
      "/home/berlands/anaconda3/envs/STATS507/lib/python3.9/site-packages/statsmodels/base/model.py:566: ConvergenceWarning: Maximum Likelihood optimization failed to converge. Check mle_retvals\n",
      "  warnings.warn(\"Maximum Likelihood optimization failed to \"\n",
      "/home/berlands/anaconda3/envs/STATS507/lib/python3.9/site-packages/statsmodels/regression/mixed_linear_model.py:2206: ConvergenceWarning: MixedLM optimization failed, trying a different optimizer may help.\n",
      "  warnings.warn(msg, ConvergenceWarning)\n",
      "/home/berlands/anaconda3/envs/STATS507/lib/python3.9/site-packages/statsmodels/regression/mixed_linear_model.py:2218: ConvergenceWarning: Gradient optimization failed, |grad| = 6.610145\n",
      "  warnings.warn(msg, ConvergenceWarning)\n"
     ]
    },
    {
     "name": "stdout",
     "output_type": "stream",
     "text": [
      "Starting  40 sample\n"
     ]
    },
    {
     "name": "stderr",
     "output_type": "stream",
     "text": [
      "/home/berlands/anaconda3/envs/STATS507/lib/python3.9/site-packages/statsmodels/base/model.py:566: ConvergenceWarning: Maximum Likelihood optimization failed to converge. Check mle_retvals\n",
      "  warnings.warn(\"Maximum Likelihood optimization failed to \"\n",
      "/home/berlands/anaconda3/envs/STATS507/lib/python3.9/site-packages/statsmodels/regression/mixed_linear_model.py:2200: ConvergenceWarning: Retrying MixedLM optimization with lbfgs\n",
      "  warnings.warn(\n",
      "/home/berlands/anaconda3/envs/STATS507/lib/python3.9/site-packages/statsmodels/base/model.py:566: ConvergenceWarning: Maximum Likelihood optimization failed to converge. Check mle_retvals\n",
      "  warnings.warn(\"Maximum Likelihood optimization failed to \"\n",
      "/home/berlands/anaconda3/envs/STATS507/lib/python3.9/site-packages/statsmodels/regression/mixed_linear_model.py:2200: ConvergenceWarning: Retrying MixedLM optimization with cg\n",
      "  warnings.warn(\n",
      "/home/berlands/anaconda3/envs/STATS507/lib/python3.9/site-packages/statsmodels/base/model.py:566: ConvergenceWarning: Maximum Likelihood optimization failed to converge. Check mle_retvals\n",
      "  warnings.warn(\"Maximum Likelihood optimization failed to \"\n",
      "/home/berlands/anaconda3/envs/STATS507/lib/python3.9/site-packages/statsmodels/regression/mixed_linear_model.py:2206: ConvergenceWarning: MixedLM optimization failed, trying a different optimizer may help.\n",
      "  warnings.warn(msg, ConvergenceWarning)\n",
      "/home/berlands/anaconda3/envs/STATS507/lib/python3.9/site-packages/statsmodels/regression/mixed_linear_model.py:2218: ConvergenceWarning: Gradient optimization failed, |grad| = 9.900805\n",
      "  warnings.warn(msg, ConvergenceWarning)\n",
      "/home/berlands/anaconda3/envs/STATS507/lib/python3.9/site-packages/statsmodels/regression/mixed_linear_model.py:2261: ConvergenceWarning: The Hessian matrix at the estimated parameter values is not positive definite.\n",
      "  warnings.warn(msg, ConvergenceWarning)\n"
     ]
    },
    {
     "name": "stdout",
     "output_type": "stream",
     "text": [
      "Starting  41 sample\n",
      "Starting  42 sample\n",
      "Starting  43 sample\n",
      "Starting  44 sample\n"
     ]
    },
    {
     "name": "stderr",
     "output_type": "stream",
     "text": [
      "/home/berlands/anaconda3/envs/STATS507/lib/python3.9/site-packages/statsmodels/base/model.py:566: ConvergenceWarning: Maximum Likelihood optimization failed to converge. Check mle_retvals\n",
      "  warnings.warn(\"Maximum Likelihood optimization failed to \"\n",
      "/home/berlands/anaconda3/envs/STATS507/lib/python3.9/site-packages/statsmodels/regression/mixed_linear_model.py:2200: ConvergenceWarning: Retrying MixedLM optimization with lbfgs\n",
      "  warnings.warn(\n"
     ]
    },
    {
     "name": "stdout",
     "output_type": "stream",
     "text": [
      "Starting  45 sample\n",
      "Starting  46 sample\n",
      "Starting  47 sample\n"
     ]
    },
    {
     "name": "stderr",
     "output_type": "stream",
     "text": [
      "/home/berlands/anaconda3/envs/STATS507/lib/python3.9/site-packages/statsmodels/base/model.py:566: ConvergenceWarning: Maximum Likelihood optimization failed to converge. Check mle_retvals\n",
      "  warnings.warn(\"Maximum Likelihood optimization failed to \"\n",
      "/home/berlands/anaconda3/envs/STATS507/lib/python3.9/site-packages/statsmodels/regression/mixed_linear_model.py:2200: ConvergenceWarning: Retrying MixedLM optimization with lbfgs\n",
      "  warnings.warn(\n",
      "/home/berlands/anaconda3/envs/STATS507/lib/python3.9/site-packages/statsmodels/base/model.py:566: ConvergenceWarning: Maximum Likelihood optimization failed to converge. Check mle_retvals\n",
      "  warnings.warn(\"Maximum Likelihood optimization failed to \"\n",
      "/home/berlands/anaconda3/envs/STATS507/lib/python3.9/site-packages/statsmodels/regression/mixed_linear_model.py:2200: ConvergenceWarning: Retrying MixedLM optimization with cg\n",
      "  warnings.warn(\n",
      "/home/berlands/anaconda3/envs/STATS507/lib/python3.9/site-packages/statsmodels/base/model.py:566: ConvergenceWarning: Maximum Likelihood optimization failed to converge. Check mle_retvals\n",
      "  warnings.warn(\"Maximum Likelihood optimization failed to \"\n",
      "/home/berlands/anaconda3/envs/STATS507/lib/python3.9/site-packages/statsmodels/regression/mixed_linear_model.py:2206: ConvergenceWarning: MixedLM optimization failed, trying a different optimizer may help.\n",
      "  warnings.warn(msg, ConvergenceWarning)\n",
      "/home/berlands/anaconda3/envs/STATS507/lib/python3.9/site-packages/statsmodels/regression/mixed_linear_model.py:2218: ConvergenceWarning: Gradient optimization failed, |grad| = 1.482932\n",
      "  warnings.warn(msg, ConvergenceWarning)\n"
     ]
    },
    {
     "name": "stdout",
     "output_type": "stream",
     "text": [
      "Starting  48 sample\n"
     ]
    },
    {
     "name": "stderr",
     "output_type": "stream",
     "text": [
      "/home/berlands/anaconda3/envs/STATS507/lib/python3.9/site-packages/statsmodels/base/model.py:566: ConvergenceWarning: Maximum Likelihood optimization failed to converge. Check mle_retvals\n",
      "  warnings.warn(\"Maximum Likelihood optimization failed to \"\n",
      "/home/berlands/anaconda3/envs/STATS507/lib/python3.9/site-packages/statsmodels/regression/mixed_linear_model.py:2200: ConvergenceWarning: Retrying MixedLM optimization with lbfgs\n",
      "  warnings.warn(\n",
      "/home/berlands/anaconda3/envs/STATS507/lib/python3.9/site-packages/statsmodels/base/model.py:566: ConvergenceWarning: Maximum Likelihood optimization failed to converge. Check mle_retvals\n",
      "  warnings.warn(\"Maximum Likelihood optimization failed to \"\n",
      "/home/berlands/anaconda3/envs/STATS507/lib/python3.9/site-packages/statsmodels/regression/mixed_linear_model.py:2200: ConvergenceWarning: Retrying MixedLM optimization with cg\n",
      "  warnings.warn(\n",
      "/home/berlands/anaconda3/envs/STATS507/lib/python3.9/site-packages/statsmodels/base/model.py:566: ConvergenceWarning: Maximum Likelihood optimization failed to converge. Check mle_retvals\n",
      "  warnings.warn(\"Maximum Likelihood optimization failed to \"\n",
      "/home/berlands/anaconda3/envs/STATS507/lib/python3.9/site-packages/statsmodels/regression/mixed_linear_model.py:2206: ConvergenceWarning: MixedLM optimization failed, trying a different optimizer may help.\n",
      "  warnings.warn(msg, ConvergenceWarning)\n",
      "/home/berlands/anaconda3/envs/STATS507/lib/python3.9/site-packages/statsmodels/regression/mixed_linear_model.py:2218: ConvergenceWarning: Gradient optimization failed, |grad| = 6.949602\n",
      "  warnings.warn(msg, ConvergenceWarning)\n"
     ]
    },
    {
     "name": "stdout",
     "output_type": "stream",
     "text": [
      "Starting  49 sample\n"
     ]
    },
    {
     "name": "stderr",
     "output_type": "stream",
     "text": [
      "/home/berlands/anaconda3/envs/STATS507/lib/python3.9/site-packages/statsmodels/base/model.py:566: ConvergenceWarning: Maximum Likelihood optimization failed to converge. Check mle_retvals\n",
      "  warnings.warn(\"Maximum Likelihood optimization failed to \"\n",
      "/home/berlands/anaconda3/envs/STATS507/lib/python3.9/site-packages/statsmodels/regression/mixed_linear_model.py:2200: ConvergenceWarning: Retrying MixedLM optimization with lbfgs\n",
      "  warnings.warn(\n",
      "/home/berlands/anaconda3/envs/STATS507/lib/python3.9/site-packages/statsmodels/base/model.py:566: ConvergenceWarning: Maximum Likelihood optimization failed to converge. Check mle_retvals\n",
      "  warnings.warn(\"Maximum Likelihood optimization failed to \"\n",
      "/home/berlands/anaconda3/envs/STATS507/lib/python3.9/site-packages/statsmodels/regression/mixed_linear_model.py:2200: ConvergenceWarning: Retrying MixedLM optimization with cg\n",
      "  warnings.warn(\n",
      "/home/berlands/anaconda3/envs/STATS507/lib/python3.9/site-packages/statsmodels/base/model.py:566: ConvergenceWarning: Maximum Likelihood optimization failed to converge. Check mle_retvals\n",
      "  warnings.warn(\"Maximum Likelihood optimization failed to \"\n",
      "/home/berlands/anaconda3/envs/STATS507/lib/python3.9/site-packages/statsmodels/regression/mixed_linear_model.py:2206: ConvergenceWarning: MixedLM optimization failed, trying a different optimizer may help.\n",
      "  warnings.warn(msg, ConvergenceWarning)\n",
      "/home/berlands/anaconda3/envs/STATS507/lib/python3.9/site-packages/statsmodels/regression/mixed_linear_model.py:2218: ConvergenceWarning: Gradient optimization failed, |grad| = 7.019245\n",
      "  warnings.warn(msg, ConvergenceWarning)\n"
     ]
    },
    {
     "name": "stdout",
     "output_type": "stream",
     "text": [
      "Starting  50 sample\n",
      "Starting  51 sample\n"
     ]
    },
    {
     "name": "stderr",
     "output_type": "stream",
     "text": [
      "/home/berlands/anaconda3/envs/STATS507/lib/python3.9/site-packages/statsmodels/base/model.py:566: ConvergenceWarning: Maximum Likelihood optimization failed to converge. Check mle_retvals\n",
      "  warnings.warn(\"Maximum Likelihood optimization failed to \"\n",
      "/home/berlands/anaconda3/envs/STATS507/lib/python3.9/site-packages/statsmodels/regression/mixed_linear_model.py:2200: ConvergenceWarning: Retrying MixedLM optimization with lbfgs\n",
      "  warnings.warn(\n"
     ]
    },
    {
     "name": "stdout",
     "output_type": "stream",
     "text": [
      "Starting  52 sample\n"
     ]
    },
    {
     "name": "stderr",
     "output_type": "stream",
     "text": [
      "/home/berlands/anaconda3/envs/STATS507/lib/python3.9/site-packages/statsmodels/base/model.py:566: ConvergenceWarning: Maximum Likelihood optimization failed to converge. Check mle_retvals\n",
      "  warnings.warn(\"Maximum Likelihood optimization failed to \"\n",
      "/home/berlands/anaconda3/envs/STATS507/lib/python3.9/site-packages/statsmodels/regression/mixed_linear_model.py:2200: ConvergenceWarning: Retrying MixedLM optimization with lbfgs\n",
      "  warnings.warn(\n",
      "/home/berlands/anaconda3/envs/STATS507/lib/python3.9/site-packages/statsmodels/base/model.py:566: ConvergenceWarning: Maximum Likelihood optimization failed to converge. Check mle_retvals\n",
      "  warnings.warn(\"Maximum Likelihood optimization failed to \"\n",
      "/home/berlands/anaconda3/envs/STATS507/lib/python3.9/site-packages/statsmodels/regression/mixed_linear_model.py:2200: ConvergenceWarning: Retrying MixedLM optimization with cg\n",
      "  warnings.warn(\n",
      "/home/berlands/anaconda3/envs/STATS507/lib/python3.9/site-packages/statsmodels/base/model.py:566: ConvergenceWarning: Maximum Likelihood optimization failed to converge. Check mle_retvals\n",
      "  warnings.warn(\"Maximum Likelihood optimization failed to \"\n",
      "/home/berlands/anaconda3/envs/STATS507/lib/python3.9/site-packages/statsmodels/regression/mixed_linear_model.py:2206: ConvergenceWarning: MixedLM optimization failed, trying a different optimizer may help.\n",
      "  warnings.warn(msg, ConvergenceWarning)\n",
      "/home/berlands/anaconda3/envs/STATS507/lib/python3.9/site-packages/statsmodels/regression/mixed_linear_model.py:2218: ConvergenceWarning: Gradient optimization failed, |grad| = 2.323717\n",
      "  warnings.warn(msg, ConvergenceWarning)\n"
     ]
    },
    {
     "name": "stdout",
     "output_type": "stream",
     "text": [
      "Starting  53 sample\n"
     ]
    },
    {
     "name": "stderr",
     "output_type": "stream",
     "text": [
      "/home/berlands/anaconda3/envs/STATS507/lib/python3.9/site-packages/statsmodels/base/model.py:566: ConvergenceWarning: Maximum Likelihood optimization failed to converge. Check mle_retvals\n",
      "  warnings.warn(\"Maximum Likelihood optimization failed to \"\n",
      "/home/berlands/anaconda3/envs/STATS507/lib/python3.9/site-packages/statsmodels/regression/mixed_linear_model.py:2200: ConvergenceWarning: Retrying MixedLM optimization with lbfgs\n",
      "  warnings.warn(\n",
      "/home/berlands/anaconda3/envs/STATS507/lib/python3.9/site-packages/statsmodels/base/model.py:566: ConvergenceWarning: Maximum Likelihood optimization failed to converge. Check mle_retvals\n",
      "  warnings.warn(\"Maximum Likelihood optimization failed to \"\n",
      "/home/berlands/anaconda3/envs/STATS507/lib/python3.9/site-packages/statsmodels/regression/mixed_linear_model.py:2200: ConvergenceWarning: Retrying MixedLM optimization with cg\n",
      "  warnings.warn(\n",
      "/home/berlands/anaconda3/envs/STATS507/lib/python3.9/site-packages/statsmodels/base/model.py:566: ConvergenceWarning: Maximum Likelihood optimization failed to converge. Check mle_retvals\n",
      "  warnings.warn(\"Maximum Likelihood optimization failed to \"\n",
      "/home/berlands/anaconda3/envs/STATS507/lib/python3.9/site-packages/statsmodels/regression/mixed_linear_model.py:2206: ConvergenceWarning: MixedLM optimization failed, trying a different optimizer may help.\n",
      "  warnings.warn(msg, ConvergenceWarning)\n",
      "/home/berlands/anaconda3/envs/STATS507/lib/python3.9/site-packages/statsmodels/regression/mixed_linear_model.py:2218: ConvergenceWarning: Gradient optimization failed, |grad| = 7.705499\n",
      "  warnings.warn(msg, ConvergenceWarning)\n"
     ]
    },
    {
     "name": "stdout",
     "output_type": "stream",
     "text": [
      "Starting  54 sample\n",
      "Starting  55 sample\n"
     ]
    },
    {
     "name": "stderr",
     "output_type": "stream",
     "text": [
      "/home/berlands/anaconda3/envs/STATS507/lib/python3.9/site-packages/statsmodels/base/model.py:566: ConvergenceWarning: Maximum Likelihood optimization failed to converge. Check mle_retvals\n",
      "  warnings.warn(\"Maximum Likelihood optimization failed to \"\n",
      "/home/berlands/anaconda3/envs/STATS507/lib/python3.9/site-packages/statsmodels/regression/mixed_linear_model.py:2200: ConvergenceWarning: Retrying MixedLM optimization with lbfgs\n",
      "  warnings.warn(\n",
      "/home/berlands/anaconda3/envs/STATS507/lib/python3.9/site-packages/statsmodels/base/model.py:566: ConvergenceWarning: Maximum Likelihood optimization failed to converge. Check mle_retvals\n",
      "  warnings.warn(\"Maximum Likelihood optimization failed to \"\n",
      "/home/berlands/anaconda3/envs/STATS507/lib/python3.9/site-packages/statsmodels/regression/mixed_linear_model.py:2200: ConvergenceWarning: Retrying MixedLM optimization with cg\n",
      "  warnings.warn(\n",
      "/home/berlands/anaconda3/envs/STATS507/lib/python3.9/site-packages/statsmodels/base/model.py:566: ConvergenceWarning: Maximum Likelihood optimization failed to converge. Check mle_retvals\n",
      "  warnings.warn(\"Maximum Likelihood optimization failed to \"\n",
      "/home/berlands/anaconda3/envs/STATS507/lib/python3.9/site-packages/statsmodels/regression/mixed_linear_model.py:2206: ConvergenceWarning: MixedLM optimization failed, trying a different optimizer may help.\n",
      "  warnings.warn(msg, ConvergenceWarning)\n",
      "/home/berlands/anaconda3/envs/STATS507/lib/python3.9/site-packages/statsmodels/regression/mixed_linear_model.py:2218: ConvergenceWarning: Gradient optimization failed, |grad| = 3.499295\n",
      "  warnings.warn(msg, ConvergenceWarning)\n"
     ]
    },
    {
     "name": "stdout",
     "output_type": "stream",
     "text": [
      "Starting  56 sample\n"
     ]
    },
    {
     "name": "stderr",
     "output_type": "stream",
     "text": [
      "/home/berlands/anaconda3/envs/STATS507/lib/python3.9/site-packages/statsmodels/base/model.py:566: ConvergenceWarning: Maximum Likelihood optimization failed to converge. Check mle_retvals\n",
      "  warnings.warn(\"Maximum Likelihood optimization failed to \"\n",
      "/home/berlands/anaconda3/envs/STATS507/lib/python3.9/site-packages/statsmodels/regression/mixed_linear_model.py:2200: ConvergenceWarning: Retrying MixedLM optimization with lbfgs\n",
      "  warnings.warn(\n",
      "/home/berlands/anaconda3/envs/STATS507/lib/python3.9/site-packages/statsmodels/base/model.py:566: ConvergenceWarning: Maximum Likelihood optimization failed to converge. Check mle_retvals\n",
      "  warnings.warn(\"Maximum Likelihood optimization failed to \"\n",
      "/home/berlands/anaconda3/envs/STATS507/lib/python3.9/site-packages/statsmodels/regression/mixed_linear_model.py:2200: ConvergenceWarning: Retrying MixedLM optimization with cg\n",
      "  warnings.warn(\n",
      "/home/berlands/anaconda3/envs/STATS507/lib/python3.9/site-packages/statsmodels/base/model.py:566: ConvergenceWarning: Maximum Likelihood optimization failed to converge. Check mle_retvals\n",
      "  warnings.warn(\"Maximum Likelihood optimization failed to \"\n",
      "/home/berlands/anaconda3/envs/STATS507/lib/python3.9/site-packages/statsmodels/regression/mixed_linear_model.py:2206: ConvergenceWarning: MixedLM optimization failed, trying a different optimizer may help.\n",
      "  warnings.warn(msg, ConvergenceWarning)\n",
      "/home/berlands/anaconda3/envs/STATS507/lib/python3.9/site-packages/statsmodels/regression/mixed_linear_model.py:2218: ConvergenceWarning: Gradient optimization failed, |grad| = 3.661334\n",
      "  warnings.warn(msg, ConvergenceWarning)\n"
     ]
    },
    {
     "name": "stdout",
     "output_type": "stream",
     "text": [
      "Starting  57 sample\n"
     ]
    },
    {
     "name": "stderr",
     "output_type": "stream",
     "text": [
      "/home/berlands/anaconda3/envs/STATS507/lib/python3.9/site-packages/statsmodels/base/model.py:566: ConvergenceWarning: Maximum Likelihood optimization failed to converge. Check mle_retvals\n",
      "  warnings.warn(\"Maximum Likelihood optimization failed to \"\n",
      "/home/berlands/anaconda3/envs/STATS507/lib/python3.9/site-packages/statsmodels/regression/mixed_linear_model.py:2200: ConvergenceWarning: Retrying MixedLM optimization with lbfgs\n",
      "  warnings.warn(\n",
      "/home/berlands/anaconda3/envs/STATS507/lib/python3.9/site-packages/statsmodels/base/model.py:566: ConvergenceWarning: Maximum Likelihood optimization failed to converge. Check mle_retvals\n",
      "  warnings.warn(\"Maximum Likelihood optimization failed to \"\n",
      "/home/berlands/anaconda3/envs/STATS507/lib/python3.9/site-packages/statsmodels/regression/mixed_linear_model.py:2200: ConvergenceWarning: Retrying MixedLM optimization with cg\n",
      "  warnings.warn(\n",
      "/home/berlands/anaconda3/envs/STATS507/lib/python3.9/site-packages/statsmodels/base/model.py:566: ConvergenceWarning: Maximum Likelihood optimization failed to converge. Check mle_retvals\n",
      "  warnings.warn(\"Maximum Likelihood optimization failed to \"\n",
      "/home/berlands/anaconda3/envs/STATS507/lib/python3.9/site-packages/statsmodels/regression/mixed_linear_model.py:2206: ConvergenceWarning: MixedLM optimization failed, trying a different optimizer may help.\n",
      "  warnings.warn(msg, ConvergenceWarning)\n",
      "/home/berlands/anaconda3/envs/STATS507/lib/python3.9/site-packages/statsmodels/regression/mixed_linear_model.py:2218: ConvergenceWarning: Gradient optimization failed, |grad| = 3.395765\n",
      "  warnings.warn(msg, ConvergenceWarning)\n"
     ]
    },
    {
     "name": "stdout",
     "output_type": "stream",
     "text": [
      "Starting  58 sample\n",
      "Starting  59 sample\n",
      "Starting  60 sample\n",
      "Starting  61 sample\n",
      "Starting  62 sample\n"
     ]
    },
    {
     "name": "stderr",
     "output_type": "stream",
     "text": [
      "/home/berlands/anaconda3/envs/STATS507/lib/python3.9/site-packages/statsmodels/base/model.py:566: ConvergenceWarning: Maximum Likelihood optimization failed to converge. Check mle_retvals\n",
      "  warnings.warn(\"Maximum Likelihood optimization failed to \"\n",
      "/home/berlands/anaconda3/envs/STATS507/lib/python3.9/site-packages/statsmodels/regression/mixed_linear_model.py:2200: ConvergenceWarning: Retrying MixedLM optimization with lbfgs\n",
      "  warnings.warn(\n",
      "/home/berlands/anaconda3/envs/STATS507/lib/python3.9/site-packages/statsmodels/base/model.py:566: ConvergenceWarning: Maximum Likelihood optimization failed to converge. Check mle_retvals\n",
      "  warnings.warn(\"Maximum Likelihood optimization failed to \"\n",
      "/home/berlands/anaconda3/envs/STATS507/lib/python3.9/site-packages/statsmodels/regression/mixed_linear_model.py:2200: ConvergenceWarning: Retrying MixedLM optimization with cg\n",
      "  warnings.warn(\n",
      "/home/berlands/anaconda3/envs/STATS507/lib/python3.9/site-packages/statsmodels/base/model.py:566: ConvergenceWarning: Maximum Likelihood optimization failed to converge. Check mle_retvals\n",
      "  warnings.warn(\"Maximum Likelihood optimization failed to \"\n",
      "/home/berlands/anaconda3/envs/STATS507/lib/python3.9/site-packages/statsmodels/regression/mixed_linear_model.py:2206: ConvergenceWarning: MixedLM optimization failed, trying a different optimizer may help.\n",
      "  warnings.warn(msg, ConvergenceWarning)\n",
      "/home/berlands/anaconda3/envs/STATS507/lib/python3.9/site-packages/statsmodels/regression/mixed_linear_model.py:2218: ConvergenceWarning: Gradient optimization failed, |grad| = 1.549506\n",
      "  warnings.warn(msg, ConvergenceWarning)\n"
     ]
    },
    {
     "name": "stdout",
     "output_type": "stream",
     "text": [
      "Starting  63 sample\n"
     ]
    },
    {
     "name": "stderr",
     "output_type": "stream",
     "text": [
      "/home/berlands/anaconda3/envs/STATS507/lib/python3.9/site-packages/statsmodels/base/model.py:566: ConvergenceWarning: Maximum Likelihood optimization failed to converge. Check mle_retvals\n",
      "  warnings.warn(\"Maximum Likelihood optimization failed to \"\n",
      "/home/berlands/anaconda3/envs/STATS507/lib/python3.9/site-packages/statsmodels/regression/mixed_linear_model.py:2200: ConvergenceWarning: Retrying MixedLM optimization with lbfgs\n",
      "  warnings.warn(\n",
      "/home/berlands/anaconda3/envs/STATS507/lib/python3.9/site-packages/statsmodels/base/model.py:566: ConvergenceWarning: Maximum Likelihood optimization failed to converge. Check mle_retvals\n",
      "  warnings.warn(\"Maximum Likelihood optimization failed to \"\n",
      "/home/berlands/anaconda3/envs/STATS507/lib/python3.9/site-packages/statsmodels/regression/mixed_linear_model.py:2200: ConvergenceWarning: Retrying MixedLM optimization with cg\n",
      "  warnings.warn(\n",
      "/home/berlands/anaconda3/envs/STATS507/lib/python3.9/site-packages/statsmodels/base/model.py:566: ConvergenceWarning: Maximum Likelihood optimization failed to converge. Check mle_retvals\n",
      "  warnings.warn(\"Maximum Likelihood optimization failed to \"\n",
      "/home/berlands/anaconda3/envs/STATS507/lib/python3.9/site-packages/statsmodels/regression/mixed_linear_model.py:2206: ConvergenceWarning: MixedLM optimization failed, trying a different optimizer may help.\n",
      "  warnings.warn(msg, ConvergenceWarning)\n",
      "/home/berlands/anaconda3/envs/STATS507/lib/python3.9/site-packages/statsmodels/regression/mixed_linear_model.py:2218: ConvergenceWarning: Gradient optimization failed, |grad| = 7.712622\n",
      "  warnings.warn(msg, ConvergenceWarning)\n"
     ]
    },
    {
     "name": "stdout",
     "output_type": "stream",
     "text": [
      "Starting  64 sample\n"
     ]
    },
    {
     "name": "stderr",
     "output_type": "stream",
     "text": [
      "/home/berlands/anaconda3/envs/STATS507/lib/python3.9/site-packages/statsmodels/base/model.py:566: ConvergenceWarning: Maximum Likelihood optimization failed to converge. Check mle_retvals\n",
      "  warnings.warn(\"Maximum Likelihood optimization failed to \"\n",
      "/home/berlands/anaconda3/envs/STATS507/lib/python3.9/site-packages/statsmodels/regression/mixed_linear_model.py:2200: ConvergenceWarning: Retrying MixedLM optimization with lbfgs\n",
      "  warnings.warn(\n",
      "/home/berlands/anaconda3/envs/STATS507/lib/python3.9/site-packages/statsmodels/base/model.py:566: ConvergenceWarning: Maximum Likelihood optimization failed to converge. Check mle_retvals\n",
      "  warnings.warn(\"Maximum Likelihood optimization failed to \"\n",
      "/home/berlands/anaconda3/envs/STATS507/lib/python3.9/site-packages/statsmodels/regression/mixed_linear_model.py:2200: ConvergenceWarning: Retrying MixedLM optimization with cg\n",
      "  warnings.warn(\n",
      "/home/berlands/anaconda3/envs/STATS507/lib/python3.9/site-packages/statsmodels/base/model.py:566: ConvergenceWarning: Maximum Likelihood optimization failed to converge. Check mle_retvals\n",
      "  warnings.warn(\"Maximum Likelihood optimization failed to \"\n",
      "/home/berlands/anaconda3/envs/STATS507/lib/python3.9/site-packages/statsmodels/regression/mixed_linear_model.py:2206: ConvergenceWarning: MixedLM optimization failed, trying a different optimizer may help.\n",
      "  warnings.warn(msg, ConvergenceWarning)\n",
      "/home/berlands/anaconda3/envs/STATS507/lib/python3.9/site-packages/statsmodels/regression/mixed_linear_model.py:2218: ConvergenceWarning: Gradient optimization failed, |grad| = 1.706231\n",
      "  warnings.warn(msg, ConvergenceWarning)\n"
     ]
    },
    {
     "name": "stdout",
     "output_type": "stream",
     "text": [
      "Starting  65 sample\n",
      "Starting  66 sample\n",
      "Starting  67 sample\n"
     ]
    },
    {
     "name": "stderr",
     "output_type": "stream",
     "text": [
      "/home/berlands/anaconda3/envs/STATS507/lib/python3.9/site-packages/statsmodels/base/model.py:566: ConvergenceWarning: Maximum Likelihood optimization failed to converge. Check mle_retvals\n",
      "  warnings.warn(\"Maximum Likelihood optimization failed to \"\n",
      "/home/berlands/anaconda3/envs/STATS507/lib/python3.9/site-packages/statsmodels/regression/mixed_linear_model.py:2200: ConvergenceWarning: Retrying MixedLM optimization with lbfgs\n",
      "  warnings.warn(\n",
      "/home/berlands/anaconda3/envs/STATS507/lib/python3.9/site-packages/statsmodels/base/model.py:566: ConvergenceWarning: Maximum Likelihood optimization failed to converge. Check mle_retvals\n",
      "  warnings.warn(\"Maximum Likelihood optimization failed to \"\n",
      "/home/berlands/anaconda3/envs/STATS507/lib/python3.9/site-packages/statsmodels/regression/mixed_linear_model.py:2200: ConvergenceWarning: Retrying MixedLM optimization with cg\n",
      "  warnings.warn(\n",
      "/home/berlands/anaconda3/envs/STATS507/lib/python3.9/site-packages/statsmodels/base/model.py:566: ConvergenceWarning: Maximum Likelihood optimization failed to converge. Check mle_retvals\n",
      "  warnings.warn(\"Maximum Likelihood optimization failed to \"\n",
      "/home/berlands/anaconda3/envs/STATS507/lib/python3.9/site-packages/statsmodels/regression/mixed_linear_model.py:2206: ConvergenceWarning: MixedLM optimization failed, trying a different optimizer may help.\n",
      "  warnings.warn(msg, ConvergenceWarning)\n",
      "/home/berlands/anaconda3/envs/STATS507/lib/python3.9/site-packages/statsmodels/regression/mixed_linear_model.py:2218: ConvergenceWarning: Gradient optimization failed, |grad| = 3.371266\n",
      "  warnings.warn(msg, ConvergenceWarning)\n"
     ]
    },
    {
     "name": "stdout",
     "output_type": "stream",
     "text": [
      "Starting  68 sample\n"
     ]
    },
    {
     "name": "stderr",
     "output_type": "stream",
     "text": [
      "/home/berlands/anaconda3/envs/STATS507/lib/python3.9/site-packages/statsmodels/base/model.py:566: ConvergenceWarning: Maximum Likelihood optimization failed to converge. Check mle_retvals\n",
      "  warnings.warn(\"Maximum Likelihood optimization failed to \"\n",
      "/home/berlands/anaconda3/envs/STATS507/lib/python3.9/site-packages/statsmodels/regression/mixed_linear_model.py:2200: ConvergenceWarning: Retrying MixedLM optimization with lbfgs\n",
      "  warnings.warn(\n",
      "/home/berlands/anaconda3/envs/STATS507/lib/python3.9/site-packages/statsmodels/base/model.py:566: ConvergenceWarning: Maximum Likelihood optimization failed to converge. Check mle_retvals\n",
      "  warnings.warn(\"Maximum Likelihood optimization failed to \"\n",
      "/home/berlands/anaconda3/envs/STATS507/lib/python3.9/site-packages/statsmodels/regression/mixed_linear_model.py:2200: ConvergenceWarning: Retrying MixedLM optimization with cg\n",
      "  warnings.warn(\n",
      "/home/berlands/anaconda3/envs/STATS507/lib/python3.9/site-packages/statsmodels/base/model.py:566: ConvergenceWarning: Maximum Likelihood optimization failed to converge. Check mle_retvals\n",
      "  warnings.warn(\"Maximum Likelihood optimization failed to \"\n",
      "/home/berlands/anaconda3/envs/STATS507/lib/python3.9/site-packages/statsmodels/regression/mixed_linear_model.py:2206: ConvergenceWarning: MixedLM optimization failed, trying a different optimizer may help.\n",
      "  warnings.warn(msg, ConvergenceWarning)\n",
      "/home/berlands/anaconda3/envs/STATS507/lib/python3.9/site-packages/statsmodels/regression/mixed_linear_model.py:2218: ConvergenceWarning: Gradient optimization failed, |grad| = 4.022776\n",
      "  warnings.warn(msg, ConvergenceWarning)\n"
     ]
    },
    {
     "name": "stdout",
     "output_type": "stream",
     "text": [
      "Starting  69 sample\n",
      "Starting  70 sample\n"
     ]
    },
    {
     "name": "stderr",
     "output_type": "stream",
     "text": [
      "/home/berlands/anaconda3/envs/STATS507/lib/python3.9/site-packages/statsmodels/base/model.py:566: ConvergenceWarning: Maximum Likelihood optimization failed to converge. Check mle_retvals\n",
      "  warnings.warn(\"Maximum Likelihood optimization failed to \"\n",
      "/home/berlands/anaconda3/envs/STATS507/lib/python3.9/site-packages/statsmodels/regression/mixed_linear_model.py:2200: ConvergenceWarning: Retrying MixedLM optimization with lbfgs\n",
      "  warnings.warn(\n"
     ]
    },
    {
     "name": "stdout",
     "output_type": "stream",
     "text": [
      "Starting  71 sample\n",
      "Starting  72 sample\n"
     ]
    },
    {
     "name": "stderr",
     "output_type": "stream",
     "text": [
      "/home/berlands/anaconda3/envs/STATS507/lib/python3.9/site-packages/statsmodels/base/model.py:566: ConvergenceWarning: Maximum Likelihood optimization failed to converge. Check mle_retvals\n",
      "  warnings.warn(\"Maximum Likelihood optimization failed to \"\n",
      "/home/berlands/anaconda3/envs/STATS507/lib/python3.9/site-packages/statsmodels/regression/mixed_linear_model.py:2200: ConvergenceWarning: Retrying MixedLM optimization with lbfgs\n",
      "  warnings.warn(\n",
      "/home/berlands/anaconda3/envs/STATS507/lib/python3.9/site-packages/statsmodels/base/model.py:566: ConvergenceWarning: Maximum Likelihood optimization failed to converge. Check mle_retvals\n",
      "  warnings.warn(\"Maximum Likelihood optimization failed to \"\n",
      "/home/berlands/anaconda3/envs/STATS507/lib/python3.9/site-packages/statsmodels/regression/mixed_linear_model.py:2200: ConvergenceWarning: Retrying MixedLM optimization with cg\n",
      "  warnings.warn(\n",
      "/home/berlands/anaconda3/envs/STATS507/lib/python3.9/site-packages/statsmodels/base/model.py:566: ConvergenceWarning: Maximum Likelihood optimization failed to converge. Check mle_retvals\n",
      "  warnings.warn(\"Maximum Likelihood optimization failed to \"\n",
      "/home/berlands/anaconda3/envs/STATS507/lib/python3.9/site-packages/statsmodels/regression/mixed_linear_model.py:2206: ConvergenceWarning: MixedLM optimization failed, trying a different optimizer may help.\n",
      "  warnings.warn(msg, ConvergenceWarning)\n",
      "/home/berlands/anaconda3/envs/STATS507/lib/python3.9/site-packages/statsmodels/regression/mixed_linear_model.py:2218: ConvergenceWarning: Gradient optimization failed, |grad| = 3.648657\n",
      "  warnings.warn(msg, ConvergenceWarning)\n"
     ]
    },
    {
     "name": "stdout",
     "output_type": "stream",
     "text": [
      "Starting  73 sample\n",
      "Starting  74 sample\n",
      "Starting  75 sample\n",
      "Starting  76 sample\n"
     ]
    },
    {
     "name": "stderr",
     "output_type": "stream",
     "text": [
      "/home/berlands/anaconda3/envs/STATS507/lib/python3.9/site-packages/statsmodels/base/model.py:566: ConvergenceWarning: Maximum Likelihood optimization failed to converge. Check mle_retvals\n",
      "  warnings.warn(\"Maximum Likelihood optimization failed to \"\n",
      "/home/berlands/anaconda3/envs/STATS507/lib/python3.9/site-packages/statsmodels/regression/mixed_linear_model.py:2200: ConvergenceWarning: Retrying MixedLM optimization with lbfgs\n",
      "  warnings.warn(\n",
      "/home/berlands/anaconda3/envs/STATS507/lib/python3.9/site-packages/statsmodels/base/model.py:566: ConvergenceWarning: Maximum Likelihood optimization failed to converge. Check mle_retvals\n",
      "  warnings.warn(\"Maximum Likelihood optimization failed to \"\n",
      "/home/berlands/anaconda3/envs/STATS507/lib/python3.9/site-packages/statsmodels/regression/mixed_linear_model.py:2200: ConvergenceWarning: Retrying MixedLM optimization with cg\n",
      "  warnings.warn(\n",
      "/home/berlands/anaconda3/envs/STATS507/lib/python3.9/site-packages/statsmodels/base/model.py:566: ConvergenceWarning: Maximum Likelihood optimization failed to converge. Check mle_retvals\n",
      "  warnings.warn(\"Maximum Likelihood optimization failed to \"\n",
      "/home/berlands/anaconda3/envs/STATS507/lib/python3.9/site-packages/statsmodels/regression/mixed_linear_model.py:2206: ConvergenceWarning: MixedLM optimization failed, trying a different optimizer may help.\n",
      "  warnings.warn(msg, ConvergenceWarning)\n",
      "/home/berlands/anaconda3/envs/STATS507/lib/python3.9/site-packages/statsmodels/regression/mixed_linear_model.py:2218: ConvergenceWarning: Gradient optimization failed, |grad| = 10.598133\n",
      "  warnings.warn(msg, ConvergenceWarning)\n",
      "/home/berlands/anaconda3/envs/STATS507/lib/python3.9/site-packages/statsmodels/regression/mixed_linear_model.py:2261: ConvergenceWarning: The Hessian matrix at the estimated parameter values is not positive definite.\n",
      "  warnings.warn(msg, ConvergenceWarning)\n"
     ]
    },
    {
     "name": "stdout",
     "output_type": "stream",
     "text": [
      "Starting  77 sample\n",
      "Starting  78 sample\n"
     ]
    },
    {
     "name": "stderr",
     "output_type": "stream",
     "text": [
      "/home/berlands/anaconda3/envs/STATS507/lib/python3.9/site-packages/statsmodels/base/model.py:566: ConvergenceWarning: Maximum Likelihood optimization failed to converge. Check mle_retvals\n",
      "  warnings.warn(\"Maximum Likelihood optimization failed to \"\n",
      "/home/berlands/anaconda3/envs/STATS507/lib/python3.9/site-packages/statsmodels/regression/mixed_linear_model.py:2200: ConvergenceWarning: Retrying MixedLM optimization with lbfgs\n",
      "  warnings.warn(\n",
      "/home/berlands/anaconda3/envs/STATS507/lib/python3.9/site-packages/statsmodels/base/model.py:566: ConvergenceWarning: Maximum Likelihood optimization failed to converge. Check mle_retvals\n",
      "  warnings.warn(\"Maximum Likelihood optimization failed to \"\n",
      "/home/berlands/anaconda3/envs/STATS507/lib/python3.9/site-packages/statsmodels/regression/mixed_linear_model.py:2200: ConvergenceWarning: Retrying MixedLM optimization with cg\n",
      "  warnings.warn(\n",
      "/home/berlands/anaconda3/envs/STATS507/lib/python3.9/site-packages/statsmodels/base/model.py:566: ConvergenceWarning: Maximum Likelihood optimization failed to converge. Check mle_retvals\n",
      "  warnings.warn(\"Maximum Likelihood optimization failed to \"\n",
      "/home/berlands/anaconda3/envs/STATS507/lib/python3.9/site-packages/statsmodels/regression/mixed_linear_model.py:2206: ConvergenceWarning: MixedLM optimization failed, trying a different optimizer may help.\n",
      "  warnings.warn(msg, ConvergenceWarning)\n",
      "/home/berlands/anaconda3/envs/STATS507/lib/python3.9/site-packages/statsmodels/regression/mixed_linear_model.py:2218: ConvergenceWarning: Gradient optimization failed, |grad| = 0.422154\n",
      "  warnings.warn(msg, ConvergenceWarning)\n"
     ]
    },
    {
     "name": "stdout",
     "output_type": "stream",
     "text": [
      "Starting  79 sample\n",
      "Starting  80 sample\n"
     ]
    },
    {
     "name": "stderr",
     "output_type": "stream",
     "text": [
      "/home/berlands/anaconda3/envs/STATS507/lib/python3.9/site-packages/statsmodels/base/model.py:566: ConvergenceWarning: Maximum Likelihood optimization failed to converge. Check mle_retvals\n",
      "  warnings.warn(\"Maximum Likelihood optimization failed to \"\n",
      "/home/berlands/anaconda3/envs/STATS507/lib/python3.9/site-packages/statsmodels/regression/mixed_linear_model.py:2200: ConvergenceWarning: Retrying MixedLM optimization with lbfgs\n",
      "  warnings.warn(\n",
      "/home/berlands/anaconda3/envs/STATS507/lib/python3.9/site-packages/statsmodels/base/model.py:566: ConvergenceWarning: Maximum Likelihood optimization failed to converge. Check mle_retvals\n",
      "  warnings.warn(\"Maximum Likelihood optimization failed to \"\n",
      "/home/berlands/anaconda3/envs/STATS507/lib/python3.9/site-packages/statsmodels/regression/mixed_linear_model.py:2200: ConvergenceWarning: Retrying MixedLM optimization with cg\n",
      "  warnings.warn(\n",
      "/home/berlands/anaconda3/envs/STATS507/lib/python3.9/site-packages/statsmodels/base/model.py:566: ConvergenceWarning: Maximum Likelihood optimization failed to converge. Check mle_retvals\n",
      "  warnings.warn(\"Maximum Likelihood optimization failed to \"\n",
      "/home/berlands/anaconda3/envs/STATS507/lib/python3.9/site-packages/statsmodels/regression/mixed_linear_model.py:2206: ConvergenceWarning: MixedLM optimization failed, trying a different optimizer may help.\n",
      "  warnings.warn(msg, ConvergenceWarning)\n",
      "/home/berlands/anaconda3/envs/STATS507/lib/python3.9/site-packages/statsmodels/regression/mixed_linear_model.py:2218: ConvergenceWarning: Gradient optimization failed, |grad| = 10.382912\n",
      "  warnings.warn(msg, ConvergenceWarning)\n",
      "/home/berlands/anaconda3/envs/STATS507/lib/python3.9/site-packages/statsmodels/regression/mixed_linear_model.py:2261: ConvergenceWarning: The Hessian matrix at the estimated parameter values is not positive definite.\n",
      "  warnings.warn(msg, ConvergenceWarning)\n"
     ]
    },
    {
     "name": "stdout",
     "output_type": "stream",
     "text": [
      "Starting  81 sample\n",
      "Starting  82 sample\n"
     ]
    },
    {
     "name": "stderr",
     "output_type": "stream",
     "text": [
      "/home/berlands/anaconda3/envs/STATS507/lib/python3.9/site-packages/statsmodels/base/model.py:566: ConvergenceWarning: Maximum Likelihood optimization failed to converge. Check mle_retvals\n",
      "  warnings.warn(\"Maximum Likelihood optimization failed to \"\n",
      "/home/berlands/anaconda3/envs/STATS507/lib/python3.9/site-packages/statsmodels/regression/mixed_linear_model.py:2200: ConvergenceWarning: Retrying MixedLM optimization with lbfgs\n",
      "  warnings.warn(\n",
      "/home/berlands/anaconda3/envs/STATS507/lib/python3.9/site-packages/statsmodels/base/model.py:566: ConvergenceWarning: Maximum Likelihood optimization failed to converge. Check mle_retvals\n",
      "  warnings.warn(\"Maximum Likelihood optimization failed to \"\n",
      "/home/berlands/anaconda3/envs/STATS507/lib/python3.9/site-packages/statsmodels/regression/mixed_linear_model.py:2200: ConvergenceWarning: Retrying MixedLM optimization with cg\n",
      "  warnings.warn(\n",
      "/home/berlands/anaconda3/envs/STATS507/lib/python3.9/site-packages/statsmodels/base/model.py:566: ConvergenceWarning: Maximum Likelihood optimization failed to converge. Check mle_retvals\n",
      "  warnings.warn(\"Maximum Likelihood optimization failed to \"\n",
      "/home/berlands/anaconda3/envs/STATS507/lib/python3.9/site-packages/statsmodels/regression/mixed_linear_model.py:2206: ConvergenceWarning: MixedLM optimization failed, trying a different optimizer may help.\n",
      "  warnings.warn(msg, ConvergenceWarning)\n",
      "/home/berlands/anaconda3/envs/STATS507/lib/python3.9/site-packages/statsmodels/regression/mixed_linear_model.py:2218: ConvergenceWarning: Gradient optimization failed, |grad| = 3.840472\n",
      "  warnings.warn(msg, ConvergenceWarning)\n"
     ]
    },
    {
     "name": "stdout",
     "output_type": "stream",
     "text": [
      "Starting  83 sample\n"
     ]
    },
    {
     "name": "stderr",
     "output_type": "stream",
     "text": [
      "/home/berlands/anaconda3/envs/STATS507/lib/python3.9/site-packages/statsmodels/base/model.py:566: ConvergenceWarning: Maximum Likelihood optimization failed to converge. Check mle_retvals\n",
      "  warnings.warn(\"Maximum Likelihood optimization failed to \"\n",
      "/home/berlands/anaconda3/envs/STATS507/lib/python3.9/site-packages/statsmodels/regression/mixed_linear_model.py:2200: ConvergenceWarning: Retrying MixedLM optimization with lbfgs\n",
      "  warnings.warn(\n",
      "/home/berlands/anaconda3/envs/STATS507/lib/python3.9/site-packages/statsmodels/base/model.py:566: ConvergenceWarning: Maximum Likelihood optimization failed to converge. Check mle_retvals\n",
      "  warnings.warn(\"Maximum Likelihood optimization failed to \"\n",
      "/home/berlands/anaconda3/envs/STATS507/lib/python3.9/site-packages/statsmodels/regression/mixed_linear_model.py:2200: ConvergenceWarning: Retrying MixedLM optimization with cg\n",
      "  warnings.warn(\n",
      "/home/berlands/anaconda3/envs/STATS507/lib/python3.9/site-packages/statsmodels/base/model.py:566: ConvergenceWarning: Maximum Likelihood optimization failed to converge. Check mle_retvals\n",
      "  warnings.warn(\"Maximum Likelihood optimization failed to \"\n",
      "/home/berlands/anaconda3/envs/STATS507/lib/python3.9/site-packages/statsmodels/regression/mixed_linear_model.py:2206: ConvergenceWarning: MixedLM optimization failed, trying a different optimizer may help.\n",
      "  warnings.warn(msg, ConvergenceWarning)\n",
      "/home/berlands/anaconda3/envs/STATS507/lib/python3.9/site-packages/statsmodels/regression/mixed_linear_model.py:2218: ConvergenceWarning: Gradient optimization failed, |grad| = 10.032999\n",
      "  warnings.warn(msg, ConvergenceWarning)\n",
      "/home/berlands/anaconda3/envs/STATS507/lib/python3.9/site-packages/statsmodels/regression/mixed_linear_model.py:2261: ConvergenceWarning: The Hessian matrix at the estimated parameter values is not positive definite.\n",
      "  warnings.warn(msg, ConvergenceWarning)\n"
     ]
    },
    {
     "name": "stdout",
     "output_type": "stream",
     "text": [
      "Starting  84 sample\n",
      "Starting  85 sample\n"
     ]
    },
    {
     "name": "stderr",
     "output_type": "stream",
     "text": [
      "/home/berlands/anaconda3/envs/STATS507/lib/python3.9/site-packages/statsmodels/base/model.py:566: ConvergenceWarning: Maximum Likelihood optimization failed to converge. Check mle_retvals\n",
      "  warnings.warn(\"Maximum Likelihood optimization failed to \"\n",
      "/home/berlands/anaconda3/envs/STATS507/lib/python3.9/site-packages/statsmodels/regression/mixed_linear_model.py:2200: ConvergenceWarning: Retrying MixedLM optimization with lbfgs\n",
      "  warnings.warn(\n",
      "/home/berlands/anaconda3/envs/STATS507/lib/python3.9/site-packages/statsmodels/base/model.py:566: ConvergenceWarning: Maximum Likelihood optimization failed to converge. Check mle_retvals\n",
      "  warnings.warn(\"Maximum Likelihood optimization failed to \"\n",
      "/home/berlands/anaconda3/envs/STATS507/lib/python3.9/site-packages/statsmodels/regression/mixed_linear_model.py:2200: ConvergenceWarning: Retrying MixedLM optimization with cg\n",
      "  warnings.warn(\n",
      "/home/berlands/anaconda3/envs/STATS507/lib/python3.9/site-packages/statsmodels/base/model.py:566: ConvergenceWarning: Maximum Likelihood optimization failed to converge. Check mle_retvals\n",
      "  warnings.warn(\"Maximum Likelihood optimization failed to \"\n",
      "/home/berlands/anaconda3/envs/STATS507/lib/python3.9/site-packages/statsmodels/regression/mixed_linear_model.py:2206: ConvergenceWarning: MixedLM optimization failed, trying a different optimizer may help.\n",
      "  warnings.warn(msg, ConvergenceWarning)\n",
      "/home/berlands/anaconda3/envs/STATS507/lib/python3.9/site-packages/statsmodels/regression/mixed_linear_model.py:2218: ConvergenceWarning: Gradient optimization failed, |grad| = 11.312668\n",
      "  warnings.warn(msg, ConvergenceWarning)\n",
      "/home/berlands/anaconda3/envs/STATS507/lib/python3.9/site-packages/statsmodels/regression/mixed_linear_model.py:2261: ConvergenceWarning: The Hessian matrix at the estimated parameter values is not positive definite.\n",
      "  warnings.warn(msg, ConvergenceWarning)\n"
     ]
    },
    {
     "name": "stdout",
     "output_type": "stream",
     "text": [
      "Starting  86 sample\n"
     ]
    },
    {
     "name": "stderr",
     "output_type": "stream",
     "text": [
      "/home/berlands/anaconda3/envs/STATS507/lib/python3.9/site-packages/statsmodels/base/model.py:566: ConvergenceWarning: Maximum Likelihood optimization failed to converge. Check mle_retvals\n",
      "  warnings.warn(\"Maximum Likelihood optimization failed to \"\n",
      "/home/berlands/anaconda3/envs/STATS507/lib/python3.9/site-packages/statsmodels/regression/mixed_linear_model.py:2200: ConvergenceWarning: Retrying MixedLM optimization with lbfgs\n",
      "  warnings.warn(\n"
     ]
    },
    {
     "name": "stdout",
     "output_type": "stream",
     "text": [
      "Starting  87 sample\n"
     ]
    },
    {
     "name": "stderr",
     "output_type": "stream",
     "text": [
      "/home/berlands/anaconda3/envs/STATS507/lib/python3.9/site-packages/statsmodels/base/model.py:566: ConvergenceWarning: Maximum Likelihood optimization failed to converge. Check mle_retvals\n",
      "  warnings.warn(\"Maximum Likelihood optimization failed to \"\n",
      "/home/berlands/anaconda3/envs/STATS507/lib/python3.9/site-packages/statsmodels/regression/mixed_linear_model.py:2200: ConvergenceWarning: Retrying MixedLM optimization with lbfgs\n",
      "  warnings.warn(\n",
      "/home/berlands/anaconda3/envs/STATS507/lib/python3.9/site-packages/statsmodels/base/model.py:566: ConvergenceWarning: Maximum Likelihood optimization failed to converge. Check mle_retvals\n",
      "  warnings.warn(\"Maximum Likelihood optimization failed to \"\n",
      "/home/berlands/anaconda3/envs/STATS507/lib/python3.9/site-packages/statsmodels/regression/mixed_linear_model.py:2200: ConvergenceWarning: Retrying MixedLM optimization with cg\n",
      "  warnings.warn(\n",
      "/home/berlands/anaconda3/envs/STATS507/lib/python3.9/site-packages/statsmodels/base/model.py:566: ConvergenceWarning: Maximum Likelihood optimization failed to converge. Check mle_retvals\n",
      "  warnings.warn(\"Maximum Likelihood optimization failed to \"\n",
      "/home/berlands/anaconda3/envs/STATS507/lib/python3.9/site-packages/statsmodels/regression/mixed_linear_model.py:2206: ConvergenceWarning: MixedLM optimization failed, trying a different optimizer may help.\n",
      "  warnings.warn(msg, ConvergenceWarning)\n",
      "/home/berlands/anaconda3/envs/STATS507/lib/python3.9/site-packages/statsmodels/regression/mixed_linear_model.py:2218: ConvergenceWarning: Gradient optimization failed, |grad| = 2.505416\n",
      "  warnings.warn(msg, ConvergenceWarning)\n"
     ]
    },
    {
     "name": "stdout",
     "output_type": "stream",
     "text": [
      "Starting  88 sample\n"
     ]
    },
    {
     "name": "stderr",
     "output_type": "stream",
     "text": [
      "/home/berlands/anaconda3/envs/STATS507/lib/python3.9/site-packages/statsmodels/base/model.py:566: ConvergenceWarning: Maximum Likelihood optimization failed to converge. Check mle_retvals\n",
      "  warnings.warn(\"Maximum Likelihood optimization failed to \"\n",
      "/home/berlands/anaconda3/envs/STATS507/lib/python3.9/site-packages/statsmodels/regression/mixed_linear_model.py:2200: ConvergenceWarning: Retrying MixedLM optimization with lbfgs\n",
      "  warnings.warn(\n"
     ]
    },
    {
     "name": "stdout",
     "output_type": "stream",
     "text": [
      "Starting  89 sample\n",
      "Starting  90 sample\n",
      "Starting  91 sample\n"
     ]
    },
    {
     "name": "stderr",
     "output_type": "stream",
     "text": [
      "/home/berlands/anaconda3/envs/STATS507/lib/python3.9/site-packages/statsmodels/base/model.py:566: ConvergenceWarning: Maximum Likelihood optimization failed to converge. Check mle_retvals\n",
      "  warnings.warn(\"Maximum Likelihood optimization failed to \"\n",
      "/home/berlands/anaconda3/envs/STATS507/lib/python3.9/site-packages/statsmodels/regression/mixed_linear_model.py:2200: ConvergenceWarning: Retrying MixedLM optimization with lbfgs\n",
      "  warnings.warn(\n",
      "/home/berlands/anaconda3/envs/STATS507/lib/python3.9/site-packages/statsmodels/regression/mixed_linear_model.py:1634: UserWarning: Random effects covariance is singular\n",
      "  warnings.warn(msg)\n",
      "/home/berlands/anaconda3/envs/STATS507/lib/python3.9/site-packages/statsmodels/regression/mixed_linear_model.py:2054: UserWarning: The random effects covariance matrix is singular.\n",
      "  warnings.warn(_warn_cov_sing)\n",
      "/home/berlands/anaconda3/envs/STATS507/lib/python3.9/site-packages/statsmodels/regression/mixed_linear_model.py:2237: ConvergenceWarning: The MLE may be on the boundary of the parameter space.\n",
      "  warnings.warn(msg, ConvergenceWarning)\n",
      "/home/berlands/anaconda3/envs/STATS507/lib/python3.9/site-packages/statsmodels/regression/mixed_linear_model.py:2245: UserWarning: The random effects covariance matrix is singular.\n",
      "  warnings.warn(_warn_cov_sing)\n",
      "/home/berlands/anaconda3/envs/STATS507/lib/python3.9/site-packages/statsmodels/regression/mixed_linear_model.py:2261: ConvergenceWarning: The Hessian matrix at the estimated parameter values is not positive definite.\n",
      "  warnings.warn(msg, ConvergenceWarning)\n"
     ]
    },
    {
     "name": "stdout",
     "output_type": "stream",
     "text": [
      "Starting  92 sample\n",
      "Starting  93 sample\n"
     ]
    },
    {
     "name": "stderr",
     "output_type": "stream",
     "text": [
      "/home/berlands/anaconda3/envs/STATS507/lib/python3.9/site-packages/statsmodels/base/model.py:566: ConvergenceWarning: Maximum Likelihood optimization failed to converge. Check mle_retvals\n",
      "  warnings.warn(\"Maximum Likelihood optimization failed to \"\n",
      "/home/berlands/anaconda3/envs/STATS507/lib/python3.9/site-packages/statsmodels/regression/mixed_linear_model.py:2200: ConvergenceWarning: Retrying MixedLM optimization with lbfgs\n",
      "  warnings.warn(\n"
     ]
    },
    {
     "name": "stdout",
     "output_type": "stream",
     "text": [
      "Starting  94 sample\n"
     ]
    },
    {
     "name": "stderr",
     "output_type": "stream",
     "text": [
      "/home/berlands/anaconda3/envs/STATS507/lib/python3.9/site-packages/statsmodels/base/model.py:566: ConvergenceWarning: Maximum Likelihood optimization failed to converge. Check mle_retvals\n",
      "  warnings.warn(\"Maximum Likelihood optimization failed to \"\n",
      "/home/berlands/anaconda3/envs/STATS507/lib/python3.9/site-packages/statsmodels/regression/mixed_linear_model.py:2200: ConvergenceWarning: Retrying MixedLM optimization with lbfgs\n",
      "  warnings.warn(\n",
      "/home/berlands/anaconda3/envs/STATS507/lib/python3.9/site-packages/statsmodels/base/model.py:566: ConvergenceWarning: Maximum Likelihood optimization failed to converge. Check mle_retvals\n",
      "  warnings.warn(\"Maximum Likelihood optimization failed to \"\n",
      "/home/berlands/anaconda3/envs/STATS507/lib/python3.9/site-packages/statsmodels/regression/mixed_linear_model.py:2200: ConvergenceWarning: Retrying MixedLM optimization with cg\n",
      "  warnings.warn(\n",
      "/home/berlands/anaconda3/envs/STATS507/lib/python3.9/site-packages/statsmodels/base/model.py:566: ConvergenceWarning: Maximum Likelihood optimization failed to converge. Check mle_retvals\n",
      "  warnings.warn(\"Maximum Likelihood optimization failed to \"\n",
      "/home/berlands/anaconda3/envs/STATS507/lib/python3.9/site-packages/statsmodels/regression/mixed_linear_model.py:2206: ConvergenceWarning: MixedLM optimization failed, trying a different optimizer may help.\n",
      "  warnings.warn(msg, ConvergenceWarning)\n",
      "/home/berlands/anaconda3/envs/STATS507/lib/python3.9/site-packages/statsmodels/regression/mixed_linear_model.py:2218: ConvergenceWarning: Gradient optimization failed, |grad| = 5.059364\n",
      "  warnings.warn(msg, ConvergenceWarning)\n"
     ]
    },
    {
     "name": "stdout",
     "output_type": "stream",
     "text": [
      "Starting  95 sample\n"
     ]
    },
    {
     "name": "stderr",
     "output_type": "stream",
     "text": [
      "/home/berlands/anaconda3/envs/STATS507/lib/python3.9/site-packages/statsmodels/base/model.py:566: ConvergenceWarning: Maximum Likelihood optimization failed to converge. Check mle_retvals\n",
      "  warnings.warn(\"Maximum Likelihood optimization failed to \"\n",
      "/home/berlands/anaconda3/envs/STATS507/lib/python3.9/site-packages/statsmodels/regression/mixed_linear_model.py:2200: ConvergenceWarning: Retrying MixedLM optimization with lbfgs\n",
      "  warnings.warn(\n"
     ]
    },
    {
     "name": "stdout",
     "output_type": "stream",
     "text": [
      "Starting  96 sample\n",
      "Starting  97 sample\n"
     ]
    },
    {
     "name": "stderr",
     "output_type": "stream",
     "text": [
      "/home/berlands/anaconda3/envs/STATS507/lib/python3.9/site-packages/statsmodels/base/model.py:566: ConvergenceWarning: Maximum Likelihood optimization failed to converge. Check mle_retvals\n",
      "  warnings.warn(\"Maximum Likelihood optimization failed to \"\n",
      "/home/berlands/anaconda3/envs/STATS507/lib/python3.9/site-packages/statsmodels/regression/mixed_linear_model.py:2200: ConvergenceWarning: Retrying MixedLM optimization with lbfgs\n",
      "  warnings.warn(\n"
     ]
    },
    {
     "name": "stdout",
     "output_type": "stream",
     "text": [
      "Starting  98 sample\n",
      "Starting  99 sample\n"
     ]
    },
    {
     "name": "stderr",
     "output_type": "stream",
     "text": [
      "/home/berlands/anaconda3/envs/STATS507/lib/python3.9/site-packages/statsmodels/base/model.py:566: ConvergenceWarning: Maximum Likelihood optimization failed to converge. Check mle_retvals\n",
      "  warnings.warn(\"Maximum Likelihood optimization failed to \"\n",
      "/home/berlands/anaconda3/envs/STATS507/lib/python3.9/site-packages/statsmodels/regression/mixed_linear_model.py:2200: ConvergenceWarning: Retrying MixedLM optimization with lbfgs\n",
      "  warnings.warn(\n",
      "/home/berlands/anaconda3/envs/STATS507/lib/python3.9/site-packages/statsmodels/base/model.py:566: ConvergenceWarning: Maximum Likelihood optimization failed to converge. Check mle_retvals\n",
      "  warnings.warn(\"Maximum Likelihood optimization failed to \"\n",
      "/home/berlands/anaconda3/envs/STATS507/lib/python3.9/site-packages/statsmodels/regression/mixed_linear_model.py:2200: ConvergenceWarning: Retrying MixedLM optimization with cg\n",
      "  warnings.warn(\n",
      "/home/berlands/anaconda3/envs/STATS507/lib/python3.9/site-packages/statsmodels/base/model.py:566: ConvergenceWarning: Maximum Likelihood optimization failed to converge. Check mle_retvals\n",
      "  warnings.warn(\"Maximum Likelihood optimization failed to \"\n",
      "/home/berlands/anaconda3/envs/STATS507/lib/python3.9/site-packages/statsmodels/regression/mixed_linear_model.py:2206: ConvergenceWarning: MixedLM optimization failed, trying a different optimizer may help.\n",
      "  warnings.warn(msg, ConvergenceWarning)\n",
      "/home/berlands/anaconda3/envs/STATS507/lib/python3.9/site-packages/statsmodels/regression/mixed_linear_model.py:2218: ConvergenceWarning: Gradient optimization failed, |grad| = 10.822390\n",
      "  warnings.warn(msg, ConvergenceWarning)\n",
      "/home/berlands/anaconda3/envs/STATS507/lib/python3.9/site-packages/statsmodels/regression/mixed_linear_model.py:2261: ConvergenceWarning: The Hessian matrix at the estimated parameter values is not positive definite.\n",
      "  warnings.warn(msg, ConvergenceWarning)\n"
     ]
    },
    {
     "name": "stdout",
     "output_type": "stream",
     "text": [
      "Starting  100 sample\n"
     ]
    },
    {
     "name": "stderr",
     "output_type": "stream",
     "text": [
      "/tmp/ipykernel_50/1505425487.py:75: PerformanceWarning: DataFrame is highly fragmented.  This is usually the result of calling `frame.insert` many times, which has poor performance.  Consider joining all columns at once using pd.concat(axis=1) instead.  To get a de-fragmented frame, use `newframe = frame.copy()`\n",
      "  sampleStats[i] = (bsSample.groupby([\"year\", \"sex\"])\n",
      "/tmp/ipykernel_50/1505425487.py:77: PerformanceWarning: DataFrame is highly fragmented.  This is usually the result of calling `frame.insert` many times, which has poor performance.  Consider joining all columns at once using pd.concat(axis=1) instead.  To get a de-fragmented frame, use `newframe = frame.copy()`\n",
      "  predictedValsStat[i] = (modDat.groupby([\"year\", \"sex\"])\n"
     ]
    },
    {
     "name": "stdout",
     "output_type": "stream",
     "text": [
      "Starting  101 sample\n"
     ]
    },
    {
     "name": "stderr",
     "output_type": "stream",
     "text": [
      "/home/berlands/anaconda3/envs/STATS507/lib/python3.9/site-packages/statsmodels/base/model.py:566: ConvergenceWarning: Maximum Likelihood optimization failed to converge. Check mle_retvals\n",
      "  warnings.warn(\"Maximum Likelihood optimization failed to \"\n",
      "/home/berlands/anaconda3/envs/STATS507/lib/python3.9/site-packages/statsmodels/regression/mixed_linear_model.py:2200: ConvergenceWarning: Retrying MixedLM optimization with lbfgs\n",
      "  warnings.warn(\n",
      "/home/berlands/anaconda3/envs/STATS507/lib/python3.9/site-packages/statsmodels/base/model.py:566: ConvergenceWarning: Maximum Likelihood optimization failed to converge. Check mle_retvals\n",
      "  warnings.warn(\"Maximum Likelihood optimization failed to \"\n",
      "/home/berlands/anaconda3/envs/STATS507/lib/python3.9/site-packages/statsmodels/regression/mixed_linear_model.py:2200: ConvergenceWarning: Retrying MixedLM optimization with cg\n",
      "  warnings.warn(\n",
      "/home/berlands/anaconda3/envs/STATS507/lib/python3.9/site-packages/statsmodels/base/model.py:566: ConvergenceWarning: Maximum Likelihood optimization failed to converge. Check mle_retvals\n",
      "  warnings.warn(\"Maximum Likelihood optimization failed to \"\n",
      "/home/berlands/anaconda3/envs/STATS507/lib/python3.9/site-packages/statsmodels/regression/mixed_linear_model.py:2206: ConvergenceWarning: MixedLM optimization failed, trying a different optimizer may help.\n",
      "  warnings.warn(msg, ConvergenceWarning)\n",
      "/home/berlands/anaconda3/envs/STATS507/lib/python3.9/site-packages/statsmodels/regression/mixed_linear_model.py:2218: ConvergenceWarning: Gradient optimization failed, |grad| = 9.702796\n",
      "  warnings.warn(msg, ConvergenceWarning)\n",
      "/home/berlands/anaconda3/envs/STATS507/lib/python3.9/site-packages/statsmodels/regression/mixed_linear_model.py:2261: ConvergenceWarning: The Hessian matrix at the estimated parameter values is not positive definite.\n",
      "  warnings.warn(msg, ConvergenceWarning)\n",
      "/tmp/ipykernel_50/1505425487.py:75: PerformanceWarning: DataFrame is highly fragmented.  This is usually the result of calling `frame.insert` many times, which has poor performance.  Consider joining all columns at once using pd.concat(axis=1) instead.  To get a de-fragmented frame, use `newframe = frame.copy()`\n",
      "  sampleStats[i] = (bsSample.groupby([\"year\", \"sex\"])\n",
      "/tmp/ipykernel_50/1505425487.py:77: PerformanceWarning: DataFrame is highly fragmented.  This is usually the result of calling `frame.insert` many times, which has poor performance.  Consider joining all columns at once using pd.concat(axis=1) instead.  To get a de-fragmented frame, use `newframe = frame.copy()`\n",
      "  predictedValsStat[i] = (modDat.groupby([\"year\", \"sex\"])\n"
     ]
    },
    {
     "name": "stdout",
     "output_type": "stream",
     "text": [
      "Starting  102 sample\n",
      "Starting  103 sample\n"
     ]
    },
    {
     "name": "stderr",
     "output_type": "stream",
     "text": [
      "/home/berlands/anaconda3/envs/STATS507/lib/python3.9/site-packages/statsmodels/base/model.py:566: ConvergenceWarning: Maximum Likelihood optimization failed to converge. Check mle_retvals\n",
      "  warnings.warn(\"Maximum Likelihood optimization failed to \"\n",
      "/home/berlands/anaconda3/envs/STATS507/lib/python3.9/site-packages/statsmodels/regression/mixed_linear_model.py:2200: ConvergenceWarning: Retrying MixedLM optimization with lbfgs\n",
      "  warnings.warn(\n",
      "/home/berlands/anaconda3/envs/STATS507/lib/python3.9/site-packages/statsmodels/base/model.py:566: ConvergenceWarning: Maximum Likelihood optimization failed to converge. Check mle_retvals\n",
      "  warnings.warn(\"Maximum Likelihood optimization failed to \"\n",
      "/home/berlands/anaconda3/envs/STATS507/lib/python3.9/site-packages/statsmodels/regression/mixed_linear_model.py:2200: ConvergenceWarning: Retrying MixedLM optimization with cg\n",
      "  warnings.warn(\n",
      "/home/berlands/anaconda3/envs/STATS507/lib/python3.9/site-packages/statsmodels/base/model.py:566: ConvergenceWarning: Maximum Likelihood optimization failed to converge. Check mle_retvals\n",
      "  warnings.warn(\"Maximum Likelihood optimization failed to \"\n",
      "/home/berlands/anaconda3/envs/STATS507/lib/python3.9/site-packages/statsmodels/regression/mixed_linear_model.py:2206: ConvergenceWarning: MixedLM optimization failed, trying a different optimizer may help.\n",
      "  warnings.warn(msg, ConvergenceWarning)\n",
      "/home/berlands/anaconda3/envs/STATS507/lib/python3.9/site-packages/statsmodels/regression/mixed_linear_model.py:2218: ConvergenceWarning: Gradient optimization failed, |grad| = 3.905910\n",
      "  warnings.warn(msg, ConvergenceWarning)\n",
      "/tmp/ipykernel_50/1505425487.py:75: PerformanceWarning: DataFrame is highly fragmented.  This is usually the result of calling `frame.insert` many times, which has poor performance.  Consider joining all columns at once using pd.concat(axis=1) instead.  To get a de-fragmented frame, use `newframe = frame.copy()`\n",
      "  sampleStats[i] = (bsSample.groupby([\"year\", \"sex\"])\n",
      "/tmp/ipykernel_50/1505425487.py:77: PerformanceWarning: DataFrame is highly fragmented.  This is usually the result of calling `frame.insert` many times, which has poor performance.  Consider joining all columns at once using pd.concat(axis=1) instead.  To get a de-fragmented frame, use `newframe = frame.copy()`\n",
      "  predictedValsStat[i] = (modDat.groupby([\"year\", \"sex\"])\n"
     ]
    },
    {
     "name": "stdout",
     "output_type": "stream",
     "text": [
      "Starting  104 sample\n"
     ]
    },
    {
     "name": "stderr",
     "output_type": "stream",
     "text": [
      "/home/berlands/anaconda3/envs/STATS507/lib/python3.9/site-packages/statsmodels/base/model.py:566: ConvergenceWarning: Maximum Likelihood optimization failed to converge. Check mle_retvals\n",
      "  warnings.warn(\"Maximum Likelihood optimization failed to \"\n",
      "/home/berlands/anaconda3/envs/STATS507/lib/python3.9/site-packages/statsmodels/regression/mixed_linear_model.py:2200: ConvergenceWarning: Retrying MixedLM optimization with lbfgs\n",
      "  warnings.warn(\n",
      "/home/berlands/anaconda3/envs/STATS507/lib/python3.9/site-packages/statsmodels/base/model.py:566: ConvergenceWarning: Maximum Likelihood optimization failed to converge. Check mle_retvals\n",
      "  warnings.warn(\"Maximum Likelihood optimization failed to \"\n",
      "/home/berlands/anaconda3/envs/STATS507/lib/python3.9/site-packages/statsmodels/regression/mixed_linear_model.py:2200: ConvergenceWarning: Retrying MixedLM optimization with cg\n",
      "  warnings.warn(\n",
      "/home/berlands/anaconda3/envs/STATS507/lib/python3.9/site-packages/statsmodels/base/model.py:566: ConvergenceWarning: Maximum Likelihood optimization failed to converge. Check mle_retvals\n",
      "  warnings.warn(\"Maximum Likelihood optimization failed to \"\n",
      "/home/berlands/anaconda3/envs/STATS507/lib/python3.9/site-packages/statsmodels/regression/mixed_linear_model.py:2206: ConvergenceWarning: MixedLM optimization failed, trying a different optimizer may help.\n",
      "  warnings.warn(msg, ConvergenceWarning)\n",
      "/home/berlands/anaconda3/envs/STATS507/lib/python3.9/site-packages/statsmodels/regression/mixed_linear_model.py:2218: ConvergenceWarning: Gradient optimization failed, |grad| = 0.350429\n",
      "  warnings.warn(msg, ConvergenceWarning)\n",
      "/tmp/ipykernel_50/1505425487.py:75: PerformanceWarning: DataFrame is highly fragmented.  This is usually the result of calling `frame.insert` many times, which has poor performance.  Consider joining all columns at once using pd.concat(axis=1) instead.  To get a de-fragmented frame, use `newframe = frame.copy()`\n",
      "  sampleStats[i] = (bsSample.groupby([\"year\", \"sex\"])\n",
      "/tmp/ipykernel_50/1505425487.py:77: PerformanceWarning: DataFrame is highly fragmented.  This is usually the result of calling `frame.insert` many times, which has poor performance.  Consider joining all columns at once using pd.concat(axis=1) instead.  To get a de-fragmented frame, use `newframe = frame.copy()`\n",
      "  predictedValsStat[i] = (modDat.groupby([\"year\", \"sex\"])\n"
     ]
    },
    {
     "name": "stdout",
     "output_type": "stream",
     "text": [
      "Starting  105 sample\n"
     ]
    },
    {
     "name": "stderr",
     "output_type": "stream",
     "text": [
      "/home/berlands/anaconda3/envs/STATS507/lib/python3.9/site-packages/statsmodels/base/model.py:566: ConvergenceWarning: Maximum Likelihood optimization failed to converge. Check mle_retvals\n",
      "  warnings.warn(\"Maximum Likelihood optimization failed to \"\n",
      "/home/berlands/anaconda3/envs/STATS507/lib/python3.9/site-packages/statsmodels/regression/mixed_linear_model.py:2200: ConvergenceWarning: Retrying MixedLM optimization with lbfgs\n",
      "  warnings.warn(\n",
      "/home/berlands/anaconda3/envs/STATS507/lib/python3.9/site-packages/statsmodels/regression/mixed_linear_model.py:2261: ConvergenceWarning: The Hessian matrix at the estimated parameter values is not positive definite.\n",
      "  warnings.warn(msg, ConvergenceWarning)\n",
      "/tmp/ipykernel_50/1505425487.py:75: PerformanceWarning: DataFrame is highly fragmented.  This is usually the result of calling `frame.insert` many times, which has poor performance.  Consider joining all columns at once using pd.concat(axis=1) instead.  To get a de-fragmented frame, use `newframe = frame.copy()`\n",
      "  sampleStats[i] = (bsSample.groupby([\"year\", \"sex\"])\n",
      "/tmp/ipykernel_50/1505425487.py:77: PerformanceWarning: DataFrame is highly fragmented.  This is usually the result of calling `frame.insert` many times, which has poor performance.  Consider joining all columns at once using pd.concat(axis=1) instead.  To get a de-fragmented frame, use `newframe = frame.copy()`\n",
      "  predictedValsStat[i] = (modDat.groupby([\"year\", \"sex\"])\n"
     ]
    },
    {
     "name": "stdout",
     "output_type": "stream",
     "text": [
      "Starting  106 sample\n"
     ]
    },
    {
     "name": "stderr",
     "output_type": "stream",
     "text": [
      "/home/berlands/anaconda3/envs/STATS507/lib/python3.9/site-packages/statsmodels/base/model.py:566: ConvergenceWarning: Maximum Likelihood optimization failed to converge. Check mle_retvals\n",
      "  warnings.warn(\"Maximum Likelihood optimization failed to \"\n",
      "/home/berlands/anaconda3/envs/STATS507/lib/python3.9/site-packages/statsmodels/regression/mixed_linear_model.py:2200: ConvergenceWarning: Retrying MixedLM optimization with lbfgs\n",
      "  warnings.warn(\n",
      "/home/berlands/anaconda3/envs/STATS507/lib/python3.9/site-packages/statsmodels/base/model.py:566: ConvergenceWarning: Maximum Likelihood optimization failed to converge. Check mle_retvals\n",
      "  warnings.warn(\"Maximum Likelihood optimization failed to \"\n",
      "/home/berlands/anaconda3/envs/STATS507/lib/python3.9/site-packages/statsmodels/regression/mixed_linear_model.py:2200: ConvergenceWarning: Retrying MixedLM optimization with cg\n",
      "  warnings.warn(\n",
      "/home/berlands/anaconda3/envs/STATS507/lib/python3.9/site-packages/statsmodels/base/model.py:566: ConvergenceWarning: Maximum Likelihood optimization failed to converge. Check mle_retvals\n",
      "  warnings.warn(\"Maximum Likelihood optimization failed to \"\n",
      "/home/berlands/anaconda3/envs/STATS507/lib/python3.9/site-packages/statsmodels/regression/mixed_linear_model.py:2206: ConvergenceWarning: MixedLM optimization failed, trying a different optimizer may help.\n",
      "  warnings.warn(msg, ConvergenceWarning)\n",
      "/home/berlands/anaconda3/envs/STATS507/lib/python3.9/site-packages/statsmodels/regression/mixed_linear_model.py:2218: ConvergenceWarning: Gradient optimization failed, |grad| = 2.068278\n",
      "  warnings.warn(msg, ConvergenceWarning)\n",
      "/tmp/ipykernel_50/1505425487.py:75: PerformanceWarning: DataFrame is highly fragmented.  This is usually the result of calling `frame.insert` many times, which has poor performance.  Consider joining all columns at once using pd.concat(axis=1) instead.  To get a de-fragmented frame, use `newframe = frame.copy()`\n",
      "  sampleStats[i] = (bsSample.groupby([\"year\", \"sex\"])\n",
      "/tmp/ipykernel_50/1505425487.py:77: PerformanceWarning: DataFrame is highly fragmented.  This is usually the result of calling `frame.insert` many times, which has poor performance.  Consider joining all columns at once using pd.concat(axis=1) instead.  To get a de-fragmented frame, use `newframe = frame.copy()`\n",
      "  predictedValsStat[i] = (modDat.groupby([\"year\", \"sex\"])\n"
     ]
    },
    {
     "name": "stdout",
     "output_type": "stream",
     "text": [
      "Starting  107 sample\n",
      "Starting  108 sample\n",
      "Starting  109 sample\n",
      "Starting  110 sample\n",
      "Starting  111 sample\n"
     ]
    },
    {
     "name": "stderr",
     "output_type": "stream",
     "text": [
      "/home/berlands/anaconda3/envs/STATS507/lib/python3.9/site-packages/statsmodels/base/model.py:566: ConvergenceWarning: Maximum Likelihood optimization failed to converge. Check mle_retvals\n",
      "  warnings.warn(\"Maximum Likelihood optimization failed to \"\n",
      "/home/berlands/anaconda3/envs/STATS507/lib/python3.9/site-packages/statsmodels/regression/mixed_linear_model.py:2200: ConvergenceWarning: Retrying MixedLM optimization with lbfgs\n",
      "  warnings.warn(\n",
      "/home/berlands/anaconda3/envs/STATS507/lib/python3.9/site-packages/statsmodels/base/model.py:566: ConvergenceWarning: Maximum Likelihood optimization failed to converge. Check mle_retvals\n",
      "  warnings.warn(\"Maximum Likelihood optimization failed to \"\n",
      "/home/berlands/anaconda3/envs/STATS507/lib/python3.9/site-packages/statsmodels/regression/mixed_linear_model.py:2200: ConvergenceWarning: Retrying MixedLM optimization with cg\n",
      "  warnings.warn(\n",
      "/home/berlands/anaconda3/envs/STATS507/lib/python3.9/site-packages/statsmodels/base/model.py:566: ConvergenceWarning: Maximum Likelihood optimization failed to converge. Check mle_retvals\n",
      "  warnings.warn(\"Maximum Likelihood optimization failed to \"\n",
      "/home/berlands/anaconda3/envs/STATS507/lib/python3.9/site-packages/statsmodels/regression/mixed_linear_model.py:2206: ConvergenceWarning: MixedLM optimization failed, trying a different optimizer may help.\n",
      "  warnings.warn(msg, ConvergenceWarning)\n",
      "/home/berlands/anaconda3/envs/STATS507/lib/python3.9/site-packages/statsmodels/regression/mixed_linear_model.py:2218: ConvergenceWarning: Gradient optimization failed, |grad| = 0.352262\n",
      "  warnings.warn(msg, ConvergenceWarning)\n",
      "/tmp/ipykernel_50/1505425487.py:75: PerformanceWarning: DataFrame is highly fragmented.  This is usually the result of calling `frame.insert` many times, which has poor performance.  Consider joining all columns at once using pd.concat(axis=1) instead.  To get a de-fragmented frame, use `newframe = frame.copy()`\n",
      "  sampleStats[i] = (bsSample.groupby([\"year\", \"sex\"])\n",
      "/tmp/ipykernel_50/1505425487.py:77: PerformanceWarning: DataFrame is highly fragmented.  This is usually the result of calling `frame.insert` many times, which has poor performance.  Consider joining all columns at once using pd.concat(axis=1) instead.  To get a de-fragmented frame, use `newframe = frame.copy()`\n",
      "  predictedValsStat[i] = (modDat.groupby([\"year\", \"sex\"])\n"
     ]
    },
    {
     "name": "stdout",
     "output_type": "stream",
     "text": [
      "Starting  112 sample\n"
     ]
    },
    {
     "name": "stderr",
     "output_type": "stream",
     "text": [
      "/home/berlands/anaconda3/envs/STATS507/lib/python3.9/site-packages/statsmodels/base/model.py:566: ConvergenceWarning: Maximum Likelihood optimization failed to converge. Check mle_retvals\n",
      "  warnings.warn(\"Maximum Likelihood optimization failed to \"\n",
      "/home/berlands/anaconda3/envs/STATS507/lib/python3.9/site-packages/statsmodels/regression/mixed_linear_model.py:2200: ConvergenceWarning: Retrying MixedLM optimization with lbfgs\n",
      "  warnings.warn(\n",
      "/home/berlands/anaconda3/envs/STATS507/lib/python3.9/site-packages/statsmodels/base/model.py:566: ConvergenceWarning: Maximum Likelihood optimization failed to converge. Check mle_retvals\n",
      "  warnings.warn(\"Maximum Likelihood optimization failed to \"\n",
      "/home/berlands/anaconda3/envs/STATS507/lib/python3.9/site-packages/statsmodels/regression/mixed_linear_model.py:2200: ConvergenceWarning: Retrying MixedLM optimization with cg\n",
      "  warnings.warn(\n",
      "/home/berlands/anaconda3/envs/STATS507/lib/python3.9/site-packages/statsmodels/base/model.py:566: ConvergenceWarning: Maximum Likelihood optimization failed to converge. Check mle_retvals\n",
      "  warnings.warn(\"Maximum Likelihood optimization failed to \"\n",
      "/home/berlands/anaconda3/envs/STATS507/lib/python3.9/site-packages/statsmodels/regression/mixed_linear_model.py:2206: ConvergenceWarning: MixedLM optimization failed, trying a different optimizer may help.\n",
      "  warnings.warn(msg, ConvergenceWarning)\n",
      "/home/berlands/anaconda3/envs/STATS507/lib/python3.9/site-packages/statsmodels/regression/mixed_linear_model.py:2218: ConvergenceWarning: Gradient optimization failed, |grad| = 7.678546\n",
      "  warnings.warn(msg, ConvergenceWarning)\n",
      "/tmp/ipykernel_50/1505425487.py:75: PerformanceWarning: DataFrame is highly fragmented.  This is usually the result of calling `frame.insert` many times, which has poor performance.  Consider joining all columns at once using pd.concat(axis=1) instead.  To get a de-fragmented frame, use `newframe = frame.copy()`\n",
      "  sampleStats[i] = (bsSample.groupby([\"year\", \"sex\"])\n",
      "/tmp/ipykernel_50/1505425487.py:77: PerformanceWarning: DataFrame is highly fragmented.  This is usually the result of calling `frame.insert` many times, which has poor performance.  Consider joining all columns at once using pd.concat(axis=1) instead.  To get a de-fragmented frame, use `newframe = frame.copy()`\n",
      "  predictedValsStat[i] = (modDat.groupby([\"year\", \"sex\"])\n"
     ]
    },
    {
     "name": "stdout",
     "output_type": "stream",
     "text": [
      "Starting  113 sample\n"
     ]
    },
    {
     "name": "stderr",
     "output_type": "stream",
     "text": [
      "/home/berlands/anaconda3/envs/STATS507/lib/python3.9/site-packages/statsmodels/base/model.py:566: ConvergenceWarning: Maximum Likelihood optimization failed to converge. Check mle_retvals\n",
      "  warnings.warn(\"Maximum Likelihood optimization failed to \"\n",
      "/home/berlands/anaconda3/envs/STATS507/lib/python3.9/site-packages/statsmodels/regression/mixed_linear_model.py:2200: ConvergenceWarning: Retrying MixedLM optimization with lbfgs\n",
      "  warnings.warn(\n",
      "/home/berlands/anaconda3/envs/STATS507/lib/python3.9/site-packages/statsmodels/base/model.py:566: ConvergenceWarning: Maximum Likelihood optimization failed to converge. Check mle_retvals\n",
      "  warnings.warn(\"Maximum Likelihood optimization failed to \"\n",
      "/home/berlands/anaconda3/envs/STATS507/lib/python3.9/site-packages/statsmodels/regression/mixed_linear_model.py:2200: ConvergenceWarning: Retrying MixedLM optimization with cg\n",
      "  warnings.warn(\n",
      "/home/berlands/anaconda3/envs/STATS507/lib/python3.9/site-packages/statsmodels/base/model.py:566: ConvergenceWarning: Maximum Likelihood optimization failed to converge. Check mle_retvals\n",
      "  warnings.warn(\"Maximum Likelihood optimization failed to \"\n",
      "/home/berlands/anaconda3/envs/STATS507/lib/python3.9/site-packages/statsmodels/regression/mixed_linear_model.py:2206: ConvergenceWarning: MixedLM optimization failed, trying a different optimizer may help.\n",
      "  warnings.warn(msg, ConvergenceWarning)\n",
      "/home/berlands/anaconda3/envs/STATS507/lib/python3.9/site-packages/statsmodels/regression/mixed_linear_model.py:2218: ConvergenceWarning: Gradient optimization failed, |grad| = 4.624628\n",
      "  warnings.warn(msg, ConvergenceWarning)\n",
      "/tmp/ipykernel_50/1505425487.py:75: PerformanceWarning: DataFrame is highly fragmented.  This is usually the result of calling `frame.insert` many times, which has poor performance.  Consider joining all columns at once using pd.concat(axis=1) instead.  To get a de-fragmented frame, use `newframe = frame.copy()`\n",
      "  sampleStats[i] = (bsSample.groupby([\"year\", \"sex\"])\n",
      "/tmp/ipykernel_50/1505425487.py:77: PerformanceWarning: DataFrame is highly fragmented.  This is usually the result of calling `frame.insert` many times, which has poor performance.  Consider joining all columns at once using pd.concat(axis=1) instead.  To get a de-fragmented frame, use `newframe = frame.copy()`\n",
      "  predictedValsStat[i] = (modDat.groupby([\"year\", \"sex\"])\n"
     ]
    },
    {
     "name": "stdout",
     "output_type": "stream",
     "text": [
      "Starting  114 sample\n",
      "Starting  115 sample\n",
      "Starting  116 sample\n",
      "Starting  117 sample\n"
     ]
    },
    {
     "name": "stderr",
     "output_type": "stream",
     "text": [
      "/home/berlands/anaconda3/envs/STATS507/lib/python3.9/site-packages/statsmodels/base/model.py:566: ConvergenceWarning: Maximum Likelihood optimization failed to converge. Check mle_retvals\n",
      "  warnings.warn(\"Maximum Likelihood optimization failed to \"\n",
      "/home/berlands/anaconda3/envs/STATS507/lib/python3.9/site-packages/statsmodels/regression/mixed_linear_model.py:2200: ConvergenceWarning: Retrying MixedLM optimization with lbfgs\n",
      "  warnings.warn(\n",
      "/home/berlands/anaconda3/envs/STATS507/lib/python3.9/site-packages/statsmodels/base/model.py:566: ConvergenceWarning: Maximum Likelihood optimization failed to converge. Check mle_retvals\n",
      "  warnings.warn(\"Maximum Likelihood optimization failed to \"\n",
      "/home/berlands/anaconda3/envs/STATS507/lib/python3.9/site-packages/statsmodels/regression/mixed_linear_model.py:2200: ConvergenceWarning: Retrying MixedLM optimization with cg\n",
      "  warnings.warn(\n",
      "/home/berlands/anaconda3/envs/STATS507/lib/python3.9/site-packages/statsmodels/base/model.py:566: ConvergenceWarning: Maximum Likelihood optimization failed to converge. Check mle_retvals\n",
      "  warnings.warn(\"Maximum Likelihood optimization failed to \"\n",
      "/home/berlands/anaconda3/envs/STATS507/lib/python3.9/site-packages/statsmodels/regression/mixed_linear_model.py:2206: ConvergenceWarning: MixedLM optimization failed, trying a different optimizer may help.\n",
      "  warnings.warn(msg, ConvergenceWarning)\n",
      "/home/berlands/anaconda3/envs/STATS507/lib/python3.9/site-packages/statsmodels/regression/mixed_linear_model.py:2218: ConvergenceWarning: Gradient optimization failed, |grad| = 0.842919\n",
      "  warnings.warn(msg, ConvergenceWarning)\n",
      "/tmp/ipykernel_50/1505425487.py:75: PerformanceWarning: DataFrame is highly fragmented.  This is usually the result of calling `frame.insert` many times, which has poor performance.  Consider joining all columns at once using pd.concat(axis=1) instead.  To get a de-fragmented frame, use `newframe = frame.copy()`\n",
      "  sampleStats[i] = (bsSample.groupby([\"year\", \"sex\"])\n",
      "/tmp/ipykernel_50/1505425487.py:77: PerformanceWarning: DataFrame is highly fragmented.  This is usually the result of calling `frame.insert` many times, which has poor performance.  Consider joining all columns at once using pd.concat(axis=1) instead.  To get a de-fragmented frame, use `newframe = frame.copy()`\n",
      "  predictedValsStat[i] = (modDat.groupby([\"year\", \"sex\"])\n"
     ]
    },
    {
     "name": "stdout",
     "output_type": "stream",
     "text": [
      "Starting  118 sample\n"
     ]
    },
    {
     "name": "stderr",
     "output_type": "stream",
     "text": [
      "/home/berlands/anaconda3/envs/STATS507/lib/python3.9/site-packages/statsmodels/base/model.py:566: ConvergenceWarning: Maximum Likelihood optimization failed to converge. Check mle_retvals\n",
      "  warnings.warn(\"Maximum Likelihood optimization failed to \"\n",
      "/home/berlands/anaconda3/envs/STATS507/lib/python3.9/site-packages/statsmodels/regression/mixed_linear_model.py:2200: ConvergenceWarning: Retrying MixedLM optimization with lbfgs\n",
      "  warnings.warn(\n",
      "/home/berlands/anaconda3/envs/STATS507/lib/python3.9/site-packages/statsmodels/base/model.py:566: ConvergenceWarning: Maximum Likelihood optimization failed to converge. Check mle_retvals\n",
      "  warnings.warn(\"Maximum Likelihood optimization failed to \"\n",
      "/home/berlands/anaconda3/envs/STATS507/lib/python3.9/site-packages/statsmodels/regression/mixed_linear_model.py:2200: ConvergenceWarning: Retrying MixedLM optimization with cg\n",
      "  warnings.warn(\n",
      "/home/berlands/anaconda3/envs/STATS507/lib/python3.9/site-packages/statsmodels/base/model.py:566: ConvergenceWarning: Maximum Likelihood optimization failed to converge. Check mle_retvals\n",
      "  warnings.warn(\"Maximum Likelihood optimization failed to \"\n",
      "/home/berlands/anaconda3/envs/STATS507/lib/python3.9/site-packages/statsmodels/regression/mixed_linear_model.py:2206: ConvergenceWarning: MixedLM optimization failed, trying a different optimizer may help.\n",
      "  warnings.warn(msg, ConvergenceWarning)\n",
      "/home/berlands/anaconda3/envs/STATS507/lib/python3.9/site-packages/statsmodels/regression/mixed_linear_model.py:2218: ConvergenceWarning: Gradient optimization failed, |grad| = 4.934454\n",
      "  warnings.warn(msg, ConvergenceWarning)\n",
      "/tmp/ipykernel_50/1505425487.py:75: PerformanceWarning: DataFrame is highly fragmented.  This is usually the result of calling `frame.insert` many times, which has poor performance.  Consider joining all columns at once using pd.concat(axis=1) instead.  To get a de-fragmented frame, use `newframe = frame.copy()`\n",
      "  sampleStats[i] = (bsSample.groupby([\"year\", \"sex\"])\n",
      "/tmp/ipykernel_50/1505425487.py:77: PerformanceWarning: DataFrame is highly fragmented.  This is usually the result of calling `frame.insert` many times, which has poor performance.  Consider joining all columns at once using pd.concat(axis=1) instead.  To get a de-fragmented frame, use `newframe = frame.copy()`\n",
      "  predictedValsStat[i] = (modDat.groupby([\"year\", \"sex\"])\n"
     ]
    },
    {
     "name": "stdout",
     "output_type": "stream",
     "text": [
      "Starting  119 sample\n"
     ]
    },
    {
     "name": "stderr",
     "output_type": "stream",
     "text": [
      "/home/berlands/anaconda3/envs/STATS507/lib/python3.9/site-packages/statsmodels/base/model.py:566: ConvergenceWarning: Maximum Likelihood optimization failed to converge. Check mle_retvals\n",
      "  warnings.warn(\"Maximum Likelihood optimization failed to \"\n",
      "/home/berlands/anaconda3/envs/STATS507/lib/python3.9/site-packages/statsmodels/regression/mixed_linear_model.py:2200: ConvergenceWarning: Retrying MixedLM optimization with lbfgs\n",
      "  warnings.warn(\n",
      "/home/berlands/anaconda3/envs/STATS507/lib/python3.9/site-packages/statsmodels/base/model.py:566: ConvergenceWarning: Maximum Likelihood optimization failed to converge. Check mle_retvals\n",
      "  warnings.warn(\"Maximum Likelihood optimization failed to \"\n",
      "/home/berlands/anaconda3/envs/STATS507/lib/python3.9/site-packages/statsmodels/regression/mixed_linear_model.py:2200: ConvergenceWarning: Retrying MixedLM optimization with cg\n",
      "  warnings.warn(\n",
      "/home/berlands/anaconda3/envs/STATS507/lib/python3.9/site-packages/statsmodels/base/model.py:566: ConvergenceWarning: Maximum Likelihood optimization failed to converge. Check mle_retvals\n",
      "  warnings.warn(\"Maximum Likelihood optimization failed to \"\n",
      "/home/berlands/anaconda3/envs/STATS507/lib/python3.9/site-packages/statsmodels/regression/mixed_linear_model.py:2206: ConvergenceWarning: MixedLM optimization failed, trying a different optimizer may help.\n",
      "  warnings.warn(msg, ConvergenceWarning)\n",
      "/home/berlands/anaconda3/envs/STATS507/lib/python3.9/site-packages/statsmodels/regression/mixed_linear_model.py:2218: ConvergenceWarning: Gradient optimization failed, |grad| = 1.319978\n",
      "  warnings.warn(msg, ConvergenceWarning)\n",
      "/tmp/ipykernel_50/1505425487.py:75: PerformanceWarning: DataFrame is highly fragmented.  This is usually the result of calling `frame.insert` many times, which has poor performance.  Consider joining all columns at once using pd.concat(axis=1) instead.  To get a de-fragmented frame, use `newframe = frame.copy()`\n",
      "  sampleStats[i] = (bsSample.groupby([\"year\", \"sex\"])\n",
      "/tmp/ipykernel_50/1505425487.py:77: PerformanceWarning: DataFrame is highly fragmented.  This is usually the result of calling `frame.insert` many times, which has poor performance.  Consider joining all columns at once using pd.concat(axis=1) instead.  To get a de-fragmented frame, use `newframe = frame.copy()`\n",
      "  predictedValsStat[i] = (modDat.groupby([\"year\", \"sex\"])\n"
     ]
    },
    {
     "name": "stdout",
     "output_type": "stream",
     "text": [
      "Starting  120 sample\n"
     ]
    },
    {
     "name": "stderr",
     "output_type": "stream",
     "text": [
      "/home/berlands/anaconda3/envs/STATS507/lib/python3.9/site-packages/statsmodels/base/model.py:566: ConvergenceWarning: Maximum Likelihood optimization failed to converge. Check mle_retvals\n",
      "  warnings.warn(\"Maximum Likelihood optimization failed to \"\n",
      "/home/berlands/anaconda3/envs/STATS507/lib/python3.9/site-packages/statsmodels/regression/mixed_linear_model.py:2200: ConvergenceWarning: Retrying MixedLM optimization with lbfgs\n",
      "  warnings.warn(\n",
      "/tmp/ipykernel_50/1505425487.py:75: PerformanceWarning: DataFrame is highly fragmented.  This is usually the result of calling `frame.insert` many times, which has poor performance.  Consider joining all columns at once using pd.concat(axis=1) instead.  To get a de-fragmented frame, use `newframe = frame.copy()`\n",
      "  sampleStats[i] = (bsSample.groupby([\"year\", \"sex\"])\n",
      "/tmp/ipykernel_50/1505425487.py:77: PerformanceWarning: DataFrame is highly fragmented.  This is usually the result of calling `frame.insert` many times, which has poor performance.  Consider joining all columns at once using pd.concat(axis=1) instead.  To get a de-fragmented frame, use `newframe = frame.copy()`\n",
      "  predictedValsStat[i] = (modDat.groupby([\"year\", \"sex\"])\n"
     ]
    },
    {
     "name": "stdout",
     "output_type": "stream",
     "text": [
      "Starting  121 sample\n"
     ]
    },
    {
     "name": "stderr",
     "output_type": "stream",
     "text": [
      "/home/berlands/anaconda3/envs/STATS507/lib/python3.9/site-packages/statsmodels/base/model.py:566: ConvergenceWarning: Maximum Likelihood optimization failed to converge. Check mle_retvals\n",
      "  warnings.warn(\"Maximum Likelihood optimization failed to \"\n",
      "/home/berlands/anaconda3/envs/STATS507/lib/python3.9/site-packages/statsmodels/regression/mixed_linear_model.py:2200: ConvergenceWarning: Retrying MixedLM optimization with lbfgs\n",
      "  warnings.warn(\n",
      "/home/berlands/anaconda3/envs/STATS507/lib/python3.9/site-packages/statsmodels/base/model.py:566: ConvergenceWarning: Maximum Likelihood optimization failed to converge. Check mle_retvals\n",
      "  warnings.warn(\"Maximum Likelihood optimization failed to \"\n",
      "/home/berlands/anaconda3/envs/STATS507/lib/python3.9/site-packages/statsmodels/regression/mixed_linear_model.py:2200: ConvergenceWarning: Retrying MixedLM optimization with cg\n",
      "  warnings.warn(\n",
      "/home/berlands/anaconda3/envs/STATS507/lib/python3.9/site-packages/statsmodels/base/model.py:566: ConvergenceWarning: Maximum Likelihood optimization failed to converge. Check mle_retvals\n",
      "  warnings.warn(\"Maximum Likelihood optimization failed to \"\n",
      "/home/berlands/anaconda3/envs/STATS507/lib/python3.9/site-packages/statsmodels/regression/mixed_linear_model.py:2206: ConvergenceWarning: MixedLM optimization failed, trying a different optimizer may help.\n",
      "  warnings.warn(msg, ConvergenceWarning)\n",
      "/home/berlands/anaconda3/envs/STATS507/lib/python3.9/site-packages/statsmodels/regression/mixed_linear_model.py:2218: ConvergenceWarning: Gradient optimization failed, |grad| = 7.720268\n",
      "  warnings.warn(msg, ConvergenceWarning)\n",
      "/tmp/ipykernel_50/1505425487.py:75: PerformanceWarning: DataFrame is highly fragmented.  This is usually the result of calling `frame.insert` many times, which has poor performance.  Consider joining all columns at once using pd.concat(axis=1) instead.  To get a de-fragmented frame, use `newframe = frame.copy()`\n",
      "  sampleStats[i] = (bsSample.groupby([\"year\", \"sex\"])\n",
      "/tmp/ipykernel_50/1505425487.py:77: PerformanceWarning: DataFrame is highly fragmented.  This is usually the result of calling `frame.insert` many times, which has poor performance.  Consider joining all columns at once using pd.concat(axis=1) instead.  To get a de-fragmented frame, use `newframe = frame.copy()`\n",
      "  predictedValsStat[i] = (modDat.groupby([\"year\", \"sex\"])\n"
     ]
    },
    {
     "name": "stdout",
     "output_type": "stream",
     "text": [
      "Starting  122 sample\n",
      "Starting  123 sample\n"
     ]
    },
    {
     "name": "stderr",
     "output_type": "stream",
     "text": [
      "/home/berlands/anaconda3/envs/STATS507/lib/python3.9/site-packages/statsmodels/base/model.py:566: ConvergenceWarning: Maximum Likelihood optimization failed to converge. Check mle_retvals\n",
      "  warnings.warn(\"Maximum Likelihood optimization failed to \"\n",
      "/home/berlands/anaconda3/envs/STATS507/lib/python3.9/site-packages/statsmodels/regression/mixed_linear_model.py:2200: ConvergenceWarning: Retrying MixedLM optimization with lbfgs\n",
      "  warnings.warn(\n",
      "/tmp/ipykernel_50/1505425487.py:75: PerformanceWarning: DataFrame is highly fragmented.  This is usually the result of calling `frame.insert` many times, which has poor performance.  Consider joining all columns at once using pd.concat(axis=1) instead.  To get a de-fragmented frame, use `newframe = frame.copy()`\n",
      "  sampleStats[i] = (bsSample.groupby([\"year\", \"sex\"])\n",
      "/tmp/ipykernel_50/1505425487.py:77: PerformanceWarning: DataFrame is highly fragmented.  This is usually the result of calling `frame.insert` many times, which has poor performance.  Consider joining all columns at once using pd.concat(axis=1) instead.  To get a de-fragmented frame, use `newframe = frame.copy()`\n",
      "  predictedValsStat[i] = (modDat.groupby([\"year\", \"sex\"])\n"
     ]
    },
    {
     "name": "stdout",
     "output_type": "stream",
     "text": [
      "Starting  124 sample\n",
      "Starting  125 sample\n",
      "Starting  126 sample\n"
     ]
    },
    {
     "name": "stderr",
     "output_type": "stream",
     "text": [
      "/home/berlands/anaconda3/envs/STATS507/lib/python3.9/site-packages/statsmodels/base/model.py:566: ConvergenceWarning: Maximum Likelihood optimization failed to converge. Check mle_retvals\n",
      "  warnings.warn(\"Maximum Likelihood optimization failed to \"\n",
      "/home/berlands/anaconda3/envs/STATS507/lib/python3.9/site-packages/statsmodels/regression/mixed_linear_model.py:2200: ConvergenceWarning: Retrying MixedLM optimization with lbfgs\n",
      "  warnings.warn(\n",
      "/tmp/ipykernel_50/1505425487.py:75: PerformanceWarning: DataFrame is highly fragmented.  This is usually the result of calling `frame.insert` many times, which has poor performance.  Consider joining all columns at once using pd.concat(axis=1) instead.  To get a de-fragmented frame, use `newframe = frame.copy()`\n",
      "  sampleStats[i] = (bsSample.groupby([\"year\", \"sex\"])\n",
      "/tmp/ipykernel_50/1505425487.py:77: PerformanceWarning: DataFrame is highly fragmented.  This is usually the result of calling `frame.insert` many times, which has poor performance.  Consider joining all columns at once using pd.concat(axis=1) instead.  To get a de-fragmented frame, use `newframe = frame.copy()`\n",
      "  predictedValsStat[i] = (modDat.groupby([\"year\", \"sex\"])\n"
     ]
    },
    {
     "name": "stdout",
     "output_type": "stream",
     "text": [
      "Starting  127 sample\n"
     ]
    },
    {
     "name": "stderr",
     "output_type": "stream",
     "text": [
      "/home/berlands/anaconda3/envs/STATS507/lib/python3.9/site-packages/statsmodels/base/model.py:566: ConvergenceWarning: Maximum Likelihood optimization failed to converge. Check mle_retvals\n",
      "  warnings.warn(\"Maximum Likelihood optimization failed to \"\n",
      "/home/berlands/anaconda3/envs/STATS507/lib/python3.9/site-packages/statsmodels/regression/mixed_linear_model.py:2200: ConvergenceWarning: Retrying MixedLM optimization with lbfgs\n",
      "  warnings.warn(\n",
      "/home/berlands/anaconda3/envs/STATS507/lib/python3.9/site-packages/statsmodels/base/model.py:566: ConvergenceWarning: Maximum Likelihood optimization failed to converge. Check mle_retvals\n",
      "  warnings.warn(\"Maximum Likelihood optimization failed to \"\n",
      "/home/berlands/anaconda3/envs/STATS507/lib/python3.9/site-packages/statsmodels/regression/mixed_linear_model.py:2200: ConvergenceWarning: Retrying MixedLM optimization with cg\n",
      "  warnings.warn(\n",
      "/home/berlands/anaconda3/envs/STATS507/lib/python3.9/site-packages/statsmodels/base/model.py:566: ConvergenceWarning: Maximum Likelihood optimization failed to converge. Check mle_retvals\n",
      "  warnings.warn(\"Maximum Likelihood optimization failed to \"\n",
      "/home/berlands/anaconda3/envs/STATS507/lib/python3.9/site-packages/statsmodels/regression/mixed_linear_model.py:2206: ConvergenceWarning: MixedLM optimization failed, trying a different optimizer may help.\n",
      "  warnings.warn(msg, ConvergenceWarning)\n",
      "/home/berlands/anaconda3/envs/STATS507/lib/python3.9/site-packages/statsmodels/regression/mixed_linear_model.py:2218: ConvergenceWarning: Gradient optimization failed, |grad| = 0.540790\n",
      "  warnings.warn(msg, ConvergenceWarning)\n",
      "/tmp/ipykernel_50/1505425487.py:75: PerformanceWarning: DataFrame is highly fragmented.  This is usually the result of calling `frame.insert` many times, which has poor performance.  Consider joining all columns at once using pd.concat(axis=1) instead.  To get a de-fragmented frame, use `newframe = frame.copy()`\n",
      "  sampleStats[i] = (bsSample.groupby([\"year\", \"sex\"])\n",
      "/tmp/ipykernel_50/1505425487.py:77: PerformanceWarning: DataFrame is highly fragmented.  This is usually the result of calling `frame.insert` many times, which has poor performance.  Consider joining all columns at once using pd.concat(axis=1) instead.  To get a de-fragmented frame, use `newframe = frame.copy()`\n",
      "  predictedValsStat[i] = (modDat.groupby([\"year\", \"sex\"])\n"
     ]
    },
    {
     "name": "stdout",
     "output_type": "stream",
     "text": [
      "Starting  128 sample\n"
     ]
    },
    {
     "name": "stderr",
     "output_type": "stream",
     "text": [
      "/home/berlands/anaconda3/envs/STATS507/lib/python3.9/site-packages/statsmodels/base/model.py:566: ConvergenceWarning: Maximum Likelihood optimization failed to converge. Check mle_retvals\n",
      "  warnings.warn(\"Maximum Likelihood optimization failed to \"\n",
      "/home/berlands/anaconda3/envs/STATS507/lib/python3.9/site-packages/statsmodels/regression/mixed_linear_model.py:2200: ConvergenceWarning: Retrying MixedLM optimization with lbfgs\n",
      "  warnings.warn(\n",
      "/home/berlands/anaconda3/envs/STATS507/lib/python3.9/site-packages/statsmodels/base/model.py:566: ConvergenceWarning: Maximum Likelihood optimization failed to converge. Check mle_retvals\n",
      "  warnings.warn(\"Maximum Likelihood optimization failed to \"\n",
      "/home/berlands/anaconda3/envs/STATS507/lib/python3.9/site-packages/statsmodels/regression/mixed_linear_model.py:2200: ConvergenceWarning: Retrying MixedLM optimization with cg\n",
      "  warnings.warn(\n",
      "/home/berlands/anaconda3/envs/STATS507/lib/python3.9/site-packages/statsmodels/base/model.py:566: ConvergenceWarning: Maximum Likelihood optimization failed to converge. Check mle_retvals\n",
      "  warnings.warn(\"Maximum Likelihood optimization failed to \"\n",
      "/home/berlands/anaconda3/envs/STATS507/lib/python3.9/site-packages/statsmodels/regression/mixed_linear_model.py:2206: ConvergenceWarning: MixedLM optimization failed, trying a different optimizer may help.\n",
      "  warnings.warn(msg, ConvergenceWarning)\n",
      "/home/berlands/anaconda3/envs/STATS507/lib/python3.9/site-packages/statsmodels/regression/mixed_linear_model.py:2218: ConvergenceWarning: Gradient optimization failed, |grad| = 8.161434\n",
      "  warnings.warn(msg, ConvergenceWarning)\n",
      "/tmp/ipykernel_50/1505425487.py:75: PerformanceWarning: DataFrame is highly fragmented.  This is usually the result of calling `frame.insert` many times, which has poor performance.  Consider joining all columns at once using pd.concat(axis=1) instead.  To get a de-fragmented frame, use `newframe = frame.copy()`\n",
      "  sampleStats[i] = (bsSample.groupby([\"year\", \"sex\"])\n",
      "/tmp/ipykernel_50/1505425487.py:77: PerformanceWarning: DataFrame is highly fragmented.  This is usually the result of calling `frame.insert` many times, which has poor performance.  Consider joining all columns at once using pd.concat(axis=1) instead.  To get a de-fragmented frame, use `newframe = frame.copy()`\n",
      "  predictedValsStat[i] = (modDat.groupby([\"year\", \"sex\"])\n"
     ]
    },
    {
     "name": "stdout",
     "output_type": "stream",
     "text": [
      "Starting  129 sample\n"
     ]
    },
    {
     "name": "stderr",
     "output_type": "stream",
     "text": [
      "/home/berlands/anaconda3/envs/STATS507/lib/python3.9/site-packages/statsmodels/base/model.py:566: ConvergenceWarning: Maximum Likelihood optimization failed to converge. Check mle_retvals\n",
      "  warnings.warn(\"Maximum Likelihood optimization failed to \"\n",
      "/home/berlands/anaconda3/envs/STATS507/lib/python3.9/site-packages/statsmodels/regression/mixed_linear_model.py:2200: ConvergenceWarning: Retrying MixedLM optimization with lbfgs\n",
      "  warnings.warn(\n",
      "/tmp/ipykernel_50/1505425487.py:75: PerformanceWarning: DataFrame is highly fragmented.  This is usually the result of calling `frame.insert` many times, which has poor performance.  Consider joining all columns at once using pd.concat(axis=1) instead.  To get a de-fragmented frame, use `newframe = frame.copy()`\n",
      "  sampleStats[i] = (bsSample.groupby([\"year\", \"sex\"])\n",
      "/tmp/ipykernel_50/1505425487.py:77: PerformanceWarning: DataFrame is highly fragmented.  This is usually the result of calling `frame.insert` many times, which has poor performance.  Consider joining all columns at once using pd.concat(axis=1) instead.  To get a de-fragmented frame, use `newframe = frame.copy()`\n",
      "  predictedValsStat[i] = (modDat.groupby([\"year\", \"sex\"])\n"
     ]
    },
    {
     "name": "stdout",
     "output_type": "stream",
     "text": [
      "Starting  130 sample\n"
     ]
    },
    {
     "name": "stderr",
     "output_type": "stream",
     "text": [
      "/home/berlands/anaconda3/envs/STATS507/lib/python3.9/site-packages/statsmodels/base/model.py:566: ConvergenceWarning: Maximum Likelihood optimization failed to converge. Check mle_retvals\n",
      "  warnings.warn(\"Maximum Likelihood optimization failed to \"\n",
      "/home/berlands/anaconda3/envs/STATS507/lib/python3.9/site-packages/statsmodels/regression/mixed_linear_model.py:2200: ConvergenceWarning: Retrying MixedLM optimization with lbfgs\n",
      "  warnings.warn(\n",
      "/home/berlands/anaconda3/envs/STATS507/lib/python3.9/site-packages/statsmodels/base/model.py:566: ConvergenceWarning: Maximum Likelihood optimization failed to converge. Check mle_retvals\n",
      "  warnings.warn(\"Maximum Likelihood optimization failed to \"\n",
      "/home/berlands/anaconda3/envs/STATS507/lib/python3.9/site-packages/statsmodels/regression/mixed_linear_model.py:2200: ConvergenceWarning: Retrying MixedLM optimization with cg\n",
      "  warnings.warn(\n",
      "/home/berlands/anaconda3/envs/STATS507/lib/python3.9/site-packages/statsmodels/base/model.py:566: ConvergenceWarning: Maximum Likelihood optimization failed to converge. Check mle_retvals\n",
      "  warnings.warn(\"Maximum Likelihood optimization failed to \"\n",
      "/home/berlands/anaconda3/envs/STATS507/lib/python3.9/site-packages/statsmodels/regression/mixed_linear_model.py:2206: ConvergenceWarning: MixedLM optimization failed, trying a different optimizer may help.\n",
      "  warnings.warn(msg, ConvergenceWarning)\n",
      "/home/berlands/anaconda3/envs/STATS507/lib/python3.9/site-packages/statsmodels/regression/mixed_linear_model.py:2218: ConvergenceWarning: Gradient optimization failed, |grad| = 5.665989\n",
      "  warnings.warn(msg, ConvergenceWarning)\n",
      "/tmp/ipykernel_50/1505425487.py:75: PerformanceWarning: DataFrame is highly fragmented.  This is usually the result of calling `frame.insert` many times, which has poor performance.  Consider joining all columns at once using pd.concat(axis=1) instead.  To get a de-fragmented frame, use `newframe = frame.copy()`\n",
      "  sampleStats[i] = (bsSample.groupby([\"year\", \"sex\"])\n",
      "/tmp/ipykernel_50/1505425487.py:77: PerformanceWarning: DataFrame is highly fragmented.  This is usually the result of calling `frame.insert` many times, which has poor performance.  Consider joining all columns at once using pd.concat(axis=1) instead.  To get a de-fragmented frame, use `newframe = frame.copy()`\n",
      "  predictedValsStat[i] = (modDat.groupby([\"year\", \"sex\"])\n"
     ]
    },
    {
     "name": "stdout",
     "output_type": "stream",
     "text": [
      "Starting  131 sample\n",
      "Starting  132 sample\n",
      "Starting  133 sample\n"
     ]
    },
    {
     "name": "stderr",
     "output_type": "stream",
     "text": [
      "/home/berlands/anaconda3/envs/STATS507/lib/python3.9/site-packages/statsmodels/base/model.py:566: ConvergenceWarning: Maximum Likelihood optimization failed to converge. Check mle_retvals\n",
      "  warnings.warn(\"Maximum Likelihood optimization failed to \"\n",
      "/home/berlands/anaconda3/envs/STATS507/lib/python3.9/site-packages/statsmodels/regression/mixed_linear_model.py:2200: ConvergenceWarning: Retrying MixedLM optimization with lbfgs\n",
      "  warnings.warn(\n",
      "/tmp/ipykernel_50/1505425487.py:75: PerformanceWarning: DataFrame is highly fragmented.  This is usually the result of calling `frame.insert` many times, which has poor performance.  Consider joining all columns at once using pd.concat(axis=1) instead.  To get a de-fragmented frame, use `newframe = frame.copy()`\n",
      "  sampleStats[i] = (bsSample.groupby([\"year\", \"sex\"])\n",
      "/tmp/ipykernel_50/1505425487.py:77: PerformanceWarning: DataFrame is highly fragmented.  This is usually the result of calling `frame.insert` many times, which has poor performance.  Consider joining all columns at once using pd.concat(axis=1) instead.  To get a de-fragmented frame, use `newframe = frame.copy()`\n",
      "  predictedValsStat[i] = (modDat.groupby([\"year\", \"sex\"])\n"
     ]
    },
    {
     "name": "stdout",
     "output_type": "stream",
     "text": [
      "Starting  134 sample\n"
     ]
    },
    {
     "name": "stderr",
     "output_type": "stream",
     "text": [
      "/home/berlands/anaconda3/envs/STATS507/lib/python3.9/site-packages/statsmodels/base/model.py:566: ConvergenceWarning: Maximum Likelihood optimization failed to converge. Check mle_retvals\n",
      "  warnings.warn(\"Maximum Likelihood optimization failed to \"\n",
      "/home/berlands/anaconda3/envs/STATS507/lib/python3.9/site-packages/statsmodels/regression/mixed_linear_model.py:2200: ConvergenceWarning: Retrying MixedLM optimization with lbfgs\n",
      "  warnings.warn(\n",
      "/home/berlands/anaconda3/envs/STATS507/lib/python3.9/site-packages/statsmodels/base/model.py:566: ConvergenceWarning: Maximum Likelihood optimization failed to converge. Check mle_retvals\n",
      "  warnings.warn(\"Maximum Likelihood optimization failed to \"\n",
      "/home/berlands/anaconda3/envs/STATS507/lib/python3.9/site-packages/statsmodels/regression/mixed_linear_model.py:2200: ConvergenceWarning: Retrying MixedLM optimization with cg\n",
      "  warnings.warn(\n",
      "/home/berlands/anaconda3/envs/STATS507/lib/python3.9/site-packages/statsmodels/base/model.py:566: ConvergenceWarning: Maximum Likelihood optimization failed to converge. Check mle_retvals\n",
      "  warnings.warn(\"Maximum Likelihood optimization failed to \"\n",
      "/home/berlands/anaconda3/envs/STATS507/lib/python3.9/site-packages/statsmodels/regression/mixed_linear_model.py:2206: ConvergenceWarning: MixedLM optimization failed, trying a different optimizer may help.\n",
      "  warnings.warn(msg, ConvergenceWarning)\n",
      "/home/berlands/anaconda3/envs/STATS507/lib/python3.9/site-packages/statsmodels/regression/mixed_linear_model.py:2218: ConvergenceWarning: Gradient optimization failed, |grad| = 5.047211\n",
      "  warnings.warn(msg, ConvergenceWarning)\n",
      "/tmp/ipykernel_50/1505425487.py:75: PerformanceWarning: DataFrame is highly fragmented.  This is usually the result of calling `frame.insert` many times, which has poor performance.  Consider joining all columns at once using pd.concat(axis=1) instead.  To get a de-fragmented frame, use `newframe = frame.copy()`\n",
      "  sampleStats[i] = (bsSample.groupby([\"year\", \"sex\"])\n",
      "/tmp/ipykernel_50/1505425487.py:77: PerformanceWarning: DataFrame is highly fragmented.  This is usually the result of calling `frame.insert` many times, which has poor performance.  Consider joining all columns at once using pd.concat(axis=1) instead.  To get a de-fragmented frame, use `newframe = frame.copy()`\n",
      "  predictedValsStat[i] = (modDat.groupby([\"year\", \"sex\"])\n"
     ]
    },
    {
     "name": "stdout",
     "output_type": "stream",
     "text": [
      "Starting  135 sample\n",
      "Starting  136 sample\n"
     ]
    },
    {
     "name": "stderr",
     "output_type": "stream",
     "text": [
      "/home/berlands/anaconda3/envs/STATS507/lib/python3.9/site-packages/statsmodels/base/model.py:566: ConvergenceWarning: Maximum Likelihood optimization failed to converge. Check mle_retvals\n",
      "  warnings.warn(\"Maximum Likelihood optimization failed to \"\n",
      "/home/berlands/anaconda3/envs/STATS507/lib/python3.9/site-packages/statsmodels/regression/mixed_linear_model.py:2200: ConvergenceWarning: Retrying MixedLM optimization with lbfgs\n",
      "  warnings.warn(\n",
      "/home/berlands/anaconda3/envs/STATS507/lib/python3.9/site-packages/statsmodels/base/model.py:566: ConvergenceWarning: Maximum Likelihood optimization failed to converge. Check mle_retvals\n",
      "  warnings.warn(\"Maximum Likelihood optimization failed to \"\n",
      "/home/berlands/anaconda3/envs/STATS507/lib/python3.9/site-packages/statsmodels/regression/mixed_linear_model.py:2200: ConvergenceWarning: Retrying MixedLM optimization with cg\n",
      "  warnings.warn(\n",
      "/home/berlands/anaconda3/envs/STATS507/lib/python3.9/site-packages/statsmodels/base/model.py:566: ConvergenceWarning: Maximum Likelihood optimization failed to converge. Check mle_retvals\n",
      "  warnings.warn(\"Maximum Likelihood optimization failed to \"\n",
      "/home/berlands/anaconda3/envs/STATS507/lib/python3.9/site-packages/statsmodels/regression/mixed_linear_model.py:2206: ConvergenceWarning: MixedLM optimization failed, trying a different optimizer may help.\n",
      "  warnings.warn(msg, ConvergenceWarning)\n",
      "/home/berlands/anaconda3/envs/STATS507/lib/python3.9/site-packages/statsmodels/regression/mixed_linear_model.py:2218: ConvergenceWarning: Gradient optimization failed, |grad| = 8.804815\n",
      "  warnings.warn(msg, ConvergenceWarning)\n",
      "/tmp/ipykernel_50/1505425487.py:75: PerformanceWarning: DataFrame is highly fragmented.  This is usually the result of calling `frame.insert` many times, which has poor performance.  Consider joining all columns at once using pd.concat(axis=1) instead.  To get a de-fragmented frame, use `newframe = frame.copy()`\n",
      "  sampleStats[i] = (bsSample.groupby([\"year\", \"sex\"])\n",
      "/tmp/ipykernel_50/1505425487.py:77: PerformanceWarning: DataFrame is highly fragmented.  This is usually the result of calling `frame.insert` many times, which has poor performance.  Consider joining all columns at once using pd.concat(axis=1) instead.  To get a de-fragmented frame, use `newframe = frame.copy()`\n",
      "  predictedValsStat[i] = (modDat.groupby([\"year\", \"sex\"])\n"
     ]
    },
    {
     "name": "stdout",
     "output_type": "stream",
     "text": [
      "Starting  137 sample\n",
      "Starting  138 sample\n"
     ]
    },
    {
     "name": "stderr",
     "output_type": "stream",
     "text": [
      "/home/berlands/anaconda3/envs/STATS507/lib/python3.9/site-packages/statsmodels/base/model.py:566: ConvergenceWarning: Maximum Likelihood optimization failed to converge. Check mle_retvals\n",
      "  warnings.warn(\"Maximum Likelihood optimization failed to \"\n",
      "/home/berlands/anaconda3/envs/STATS507/lib/python3.9/site-packages/statsmodels/regression/mixed_linear_model.py:2200: ConvergenceWarning: Retrying MixedLM optimization with lbfgs\n",
      "  warnings.warn(\n",
      "/home/berlands/anaconda3/envs/STATS507/lib/python3.9/site-packages/statsmodels/base/model.py:566: ConvergenceWarning: Maximum Likelihood optimization failed to converge. Check mle_retvals\n",
      "  warnings.warn(\"Maximum Likelihood optimization failed to \"\n",
      "/home/berlands/anaconda3/envs/STATS507/lib/python3.9/site-packages/statsmodels/regression/mixed_linear_model.py:2200: ConvergenceWarning: Retrying MixedLM optimization with cg\n",
      "  warnings.warn(\n",
      "/home/berlands/anaconda3/envs/STATS507/lib/python3.9/site-packages/statsmodels/base/model.py:566: ConvergenceWarning: Maximum Likelihood optimization failed to converge. Check mle_retvals\n",
      "  warnings.warn(\"Maximum Likelihood optimization failed to \"\n",
      "/home/berlands/anaconda3/envs/STATS507/lib/python3.9/site-packages/statsmodels/regression/mixed_linear_model.py:2206: ConvergenceWarning: MixedLM optimization failed, trying a different optimizer may help.\n",
      "  warnings.warn(msg, ConvergenceWarning)\n",
      "/home/berlands/anaconda3/envs/STATS507/lib/python3.9/site-packages/statsmodels/regression/mixed_linear_model.py:2218: ConvergenceWarning: Gradient optimization failed, |grad| = 9.139081\n",
      "  warnings.warn(msg, ConvergenceWarning)\n",
      "/tmp/ipykernel_50/1505425487.py:75: PerformanceWarning: DataFrame is highly fragmented.  This is usually the result of calling `frame.insert` many times, which has poor performance.  Consider joining all columns at once using pd.concat(axis=1) instead.  To get a de-fragmented frame, use `newframe = frame.copy()`\n",
      "  sampleStats[i] = (bsSample.groupby([\"year\", \"sex\"])\n",
      "/tmp/ipykernel_50/1505425487.py:77: PerformanceWarning: DataFrame is highly fragmented.  This is usually the result of calling `frame.insert` many times, which has poor performance.  Consider joining all columns at once using pd.concat(axis=1) instead.  To get a de-fragmented frame, use `newframe = frame.copy()`\n",
      "  predictedValsStat[i] = (modDat.groupby([\"year\", \"sex\"])\n"
     ]
    },
    {
     "name": "stdout",
     "output_type": "stream",
     "text": [
      "Starting  139 sample\n",
      "Starting  140 sample\n"
     ]
    },
    {
     "name": "stderr",
     "output_type": "stream",
     "text": [
      "/home/berlands/anaconda3/envs/STATS507/lib/python3.9/site-packages/statsmodels/base/model.py:566: ConvergenceWarning: Maximum Likelihood optimization failed to converge. Check mle_retvals\n",
      "  warnings.warn(\"Maximum Likelihood optimization failed to \"\n",
      "/home/berlands/anaconda3/envs/STATS507/lib/python3.9/site-packages/statsmodels/regression/mixed_linear_model.py:2200: ConvergenceWarning: Retrying MixedLM optimization with lbfgs\n",
      "  warnings.warn(\n",
      "/home/berlands/anaconda3/envs/STATS507/lib/python3.9/site-packages/statsmodels/base/model.py:566: ConvergenceWarning: Maximum Likelihood optimization failed to converge. Check mle_retvals\n",
      "  warnings.warn(\"Maximum Likelihood optimization failed to \"\n",
      "/home/berlands/anaconda3/envs/STATS507/lib/python3.9/site-packages/statsmodels/regression/mixed_linear_model.py:2200: ConvergenceWarning: Retrying MixedLM optimization with cg\n",
      "  warnings.warn(\n",
      "/home/berlands/anaconda3/envs/STATS507/lib/python3.9/site-packages/statsmodels/base/model.py:566: ConvergenceWarning: Maximum Likelihood optimization failed to converge. Check mle_retvals\n",
      "  warnings.warn(\"Maximum Likelihood optimization failed to \"\n",
      "/home/berlands/anaconda3/envs/STATS507/lib/python3.9/site-packages/statsmodels/regression/mixed_linear_model.py:2206: ConvergenceWarning: MixedLM optimization failed, trying a different optimizer may help.\n",
      "  warnings.warn(msg, ConvergenceWarning)\n",
      "/home/berlands/anaconda3/envs/STATS507/lib/python3.9/site-packages/statsmodels/regression/mixed_linear_model.py:2218: ConvergenceWarning: Gradient optimization failed, |grad| = 8.441756\n",
      "  warnings.warn(msg, ConvergenceWarning)\n",
      "/tmp/ipykernel_50/1505425487.py:75: PerformanceWarning: DataFrame is highly fragmented.  This is usually the result of calling `frame.insert` many times, which has poor performance.  Consider joining all columns at once using pd.concat(axis=1) instead.  To get a de-fragmented frame, use `newframe = frame.copy()`\n",
      "  sampleStats[i] = (bsSample.groupby([\"year\", \"sex\"])\n",
      "/tmp/ipykernel_50/1505425487.py:77: PerformanceWarning: DataFrame is highly fragmented.  This is usually the result of calling `frame.insert` many times, which has poor performance.  Consider joining all columns at once using pd.concat(axis=1) instead.  To get a de-fragmented frame, use `newframe = frame.copy()`\n",
      "  predictedValsStat[i] = (modDat.groupby([\"year\", \"sex\"])\n"
     ]
    },
    {
     "name": "stdout",
     "output_type": "stream",
     "text": [
      "Starting  141 sample\n",
      "Starting  142 sample\n",
      "Starting  143 sample\n"
     ]
    },
    {
     "name": "stderr",
     "output_type": "stream",
     "text": [
      "/home/berlands/anaconda3/envs/STATS507/lib/python3.9/site-packages/statsmodels/base/model.py:566: ConvergenceWarning: Maximum Likelihood optimization failed to converge. Check mle_retvals\n",
      "  warnings.warn(\"Maximum Likelihood optimization failed to \"\n",
      "/home/berlands/anaconda3/envs/STATS507/lib/python3.9/site-packages/statsmodels/regression/mixed_linear_model.py:2200: ConvergenceWarning: Retrying MixedLM optimization with lbfgs\n",
      "  warnings.warn(\n",
      "/home/berlands/anaconda3/envs/STATS507/lib/python3.9/site-packages/statsmodels/base/model.py:566: ConvergenceWarning: Maximum Likelihood optimization failed to converge. Check mle_retvals\n",
      "  warnings.warn(\"Maximum Likelihood optimization failed to \"\n",
      "/home/berlands/anaconda3/envs/STATS507/lib/python3.9/site-packages/statsmodels/regression/mixed_linear_model.py:2200: ConvergenceWarning: Retrying MixedLM optimization with cg\n",
      "  warnings.warn(\n",
      "/home/berlands/anaconda3/envs/STATS507/lib/python3.9/site-packages/statsmodels/base/model.py:566: ConvergenceWarning: Maximum Likelihood optimization failed to converge. Check mle_retvals\n",
      "  warnings.warn(\"Maximum Likelihood optimization failed to \"\n",
      "/home/berlands/anaconda3/envs/STATS507/lib/python3.9/site-packages/statsmodels/regression/mixed_linear_model.py:2206: ConvergenceWarning: MixedLM optimization failed, trying a different optimizer may help.\n",
      "  warnings.warn(msg, ConvergenceWarning)\n",
      "/home/berlands/anaconda3/envs/STATS507/lib/python3.9/site-packages/statsmodels/regression/mixed_linear_model.py:2218: ConvergenceWarning: Gradient optimization failed, |grad| = 7.269867\n",
      "  warnings.warn(msg, ConvergenceWarning)\n",
      "/tmp/ipykernel_50/1505425487.py:75: PerformanceWarning: DataFrame is highly fragmented.  This is usually the result of calling `frame.insert` many times, which has poor performance.  Consider joining all columns at once using pd.concat(axis=1) instead.  To get a de-fragmented frame, use `newframe = frame.copy()`\n",
      "  sampleStats[i] = (bsSample.groupby([\"year\", \"sex\"])\n",
      "/tmp/ipykernel_50/1505425487.py:77: PerformanceWarning: DataFrame is highly fragmented.  This is usually the result of calling `frame.insert` many times, which has poor performance.  Consider joining all columns at once using pd.concat(axis=1) instead.  To get a de-fragmented frame, use `newframe = frame.copy()`\n",
      "  predictedValsStat[i] = (modDat.groupby([\"year\", \"sex\"])\n"
     ]
    },
    {
     "name": "stdout",
     "output_type": "stream",
     "text": [
      "Starting  144 sample\n"
     ]
    },
    {
     "name": "stderr",
     "output_type": "stream",
     "text": [
      "/home/berlands/anaconda3/envs/STATS507/lib/python3.9/site-packages/statsmodels/base/model.py:566: ConvergenceWarning: Maximum Likelihood optimization failed to converge. Check mle_retvals\n",
      "  warnings.warn(\"Maximum Likelihood optimization failed to \"\n",
      "/home/berlands/anaconda3/envs/STATS507/lib/python3.9/site-packages/statsmodels/regression/mixed_linear_model.py:2200: ConvergenceWarning: Retrying MixedLM optimization with lbfgs\n",
      "  warnings.warn(\n",
      "/home/berlands/anaconda3/envs/STATS507/lib/python3.9/site-packages/statsmodels/base/model.py:566: ConvergenceWarning: Maximum Likelihood optimization failed to converge. Check mle_retvals\n",
      "  warnings.warn(\"Maximum Likelihood optimization failed to \"\n",
      "/home/berlands/anaconda3/envs/STATS507/lib/python3.9/site-packages/statsmodels/regression/mixed_linear_model.py:2200: ConvergenceWarning: Retrying MixedLM optimization with cg\n",
      "  warnings.warn(\n",
      "/home/berlands/anaconda3/envs/STATS507/lib/python3.9/site-packages/statsmodels/base/model.py:566: ConvergenceWarning: Maximum Likelihood optimization failed to converge. Check mle_retvals\n",
      "  warnings.warn(\"Maximum Likelihood optimization failed to \"\n",
      "/home/berlands/anaconda3/envs/STATS507/lib/python3.9/site-packages/statsmodels/regression/mixed_linear_model.py:2206: ConvergenceWarning: MixedLM optimization failed, trying a different optimizer may help.\n",
      "  warnings.warn(msg, ConvergenceWarning)\n",
      "/home/berlands/anaconda3/envs/STATS507/lib/python3.9/site-packages/statsmodels/regression/mixed_linear_model.py:2218: ConvergenceWarning: Gradient optimization failed, |grad| = 2.361963\n",
      "  warnings.warn(msg, ConvergenceWarning)\n",
      "/tmp/ipykernel_50/1505425487.py:75: PerformanceWarning: DataFrame is highly fragmented.  This is usually the result of calling `frame.insert` many times, which has poor performance.  Consider joining all columns at once using pd.concat(axis=1) instead.  To get a de-fragmented frame, use `newframe = frame.copy()`\n",
      "  sampleStats[i] = (bsSample.groupby([\"year\", \"sex\"])\n",
      "/tmp/ipykernel_50/1505425487.py:77: PerformanceWarning: DataFrame is highly fragmented.  This is usually the result of calling `frame.insert` many times, which has poor performance.  Consider joining all columns at once using pd.concat(axis=1) instead.  To get a de-fragmented frame, use `newframe = frame.copy()`\n",
      "  predictedValsStat[i] = (modDat.groupby([\"year\", \"sex\"])\n"
     ]
    },
    {
     "name": "stdout",
     "output_type": "stream",
     "text": [
      "Starting  145 sample\n"
     ]
    },
    {
     "name": "stderr",
     "output_type": "stream",
     "text": [
      "/home/berlands/anaconda3/envs/STATS507/lib/python3.9/site-packages/statsmodels/base/model.py:566: ConvergenceWarning: Maximum Likelihood optimization failed to converge. Check mle_retvals\n",
      "  warnings.warn(\"Maximum Likelihood optimization failed to \"\n",
      "/home/berlands/anaconda3/envs/STATS507/lib/python3.9/site-packages/statsmodels/regression/mixed_linear_model.py:2200: ConvergenceWarning: Retrying MixedLM optimization with lbfgs\n",
      "  warnings.warn(\n",
      "/home/berlands/anaconda3/envs/STATS507/lib/python3.9/site-packages/statsmodels/base/model.py:566: ConvergenceWarning: Maximum Likelihood optimization failed to converge. Check mle_retvals\n",
      "  warnings.warn(\"Maximum Likelihood optimization failed to \"\n",
      "/home/berlands/anaconda3/envs/STATS507/lib/python3.9/site-packages/statsmodels/regression/mixed_linear_model.py:2200: ConvergenceWarning: Retrying MixedLM optimization with cg\n",
      "  warnings.warn(\n",
      "/home/berlands/anaconda3/envs/STATS507/lib/python3.9/site-packages/statsmodels/base/model.py:566: ConvergenceWarning: Maximum Likelihood optimization failed to converge. Check mle_retvals\n",
      "  warnings.warn(\"Maximum Likelihood optimization failed to \"\n",
      "/home/berlands/anaconda3/envs/STATS507/lib/python3.9/site-packages/statsmodels/regression/mixed_linear_model.py:2206: ConvergenceWarning: MixedLM optimization failed, trying a different optimizer may help.\n",
      "  warnings.warn(msg, ConvergenceWarning)\n",
      "/home/berlands/anaconda3/envs/STATS507/lib/python3.9/site-packages/statsmodels/regression/mixed_linear_model.py:2218: ConvergenceWarning: Gradient optimization failed, |grad| = 0.013905\n",
      "  warnings.warn(msg, ConvergenceWarning)\n",
      "/tmp/ipykernel_50/1505425487.py:75: PerformanceWarning: DataFrame is highly fragmented.  This is usually the result of calling `frame.insert` many times, which has poor performance.  Consider joining all columns at once using pd.concat(axis=1) instead.  To get a de-fragmented frame, use `newframe = frame.copy()`\n",
      "  sampleStats[i] = (bsSample.groupby([\"year\", \"sex\"])\n",
      "/tmp/ipykernel_50/1505425487.py:77: PerformanceWarning: DataFrame is highly fragmented.  This is usually the result of calling `frame.insert` many times, which has poor performance.  Consider joining all columns at once using pd.concat(axis=1) instead.  To get a de-fragmented frame, use `newframe = frame.copy()`\n",
      "  predictedValsStat[i] = (modDat.groupby([\"year\", \"sex\"])\n"
     ]
    },
    {
     "name": "stdout",
     "output_type": "stream",
     "text": [
      "Starting  146 sample\n",
      "Starting  147 sample\n",
      "Starting  148 sample\n"
     ]
    },
    {
     "name": "stderr",
     "output_type": "stream",
     "text": [
      "/home/berlands/anaconda3/envs/STATS507/lib/python3.9/site-packages/statsmodels/base/model.py:566: ConvergenceWarning: Maximum Likelihood optimization failed to converge. Check mle_retvals\n",
      "  warnings.warn(\"Maximum Likelihood optimization failed to \"\n",
      "/home/berlands/anaconda3/envs/STATS507/lib/python3.9/site-packages/statsmodels/regression/mixed_linear_model.py:2200: ConvergenceWarning: Retrying MixedLM optimization with lbfgs\n",
      "  warnings.warn(\n",
      "/home/berlands/anaconda3/envs/STATS507/lib/python3.9/site-packages/statsmodels/base/model.py:566: ConvergenceWarning: Maximum Likelihood optimization failed to converge. Check mle_retvals\n",
      "  warnings.warn(\"Maximum Likelihood optimization failed to \"\n",
      "/home/berlands/anaconda3/envs/STATS507/lib/python3.9/site-packages/statsmodels/regression/mixed_linear_model.py:2200: ConvergenceWarning: Retrying MixedLM optimization with cg\n",
      "  warnings.warn(\n",
      "/home/berlands/anaconda3/envs/STATS507/lib/python3.9/site-packages/statsmodels/base/model.py:566: ConvergenceWarning: Maximum Likelihood optimization failed to converge. Check mle_retvals\n",
      "  warnings.warn(\"Maximum Likelihood optimization failed to \"\n",
      "/home/berlands/anaconda3/envs/STATS507/lib/python3.9/site-packages/statsmodels/regression/mixed_linear_model.py:2206: ConvergenceWarning: MixedLM optimization failed, trying a different optimizer may help.\n",
      "  warnings.warn(msg, ConvergenceWarning)\n",
      "/home/berlands/anaconda3/envs/STATS507/lib/python3.9/site-packages/statsmodels/regression/mixed_linear_model.py:2218: ConvergenceWarning: Gradient optimization failed, |grad| = 3.291394\n",
      "  warnings.warn(msg, ConvergenceWarning)\n",
      "/tmp/ipykernel_50/1505425487.py:75: PerformanceWarning: DataFrame is highly fragmented.  This is usually the result of calling `frame.insert` many times, which has poor performance.  Consider joining all columns at once using pd.concat(axis=1) instead.  To get a de-fragmented frame, use `newframe = frame.copy()`\n",
      "  sampleStats[i] = (bsSample.groupby([\"year\", \"sex\"])\n",
      "/tmp/ipykernel_50/1505425487.py:77: PerformanceWarning: DataFrame is highly fragmented.  This is usually the result of calling `frame.insert` many times, which has poor performance.  Consider joining all columns at once using pd.concat(axis=1) instead.  To get a de-fragmented frame, use `newframe = frame.copy()`\n",
      "  predictedValsStat[i] = (modDat.groupby([\"year\", \"sex\"])\n"
     ]
    },
    {
     "name": "stdout",
     "output_type": "stream",
     "text": [
      "Starting  149 sample\n"
     ]
    },
    {
     "name": "stderr",
     "output_type": "stream",
     "text": [
      "/home/berlands/anaconda3/envs/STATS507/lib/python3.9/site-packages/statsmodels/base/model.py:566: ConvergenceWarning: Maximum Likelihood optimization failed to converge. Check mle_retvals\n",
      "  warnings.warn(\"Maximum Likelihood optimization failed to \"\n",
      "/home/berlands/anaconda3/envs/STATS507/lib/python3.9/site-packages/statsmodels/regression/mixed_linear_model.py:2200: ConvergenceWarning: Retrying MixedLM optimization with lbfgs\n",
      "  warnings.warn(\n",
      "/home/berlands/anaconda3/envs/STATS507/lib/python3.9/site-packages/statsmodels/base/model.py:566: ConvergenceWarning: Maximum Likelihood optimization failed to converge. Check mle_retvals\n",
      "  warnings.warn(\"Maximum Likelihood optimization failed to \"\n",
      "/home/berlands/anaconda3/envs/STATS507/lib/python3.9/site-packages/statsmodels/regression/mixed_linear_model.py:2200: ConvergenceWarning: Retrying MixedLM optimization with cg\n",
      "  warnings.warn(\n",
      "/home/berlands/anaconda3/envs/STATS507/lib/python3.9/site-packages/statsmodels/base/model.py:566: ConvergenceWarning: Maximum Likelihood optimization failed to converge. Check mle_retvals\n",
      "  warnings.warn(\"Maximum Likelihood optimization failed to \"\n",
      "/home/berlands/anaconda3/envs/STATS507/lib/python3.9/site-packages/statsmodels/regression/mixed_linear_model.py:2206: ConvergenceWarning: MixedLM optimization failed, trying a different optimizer may help.\n",
      "  warnings.warn(msg, ConvergenceWarning)\n",
      "/home/berlands/anaconda3/envs/STATS507/lib/python3.9/site-packages/statsmodels/regression/mixed_linear_model.py:2218: ConvergenceWarning: Gradient optimization failed, |grad| = 2.333680\n",
      "  warnings.warn(msg, ConvergenceWarning)\n",
      "/tmp/ipykernel_50/1505425487.py:75: PerformanceWarning: DataFrame is highly fragmented.  This is usually the result of calling `frame.insert` many times, which has poor performance.  Consider joining all columns at once using pd.concat(axis=1) instead.  To get a de-fragmented frame, use `newframe = frame.copy()`\n",
      "  sampleStats[i] = (bsSample.groupby([\"year\", \"sex\"])\n",
      "/tmp/ipykernel_50/1505425487.py:77: PerformanceWarning: DataFrame is highly fragmented.  This is usually the result of calling `frame.insert` many times, which has poor performance.  Consider joining all columns at once using pd.concat(axis=1) instead.  To get a de-fragmented frame, use `newframe = frame.copy()`\n",
      "  predictedValsStat[i] = (modDat.groupby([\"year\", \"sex\"])\n"
     ]
    },
    {
     "name": "stdout",
     "output_type": "stream",
     "text": [
      "Starting  150 sample\n"
     ]
    },
    {
     "name": "stderr",
     "output_type": "stream",
     "text": [
      "/home/berlands/anaconda3/envs/STATS507/lib/python3.9/site-packages/statsmodels/base/model.py:566: ConvergenceWarning: Maximum Likelihood optimization failed to converge. Check mle_retvals\n",
      "  warnings.warn(\"Maximum Likelihood optimization failed to \"\n",
      "/home/berlands/anaconda3/envs/STATS507/lib/python3.9/site-packages/statsmodels/regression/mixed_linear_model.py:2200: ConvergenceWarning: Retrying MixedLM optimization with lbfgs\n",
      "  warnings.warn(\n",
      "/home/berlands/anaconda3/envs/STATS507/lib/python3.9/site-packages/statsmodels/base/model.py:566: ConvergenceWarning: Maximum Likelihood optimization failed to converge. Check mle_retvals\n",
      "  warnings.warn(\"Maximum Likelihood optimization failed to \"\n",
      "/home/berlands/anaconda3/envs/STATS507/lib/python3.9/site-packages/statsmodels/regression/mixed_linear_model.py:2200: ConvergenceWarning: Retrying MixedLM optimization with cg\n",
      "  warnings.warn(\n",
      "/home/berlands/anaconda3/envs/STATS507/lib/python3.9/site-packages/statsmodels/base/model.py:566: ConvergenceWarning: Maximum Likelihood optimization failed to converge. Check mle_retvals\n",
      "  warnings.warn(\"Maximum Likelihood optimization failed to \"\n",
      "/home/berlands/anaconda3/envs/STATS507/lib/python3.9/site-packages/statsmodels/regression/mixed_linear_model.py:2206: ConvergenceWarning: MixedLM optimization failed, trying a different optimizer may help.\n",
      "  warnings.warn(msg, ConvergenceWarning)\n",
      "/home/berlands/anaconda3/envs/STATS507/lib/python3.9/site-packages/statsmodels/regression/mixed_linear_model.py:2218: ConvergenceWarning: Gradient optimization failed, |grad| = 1.264724\n",
      "  warnings.warn(msg, ConvergenceWarning)\n",
      "/tmp/ipykernel_50/1505425487.py:75: PerformanceWarning: DataFrame is highly fragmented.  This is usually the result of calling `frame.insert` many times, which has poor performance.  Consider joining all columns at once using pd.concat(axis=1) instead.  To get a de-fragmented frame, use `newframe = frame.copy()`\n",
      "  sampleStats[i] = (bsSample.groupby([\"year\", \"sex\"])\n",
      "/tmp/ipykernel_50/1505425487.py:77: PerformanceWarning: DataFrame is highly fragmented.  This is usually the result of calling `frame.insert` many times, which has poor performance.  Consider joining all columns at once using pd.concat(axis=1) instead.  To get a de-fragmented frame, use `newframe = frame.copy()`\n",
      "  predictedValsStat[i] = (modDat.groupby([\"year\", \"sex\"])\n"
     ]
    },
    {
     "name": "stdout",
     "output_type": "stream",
     "text": [
      "Starting  151 sample\n",
      "Starting  152 sample\n"
     ]
    },
    {
     "name": "stderr",
     "output_type": "stream",
     "text": [
      "/home/berlands/anaconda3/envs/STATS507/lib/python3.9/site-packages/statsmodels/base/model.py:566: ConvergenceWarning: Maximum Likelihood optimization failed to converge. Check mle_retvals\n",
      "  warnings.warn(\"Maximum Likelihood optimization failed to \"\n",
      "/home/berlands/anaconda3/envs/STATS507/lib/python3.9/site-packages/statsmodels/regression/mixed_linear_model.py:2200: ConvergenceWarning: Retrying MixedLM optimization with lbfgs\n",
      "  warnings.warn(\n",
      "/home/berlands/anaconda3/envs/STATS507/lib/python3.9/site-packages/statsmodels/base/model.py:566: ConvergenceWarning: Maximum Likelihood optimization failed to converge. Check mle_retvals\n",
      "  warnings.warn(\"Maximum Likelihood optimization failed to \"\n",
      "/home/berlands/anaconda3/envs/STATS507/lib/python3.9/site-packages/statsmodels/regression/mixed_linear_model.py:2200: ConvergenceWarning: Retrying MixedLM optimization with cg\n",
      "  warnings.warn(\n",
      "/home/berlands/anaconda3/envs/STATS507/lib/python3.9/site-packages/statsmodels/base/model.py:566: ConvergenceWarning: Maximum Likelihood optimization failed to converge. Check mle_retvals\n",
      "  warnings.warn(\"Maximum Likelihood optimization failed to \"\n",
      "/home/berlands/anaconda3/envs/STATS507/lib/python3.9/site-packages/statsmodels/regression/mixed_linear_model.py:2206: ConvergenceWarning: MixedLM optimization failed, trying a different optimizer may help.\n",
      "  warnings.warn(msg, ConvergenceWarning)\n",
      "/home/berlands/anaconda3/envs/STATS507/lib/python3.9/site-packages/statsmodels/regression/mixed_linear_model.py:2218: ConvergenceWarning: Gradient optimization failed, |grad| = 0.400443\n",
      "  warnings.warn(msg, ConvergenceWarning)\n",
      "/tmp/ipykernel_50/1505425487.py:75: PerformanceWarning: DataFrame is highly fragmented.  This is usually the result of calling `frame.insert` many times, which has poor performance.  Consider joining all columns at once using pd.concat(axis=1) instead.  To get a de-fragmented frame, use `newframe = frame.copy()`\n",
      "  sampleStats[i] = (bsSample.groupby([\"year\", \"sex\"])\n",
      "/tmp/ipykernel_50/1505425487.py:77: PerformanceWarning: DataFrame is highly fragmented.  This is usually the result of calling `frame.insert` many times, which has poor performance.  Consider joining all columns at once using pd.concat(axis=1) instead.  To get a de-fragmented frame, use `newframe = frame.copy()`\n",
      "  predictedValsStat[i] = (modDat.groupby([\"year\", \"sex\"])\n"
     ]
    },
    {
     "name": "stdout",
     "output_type": "stream",
     "text": [
      "Starting  153 sample\n",
      "Starting  154 sample\n"
     ]
    },
    {
     "name": "stderr",
     "output_type": "stream",
     "text": [
      "/home/berlands/anaconda3/envs/STATS507/lib/python3.9/site-packages/statsmodels/base/model.py:566: ConvergenceWarning: Maximum Likelihood optimization failed to converge. Check mle_retvals\n",
      "  warnings.warn(\"Maximum Likelihood optimization failed to \"\n",
      "/home/berlands/anaconda3/envs/STATS507/lib/python3.9/site-packages/statsmodels/regression/mixed_linear_model.py:2200: ConvergenceWarning: Retrying MixedLM optimization with lbfgs\n",
      "  warnings.warn(\n",
      "/home/berlands/anaconda3/envs/STATS507/lib/python3.9/site-packages/statsmodels/base/model.py:566: ConvergenceWarning: Maximum Likelihood optimization failed to converge. Check mle_retvals\n",
      "  warnings.warn(\"Maximum Likelihood optimization failed to \"\n",
      "/home/berlands/anaconda3/envs/STATS507/lib/python3.9/site-packages/statsmodels/regression/mixed_linear_model.py:2200: ConvergenceWarning: Retrying MixedLM optimization with cg\n",
      "  warnings.warn(\n",
      "/home/berlands/anaconda3/envs/STATS507/lib/python3.9/site-packages/statsmodels/base/model.py:566: ConvergenceWarning: Maximum Likelihood optimization failed to converge. Check mle_retvals\n",
      "  warnings.warn(\"Maximum Likelihood optimization failed to \"\n",
      "/home/berlands/anaconda3/envs/STATS507/lib/python3.9/site-packages/statsmodels/regression/mixed_linear_model.py:2206: ConvergenceWarning: MixedLM optimization failed, trying a different optimizer may help.\n",
      "  warnings.warn(msg, ConvergenceWarning)\n",
      "/home/berlands/anaconda3/envs/STATS507/lib/python3.9/site-packages/statsmodels/regression/mixed_linear_model.py:2218: ConvergenceWarning: Gradient optimization failed, |grad| = 2.192769\n",
      "  warnings.warn(msg, ConvergenceWarning)\n",
      "/tmp/ipykernel_50/1505425487.py:75: PerformanceWarning: DataFrame is highly fragmented.  This is usually the result of calling `frame.insert` many times, which has poor performance.  Consider joining all columns at once using pd.concat(axis=1) instead.  To get a de-fragmented frame, use `newframe = frame.copy()`\n",
      "  sampleStats[i] = (bsSample.groupby([\"year\", \"sex\"])\n",
      "/tmp/ipykernel_50/1505425487.py:77: PerformanceWarning: DataFrame is highly fragmented.  This is usually the result of calling `frame.insert` many times, which has poor performance.  Consider joining all columns at once using pd.concat(axis=1) instead.  To get a de-fragmented frame, use `newframe = frame.copy()`\n",
      "  predictedValsStat[i] = (modDat.groupby([\"year\", \"sex\"])\n"
     ]
    },
    {
     "name": "stdout",
     "output_type": "stream",
     "text": [
      "Starting  155 sample\n",
      "Starting  156 sample\n",
      "Starting  157 sample\n",
      "Starting  158 sample\n"
     ]
    },
    {
     "name": "stderr",
     "output_type": "stream",
     "text": [
      "/home/berlands/anaconda3/envs/STATS507/lib/python3.9/site-packages/statsmodels/base/model.py:566: ConvergenceWarning: Maximum Likelihood optimization failed to converge. Check mle_retvals\n",
      "  warnings.warn(\"Maximum Likelihood optimization failed to \"\n",
      "/home/berlands/anaconda3/envs/STATS507/lib/python3.9/site-packages/statsmodels/regression/mixed_linear_model.py:2200: ConvergenceWarning: Retrying MixedLM optimization with lbfgs\n",
      "  warnings.warn(\n",
      "/home/berlands/anaconda3/envs/STATS507/lib/python3.9/site-packages/statsmodels/base/model.py:566: ConvergenceWarning: Maximum Likelihood optimization failed to converge. Check mle_retvals\n",
      "  warnings.warn(\"Maximum Likelihood optimization failed to \"\n",
      "/home/berlands/anaconda3/envs/STATS507/lib/python3.9/site-packages/statsmodels/regression/mixed_linear_model.py:2200: ConvergenceWarning: Retrying MixedLM optimization with cg\n",
      "  warnings.warn(\n",
      "/home/berlands/anaconda3/envs/STATS507/lib/python3.9/site-packages/statsmodels/base/model.py:566: ConvergenceWarning: Maximum Likelihood optimization failed to converge. Check mle_retvals\n",
      "  warnings.warn(\"Maximum Likelihood optimization failed to \"\n",
      "/home/berlands/anaconda3/envs/STATS507/lib/python3.9/site-packages/statsmodels/regression/mixed_linear_model.py:2206: ConvergenceWarning: MixedLM optimization failed, trying a different optimizer may help.\n",
      "  warnings.warn(msg, ConvergenceWarning)\n",
      "/home/berlands/anaconda3/envs/STATS507/lib/python3.9/site-packages/statsmodels/regression/mixed_linear_model.py:2218: ConvergenceWarning: Gradient optimization failed, |grad| = 4.491101\n",
      "  warnings.warn(msg, ConvergenceWarning)\n",
      "/tmp/ipykernel_50/1505425487.py:75: PerformanceWarning: DataFrame is highly fragmented.  This is usually the result of calling `frame.insert` many times, which has poor performance.  Consider joining all columns at once using pd.concat(axis=1) instead.  To get a de-fragmented frame, use `newframe = frame.copy()`\n",
      "  sampleStats[i] = (bsSample.groupby([\"year\", \"sex\"])\n",
      "/tmp/ipykernel_50/1505425487.py:77: PerformanceWarning: DataFrame is highly fragmented.  This is usually the result of calling `frame.insert` many times, which has poor performance.  Consider joining all columns at once using pd.concat(axis=1) instead.  To get a de-fragmented frame, use `newframe = frame.copy()`\n",
      "  predictedValsStat[i] = (modDat.groupby([\"year\", \"sex\"])\n"
     ]
    },
    {
     "name": "stdout",
     "output_type": "stream",
     "text": [
      "Starting  159 sample\n",
      "Starting  160 sample\n"
     ]
    },
    {
     "name": "stderr",
     "output_type": "stream",
     "text": [
      "/home/berlands/anaconda3/envs/STATS507/lib/python3.9/site-packages/statsmodels/base/model.py:566: ConvergenceWarning: Maximum Likelihood optimization failed to converge. Check mle_retvals\n",
      "  warnings.warn(\"Maximum Likelihood optimization failed to \"\n",
      "/home/berlands/anaconda3/envs/STATS507/lib/python3.9/site-packages/statsmodels/regression/mixed_linear_model.py:2200: ConvergenceWarning: Retrying MixedLM optimization with lbfgs\n",
      "  warnings.warn(\n",
      "/tmp/ipykernel_50/1505425487.py:75: PerformanceWarning: DataFrame is highly fragmented.  This is usually the result of calling `frame.insert` many times, which has poor performance.  Consider joining all columns at once using pd.concat(axis=1) instead.  To get a de-fragmented frame, use `newframe = frame.copy()`\n",
      "  sampleStats[i] = (bsSample.groupby([\"year\", \"sex\"])\n",
      "/tmp/ipykernel_50/1505425487.py:77: PerformanceWarning: DataFrame is highly fragmented.  This is usually the result of calling `frame.insert` many times, which has poor performance.  Consider joining all columns at once using pd.concat(axis=1) instead.  To get a de-fragmented frame, use `newframe = frame.copy()`\n",
      "  predictedValsStat[i] = (modDat.groupby([\"year\", \"sex\"])\n"
     ]
    },
    {
     "name": "stdout",
     "output_type": "stream",
     "text": [
      "Starting  161 sample\n"
     ]
    },
    {
     "name": "stderr",
     "output_type": "stream",
     "text": [
      "/home/berlands/anaconda3/envs/STATS507/lib/python3.9/site-packages/statsmodels/base/model.py:566: ConvergenceWarning: Maximum Likelihood optimization failed to converge. Check mle_retvals\n",
      "  warnings.warn(\"Maximum Likelihood optimization failed to \"\n",
      "/home/berlands/anaconda3/envs/STATS507/lib/python3.9/site-packages/statsmodels/regression/mixed_linear_model.py:2200: ConvergenceWarning: Retrying MixedLM optimization with lbfgs\n",
      "  warnings.warn(\n",
      "/tmp/ipykernel_50/1505425487.py:75: PerformanceWarning: DataFrame is highly fragmented.  This is usually the result of calling `frame.insert` many times, which has poor performance.  Consider joining all columns at once using pd.concat(axis=1) instead.  To get a de-fragmented frame, use `newframe = frame.copy()`\n",
      "  sampleStats[i] = (bsSample.groupby([\"year\", \"sex\"])\n",
      "/tmp/ipykernel_50/1505425487.py:77: PerformanceWarning: DataFrame is highly fragmented.  This is usually the result of calling `frame.insert` many times, which has poor performance.  Consider joining all columns at once using pd.concat(axis=1) instead.  To get a de-fragmented frame, use `newframe = frame.copy()`\n",
      "  predictedValsStat[i] = (modDat.groupby([\"year\", \"sex\"])\n"
     ]
    },
    {
     "name": "stdout",
     "output_type": "stream",
     "text": [
      "Starting  162 sample\n"
     ]
    },
    {
     "name": "stderr",
     "output_type": "stream",
     "text": [
      "/home/berlands/anaconda3/envs/STATS507/lib/python3.9/site-packages/statsmodels/base/model.py:566: ConvergenceWarning: Maximum Likelihood optimization failed to converge. Check mle_retvals\n",
      "  warnings.warn(\"Maximum Likelihood optimization failed to \"\n",
      "/home/berlands/anaconda3/envs/STATS507/lib/python3.9/site-packages/statsmodels/regression/mixed_linear_model.py:2200: ConvergenceWarning: Retrying MixedLM optimization with lbfgs\n",
      "  warnings.warn(\n",
      "/tmp/ipykernel_50/1505425487.py:75: PerformanceWarning: DataFrame is highly fragmented.  This is usually the result of calling `frame.insert` many times, which has poor performance.  Consider joining all columns at once using pd.concat(axis=1) instead.  To get a de-fragmented frame, use `newframe = frame.copy()`\n",
      "  sampleStats[i] = (bsSample.groupby([\"year\", \"sex\"])\n",
      "/tmp/ipykernel_50/1505425487.py:77: PerformanceWarning: DataFrame is highly fragmented.  This is usually the result of calling `frame.insert` many times, which has poor performance.  Consider joining all columns at once using pd.concat(axis=1) instead.  To get a de-fragmented frame, use `newframe = frame.copy()`\n",
      "  predictedValsStat[i] = (modDat.groupby([\"year\", \"sex\"])\n"
     ]
    },
    {
     "name": "stdout",
     "output_type": "stream",
     "text": [
      "Starting  163 sample\n"
     ]
    },
    {
     "name": "stderr",
     "output_type": "stream",
     "text": [
      "/home/berlands/anaconda3/envs/STATS507/lib/python3.9/site-packages/statsmodels/base/model.py:566: ConvergenceWarning: Maximum Likelihood optimization failed to converge. Check mle_retvals\n",
      "  warnings.warn(\"Maximum Likelihood optimization failed to \"\n",
      "/home/berlands/anaconda3/envs/STATS507/lib/python3.9/site-packages/statsmodels/regression/mixed_linear_model.py:2200: ConvergenceWarning: Retrying MixedLM optimization with lbfgs\n",
      "  warnings.warn(\n",
      "/home/berlands/anaconda3/envs/STATS507/lib/python3.9/site-packages/statsmodels/base/model.py:566: ConvergenceWarning: Maximum Likelihood optimization failed to converge. Check mle_retvals\n",
      "  warnings.warn(\"Maximum Likelihood optimization failed to \"\n",
      "/home/berlands/anaconda3/envs/STATS507/lib/python3.9/site-packages/statsmodels/regression/mixed_linear_model.py:2200: ConvergenceWarning: Retrying MixedLM optimization with cg\n",
      "  warnings.warn(\n",
      "/home/berlands/anaconda3/envs/STATS507/lib/python3.9/site-packages/statsmodels/base/model.py:566: ConvergenceWarning: Maximum Likelihood optimization failed to converge. Check mle_retvals\n",
      "  warnings.warn(\"Maximum Likelihood optimization failed to \"\n",
      "/home/berlands/anaconda3/envs/STATS507/lib/python3.9/site-packages/statsmodels/regression/mixed_linear_model.py:2206: ConvergenceWarning: MixedLM optimization failed, trying a different optimizer may help.\n",
      "  warnings.warn(msg, ConvergenceWarning)\n",
      "/home/berlands/anaconda3/envs/STATS507/lib/python3.9/site-packages/statsmodels/regression/mixed_linear_model.py:2218: ConvergenceWarning: Gradient optimization failed, |grad| = 8.091530\n",
      "  warnings.warn(msg, ConvergenceWarning)\n",
      "/tmp/ipykernel_50/1505425487.py:75: PerformanceWarning: DataFrame is highly fragmented.  This is usually the result of calling `frame.insert` many times, which has poor performance.  Consider joining all columns at once using pd.concat(axis=1) instead.  To get a de-fragmented frame, use `newframe = frame.copy()`\n",
      "  sampleStats[i] = (bsSample.groupby([\"year\", \"sex\"])\n",
      "/tmp/ipykernel_50/1505425487.py:77: PerformanceWarning: DataFrame is highly fragmented.  This is usually the result of calling `frame.insert` many times, which has poor performance.  Consider joining all columns at once using pd.concat(axis=1) instead.  To get a de-fragmented frame, use `newframe = frame.copy()`\n",
      "  predictedValsStat[i] = (modDat.groupby([\"year\", \"sex\"])\n"
     ]
    },
    {
     "name": "stdout",
     "output_type": "stream",
     "text": [
      "Starting  164 sample\n"
     ]
    },
    {
     "name": "stderr",
     "output_type": "stream",
     "text": [
      "/home/berlands/anaconda3/envs/STATS507/lib/python3.9/site-packages/statsmodels/base/model.py:566: ConvergenceWarning: Maximum Likelihood optimization failed to converge. Check mle_retvals\n",
      "  warnings.warn(\"Maximum Likelihood optimization failed to \"\n",
      "/home/berlands/anaconda3/envs/STATS507/lib/python3.9/site-packages/statsmodels/regression/mixed_linear_model.py:2200: ConvergenceWarning: Retrying MixedLM optimization with lbfgs\n",
      "  warnings.warn(\n",
      "/home/berlands/anaconda3/envs/STATS507/lib/python3.9/site-packages/statsmodels/base/model.py:566: ConvergenceWarning: Maximum Likelihood optimization failed to converge. Check mle_retvals\n",
      "  warnings.warn(\"Maximum Likelihood optimization failed to \"\n",
      "/home/berlands/anaconda3/envs/STATS507/lib/python3.9/site-packages/statsmodels/regression/mixed_linear_model.py:2200: ConvergenceWarning: Retrying MixedLM optimization with cg\n",
      "  warnings.warn(\n",
      "/home/berlands/anaconda3/envs/STATS507/lib/python3.9/site-packages/statsmodels/base/model.py:566: ConvergenceWarning: Maximum Likelihood optimization failed to converge. Check mle_retvals\n",
      "  warnings.warn(\"Maximum Likelihood optimization failed to \"\n",
      "/home/berlands/anaconda3/envs/STATS507/lib/python3.9/site-packages/statsmodels/regression/mixed_linear_model.py:2206: ConvergenceWarning: MixedLM optimization failed, trying a different optimizer may help.\n",
      "  warnings.warn(msg, ConvergenceWarning)\n",
      "/home/berlands/anaconda3/envs/STATS507/lib/python3.9/site-packages/statsmodels/regression/mixed_linear_model.py:2218: ConvergenceWarning: Gradient optimization failed, |grad| = 7.933822\n",
      "  warnings.warn(msg, ConvergenceWarning)\n",
      "/tmp/ipykernel_50/1505425487.py:75: PerformanceWarning: DataFrame is highly fragmented.  This is usually the result of calling `frame.insert` many times, which has poor performance.  Consider joining all columns at once using pd.concat(axis=1) instead.  To get a de-fragmented frame, use `newframe = frame.copy()`\n",
      "  sampleStats[i] = (bsSample.groupby([\"year\", \"sex\"])\n",
      "/tmp/ipykernel_50/1505425487.py:77: PerformanceWarning: DataFrame is highly fragmented.  This is usually the result of calling `frame.insert` many times, which has poor performance.  Consider joining all columns at once using pd.concat(axis=1) instead.  To get a de-fragmented frame, use `newframe = frame.copy()`\n",
      "  predictedValsStat[i] = (modDat.groupby([\"year\", \"sex\"])\n"
     ]
    },
    {
     "name": "stdout",
     "output_type": "stream",
     "text": [
      "Starting  165 sample\n",
      "Starting  166 sample\n"
     ]
    },
    {
     "name": "stderr",
     "output_type": "stream",
     "text": [
      "/home/berlands/anaconda3/envs/STATS507/lib/python3.9/site-packages/statsmodels/base/model.py:566: ConvergenceWarning: Maximum Likelihood optimization failed to converge. Check mle_retvals\n",
      "  warnings.warn(\"Maximum Likelihood optimization failed to \"\n",
      "/home/berlands/anaconda3/envs/STATS507/lib/python3.9/site-packages/statsmodels/regression/mixed_linear_model.py:2200: ConvergenceWarning: Retrying MixedLM optimization with lbfgs\n",
      "  warnings.warn(\n",
      "/tmp/ipykernel_50/1505425487.py:75: PerformanceWarning: DataFrame is highly fragmented.  This is usually the result of calling `frame.insert` many times, which has poor performance.  Consider joining all columns at once using pd.concat(axis=1) instead.  To get a de-fragmented frame, use `newframe = frame.copy()`\n",
      "  sampleStats[i] = (bsSample.groupby([\"year\", \"sex\"])\n",
      "/tmp/ipykernel_50/1505425487.py:77: PerformanceWarning: DataFrame is highly fragmented.  This is usually the result of calling `frame.insert` many times, which has poor performance.  Consider joining all columns at once using pd.concat(axis=1) instead.  To get a de-fragmented frame, use `newframe = frame.copy()`\n",
      "  predictedValsStat[i] = (modDat.groupby([\"year\", \"sex\"])\n"
     ]
    },
    {
     "name": "stdout",
     "output_type": "stream",
     "text": [
      "Starting  167 sample\n"
     ]
    },
    {
     "name": "stderr",
     "output_type": "stream",
     "text": [
      "/home/berlands/anaconda3/envs/STATS507/lib/python3.9/site-packages/statsmodels/base/model.py:566: ConvergenceWarning: Maximum Likelihood optimization failed to converge. Check mle_retvals\n",
      "  warnings.warn(\"Maximum Likelihood optimization failed to \"\n",
      "/home/berlands/anaconda3/envs/STATS507/lib/python3.9/site-packages/statsmodels/regression/mixed_linear_model.py:2200: ConvergenceWarning: Retrying MixedLM optimization with lbfgs\n",
      "  warnings.warn(\n",
      "/home/berlands/anaconda3/envs/STATS507/lib/python3.9/site-packages/statsmodels/base/model.py:566: ConvergenceWarning: Maximum Likelihood optimization failed to converge. Check mle_retvals\n",
      "  warnings.warn(\"Maximum Likelihood optimization failed to \"\n",
      "/home/berlands/anaconda3/envs/STATS507/lib/python3.9/site-packages/statsmodels/regression/mixed_linear_model.py:2200: ConvergenceWarning: Retrying MixedLM optimization with cg\n",
      "  warnings.warn(\n",
      "/home/berlands/anaconda3/envs/STATS507/lib/python3.9/site-packages/statsmodels/base/model.py:566: ConvergenceWarning: Maximum Likelihood optimization failed to converge. Check mle_retvals\n",
      "  warnings.warn(\"Maximum Likelihood optimization failed to \"\n",
      "/home/berlands/anaconda3/envs/STATS507/lib/python3.9/site-packages/statsmodels/regression/mixed_linear_model.py:2206: ConvergenceWarning: MixedLM optimization failed, trying a different optimizer may help.\n",
      "  warnings.warn(msg, ConvergenceWarning)\n",
      "/home/berlands/anaconda3/envs/STATS507/lib/python3.9/site-packages/statsmodels/regression/mixed_linear_model.py:2218: ConvergenceWarning: Gradient optimization failed, |grad| = 3.416861\n",
      "  warnings.warn(msg, ConvergenceWarning)\n",
      "/tmp/ipykernel_50/1505425487.py:75: PerformanceWarning: DataFrame is highly fragmented.  This is usually the result of calling `frame.insert` many times, which has poor performance.  Consider joining all columns at once using pd.concat(axis=1) instead.  To get a de-fragmented frame, use `newframe = frame.copy()`\n",
      "  sampleStats[i] = (bsSample.groupby([\"year\", \"sex\"])\n",
      "/tmp/ipykernel_50/1505425487.py:77: PerformanceWarning: DataFrame is highly fragmented.  This is usually the result of calling `frame.insert` many times, which has poor performance.  Consider joining all columns at once using pd.concat(axis=1) instead.  To get a de-fragmented frame, use `newframe = frame.copy()`\n",
      "  predictedValsStat[i] = (modDat.groupby([\"year\", \"sex\"])\n"
     ]
    },
    {
     "name": "stdout",
     "output_type": "stream",
     "text": [
      "Starting  168 sample\n"
     ]
    },
    {
     "name": "stderr",
     "output_type": "stream",
     "text": [
      "/home/berlands/anaconda3/envs/STATS507/lib/python3.9/site-packages/statsmodels/base/model.py:566: ConvergenceWarning: Maximum Likelihood optimization failed to converge. Check mle_retvals\n",
      "  warnings.warn(\"Maximum Likelihood optimization failed to \"\n",
      "/home/berlands/anaconda3/envs/STATS507/lib/python3.9/site-packages/statsmodels/regression/mixed_linear_model.py:2200: ConvergenceWarning: Retrying MixedLM optimization with lbfgs\n",
      "  warnings.warn(\n",
      "/tmp/ipykernel_50/1505425487.py:75: PerformanceWarning: DataFrame is highly fragmented.  This is usually the result of calling `frame.insert` many times, which has poor performance.  Consider joining all columns at once using pd.concat(axis=1) instead.  To get a de-fragmented frame, use `newframe = frame.copy()`\n",
      "  sampleStats[i] = (bsSample.groupby([\"year\", \"sex\"])\n",
      "/tmp/ipykernel_50/1505425487.py:77: PerformanceWarning: DataFrame is highly fragmented.  This is usually the result of calling `frame.insert` many times, which has poor performance.  Consider joining all columns at once using pd.concat(axis=1) instead.  To get a de-fragmented frame, use `newframe = frame.copy()`\n",
      "  predictedValsStat[i] = (modDat.groupby([\"year\", \"sex\"])\n"
     ]
    },
    {
     "name": "stdout",
     "output_type": "stream",
     "text": [
      "Starting  169 sample\n"
     ]
    },
    {
     "name": "stderr",
     "output_type": "stream",
     "text": [
      "/home/berlands/anaconda3/envs/STATS507/lib/python3.9/site-packages/statsmodels/base/model.py:566: ConvergenceWarning: Maximum Likelihood optimization failed to converge. Check mle_retvals\n",
      "  warnings.warn(\"Maximum Likelihood optimization failed to \"\n",
      "/home/berlands/anaconda3/envs/STATS507/lib/python3.9/site-packages/statsmodels/regression/mixed_linear_model.py:2200: ConvergenceWarning: Retrying MixedLM optimization with lbfgs\n",
      "  warnings.warn(\n",
      "/home/berlands/anaconda3/envs/STATS507/lib/python3.9/site-packages/statsmodels/base/model.py:566: ConvergenceWarning: Maximum Likelihood optimization failed to converge. Check mle_retvals\n",
      "  warnings.warn(\"Maximum Likelihood optimization failed to \"\n",
      "/home/berlands/anaconda3/envs/STATS507/lib/python3.9/site-packages/statsmodels/regression/mixed_linear_model.py:2200: ConvergenceWarning: Retrying MixedLM optimization with cg\n",
      "  warnings.warn(\n",
      "/home/berlands/anaconda3/envs/STATS507/lib/python3.9/site-packages/statsmodels/base/model.py:566: ConvergenceWarning: Maximum Likelihood optimization failed to converge. Check mle_retvals\n",
      "  warnings.warn(\"Maximum Likelihood optimization failed to \"\n",
      "/home/berlands/anaconda3/envs/STATS507/lib/python3.9/site-packages/statsmodels/regression/mixed_linear_model.py:2206: ConvergenceWarning: MixedLM optimization failed, trying a different optimizer may help.\n",
      "  warnings.warn(msg, ConvergenceWarning)\n",
      "/home/berlands/anaconda3/envs/STATS507/lib/python3.9/site-packages/statsmodels/regression/mixed_linear_model.py:2218: ConvergenceWarning: Gradient optimization failed, |grad| = 6.560223\n",
      "  warnings.warn(msg, ConvergenceWarning)\n",
      "/tmp/ipykernel_50/1505425487.py:75: PerformanceWarning: DataFrame is highly fragmented.  This is usually the result of calling `frame.insert` many times, which has poor performance.  Consider joining all columns at once using pd.concat(axis=1) instead.  To get a de-fragmented frame, use `newframe = frame.copy()`\n",
      "  sampleStats[i] = (bsSample.groupby([\"year\", \"sex\"])\n",
      "/tmp/ipykernel_50/1505425487.py:77: PerformanceWarning: DataFrame is highly fragmented.  This is usually the result of calling `frame.insert` many times, which has poor performance.  Consider joining all columns at once using pd.concat(axis=1) instead.  To get a de-fragmented frame, use `newframe = frame.copy()`\n",
      "  predictedValsStat[i] = (modDat.groupby([\"year\", \"sex\"])\n"
     ]
    },
    {
     "name": "stdout",
     "output_type": "stream",
     "text": [
      "Starting  170 sample\n",
      "Starting  171 sample\n"
     ]
    },
    {
     "name": "stderr",
     "output_type": "stream",
     "text": [
      "/home/berlands/anaconda3/envs/STATS507/lib/python3.9/site-packages/statsmodels/base/model.py:566: ConvergenceWarning: Maximum Likelihood optimization failed to converge. Check mle_retvals\n",
      "  warnings.warn(\"Maximum Likelihood optimization failed to \"\n",
      "/home/berlands/anaconda3/envs/STATS507/lib/python3.9/site-packages/statsmodels/regression/mixed_linear_model.py:2200: ConvergenceWarning: Retrying MixedLM optimization with lbfgs\n",
      "  warnings.warn(\n",
      "/tmp/ipykernel_50/1505425487.py:75: PerformanceWarning: DataFrame is highly fragmented.  This is usually the result of calling `frame.insert` many times, which has poor performance.  Consider joining all columns at once using pd.concat(axis=1) instead.  To get a de-fragmented frame, use `newframe = frame.copy()`\n",
      "  sampleStats[i] = (bsSample.groupby([\"year\", \"sex\"])\n",
      "/tmp/ipykernel_50/1505425487.py:77: PerformanceWarning: DataFrame is highly fragmented.  This is usually the result of calling `frame.insert` many times, which has poor performance.  Consider joining all columns at once using pd.concat(axis=1) instead.  To get a de-fragmented frame, use `newframe = frame.copy()`\n",
      "  predictedValsStat[i] = (modDat.groupby([\"year\", \"sex\"])\n"
     ]
    },
    {
     "name": "stdout",
     "output_type": "stream",
     "text": [
      "Starting  172 sample\n",
      "Starting  173 sample\n",
      "Starting  174 sample\n",
      "Starting  175 sample\n"
     ]
    },
    {
     "name": "stderr",
     "output_type": "stream",
     "text": [
      "/home/berlands/anaconda3/envs/STATS507/lib/python3.9/site-packages/statsmodels/base/model.py:566: ConvergenceWarning: Maximum Likelihood optimization failed to converge. Check mle_retvals\n",
      "  warnings.warn(\"Maximum Likelihood optimization failed to \"\n",
      "/home/berlands/anaconda3/envs/STATS507/lib/python3.9/site-packages/statsmodels/regression/mixed_linear_model.py:2200: ConvergenceWarning: Retrying MixedLM optimization with lbfgs\n",
      "  warnings.warn(\n",
      "/home/berlands/anaconda3/envs/STATS507/lib/python3.9/site-packages/statsmodels/base/model.py:566: ConvergenceWarning: Maximum Likelihood optimization failed to converge. Check mle_retvals\n",
      "  warnings.warn(\"Maximum Likelihood optimization failed to \"\n",
      "/home/berlands/anaconda3/envs/STATS507/lib/python3.9/site-packages/statsmodels/regression/mixed_linear_model.py:2200: ConvergenceWarning: Retrying MixedLM optimization with cg\n",
      "  warnings.warn(\n",
      "/home/berlands/anaconda3/envs/STATS507/lib/python3.9/site-packages/statsmodels/base/model.py:566: ConvergenceWarning: Maximum Likelihood optimization failed to converge. Check mle_retvals\n",
      "  warnings.warn(\"Maximum Likelihood optimization failed to \"\n",
      "/home/berlands/anaconda3/envs/STATS507/lib/python3.9/site-packages/statsmodels/regression/mixed_linear_model.py:2206: ConvergenceWarning: MixedLM optimization failed, trying a different optimizer may help.\n",
      "  warnings.warn(msg, ConvergenceWarning)\n",
      "/home/berlands/anaconda3/envs/STATS507/lib/python3.9/site-packages/statsmodels/regression/mixed_linear_model.py:2218: ConvergenceWarning: Gradient optimization failed, |grad| = 11.282639\n",
      "  warnings.warn(msg, ConvergenceWarning)\n",
      "/home/berlands/anaconda3/envs/STATS507/lib/python3.9/site-packages/statsmodels/regression/mixed_linear_model.py:2261: ConvergenceWarning: The Hessian matrix at the estimated parameter values is not positive definite.\n",
      "  warnings.warn(msg, ConvergenceWarning)\n",
      "/tmp/ipykernel_50/1505425487.py:75: PerformanceWarning: DataFrame is highly fragmented.  This is usually the result of calling `frame.insert` many times, which has poor performance.  Consider joining all columns at once using pd.concat(axis=1) instead.  To get a de-fragmented frame, use `newframe = frame.copy()`\n",
      "  sampleStats[i] = (bsSample.groupby([\"year\", \"sex\"])\n",
      "/tmp/ipykernel_50/1505425487.py:77: PerformanceWarning: DataFrame is highly fragmented.  This is usually the result of calling `frame.insert` many times, which has poor performance.  Consider joining all columns at once using pd.concat(axis=1) instead.  To get a de-fragmented frame, use `newframe = frame.copy()`\n",
      "  predictedValsStat[i] = (modDat.groupby([\"year\", \"sex\"])\n"
     ]
    },
    {
     "name": "stdout",
     "output_type": "stream",
     "text": [
      "Starting  176 sample\n",
      "Starting  177 sample\n"
     ]
    },
    {
     "name": "stderr",
     "output_type": "stream",
     "text": [
      "/home/berlands/anaconda3/envs/STATS507/lib/python3.9/site-packages/statsmodels/base/model.py:566: ConvergenceWarning: Maximum Likelihood optimization failed to converge. Check mle_retvals\n",
      "  warnings.warn(\"Maximum Likelihood optimization failed to \"\n",
      "/home/berlands/anaconda3/envs/STATS507/lib/python3.9/site-packages/statsmodels/regression/mixed_linear_model.py:2200: ConvergenceWarning: Retrying MixedLM optimization with lbfgs\n",
      "  warnings.warn(\n",
      "/tmp/ipykernel_50/1505425487.py:75: PerformanceWarning: DataFrame is highly fragmented.  This is usually the result of calling `frame.insert` many times, which has poor performance.  Consider joining all columns at once using pd.concat(axis=1) instead.  To get a de-fragmented frame, use `newframe = frame.copy()`\n",
      "  sampleStats[i] = (bsSample.groupby([\"year\", \"sex\"])\n",
      "/tmp/ipykernel_50/1505425487.py:77: PerformanceWarning: DataFrame is highly fragmented.  This is usually the result of calling `frame.insert` many times, which has poor performance.  Consider joining all columns at once using pd.concat(axis=1) instead.  To get a de-fragmented frame, use `newframe = frame.copy()`\n",
      "  predictedValsStat[i] = (modDat.groupby([\"year\", \"sex\"])\n"
     ]
    },
    {
     "name": "stdout",
     "output_type": "stream",
     "text": [
      "Starting  178 sample\n"
     ]
    },
    {
     "name": "stderr",
     "output_type": "stream",
     "text": [
      "/home/berlands/anaconda3/envs/STATS507/lib/python3.9/site-packages/statsmodels/base/model.py:566: ConvergenceWarning: Maximum Likelihood optimization failed to converge. Check mle_retvals\n",
      "  warnings.warn(\"Maximum Likelihood optimization failed to \"\n",
      "/home/berlands/anaconda3/envs/STATS507/lib/python3.9/site-packages/statsmodels/regression/mixed_linear_model.py:2200: ConvergenceWarning: Retrying MixedLM optimization with lbfgs\n",
      "  warnings.warn(\n",
      "/home/berlands/anaconda3/envs/STATS507/lib/python3.9/site-packages/statsmodels/base/model.py:566: ConvergenceWarning: Maximum Likelihood optimization failed to converge. Check mle_retvals\n",
      "  warnings.warn(\"Maximum Likelihood optimization failed to \"\n",
      "/home/berlands/anaconda3/envs/STATS507/lib/python3.9/site-packages/statsmodels/regression/mixed_linear_model.py:2200: ConvergenceWarning: Retrying MixedLM optimization with cg\n",
      "  warnings.warn(\n",
      "/home/berlands/anaconda3/envs/STATS507/lib/python3.9/site-packages/statsmodels/base/model.py:566: ConvergenceWarning: Maximum Likelihood optimization failed to converge. Check mle_retvals\n",
      "  warnings.warn(\"Maximum Likelihood optimization failed to \"\n",
      "/home/berlands/anaconda3/envs/STATS507/lib/python3.9/site-packages/statsmodels/regression/mixed_linear_model.py:2206: ConvergenceWarning: MixedLM optimization failed, trying a different optimizer may help.\n",
      "  warnings.warn(msg, ConvergenceWarning)\n",
      "/home/berlands/anaconda3/envs/STATS507/lib/python3.9/site-packages/statsmodels/regression/mixed_linear_model.py:2218: ConvergenceWarning: Gradient optimization failed, |grad| = 9.237009\n",
      "  warnings.warn(msg, ConvergenceWarning)\n",
      "/tmp/ipykernel_50/1505425487.py:75: PerformanceWarning: DataFrame is highly fragmented.  This is usually the result of calling `frame.insert` many times, which has poor performance.  Consider joining all columns at once using pd.concat(axis=1) instead.  To get a de-fragmented frame, use `newframe = frame.copy()`\n",
      "  sampleStats[i] = (bsSample.groupby([\"year\", \"sex\"])\n",
      "/tmp/ipykernel_50/1505425487.py:77: PerformanceWarning: DataFrame is highly fragmented.  This is usually the result of calling `frame.insert` many times, which has poor performance.  Consider joining all columns at once using pd.concat(axis=1) instead.  To get a de-fragmented frame, use `newframe = frame.copy()`\n",
      "  predictedValsStat[i] = (modDat.groupby([\"year\", \"sex\"])\n"
     ]
    },
    {
     "name": "stdout",
     "output_type": "stream",
     "text": [
      "Starting  179 sample\n",
      "Starting  180 sample\n",
      "Starting  181 sample\n"
     ]
    },
    {
     "name": "stderr",
     "output_type": "stream",
     "text": [
      "/home/berlands/anaconda3/envs/STATS507/lib/python3.9/site-packages/statsmodels/base/model.py:566: ConvergenceWarning: Maximum Likelihood optimization failed to converge. Check mle_retvals\n",
      "  warnings.warn(\"Maximum Likelihood optimization failed to \"\n",
      "/home/berlands/anaconda3/envs/STATS507/lib/python3.9/site-packages/statsmodels/regression/mixed_linear_model.py:2200: ConvergenceWarning: Retrying MixedLM optimization with lbfgs\n",
      "  warnings.warn(\n",
      "/home/berlands/anaconda3/envs/STATS507/lib/python3.9/site-packages/statsmodels/base/model.py:566: ConvergenceWarning: Maximum Likelihood optimization failed to converge. Check mle_retvals\n",
      "  warnings.warn(\"Maximum Likelihood optimization failed to \"\n",
      "/home/berlands/anaconda3/envs/STATS507/lib/python3.9/site-packages/statsmodels/regression/mixed_linear_model.py:2200: ConvergenceWarning: Retrying MixedLM optimization with cg\n",
      "  warnings.warn(\n",
      "/home/berlands/anaconda3/envs/STATS507/lib/python3.9/site-packages/statsmodels/base/model.py:566: ConvergenceWarning: Maximum Likelihood optimization failed to converge. Check mle_retvals\n",
      "  warnings.warn(\"Maximum Likelihood optimization failed to \"\n",
      "/home/berlands/anaconda3/envs/STATS507/lib/python3.9/site-packages/statsmodels/regression/mixed_linear_model.py:2206: ConvergenceWarning: MixedLM optimization failed, trying a different optimizer may help.\n",
      "  warnings.warn(msg, ConvergenceWarning)\n",
      "/home/berlands/anaconda3/envs/STATS507/lib/python3.9/site-packages/statsmodels/regression/mixed_linear_model.py:2218: ConvergenceWarning: Gradient optimization failed, |grad| = 5.186484\n",
      "  warnings.warn(msg, ConvergenceWarning)\n",
      "/tmp/ipykernel_50/1505425487.py:75: PerformanceWarning: DataFrame is highly fragmented.  This is usually the result of calling `frame.insert` many times, which has poor performance.  Consider joining all columns at once using pd.concat(axis=1) instead.  To get a de-fragmented frame, use `newframe = frame.copy()`\n",
      "  sampleStats[i] = (bsSample.groupby([\"year\", \"sex\"])\n",
      "/tmp/ipykernel_50/1505425487.py:77: PerformanceWarning: DataFrame is highly fragmented.  This is usually the result of calling `frame.insert` many times, which has poor performance.  Consider joining all columns at once using pd.concat(axis=1) instead.  To get a de-fragmented frame, use `newframe = frame.copy()`\n",
      "  predictedValsStat[i] = (modDat.groupby([\"year\", \"sex\"])\n"
     ]
    },
    {
     "name": "stdout",
     "output_type": "stream",
     "text": [
      "Starting  182 sample\n",
      "Starting  183 sample\n"
     ]
    },
    {
     "name": "stderr",
     "output_type": "stream",
     "text": [
      "/home/berlands/anaconda3/envs/STATS507/lib/python3.9/site-packages/statsmodels/base/model.py:566: ConvergenceWarning: Maximum Likelihood optimization failed to converge. Check mle_retvals\n",
      "  warnings.warn(\"Maximum Likelihood optimization failed to \"\n",
      "/home/berlands/anaconda3/envs/STATS507/lib/python3.9/site-packages/statsmodels/regression/mixed_linear_model.py:2200: ConvergenceWarning: Retrying MixedLM optimization with lbfgs\n",
      "  warnings.warn(\n",
      "/home/berlands/anaconda3/envs/STATS507/lib/python3.9/site-packages/statsmodels/base/model.py:566: ConvergenceWarning: Maximum Likelihood optimization failed to converge. Check mle_retvals\n",
      "  warnings.warn(\"Maximum Likelihood optimization failed to \"\n",
      "/home/berlands/anaconda3/envs/STATS507/lib/python3.9/site-packages/statsmodels/regression/mixed_linear_model.py:2200: ConvergenceWarning: Retrying MixedLM optimization with cg\n",
      "  warnings.warn(\n",
      "/home/berlands/anaconda3/envs/STATS507/lib/python3.9/site-packages/statsmodels/base/model.py:566: ConvergenceWarning: Maximum Likelihood optimization failed to converge. Check mle_retvals\n",
      "  warnings.warn(\"Maximum Likelihood optimization failed to \"\n",
      "/home/berlands/anaconda3/envs/STATS507/lib/python3.9/site-packages/statsmodels/regression/mixed_linear_model.py:2206: ConvergenceWarning: MixedLM optimization failed, trying a different optimizer may help.\n",
      "  warnings.warn(msg, ConvergenceWarning)\n",
      "/home/berlands/anaconda3/envs/STATS507/lib/python3.9/site-packages/statsmodels/regression/mixed_linear_model.py:2218: ConvergenceWarning: Gradient optimization failed, |grad| = 6.368809\n",
      "  warnings.warn(msg, ConvergenceWarning)\n",
      "/tmp/ipykernel_50/1505425487.py:75: PerformanceWarning: DataFrame is highly fragmented.  This is usually the result of calling `frame.insert` many times, which has poor performance.  Consider joining all columns at once using pd.concat(axis=1) instead.  To get a de-fragmented frame, use `newframe = frame.copy()`\n",
      "  sampleStats[i] = (bsSample.groupby([\"year\", \"sex\"])\n",
      "/tmp/ipykernel_50/1505425487.py:77: PerformanceWarning: DataFrame is highly fragmented.  This is usually the result of calling `frame.insert` many times, which has poor performance.  Consider joining all columns at once using pd.concat(axis=1) instead.  To get a de-fragmented frame, use `newframe = frame.copy()`\n",
      "  predictedValsStat[i] = (modDat.groupby([\"year\", \"sex\"])\n"
     ]
    },
    {
     "name": "stdout",
     "output_type": "stream",
     "text": [
      "Starting  184 sample\n"
     ]
    },
    {
     "name": "stderr",
     "output_type": "stream",
     "text": [
      "/home/berlands/anaconda3/envs/STATS507/lib/python3.9/site-packages/statsmodels/base/model.py:566: ConvergenceWarning: Maximum Likelihood optimization failed to converge. Check mle_retvals\n",
      "  warnings.warn(\"Maximum Likelihood optimization failed to \"\n",
      "/home/berlands/anaconda3/envs/STATS507/lib/python3.9/site-packages/statsmodels/regression/mixed_linear_model.py:2200: ConvergenceWarning: Retrying MixedLM optimization with lbfgs\n",
      "  warnings.warn(\n",
      "/tmp/ipykernel_50/1505425487.py:75: PerformanceWarning: DataFrame is highly fragmented.  This is usually the result of calling `frame.insert` many times, which has poor performance.  Consider joining all columns at once using pd.concat(axis=1) instead.  To get a de-fragmented frame, use `newframe = frame.copy()`\n",
      "  sampleStats[i] = (bsSample.groupby([\"year\", \"sex\"])\n",
      "/tmp/ipykernel_50/1505425487.py:77: PerformanceWarning: DataFrame is highly fragmented.  This is usually the result of calling `frame.insert` many times, which has poor performance.  Consider joining all columns at once using pd.concat(axis=1) instead.  To get a de-fragmented frame, use `newframe = frame.copy()`\n",
      "  predictedValsStat[i] = (modDat.groupby([\"year\", \"sex\"])\n"
     ]
    },
    {
     "name": "stdout",
     "output_type": "stream",
     "text": [
      "Starting  185 sample\n"
     ]
    },
    {
     "name": "stderr",
     "output_type": "stream",
     "text": [
      "/home/berlands/anaconda3/envs/STATS507/lib/python3.9/site-packages/statsmodels/base/model.py:566: ConvergenceWarning: Maximum Likelihood optimization failed to converge. Check mle_retvals\n",
      "  warnings.warn(\"Maximum Likelihood optimization failed to \"\n",
      "/home/berlands/anaconda3/envs/STATS507/lib/python3.9/site-packages/statsmodels/regression/mixed_linear_model.py:2200: ConvergenceWarning: Retrying MixedLM optimization with lbfgs\n",
      "  warnings.warn(\n",
      "/tmp/ipykernel_50/1505425487.py:75: PerformanceWarning: DataFrame is highly fragmented.  This is usually the result of calling `frame.insert` many times, which has poor performance.  Consider joining all columns at once using pd.concat(axis=1) instead.  To get a de-fragmented frame, use `newframe = frame.copy()`\n",
      "  sampleStats[i] = (bsSample.groupby([\"year\", \"sex\"])\n",
      "/tmp/ipykernel_50/1505425487.py:77: PerformanceWarning: DataFrame is highly fragmented.  This is usually the result of calling `frame.insert` many times, which has poor performance.  Consider joining all columns at once using pd.concat(axis=1) instead.  To get a de-fragmented frame, use `newframe = frame.copy()`\n",
      "  predictedValsStat[i] = (modDat.groupby([\"year\", \"sex\"])\n"
     ]
    },
    {
     "name": "stdout",
     "output_type": "stream",
     "text": [
      "Starting  186 sample\n",
      "Starting  187 sample\n"
     ]
    },
    {
     "name": "stderr",
     "output_type": "stream",
     "text": [
      "/home/berlands/anaconda3/envs/STATS507/lib/python3.9/site-packages/statsmodels/base/model.py:566: ConvergenceWarning: Maximum Likelihood optimization failed to converge. Check mle_retvals\n",
      "  warnings.warn(\"Maximum Likelihood optimization failed to \"\n",
      "/home/berlands/anaconda3/envs/STATS507/lib/python3.9/site-packages/statsmodels/regression/mixed_linear_model.py:2200: ConvergenceWarning: Retrying MixedLM optimization with lbfgs\n",
      "  warnings.warn(\n",
      "/home/berlands/anaconda3/envs/STATS507/lib/python3.9/site-packages/statsmodels/base/model.py:566: ConvergenceWarning: Maximum Likelihood optimization failed to converge. Check mle_retvals\n",
      "  warnings.warn(\"Maximum Likelihood optimization failed to \"\n",
      "/home/berlands/anaconda3/envs/STATS507/lib/python3.9/site-packages/statsmodels/regression/mixed_linear_model.py:2200: ConvergenceWarning: Retrying MixedLM optimization with cg\n",
      "  warnings.warn(\n",
      "/home/berlands/anaconda3/envs/STATS507/lib/python3.9/site-packages/statsmodels/base/model.py:566: ConvergenceWarning: Maximum Likelihood optimization failed to converge. Check mle_retvals\n",
      "  warnings.warn(\"Maximum Likelihood optimization failed to \"\n",
      "/home/berlands/anaconda3/envs/STATS507/lib/python3.9/site-packages/statsmodels/regression/mixed_linear_model.py:2206: ConvergenceWarning: MixedLM optimization failed, trying a different optimizer may help.\n",
      "  warnings.warn(msg, ConvergenceWarning)\n",
      "/home/berlands/anaconda3/envs/STATS507/lib/python3.9/site-packages/statsmodels/regression/mixed_linear_model.py:2218: ConvergenceWarning: Gradient optimization failed, |grad| = 4.658467\n",
      "  warnings.warn(msg, ConvergenceWarning)\n",
      "/tmp/ipykernel_50/1505425487.py:75: PerformanceWarning: DataFrame is highly fragmented.  This is usually the result of calling `frame.insert` many times, which has poor performance.  Consider joining all columns at once using pd.concat(axis=1) instead.  To get a de-fragmented frame, use `newframe = frame.copy()`\n",
      "  sampleStats[i] = (bsSample.groupby([\"year\", \"sex\"])\n",
      "/tmp/ipykernel_50/1505425487.py:77: PerformanceWarning: DataFrame is highly fragmented.  This is usually the result of calling `frame.insert` many times, which has poor performance.  Consider joining all columns at once using pd.concat(axis=1) instead.  To get a de-fragmented frame, use `newframe = frame.copy()`\n",
      "  predictedValsStat[i] = (modDat.groupby([\"year\", \"sex\"])\n"
     ]
    },
    {
     "name": "stdout",
     "output_type": "stream",
     "text": [
      "Starting  188 sample\n"
     ]
    },
    {
     "name": "stderr",
     "output_type": "stream",
     "text": [
      "/home/berlands/anaconda3/envs/STATS507/lib/python3.9/site-packages/statsmodels/base/model.py:566: ConvergenceWarning: Maximum Likelihood optimization failed to converge. Check mle_retvals\n",
      "  warnings.warn(\"Maximum Likelihood optimization failed to \"\n",
      "/home/berlands/anaconda3/envs/STATS507/lib/python3.9/site-packages/statsmodels/regression/mixed_linear_model.py:2200: ConvergenceWarning: Retrying MixedLM optimization with lbfgs\n",
      "  warnings.warn(\n",
      "/tmp/ipykernel_50/1505425487.py:75: PerformanceWarning: DataFrame is highly fragmented.  This is usually the result of calling `frame.insert` many times, which has poor performance.  Consider joining all columns at once using pd.concat(axis=1) instead.  To get a de-fragmented frame, use `newframe = frame.copy()`\n",
      "  sampleStats[i] = (bsSample.groupby([\"year\", \"sex\"])\n",
      "/tmp/ipykernel_50/1505425487.py:77: PerformanceWarning: DataFrame is highly fragmented.  This is usually the result of calling `frame.insert` many times, which has poor performance.  Consider joining all columns at once using pd.concat(axis=1) instead.  To get a de-fragmented frame, use `newframe = frame.copy()`\n",
      "  predictedValsStat[i] = (modDat.groupby([\"year\", \"sex\"])\n"
     ]
    },
    {
     "name": "stdout",
     "output_type": "stream",
     "text": [
      "Starting  189 sample\n"
     ]
    },
    {
     "name": "stderr",
     "output_type": "stream",
     "text": [
      "/home/berlands/anaconda3/envs/STATS507/lib/python3.9/site-packages/statsmodels/base/model.py:566: ConvergenceWarning: Maximum Likelihood optimization failed to converge. Check mle_retvals\n",
      "  warnings.warn(\"Maximum Likelihood optimization failed to \"\n",
      "/home/berlands/anaconda3/envs/STATS507/lib/python3.9/site-packages/statsmodels/regression/mixed_linear_model.py:2200: ConvergenceWarning: Retrying MixedLM optimization with lbfgs\n",
      "  warnings.warn(\n",
      "/home/berlands/anaconda3/envs/STATS507/lib/python3.9/site-packages/statsmodels/base/model.py:566: ConvergenceWarning: Maximum Likelihood optimization failed to converge. Check mle_retvals\n",
      "  warnings.warn(\"Maximum Likelihood optimization failed to \"\n",
      "/home/berlands/anaconda3/envs/STATS507/lib/python3.9/site-packages/statsmodels/regression/mixed_linear_model.py:2200: ConvergenceWarning: Retrying MixedLM optimization with cg\n",
      "  warnings.warn(\n",
      "/home/berlands/anaconda3/envs/STATS507/lib/python3.9/site-packages/statsmodels/base/model.py:566: ConvergenceWarning: Maximum Likelihood optimization failed to converge. Check mle_retvals\n",
      "  warnings.warn(\"Maximum Likelihood optimization failed to \"\n",
      "/home/berlands/anaconda3/envs/STATS507/lib/python3.9/site-packages/statsmodels/regression/mixed_linear_model.py:2206: ConvergenceWarning: MixedLM optimization failed, trying a different optimizer may help.\n",
      "  warnings.warn(msg, ConvergenceWarning)\n",
      "/home/berlands/anaconda3/envs/STATS507/lib/python3.9/site-packages/statsmodels/regression/mixed_linear_model.py:2218: ConvergenceWarning: Gradient optimization failed, |grad| = 0.036990\n",
      "  warnings.warn(msg, ConvergenceWarning)\n",
      "/tmp/ipykernel_50/1505425487.py:75: PerformanceWarning: DataFrame is highly fragmented.  This is usually the result of calling `frame.insert` many times, which has poor performance.  Consider joining all columns at once using pd.concat(axis=1) instead.  To get a de-fragmented frame, use `newframe = frame.copy()`\n",
      "  sampleStats[i] = (bsSample.groupby([\"year\", \"sex\"])\n",
      "/tmp/ipykernel_50/1505425487.py:77: PerformanceWarning: DataFrame is highly fragmented.  This is usually the result of calling `frame.insert` many times, which has poor performance.  Consider joining all columns at once using pd.concat(axis=1) instead.  To get a de-fragmented frame, use `newframe = frame.copy()`\n",
      "  predictedValsStat[i] = (modDat.groupby([\"year\", \"sex\"])\n"
     ]
    },
    {
     "name": "stdout",
     "output_type": "stream",
     "text": [
      "Starting  190 sample\n",
      "Starting  191 sample\n"
     ]
    },
    {
     "name": "stderr",
     "output_type": "stream",
     "text": [
      "/home/berlands/anaconda3/envs/STATS507/lib/python3.9/site-packages/statsmodels/base/model.py:566: ConvergenceWarning: Maximum Likelihood optimization failed to converge. Check mle_retvals\n",
      "  warnings.warn(\"Maximum Likelihood optimization failed to \"\n",
      "/home/berlands/anaconda3/envs/STATS507/lib/python3.9/site-packages/statsmodels/regression/mixed_linear_model.py:2200: ConvergenceWarning: Retrying MixedLM optimization with lbfgs\n",
      "  warnings.warn(\n",
      "/tmp/ipykernel_50/1505425487.py:75: PerformanceWarning: DataFrame is highly fragmented.  This is usually the result of calling `frame.insert` many times, which has poor performance.  Consider joining all columns at once using pd.concat(axis=1) instead.  To get a de-fragmented frame, use `newframe = frame.copy()`\n",
      "  sampleStats[i] = (bsSample.groupby([\"year\", \"sex\"])\n",
      "/tmp/ipykernel_50/1505425487.py:77: PerformanceWarning: DataFrame is highly fragmented.  This is usually the result of calling `frame.insert` many times, which has poor performance.  Consider joining all columns at once using pd.concat(axis=1) instead.  To get a de-fragmented frame, use `newframe = frame.copy()`\n",
      "  predictedValsStat[i] = (modDat.groupby([\"year\", \"sex\"])\n"
     ]
    },
    {
     "name": "stdout",
     "output_type": "stream",
     "text": [
      "Starting  192 sample\n"
     ]
    },
    {
     "name": "stderr",
     "output_type": "stream",
     "text": [
      "/home/berlands/anaconda3/envs/STATS507/lib/python3.9/site-packages/statsmodels/base/model.py:566: ConvergenceWarning: Maximum Likelihood optimization failed to converge. Check mle_retvals\n",
      "  warnings.warn(\"Maximum Likelihood optimization failed to \"\n",
      "/home/berlands/anaconda3/envs/STATS507/lib/python3.9/site-packages/statsmodels/regression/mixed_linear_model.py:2200: ConvergenceWarning: Retrying MixedLM optimization with lbfgs\n",
      "  warnings.warn(\n",
      "/home/berlands/anaconda3/envs/STATS507/lib/python3.9/site-packages/statsmodels/base/model.py:566: ConvergenceWarning: Maximum Likelihood optimization failed to converge. Check mle_retvals\n",
      "  warnings.warn(\"Maximum Likelihood optimization failed to \"\n",
      "/home/berlands/anaconda3/envs/STATS507/lib/python3.9/site-packages/statsmodels/regression/mixed_linear_model.py:2200: ConvergenceWarning: Retrying MixedLM optimization with cg\n",
      "  warnings.warn(\n",
      "/home/berlands/anaconda3/envs/STATS507/lib/python3.9/site-packages/statsmodels/base/model.py:566: ConvergenceWarning: Maximum Likelihood optimization failed to converge. Check mle_retvals\n",
      "  warnings.warn(\"Maximum Likelihood optimization failed to \"\n",
      "/home/berlands/anaconda3/envs/STATS507/lib/python3.9/site-packages/statsmodels/regression/mixed_linear_model.py:2206: ConvergenceWarning: MixedLM optimization failed, trying a different optimizer may help.\n",
      "  warnings.warn(msg, ConvergenceWarning)\n",
      "/home/berlands/anaconda3/envs/STATS507/lib/python3.9/site-packages/statsmodels/regression/mixed_linear_model.py:2218: ConvergenceWarning: Gradient optimization failed, |grad| = 0.539094\n",
      "  warnings.warn(msg, ConvergenceWarning)\n",
      "/tmp/ipykernel_50/1505425487.py:75: PerformanceWarning: DataFrame is highly fragmented.  This is usually the result of calling `frame.insert` many times, which has poor performance.  Consider joining all columns at once using pd.concat(axis=1) instead.  To get a de-fragmented frame, use `newframe = frame.copy()`\n",
      "  sampleStats[i] = (bsSample.groupby([\"year\", \"sex\"])\n",
      "/tmp/ipykernel_50/1505425487.py:77: PerformanceWarning: DataFrame is highly fragmented.  This is usually the result of calling `frame.insert` many times, which has poor performance.  Consider joining all columns at once using pd.concat(axis=1) instead.  To get a de-fragmented frame, use `newframe = frame.copy()`\n",
      "  predictedValsStat[i] = (modDat.groupby([\"year\", \"sex\"])\n"
     ]
    },
    {
     "name": "stdout",
     "output_type": "stream",
     "text": [
      "Starting  193 sample\n",
      "Starting  194 sample\n",
      "Starting  195 sample\n"
     ]
    },
    {
     "name": "stderr",
     "output_type": "stream",
     "text": [
      "/home/berlands/anaconda3/envs/STATS507/lib/python3.9/site-packages/statsmodels/base/model.py:566: ConvergenceWarning: Maximum Likelihood optimization failed to converge. Check mle_retvals\n",
      "  warnings.warn(\"Maximum Likelihood optimization failed to \"\n",
      "/home/berlands/anaconda3/envs/STATS507/lib/python3.9/site-packages/statsmodels/regression/mixed_linear_model.py:2200: ConvergenceWarning: Retrying MixedLM optimization with lbfgs\n",
      "  warnings.warn(\n",
      "/home/berlands/anaconda3/envs/STATS507/lib/python3.9/site-packages/statsmodels/base/model.py:566: ConvergenceWarning: Maximum Likelihood optimization failed to converge. Check mle_retvals\n",
      "  warnings.warn(\"Maximum Likelihood optimization failed to \"\n",
      "/home/berlands/anaconda3/envs/STATS507/lib/python3.9/site-packages/statsmodels/regression/mixed_linear_model.py:2200: ConvergenceWarning: Retrying MixedLM optimization with cg\n",
      "  warnings.warn(\n",
      "/home/berlands/anaconda3/envs/STATS507/lib/python3.9/site-packages/statsmodels/base/model.py:566: ConvergenceWarning: Maximum Likelihood optimization failed to converge. Check mle_retvals\n",
      "  warnings.warn(\"Maximum Likelihood optimization failed to \"\n",
      "/home/berlands/anaconda3/envs/STATS507/lib/python3.9/site-packages/statsmodels/regression/mixed_linear_model.py:2206: ConvergenceWarning: MixedLM optimization failed, trying a different optimizer may help.\n",
      "  warnings.warn(msg, ConvergenceWarning)\n",
      "/home/berlands/anaconda3/envs/STATS507/lib/python3.9/site-packages/statsmodels/regression/mixed_linear_model.py:2218: ConvergenceWarning: Gradient optimization failed, |grad| = 0.708410\n",
      "  warnings.warn(msg, ConvergenceWarning)\n",
      "/tmp/ipykernel_50/1505425487.py:75: PerformanceWarning: DataFrame is highly fragmented.  This is usually the result of calling `frame.insert` many times, which has poor performance.  Consider joining all columns at once using pd.concat(axis=1) instead.  To get a de-fragmented frame, use `newframe = frame.copy()`\n",
      "  sampleStats[i] = (bsSample.groupby([\"year\", \"sex\"])\n",
      "/tmp/ipykernel_50/1505425487.py:77: PerformanceWarning: DataFrame is highly fragmented.  This is usually the result of calling `frame.insert` many times, which has poor performance.  Consider joining all columns at once using pd.concat(axis=1) instead.  To get a de-fragmented frame, use `newframe = frame.copy()`\n",
      "  predictedValsStat[i] = (modDat.groupby([\"year\", \"sex\"])\n"
     ]
    },
    {
     "name": "stdout",
     "output_type": "stream",
     "text": [
      "Starting  196 sample\n"
     ]
    },
    {
     "name": "stderr",
     "output_type": "stream",
     "text": [
      "/home/berlands/anaconda3/envs/STATS507/lib/python3.9/site-packages/statsmodels/base/model.py:566: ConvergenceWarning: Maximum Likelihood optimization failed to converge. Check mle_retvals\n",
      "  warnings.warn(\"Maximum Likelihood optimization failed to \"\n",
      "/home/berlands/anaconda3/envs/STATS507/lib/python3.9/site-packages/statsmodels/regression/mixed_linear_model.py:2200: ConvergenceWarning: Retrying MixedLM optimization with lbfgs\n",
      "  warnings.warn(\n",
      "/home/berlands/anaconda3/envs/STATS507/lib/python3.9/site-packages/statsmodels/base/model.py:566: ConvergenceWarning: Maximum Likelihood optimization failed to converge. Check mle_retvals\n",
      "  warnings.warn(\"Maximum Likelihood optimization failed to \"\n",
      "/home/berlands/anaconda3/envs/STATS507/lib/python3.9/site-packages/statsmodels/regression/mixed_linear_model.py:2200: ConvergenceWarning: Retrying MixedLM optimization with cg\n",
      "  warnings.warn(\n",
      "/home/berlands/anaconda3/envs/STATS507/lib/python3.9/site-packages/statsmodels/base/model.py:566: ConvergenceWarning: Maximum Likelihood optimization failed to converge. Check mle_retvals\n",
      "  warnings.warn(\"Maximum Likelihood optimization failed to \"\n",
      "/home/berlands/anaconda3/envs/STATS507/lib/python3.9/site-packages/statsmodels/regression/mixed_linear_model.py:2206: ConvergenceWarning: MixedLM optimization failed, trying a different optimizer may help.\n",
      "  warnings.warn(msg, ConvergenceWarning)\n",
      "/home/berlands/anaconda3/envs/STATS507/lib/python3.9/site-packages/statsmodels/regression/mixed_linear_model.py:2218: ConvergenceWarning: Gradient optimization failed, |grad| = 10.521296\n",
      "  warnings.warn(msg, ConvergenceWarning)\n",
      "/home/berlands/anaconda3/envs/STATS507/lib/python3.9/site-packages/statsmodels/regression/mixed_linear_model.py:2261: ConvergenceWarning: The Hessian matrix at the estimated parameter values is not positive definite.\n",
      "  warnings.warn(msg, ConvergenceWarning)\n",
      "/tmp/ipykernel_50/1505425487.py:75: PerformanceWarning: DataFrame is highly fragmented.  This is usually the result of calling `frame.insert` many times, which has poor performance.  Consider joining all columns at once using pd.concat(axis=1) instead.  To get a de-fragmented frame, use `newframe = frame.copy()`\n",
      "  sampleStats[i] = (bsSample.groupby([\"year\", \"sex\"])\n",
      "/tmp/ipykernel_50/1505425487.py:77: PerformanceWarning: DataFrame is highly fragmented.  This is usually the result of calling `frame.insert` many times, which has poor performance.  Consider joining all columns at once using pd.concat(axis=1) instead.  To get a de-fragmented frame, use `newframe = frame.copy()`\n",
      "  predictedValsStat[i] = (modDat.groupby([\"year\", \"sex\"])\n"
     ]
    },
    {
     "name": "stdout",
     "output_type": "stream",
     "text": [
      "Starting  197 sample\n"
     ]
    },
    {
     "name": "stderr",
     "output_type": "stream",
     "text": [
      "/home/berlands/anaconda3/envs/STATS507/lib/python3.9/site-packages/statsmodels/base/model.py:566: ConvergenceWarning: Maximum Likelihood optimization failed to converge. Check mle_retvals\n",
      "  warnings.warn(\"Maximum Likelihood optimization failed to \"\n",
      "/home/berlands/anaconda3/envs/STATS507/lib/python3.9/site-packages/statsmodels/regression/mixed_linear_model.py:2200: ConvergenceWarning: Retrying MixedLM optimization with lbfgs\n",
      "  warnings.warn(\n",
      "/home/berlands/anaconda3/envs/STATS507/lib/python3.9/site-packages/statsmodels/base/model.py:566: ConvergenceWarning: Maximum Likelihood optimization failed to converge. Check mle_retvals\n",
      "  warnings.warn(\"Maximum Likelihood optimization failed to \"\n",
      "/home/berlands/anaconda3/envs/STATS507/lib/python3.9/site-packages/statsmodels/regression/mixed_linear_model.py:2200: ConvergenceWarning: Retrying MixedLM optimization with cg\n",
      "  warnings.warn(\n",
      "/home/berlands/anaconda3/envs/STATS507/lib/python3.9/site-packages/statsmodels/base/model.py:566: ConvergenceWarning: Maximum Likelihood optimization failed to converge. Check mle_retvals\n",
      "  warnings.warn(\"Maximum Likelihood optimization failed to \"\n",
      "/home/berlands/anaconda3/envs/STATS507/lib/python3.9/site-packages/statsmodels/regression/mixed_linear_model.py:2206: ConvergenceWarning: MixedLM optimization failed, trying a different optimizer may help.\n",
      "  warnings.warn(msg, ConvergenceWarning)\n",
      "/home/berlands/anaconda3/envs/STATS507/lib/python3.9/site-packages/statsmodels/regression/mixed_linear_model.py:2218: ConvergenceWarning: Gradient optimization failed, |grad| = 1.007972\n",
      "  warnings.warn(msg, ConvergenceWarning)\n",
      "/tmp/ipykernel_50/1505425487.py:75: PerformanceWarning: DataFrame is highly fragmented.  This is usually the result of calling `frame.insert` many times, which has poor performance.  Consider joining all columns at once using pd.concat(axis=1) instead.  To get a de-fragmented frame, use `newframe = frame.copy()`\n",
      "  sampleStats[i] = (bsSample.groupby([\"year\", \"sex\"])\n",
      "/tmp/ipykernel_50/1505425487.py:77: PerformanceWarning: DataFrame is highly fragmented.  This is usually the result of calling `frame.insert` many times, which has poor performance.  Consider joining all columns at once using pd.concat(axis=1) instead.  To get a de-fragmented frame, use `newframe = frame.copy()`\n",
      "  predictedValsStat[i] = (modDat.groupby([\"year\", \"sex\"])\n"
     ]
    },
    {
     "name": "stdout",
     "output_type": "stream",
     "text": [
      "Starting  198 sample\n",
      "Starting  199 sample\n"
     ]
    },
    {
     "name": "stderr",
     "output_type": "stream",
     "text": [
      "/home/berlands/anaconda3/envs/STATS507/lib/python3.9/site-packages/statsmodels/base/model.py:566: ConvergenceWarning: Maximum Likelihood optimization failed to converge. Check mle_retvals\n",
      "  warnings.warn(\"Maximum Likelihood optimization failed to \"\n",
      "/home/berlands/anaconda3/envs/STATS507/lib/python3.9/site-packages/statsmodels/regression/mixed_linear_model.py:2200: ConvergenceWarning: Retrying MixedLM optimization with lbfgs\n",
      "  warnings.warn(\n",
      "/tmp/ipykernel_50/1505425487.py:75: PerformanceWarning: DataFrame is highly fragmented.  This is usually the result of calling `frame.insert` many times, which has poor performance.  Consider joining all columns at once using pd.concat(axis=1) instead.  To get a de-fragmented frame, use `newframe = frame.copy()`\n",
      "  sampleStats[i] = (bsSample.groupby([\"year\", \"sex\"])\n",
      "/tmp/ipykernel_50/1505425487.py:77: PerformanceWarning: DataFrame is highly fragmented.  This is usually the result of calling `frame.insert` many times, which has poor performance.  Consider joining all columns at once using pd.concat(axis=1) instead.  To get a de-fragmented frame, use `newframe = frame.copy()`\n",
      "  predictedValsStat[i] = (modDat.groupby([\"year\", \"sex\"])\n"
     ]
    }
   ],
   "source": [
    "#dropCols = [\"Ages 5 to 17 in Families SAIPE Poverty Universe\",\n",
    "#            \"Ages 5 to 17 in Families in Poverty Count\",\n",
    "#            \"Ages 5 to 17 in Families in Poverty Percent\",\n",
    "#            \"All Ages in Poverty Count\",\n",
    "#            \"All Ages SAIPE Poverty Universe\",\n",
    "#            \"Under Age 18 SAIPE Poverty Universe\",\n",
    "#            \"Under Age 18 in Poverty Count\"]\n",
    "#features = features.drop(dropCols, axis=1)\n",
    "#features.columns = ['year', 'sitename',\n",
    "#       'AllAgesInPovertyPercent', 'UnderAge18inPovertyPercent',\n",
    "#       'MedianHouseholdIncomeInDollars', 'UnemploymentRate', 'Population',\n",
    "#       'SNAP']\n",
    "params, sampleVars, predictVar = bootstrap(bootDat,\n",
    "                                           features,\n",
    "                                           200, np.var,\n",
    "                                           \"violenceScore ~ sex*UnemploymentRate + sex*SNAP\")"
   ]
  },
  {
   "cell_type": "code",
   "execution_count": 26,
   "id": "60e39466",
   "metadata": {},
   "outputs": [
    {
     "data": {
      "text/html": [
       "<div>\n",
       "<style scoped>\n",
       "    .dataframe tbody tr th:only-of-type {\n",
       "        vertical-align: middle;\n",
       "    }\n",
       "\n",
       "    .dataframe tbody tr th {\n",
       "        vertical-align: top;\n",
       "    }\n",
       "\n",
       "    .dataframe thead th {\n",
       "        text-align: right;\n",
       "    }\n",
       "</style>\n",
       "<table border=\"1\" class=\"dataframe\">\n",
       "  <thead>\n",
       "    <tr style=\"text-align: right;\">\n",
       "      <th></th>\n",
       "      <th>Intercept</th>\n",
       "      <th>sex</th>\n",
       "      <th>UnemploymentRate</th>\n",
       "      <th>sex:UnemploymentRate</th>\n",
       "      <th>SNAP</th>\n",
       "      <th>sex:SNAP</th>\n",
       "      <th>Group Var</th>\n",
       "    </tr>\n",
       "  </thead>\n",
       "  <tbody>\n",
       "    <tr>\n",
       "      <th>0</th>\n",
       "      <td>47.729659</td>\n",
       "      <td>47.990877</td>\n",
       "      <td>0.290365</td>\n",
       "      <td>2.902053</td>\n",
       "      <td>-0.198307</td>\n",
       "      <td>-0.287202</td>\n",
       "      <td>0.027543</td>\n",
       "    </tr>\n",
       "    <tr>\n",
       "      <th>0</th>\n",
       "      <td>44.941630</td>\n",
       "      <td>25.369753</td>\n",
       "      <td>1.378347</td>\n",
       "      <td>1.314616</td>\n",
       "      <td>-0.223237</td>\n",
       "      <td>-0.035486</td>\n",
       "      <td>0.006399</td>\n",
       "    </tr>\n",
       "    <tr>\n",
       "      <th>0</th>\n",
       "      <td>31.402104</td>\n",
       "      <td>31.816208</td>\n",
       "      <td>2.256782</td>\n",
       "      <td>-0.601275</td>\n",
       "      <td>-0.143888</td>\n",
       "      <td>-0.032567</td>\n",
       "      <td>0.020235</td>\n",
       "    </tr>\n",
       "    <tr>\n",
       "      <th>0</th>\n",
       "      <td>32.743337</td>\n",
       "      <td>48.579944</td>\n",
       "      <td>0.785430</td>\n",
       "      <td>0.674375</td>\n",
       "      <td>-0.101972</td>\n",
       "      <td>-0.230389</td>\n",
       "      <td>0.078306</td>\n",
       "    </tr>\n",
       "    <tr>\n",
       "      <th>0</th>\n",
       "      <td>39.082772</td>\n",
       "      <td>54.789807</td>\n",
       "      <td>1.380251</td>\n",
       "      <td>-0.707513</td>\n",
       "      <td>-0.165304</td>\n",
       "      <td>-0.182755</td>\n",
       "      <td>0.005885</td>\n",
       "    </tr>\n",
       "    <tr>\n",
       "      <th>...</th>\n",
       "      <td>...</td>\n",
       "      <td>...</td>\n",
       "      <td>...</td>\n",
       "      <td>...</td>\n",
       "      <td>...</td>\n",
       "      <td>...</td>\n",
       "      <td>...</td>\n",
       "    </tr>\n",
       "    <tr>\n",
       "      <th>0</th>\n",
       "      <td>35.417247</td>\n",
       "      <td>65.176258</td>\n",
       "      <td>2.601124</td>\n",
       "      <td>-0.269348</td>\n",
       "      <td>-0.191754</td>\n",
       "      <td>-0.332751</td>\n",
       "      <td>0.003359</td>\n",
       "    </tr>\n",
       "    <tr>\n",
       "      <th>0</th>\n",
       "      <td>28.887394</td>\n",
       "      <td>69.747132</td>\n",
       "      <td>1.390209</td>\n",
       "      <td>0.450804</td>\n",
       "      <td>-0.088622</td>\n",
       "      <td>-0.324748</td>\n",
       "      <td>0.009974</td>\n",
       "    </tr>\n",
       "    <tr>\n",
       "      <th>0</th>\n",
       "      <td>38.169314</td>\n",
       "      <td>47.612280</td>\n",
       "      <td>1.110880</td>\n",
       "      <td>1.100497</td>\n",
       "      <td>-0.168633</td>\n",
       "      <td>-0.206201</td>\n",
       "      <td>0.004443</td>\n",
       "    </tr>\n",
       "    <tr>\n",
       "      <th>0</th>\n",
       "      <td>31.344890</td>\n",
       "      <td>38.674943</td>\n",
       "      <td>1.002593</td>\n",
       "      <td>1.773039</td>\n",
       "      <td>-0.090568</td>\n",
       "      <td>-0.207609</td>\n",
       "      <td>0.040018</td>\n",
       "    </tr>\n",
       "    <tr>\n",
       "      <th>0</th>\n",
       "      <td>29.605421</td>\n",
       "      <td>46.220911</td>\n",
       "      <td>1.562484</td>\n",
       "      <td>0.852448</td>\n",
       "      <td>-0.108032</td>\n",
       "      <td>-0.215573</td>\n",
       "      <td>0.003885</td>\n",
       "    </tr>\n",
       "  </tbody>\n",
       "</table>\n",
       "<p>200 rows × 7 columns</p>\n",
       "</div>"
      ],
      "text/plain": [
       "    Intercept        sex  UnemploymentRate  sex:UnemploymentRate      SNAP  \\\n",
       "0   47.729659  47.990877          0.290365              2.902053 -0.198307   \n",
       "0   44.941630  25.369753          1.378347              1.314616 -0.223237   \n",
       "0   31.402104  31.816208          2.256782             -0.601275 -0.143888   \n",
       "0   32.743337  48.579944          0.785430              0.674375 -0.101972   \n",
       "0   39.082772  54.789807          1.380251             -0.707513 -0.165304   \n",
       "..        ...        ...               ...                   ...       ...   \n",
       "0   35.417247  65.176258          2.601124             -0.269348 -0.191754   \n",
       "0   28.887394  69.747132          1.390209              0.450804 -0.088622   \n",
       "0   38.169314  47.612280          1.110880              1.100497 -0.168633   \n",
       "0   31.344890  38.674943          1.002593              1.773039 -0.090568   \n",
       "0   29.605421  46.220911          1.562484              0.852448 -0.108032   \n",
       "\n",
       "    sex:SNAP  Group Var  \n",
       "0  -0.287202   0.027543  \n",
       "0  -0.035486   0.006399  \n",
       "0  -0.032567   0.020235  \n",
       "0  -0.230389   0.078306  \n",
       "0  -0.182755   0.005885  \n",
       "..       ...        ...  \n",
       "0  -0.332751   0.003359  \n",
       "0  -0.324748   0.009974  \n",
       "0  -0.206201   0.004443  \n",
       "0  -0.207609   0.040018  \n",
       "0  -0.215573   0.003885  \n",
       "\n",
       "[200 rows x 7 columns]"
      ]
     },
     "execution_count": 26,
     "metadata": {},
     "output_type": "execute_result"
    }
   ],
   "source": [
    "params.T"
   ]
  },
  {
   "cell_type": "code",
   "execution_count": 34,
   "id": "f31ca02a",
   "metadata": {},
   "outputs": [
    {
     "data": {
      "text/plain": [
       "0"
      ]
     },
     "execution_count": 34,
     "metadata": {},
     "output_type": "execute_result"
    }
   ],
   "source": [
    "1000 % 1000"
   ]
  },
  {
   "cell_type": "code",
   "execution_count": 28,
   "id": "be46f34e",
   "metadata": {},
   "outputs": [
    {
     "data": {
      "text/html": [
       "<div>\n",
       "<style scoped>\n",
       "    .dataframe tbody tr th:only-of-type {\n",
       "        vertical-align: middle;\n",
       "    }\n",
       "\n",
       "    .dataframe tbody tr th {\n",
       "        vertical-align: top;\n",
       "    }\n",
       "\n",
       "    .dataframe thead tr th {\n",
       "        text-align: left;\n",
       "    }\n",
       "</style>\n",
       "<table border=\"1\" class=\"dataframe\">\n",
       "  <thead>\n",
       "    <tr>\n",
       "      <th>year</th>\n",
       "      <th colspan=\"2\" halign=\"left\">2003</th>\n",
       "      <th colspan=\"2\" halign=\"left\">2005</th>\n",
       "      <th colspan=\"2\" halign=\"left\">2007</th>\n",
       "      <th colspan=\"2\" halign=\"left\">2009</th>\n",
       "      <th colspan=\"2\" halign=\"left\">2011</th>\n",
       "      <th colspan=\"2\" halign=\"left\">2013</th>\n",
       "      <th colspan=\"2\" halign=\"left\">2015</th>\n",
       "      <th colspan=\"2\" halign=\"left\">2017</th>\n",
       "      <th colspan=\"2\" halign=\"left\">2019</th>\n",
       "    </tr>\n",
       "    <tr>\n",
       "      <th>sex</th>\n",
       "      <th>0.0</th>\n",
       "      <th>1.0</th>\n",
       "      <th>0.0</th>\n",
       "      <th>1.0</th>\n",
       "      <th>0.0</th>\n",
       "      <th>1.0</th>\n",
       "      <th>0.0</th>\n",
       "      <th>1.0</th>\n",
       "      <th>0.0</th>\n",
       "      <th>1.0</th>\n",
       "      <th>0.0</th>\n",
       "      <th>1.0</th>\n",
       "      <th>0.0</th>\n",
       "      <th>1.0</th>\n",
       "      <th>0.0</th>\n",
       "      <th>1.0</th>\n",
       "      <th>0.0</th>\n",
       "      <th>1.0</th>\n",
       "    </tr>\n",
       "  </thead>\n",
       "  <tbody>\n",
       "    <tr>\n",
       "      <th>0</th>\n",
       "      <td>288.750350</td>\n",
       "      <td>474.335267</td>\n",
       "      <td>164.939377</td>\n",
       "      <td>273.749384</td>\n",
       "      <td>223.413060</td>\n",
       "      <td>639.212682</td>\n",
       "      <td>175.198906</td>\n",
       "      <td>1415.013784</td>\n",
       "      <td>286.418095</td>\n",
       "      <td>586.767707</td>\n",
       "      <td>295.387568</td>\n",
       "      <td>492.337567</td>\n",
       "      <td>285.910113</td>\n",
       "      <td>257.321325</td>\n",
       "      <td>65.307872</td>\n",
       "      <td>660.274784</td>\n",
       "      <td>297.667228</td>\n",
       "      <td>1030.704421</td>\n",
       "    </tr>\n",
       "    <tr>\n",
       "      <th>1</th>\n",
       "      <td>123.675153</td>\n",
       "      <td>533.451022</td>\n",
       "      <td>313.326179</td>\n",
       "      <td>990.543857</td>\n",
       "      <td>207.881469</td>\n",
       "      <td>422.645151</td>\n",
       "      <td>165.067784</td>\n",
       "      <td>494.064474</td>\n",
       "      <td>286.593961</td>\n",
       "      <td>814.867681</td>\n",
       "      <td>245.498839</td>\n",
       "      <td>433.959174</td>\n",
       "      <td>148.578374</td>\n",
       "      <td>261.876614</td>\n",
       "      <td>127.369578</td>\n",
       "      <td>745.620253</td>\n",
       "      <td>246.396743</td>\n",
       "      <td>490.879423</td>\n",
       "    </tr>\n",
       "    <tr>\n",
       "      <th>2</th>\n",
       "      <td>208.574798</td>\n",
       "      <td>318.711975</td>\n",
       "      <td>253.603044</td>\n",
       "      <td>566.278366</td>\n",
       "      <td>307.542958</td>\n",
       "      <td>1303.666218</td>\n",
       "      <td>264.248136</td>\n",
       "      <td>765.200211</td>\n",
       "      <td>462.862542</td>\n",
       "      <td>253.885872</td>\n",
       "      <td>261.010929</td>\n",
       "      <td>431.826517</td>\n",
       "      <td>97.838422</td>\n",
       "      <td>570.857898</td>\n",
       "      <td>291.748411</td>\n",
       "      <td>255.221596</td>\n",
       "      <td>306.652485</td>\n",
       "      <td>711.791378</td>\n",
       "    </tr>\n",
       "    <tr>\n",
       "      <th>3</th>\n",
       "      <td>407.711607</td>\n",
       "      <td>667.150109</td>\n",
       "      <td>147.055564</td>\n",
       "      <td>288.800610</td>\n",
       "      <td>212.407141</td>\n",
       "      <td>350.068937</td>\n",
       "      <td>358.680135</td>\n",
       "      <td>660.661243</td>\n",
       "      <td>277.283432</td>\n",
       "      <td>546.294355</td>\n",
       "      <td>189.035626</td>\n",
       "      <td>756.756853</td>\n",
       "      <td>130.061145</td>\n",
       "      <td>395.717822</td>\n",
       "      <td>244.569535</td>\n",
       "      <td>736.837418</td>\n",
       "      <td>209.921834</td>\n",
       "      <td>431.138536</td>\n",
       "    </tr>\n",
       "    <tr>\n",
       "      <th>4</th>\n",
       "      <td>191.570452</td>\n",
       "      <td>994.680876</td>\n",
       "      <td>204.293759</td>\n",
       "      <td>1072.511634</td>\n",
       "      <td>276.383449</td>\n",
       "      <td>421.652583</td>\n",
       "      <td>310.612434</td>\n",
       "      <td>563.862124</td>\n",
       "      <td>533.436338</td>\n",
       "      <td>361.310973</td>\n",
       "      <td>185.009710</td>\n",
       "      <td>774.661160</td>\n",
       "      <td>261.818173</td>\n",
       "      <td>509.502388</td>\n",
       "      <td>170.830903</td>\n",
       "      <td>855.621627</td>\n",
       "      <td>614.587781</td>\n",
       "      <td>1180.945256</td>\n",
       "    </tr>\n",
       "    <tr>\n",
       "      <th>...</th>\n",
       "      <td>...</td>\n",
       "      <td>...</td>\n",
       "      <td>...</td>\n",
       "      <td>...</td>\n",
       "      <td>...</td>\n",
       "      <td>...</td>\n",
       "      <td>...</td>\n",
       "      <td>...</td>\n",
       "      <td>...</td>\n",
       "      <td>...</td>\n",
       "      <td>...</td>\n",
       "      <td>...</td>\n",
       "      <td>...</td>\n",
       "      <td>...</td>\n",
       "      <td>...</td>\n",
       "      <td>...</td>\n",
       "      <td>...</td>\n",
       "      <td>...</td>\n",
       "    </tr>\n",
       "    <tr>\n",
       "      <th>195</th>\n",
       "      <td>248.179174</td>\n",
       "      <td>726.558871</td>\n",
       "      <td>130.198834</td>\n",
       "      <td>244.128133</td>\n",
       "      <td>175.826627</td>\n",
       "      <td>930.259759</td>\n",
       "      <td>449.521846</td>\n",
       "      <td>791.524972</td>\n",
       "      <td>144.179661</td>\n",
       "      <td>451.851308</td>\n",
       "      <td>298.243778</td>\n",
       "      <td>371.704783</td>\n",
       "      <td>105.454209</td>\n",
       "      <td>581.304752</td>\n",
       "      <td>159.199742</td>\n",
       "      <td>334.732603</td>\n",
       "      <td>177.862746</td>\n",
       "      <td>392.849581</td>\n",
       "    </tr>\n",
       "    <tr>\n",
       "      <th>196</th>\n",
       "      <td>195.916709</td>\n",
       "      <td>723.794824</td>\n",
       "      <td>329.876805</td>\n",
       "      <td>610.686201</td>\n",
       "      <td>139.685618</td>\n",
       "      <td>986.004086</td>\n",
       "      <td>383.207623</td>\n",
       "      <td>1072.069551</td>\n",
       "      <td>194.352069</td>\n",
       "      <td>491.578070</td>\n",
       "      <td>186.803832</td>\n",
       "      <td>352.798010</td>\n",
       "      <td>137.754775</td>\n",
       "      <td>1027.662357</td>\n",
       "      <td>193.670210</td>\n",
       "      <td>1122.513955</td>\n",
       "      <td>468.679176</td>\n",
       "      <td>503.486717</td>\n",
       "    </tr>\n",
       "    <tr>\n",
       "      <th>197</th>\n",
       "      <td>322.569752</td>\n",
       "      <td>1095.010588</td>\n",
       "      <td>732.662737</td>\n",
       "      <td>375.523164</td>\n",
       "      <td>158.212061</td>\n",
       "      <td>499.035007</td>\n",
       "      <td>290.747340</td>\n",
       "      <td>652.215900</td>\n",
       "      <td>125.884314</td>\n",
       "      <td>940.392875</td>\n",
       "      <td>135.862646</td>\n",
       "      <td>418.601293</td>\n",
       "      <td>81.380384</td>\n",
       "      <td>504.172639</td>\n",
       "      <td>165.518335</td>\n",
       "      <td>829.734876</td>\n",
       "      <td>353.587591</td>\n",
       "      <td>778.803759</td>\n",
       "    </tr>\n",
       "    <tr>\n",
       "      <th>198</th>\n",
       "      <td>82.896277</td>\n",
       "      <td>486.725623</td>\n",
       "      <td>210.535063</td>\n",
       "      <td>570.047460</td>\n",
       "      <td>146.203664</td>\n",
       "      <td>933.468905</td>\n",
       "      <td>229.836587</td>\n",
       "      <td>746.549865</td>\n",
       "      <td>294.734127</td>\n",
       "      <td>551.073136</td>\n",
       "      <td>371.119171</td>\n",
       "      <td>277.168686</td>\n",
       "      <td>388.904726</td>\n",
       "      <td>594.220288</td>\n",
       "      <td>152.015242</td>\n",
       "      <td>183.178756</td>\n",
       "      <td>229.577350</td>\n",
       "      <td>591.266595</td>\n",
       "    </tr>\n",
       "    <tr>\n",
       "      <th>199</th>\n",
       "      <td>88.193083</td>\n",
       "      <td>497.794291</td>\n",
       "      <td>226.326730</td>\n",
       "      <td>784.583928</td>\n",
       "      <td>621.397254</td>\n",
       "      <td>542.604848</td>\n",
       "      <td>351.925258</td>\n",
       "      <td>701.844724</td>\n",
       "      <td>406.639534</td>\n",
       "      <td>300.928102</td>\n",
       "      <td>215.531480</td>\n",
       "      <td>421.385473</td>\n",
       "      <td>151.346703</td>\n",
       "      <td>673.028935</td>\n",
       "      <td>223.975930</td>\n",
       "      <td>456.072678</td>\n",
       "      <td>122.238246</td>\n",
       "      <td>260.499247</td>\n",
       "    </tr>\n",
       "  </tbody>\n",
       "</table>\n",
       "<p>200 rows × 18 columns</p>\n",
       "</div>"
      ],
      "text/plain": [
       "year        2003                     2005                     2007  \\\n",
       "sex          0.0          1.0         0.0          1.0         0.0   \n",
       "0     288.750350   474.335267  164.939377   273.749384  223.413060   \n",
       "1     123.675153   533.451022  313.326179   990.543857  207.881469   \n",
       "2     208.574798   318.711975  253.603044   566.278366  307.542958   \n",
       "3     407.711607   667.150109  147.055564   288.800610  212.407141   \n",
       "4     191.570452   994.680876  204.293759  1072.511634  276.383449   \n",
       "..           ...          ...         ...          ...         ...   \n",
       "195   248.179174   726.558871  130.198834   244.128133  175.826627   \n",
       "196   195.916709   723.794824  329.876805   610.686201  139.685618   \n",
       "197   322.569752  1095.010588  732.662737   375.523164  158.212061   \n",
       "198    82.896277   486.725623  210.535063   570.047460  146.203664   \n",
       "199    88.193083   497.794291  226.326730   784.583928  621.397254   \n",
       "\n",
       "year                     2009                     2011              \\\n",
       "sex           1.0         0.0          1.0         0.0         1.0   \n",
       "0      639.212682  175.198906  1415.013784  286.418095  586.767707   \n",
       "1      422.645151  165.067784   494.064474  286.593961  814.867681   \n",
       "2     1303.666218  264.248136   765.200211  462.862542  253.885872   \n",
       "3      350.068937  358.680135   660.661243  277.283432  546.294355   \n",
       "4      421.652583  310.612434   563.862124  533.436338  361.310973   \n",
       "..            ...         ...          ...         ...         ...   \n",
       "195    930.259759  449.521846   791.524972  144.179661  451.851308   \n",
       "196    986.004086  383.207623  1072.069551  194.352069  491.578070   \n",
       "197    499.035007  290.747340   652.215900  125.884314  940.392875   \n",
       "198    933.468905  229.836587   746.549865  294.734127  551.073136   \n",
       "199    542.604848  351.925258   701.844724  406.639534  300.928102   \n",
       "\n",
       "year        2013                    2015                     2017  \\\n",
       "sex          0.0         1.0         0.0          1.0         0.0   \n",
       "0     295.387568  492.337567  285.910113   257.321325   65.307872   \n",
       "1     245.498839  433.959174  148.578374   261.876614  127.369578   \n",
       "2     261.010929  431.826517   97.838422   570.857898  291.748411   \n",
       "3     189.035626  756.756853  130.061145   395.717822  244.569535   \n",
       "4     185.009710  774.661160  261.818173   509.502388  170.830903   \n",
       "..           ...         ...         ...          ...         ...   \n",
       "195   298.243778  371.704783  105.454209   581.304752  159.199742   \n",
       "196   186.803832  352.798010  137.754775  1027.662357  193.670210   \n",
       "197   135.862646  418.601293   81.380384   504.172639  165.518335   \n",
       "198   371.119171  277.168686  388.904726   594.220288  152.015242   \n",
       "199   215.531480  421.385473  151.346703   673.028935  223.975930   \n",
       "\n",
       "year                     2019               \n",
       "sex           1.0         0.0          1.0  \n",
       "0      660.274784  297.667228  1030.704421  \n",
       "1      745.620253  246.396743   490.879423  \n",
       "2      255.221596  306.652485   711.791378  \n",
       "3      736.837418  209.921834   431.138536  \n",
       "4      855.621627  614.587781  1180.945256  \n",
       "..            ...         ...          ...  \n",
       "195    334.732603  177.862746   392.849581  \n",
       "196   1122.513955  468.679176   503.486717  \n",
       "197    829.734876  353.587591   778.803759  \n",
       "198    183.178756  229.577350   591.266595  \n",
       "199    456.072678  122.238246   260.499247  \n",
       "\n",
       "[200 rows x 18 columns]"
      ]
     },
     "execution_count": 28,
     "metadata": {},
     "output_type": "execute_result"
    }
   ],
   "source": [
    "sampleVars.T"
   ]
  },
  {
   "cell_type": "code",
   "execution_count": 30,
   "id": "8117adbe",
   "metadata": {},
   "outputs": [
    {
     "data": {
      "text/html": [
       "<div>\n",
       "<style scoped>\n",
       "    .dataframe tbody tr th:only-of-type {\n",
       "        vertical-align: middle;\n",
       "    }\n",
       "\n",
       "    .dataframe tbody tr th {\n",
       "        vertical-align: top;\n",
       "    }\n",
       "\n",
       "    .dataframe thead tr th {\n",
       "        text-align: left;\n",
       "    }\n",
       "</style>\n",
       "<table border=\"1\" class=\"dataframe\">\n",
       "  <thead>\n",
       "    <tr>\n",
       "      <th>year</th>\n",
       "      <th colspan=\"2\" halign=\"left\">2003</th>\n",
       "      <th colspan=\"2\" halign=\"left\">2005</th>\n",
       "      <th colspan=\"2\" halign=\"left\">2007</th>\n",
       "      <th colspan=\"2\" halign=\"left\">2009</th>\n",
       "      <th colspan=\"2\" halign=\"left\">2011</th>\n",
       "      <th colspan=\"2\" halign=\"left\">2013</th>\n",
       "      <th colspan=\"2\" halign=\"left\">2015</th>\n",
       "      <th colspan=\"2\" halign=\"left\">2017</th>\n",
       "      <th colspan=\"2\" halign=\"left\">2019</th>\n",
       "    </tr>\n",
       "    <tr>\n",
       "      <th>sex</th>\n",
       "      <th>0.0</th>\n",
       "      <th>1.0</th>\n",
       "      <th>0.0</th>\n",
       "      <th>1.0</th>\n",
       "      <th>0.0</th>\n",
       "      <th>1.0</th>\n",
       "      <th>0.0</th>\n",
       "      <th>1.0</th>\n",
       "      <th>0.0</th>\n",
       "      <th>1.0</th>\n",
       "      <th>0.0</th>\n",
       "      <th>1.0</th>\n",
       "      <th>0.0</th>\n",
       "      <th>1.0</th>\n",
       "      <th>0.0</th>\n",
       "      <th>1.0</th>\n",
       "      <th>0.0</th>\n",
       "      <th>1.0</th>\n",
       "    </tr>\n",
       "  </thead>\n",
       "  <tbody>\n",
       "    <tr>\n",
       "      <th>0</th>\n",
       "      <td>1.499992</td>\n",
       "      <td>15.507089</td>\n",
       "      <td>0.087785</td>\n",
       "      <td>14.868151</td>\n",
       "      <td>1.215835</td>\n",
       "      <td>11.974065</td>\n",
       "      <td>2.363077</td>\n",
       "      <td>30.897057</td>\n",
       "      <td>1.487338</td>\n",
       "      <td>25.660692</td>\n",
       "      <td>2.096485</td>\n",
       "      <td>34.310780</td>\n",
       "      <td>1.636425</td>\n",
       "      <td>22.642443</td>\n",
       "      <td>1.487263</td>\n",
       "      <td>20.476522</td>\n",
       "      <td>0.888778</td>\n",
       "      <td>14.446804</td>\n",
       "    </tr>\n",
       "    <tr>\n",
       "      <th>1</th>\n",
       "      <td>2.837204</td>\n",
       "      <td>13.913641</td>\n",
       "      <td>2.701542</td>\n",
       "      <td>12.248018</td>\n",
       "      <td>2.361292</td>\n",
       "      <td>6.653135</td>\n",
       "      <td>6.088874</td>\n",
       "      <td>16.377401</td>\n",
       "      <td>4.983685</td>\n",
       "      <td>14.842445</td>\n",
       "      <td>6.706552</td>\n",
       "      <td>18.923747</td>\n",
       "      <td>4.491379</td>\n",
       "      <td>11.179709</td>\n",
       "      <td>4.064101</td>\n",
       "      <td>10.061292</td>\n",
       "      <td>2.837476</td>\n",
       "      <td>7.642531</td>\n",
       "    </tr>\n",
       "    <tr>\n",
       "      <th>2</th>\n",
       "      <td>11.872821</td>\n",
       "      <td>4.969734</td>\n",
       "      <td>9.359920</td>\n",
       "      <td>4.503030</td>\n",
       "      <td>4.419935</td>\n",
       "      <td>2.601362</td>\n",
       "      <td>10.053481</td>\n",
       "      <td>6.512869</td>\n",
       "      <td>9.536324</td>\n",
       "      <td>5.806835</td>\n",
       "      <td>11.733250</td>\n",
       "      <td>7.480939</td>\n",
       "      <td>6.354033</td>\n",
       "      <td>4.529727</td>\n",
       "      <td>5.693053</td>\n",
       "      <td>4.081286</td>\n",
       "      <td>4.563426</td>\n",
       "      <td>3.051484</td>\n",
       "    </tr>\n",
       "    <tr>\n",
       "      <th>3</th>\n",
       "      <td>1.006168</td>\n",
       "      <td>3.463683</td>\n",
       "      <td>0.953738</td>\n",
       "      <td>2.567218</td>\n",
       "      <td>0.645616</td>\n",
       "      <td>3.979563</td>\n",
       "      <td>1.654399</td>\n",
       "      <td>9.886825</td>\n",
       "      <td>1.421918</td>\n",
       "      <td>7.445966</td>\n",
       "      <td>1.869969</td>\n",
       "      <td>10.326618</td>\n",
       "      <td>1.187892</td>\n",
       "      <td>7.421459</td>\n",
       "      <td>1.072571</td>\n",
       "      <td>6.732565</td>\n",
       "      <td>0.776891</td>\n",
       "      <td>4.453103</td>\n",
       "    </tr>\n",
       "    <tr>\n",
       "      <th>4</th>\n",
       "      <td>3.241377</td>\n",
       "      <td>3.995084</td>\n",
       "      <td>3.023907</td>\n",
       "      <td>0.375304</td>\n",
       "      <td>1.904658</td>\n",
       "      <td>3.707318</td>\n",
       "      <td>4.842735</td>\n",
       "      <td>7.604072</td>\n",
       "      <td>4.228858</td>\n",
       "      <td>4.912748</td>\n",
       "      <td>5.514280</td>\n",
       "      <td>6.960452</td>\n",
       "      <td>3.434613</td>\n",
       "      <td>5.414210</td>\n",
       "      <td>3.098530</td>\n",
       "      <td>4.921478</td>\n",
       "      <td>2.274151</td>\n",
       "      <td>2.984133</td>\n",
       "    </tr>\n",
       "    <tr>\n",
       "      <th>...</th>\n",
       "      <td>...</td>\n",
       "      <td>...</td>\n",
       "      <td>...</td>\n",
       "      <td>...</td>\n",
       "      <td>...</td>\n",
       "      <td>...</td>\n",
       "      <td>...</td>\n",
       "      <td>...</td>\n",
       "      <td>...</td>\n",
       "      <td>...</td>\n",
       "      <td>...</td>\n",
       "      <td>...</td>\n",
       "      <td>...</td>\n",
       "      <td>...</td>\n",
       "      <td>...</td>\n",
       "      <td>...</td>\n",
       "      <td>...</td>\n",
       "      <td>...</td>\n",
       "    </tr>\n",
       "    <tr>\n",
       "      <th>195</th>\n",
       "      <td>14.814967</td>\n",
       "      <td>8.747210</td>\n",
       "      <td>12.115098</td>\n",
       "      <td>6.593999</td>\n",
       "      <td>5.922785</td>\n",
       "      <td>9.979648</td>\n",
       "      <td>13.863112</td>\n",
       "      <td>24.847563</td>\n",
       "      <td>12.980330</td>\n",
       "      <td>18.768611</td>\n",
       "      <td>16.155196</td>\n",
       "      <td>26.006618</td>\n",
       "      <td>9.002221</td>\n",
       "      <td>18.649749</td>\n",
       "      <td>8.078028</td>\n",
       "      <td>16.917380</td>\n",
       "      <td>6.363988</td>\n",
       "      <td>11.209720</td>\n",
       "    </tr>\n",
       "    <tr>\n",
       "      <th>196</th>\n",
       "      <td>4.505718</td>\n",
       "      <td>5.444661</td>\n",
       "      <td>3.551935</td>\n",
       "      <td>4.114504</td>\n",
       "      <td>1.677237</td>\n",
       "      <td>6.205084</td>\n",
       "      <td>3.814883</td>\n",
       "      <td>15.454501</td>\n",
       "      <td>3.618690</td>\n",
       "      <td>11.678695</td>\n",
       "      <td>4.452289</td>\n",
       "      <td>16.180361</td>\n",
       "      <td>2.411021</td>\n",
       "      <td>11.599423</td>\n",
       "      <td>2.160211</td>\n",
       "      <td>10.521842</td>\n",
       "      <td>1.731609</td>\n",
       "      <td>6.973803</td>\n",
       "    </tr>\n",
       "    <tr>\n",
       "      <th>197</th>\n",
       "      <td>1.878905</td>\n",
       "      <td>7.239066</td>\n",
       "      <td>1.801638</td>\n",
       "      <td>6.819656</td>\n",
       "      <td>1.447636</td>\n",
       "      <td>6.354094</td>\n",
       "      <td>3.735340</td>\n",
       "      <td>16.356254</td>\n",
       "      <td>3.103587</td>\n",
       "      <td>13.243397</td>\n",
       "      <td>4.149001</td>\n",
       "      <td>17.902532</td>\n",
       "      <td>2.736825</td>\n",
       "      <td>12.114613</td>\n",
       "      <td>2.474983</td>\n",
       "      <td>10.966505</td>\n",
       "      <td>1.746712</td>\n",
       "      <td>7.599150</td>\n",
       "    </tr>\n",
       "    <tr>\n",
       "      <th>198</th>\n",
       "      <td>1.992345</td>\n",
       "      <td>13.909864</td>\n",
       "      <td>1.723385</td>\n",
       "      <td>12.630211</td>\n",
       "      <td>0.908009</td>\n",
       "      <td>7.334536</td>\n",
       "      <td>2.210579</td>\n",
       "      <td>18.384550</td>\n",
       "      <td>2.020930</td>\n",
       "      <td>16.369941</td>\n",
       "      <td>2.561365</td>\n",
       "      <td>21.106306</td>\n",
       "      <td>1.491822</td>\n",
       "      <td>12.804065</td>\n",
       "      <td>1.341658</td>\n",
       "      <td>11.537468</td>\n",
       "      <td>1.028344</td>\n",
       "      <td>8.615742</td>\n",
       "    </tr>\n",
       "    <tr>\n",
       "      <th>199</th>\n",
       "      <td>5.500669</td>\n",
       "      <td>9.363902</td>\n",
       "      <td>4.424123</td>\n",
       "      <td>8.918428</td>\n",
       "      <td>2.126582</td>\n",
       "      <td>6.228468</td>\n",
       "      <td>4.914708</td>\n",
       "      <td>15.997575</td>\n",
       "      <td>4.629988</td>\n",
       "      <td>13.659949</td>\n",
       "      <td>5.732369</td>\n",
       "      <td>18.024357</td>\n",
       "      <td>3.153172</td>\n",
       "      <td>11.538441</td>\n",
       "      <td>2.827532</td>\n",
       "      <td>10.421683</td>\n",
       "      <td>2.245218</td>\n",
       "      <td>7.509342</td>\n",
       "    </tr>\n",
       "  </tbody>\n",
       "</table>\n",
       "<p>200 rows × 18 columns</p>\n",
       "</div>"
      ],
      "text/plain": [
       "year       2003                  2005                 2007             \\\n",
       "sex         0.0        1.0        0.0        1.0       0.0        1.0   \n",
       "0      1.499992  15.507089   0.087785  14.868151  1.215835  11.974065   \n",
       "1      2.837204  13.913641   2.701542  12.248018  2.361292   6.653135   \n",
       "2     11.872821   4.969734   9.359920   4.503030  4.419935   2.601362   \n",
       "3      1.006168   3.463683   0.953738   2.567218  0.645616   3.979563   \n",
       "4      3.241377   3.995084   3.023907   0.375304  1.904658   3.707318   \n",
       "..          ...        ...        ...        ...       ...        ...   \n",
       "195   14.814967   8.747210  12.115098   6.593999  5.922785   9.979648   \n",
       "196    4.505718   5.444661   3.551935   4.114504  1.677237   6.205084   \n",
       "197    1.878905   7.239066   1.801638   6.819656  1.447636   6.354094   \n",
       "198    1.992345  13.909864   1.723385  12.630211  0.908009   7.334536   \n",
       "199    5.500669   9.363902   4.424123   8.918428  2.126582   6.228468   \n",
       "\n",
       "year       2009                  2011                  2013             \\\n",
       "sex         0.0        1.0        0.0        1.0        0.0        1.0   \n",
       "0      2.363077  30.897057   1.487338  25.660692   2.096485  34.310780   \n",
       "1      6.088874  16.377401   4.983685  14.842445   6.706552  18.923747   \n",
       "2     10.053481   6.512869   9.536324   5.806835  11.733250   7.480939   \n",
       "3      1.654399   9.886825   1.421918   7.445966   1.869969  10.326618   \n",
       "4      4.842735   7.604072   4.228858   4.912748   5.514280   6.960452   \n",
       "..          ...        ...        ...        ...        ...        ...   \n",
       "195   13.863112  24.847563  12.980330  18.768611  16.155196  26.006618   \n",
       "196    3.814883  15.454501   3.618690  11.678695   4.452289  16.180361   \n",
       "197    3.735340  16.356254   3.103587  13.243397   4.149001  17.902532   \n",
       "198    2.210579  18.384550   2.020930  16.369941   2.561365  21.106306   \n",
       "199    4.914708  15.997575   4.629988  13.659949   5.732369  18.024357   \n",
       "\n",
       "year      2015                 2017                 2019             \n",
       "sex        0.0        1.0       0.0        1.0       0.0        1.0  \n",
       "0     1.636425  22.642443  1.487263  20.476522  0.888778  14.446804  \n",
       "1     4.491379  11.179709  4.064101  10.061292  2.837476   7.642531  \n",
       "2     6.354033   4.529727  5.693053   4.081286  4.563426   3.051484  \n",
       "3     1.187892   7.421459  1.072571   6.732565  0.776891   4.453103  \n",
       "4     3.434613   5.414210  3.098530   4.921478  2.274151   2.984133  \n",
       "..         ...        ...       ...        ...       ...        ...  \n",
       "195   9.002221  18.649749  8.078028  16.917380  6.363988  11.209720  \n",
       "196   2.411021  11.599423  2.160211  10.521842  1.731609   6.973803  \n",
       "197   2.736825  12.114613  2.474983  10.966505  1.746712   7.599150  \n",
       "198   1.491822  12.804065  1.341658  11.537468  1.028344   8.615742  \n",
       "199   3.153172  11.538441  2.827532  10.421683  2.245218   7.509342  \n",
       "\n",
       "[200 rows x 18 columns]"
      ]
     },
     "execution_count": 30,
     "metadata": {},
     "output_type": "execute_result"
    }
   ],
   "source": [
    "predictVar.T"
   ]
  },
  {
   "cell_type": "markdown",
   "id": "1af46bde",
   "metadata": {},
   "source": [
    "## Results\n",
    "[Back to Top](#Table-of-Contents)"
   ]
  },
  {
   "cell_type": "code",
   "execution_count": 23,
   "id": "b4794687",
   "metadata": {},
   "outputs": [
    {
     "data": {
      "text/html": [
       "<div>\n",
       "<style scoped>\n",
       "    .dataframe tbody tr th:only-of-type {\n",
       "        vertical-align: middle;\n",
       "    }\n",
       "\n",
       "    .dataframe tbody tr th {\n",
       "        vertical-align: top;\n",
       "    }\n",
       "\n",
       "    .dataframe thead th {\n",
       "        text-align: right;\n",
       "    }\n",
       "</style>\n",
       "<table border=\"1\" class=\"dataframe\">\n",
       "  <thead>\n",
       "    <tr style=\"text-align: right;\">\n",
       "      <th>Unnamed: 0</th>\n",
       "      <th>Intercept</th>\n",
       "      <th>sex</th>\n",
       "      <th>UnemploymentRate</th>\n",
       "      <th>sex:UnemploymentRate</th>\n",
       "      <th>SNAP</th>\n",
       "      <th>sex:SNAP</th>\n",
       "      <th>Group Var</th>\n",
       "    </tr>\n",
       "  </thead>\n",
       "  <tbody>\n",
       "    <tr>\n",
       "      <th>0</th>\n",
       "      <td>35.876124</td>\n",
       "      <td>48.101853</td>\n",
       "      <td>1.075932</td>\n",
       "      <td>0.841429</td>\n",
       "      <td>-0.130626</td>\n",
       "      <td>-0.216720</td>\n",
       "      <td>0.214526</td>\n",
       "    </tr>\n",
       "    <tr>\n",
       "      <th>0.1</th>\n",
       "      <td>37.018628</td>\n",
       "      <td>46.535556</td>\n",
       "      <td>1.114304</td>\n",
       "      <td>0.871441</td>\n",
       "      <td>-0.140526</td>\n",
       "      <td>-0.208982</td>\n",
       "      <td>0.150865</td>\n",
       "    </tr>\n",
       "    <tr>\n",
       "      <th>0.2</th>\n",
       "      <td>35.526265</td>\n",
       "      <td>52.486330</td>\n",
       "      <td>1.154383</td>\n",
       "      <td>0.891443</td>\n",
       "      <td>-0.130432</td>\n",
       "      <td>-0.250779</td>\n",
       "      <td>0.139427</td>\n",
       "    </tr>\n",
       "  </tbody>\n",
       "</table>\n",
       "</div>"
      ],
      "text/plain": [
       "Unnamed: 0  Intercept        sex  UnemploymentRate  sex:UnemploymentRate  \\\n",
       "0           35.876124  48.101853          1.075932              0.841429   \n",
       "0.1         37.018628  46.535556          1.114304              0.871441   \n",
       "0.2         35.526265  52.486330          1.154383              0.891443   \n",
       "\n",
       "Unnamed: 0      SNAP  sex:SNAP  Group Var  \n",
       "0          -0.130626 -0.216720   0.214526  \n",
       "0.1        -0.140526 -0.208982   0.150865  \n",
       "0.2        -0.130432 -0.250779   0.139427  "
      ]
     },
     "execution_count": 23,
     "metadata": {},
     "output_type": "execute_result"
    }
   ],
   "source": [
    "params = bootParams.set_index(\"Unnamed: 0\").T\n",
    "params.head(3)"
   ]
  },
  {
   "cell_type": "code",
   "execution_count": 24,
   "id": "0f4dfaf3",
   "metadata": {},
   "outputs": [
    {
     "data": {
      "text/plain": [
       "<AxesSubplot:xlabel='Intercept', ylabel='Density'>"
      ]
     },
     "execution_count": 24,
     "metadata": {},
     "output_type": "execute_result"
    },
    {
     "data": {
      "image/png": "[encoded data removed]",
      "text/plain": [
       "<Figure size 432x288 with 1 Axes>"
      ]
     },
     "metadata": {
      "needs_background": "light"
     },
     "output_type": "display_data"
    }
   ],
   "source": [
    "sns.kdeplot(params[\"Intercept\"])\n",
    "sns.kdeplot(params[\"sex\"])"
   ]
  },
  {
   "cell_type": "code",
   "execution_count": 168,
   "id": "bd012afa",
   "metadata": {},
   "outputs": [
    {
     "data": {
      "text/plain": [
       "<AxesSubplot:xlabel='SNAP', ylabel='Density'>"
      ]
     },
     "execution_count": 168,
     "metadata": {},
     "output_type": "execute_result"
    },
    {
     "data": {
      "image/png": "[encoded data removed]",
      "text/plain": [
       "<Figure size 432x288 with 1 Axes>"
      ]
     },
     "metadata": {
      "needs_background": "light"
     },
     "output_type": "display_data"
    }
   ],
   "source": [
    "sns.kdeplot(params[\"SNAP\"])\n",
    "sns.kdeplot(params[\"sex:SNAP\"])"
   ]
  },
  {
   "cell_type": "code",
   "execution_count": 169,
   "id": "7d5a8bb8",
   "metadata": {},
   "outputs": [
    {
     "data": {
      "text/plain": [
       "<AxesSubplot:xlabel='UnemploymentRate', ylabel='Density'>"
      ]
     },
     "execution_count": 169,
     "metadata": {},
     "output_type": "execute_result"
    },
    {
     "data": {
      "image/png": "[encoded data removed]",
      "text/plain": [
       "<Figure size 432x288 with 1 Axes>"
      ]
     },
     "metadata": {
      "needs_background": "light"
     },
     "output_type": "display_data"
    }
   ],
   "source": [
    "sns.kdeplot(params[\"UnemploymentRate\"])\n",
    "sns.kdeplot(params[\"sex:UnemploymentRate\"])"
   ]
  },
  {
   "cell_type": "code",
   "execution_count": 172,
   "id": "aeb0ffc0",
   "metadata": {},
   "outputs": [
    {
     "data": {
      "text/plain": [
       "Unnamed: 0\n",
       "Intercept               0.022998\n",
       "sex                     0.031982\n",
       "UnemploymentRate        0.052550\n",
       "sex:UnemploymentRate    0.120253\n",
       "SNAP                    0.046997\n",
       "sex:SNAP                0.052871\n",
       "Group Var               0.130117\n",
       "dtype: float64"
      ]
     },
     "execution_count": 172,
     "metadata": {},
     "output_type": "execute_result"
    }
   ],
   "source": [
    "params.std() / params.abs().mean()"
   ]
  },
  {
   "cell_type": "code",
   "execution_count": 20,
   "id": "25190b95",
   "metadata": {},
   "outputs": [
    {
     "data": {
      "text/html": [
       "<div>\n",
       "<style scoped>\n",
       "    .dataframe tbody tr th:only-of-type {\n",
       "        vertical-align: middle;\n",
       "    }\n",
       "\n",
       "    .dataframe tbody tr th {\n",
       "        vertical-align: top;\n",
       "    }\n",
       "\n",
       "    .dataframe thead th {\n",
       "        text-align: right;\n",
       "    }\n",
       "</style>\n",
       "<table border=\"1\" class=\"dataframe\">\n",
       "  <thead>\n",
       "    <tr style=\"text-align: right;\">\n",
       "      <th></th>\n",
       "      <th>2.5%</th>\n",
       "      <th>97.5%</th>\n",
       "      <th>Var</th>\n",
       "    </tr>\n",
       "    <tr>\n",
       "      <th>Unnamed: 0</th>\n",
       "      <th></th>\n",
       "      <th></th>\n",
       "      <th></th>\n",
       "    </tr>\n",
       "  </thead>\n",
       "  <tbody>\n",
       "    <tr>\n",
       "      <th>Intercept</th>\n",
       "      <td>34.493198</td>\n",
       "      <td>37.715036</td>\n",
       "      <td>0.688887</td>\n",
       "    </tr>\n",
       "    <tr>\n",
       "      <th>sex</th>\n",
       "      <td>45.866043</td>\n",
       "      <td>51.935079</td>\n",
       "      <td>2.447109</td>\n",
       "    </tr>\n",
       "    <tr>\n",
       "      <th>UnemploymentRate</th>\n",
       "      <td>1.020177</td>\n",
       "      <td>1.254238</td>\n",
       "      <td>0.003565</td>\n",
       "    </tr>\n",
       "    <tr>\n",
       "      <th>sex:UnemploymentRate</th>\n",
       "      <td>0.651787</td>\n",
       "      <td>1.056267</td>\n",
       "      <td>0.010554</td>\n",
       "    </tr>\n",
       "    <tr>\n",
       "      <th>SNAP</th>\n",
       "      <td>-0.147155</td>\n",
       "      <td>-0.122533</td>\n",
       "      <td>0.000040</td>\n",
       "    </tr>\n",
       "    <tr>\n",
       "      <th>sex:SNAP</th>\n",
       "      <td>-0.247880</td>\n",
       "      <td>-0.200637</td>\n",
       "      <td>0.000141</td>\n",
       "    </tr>\n",
       "    <tr>\n",
       "      <th>Group Var</th>\n",
       "      <td>0.136132</td>\n",
       "      <td>0.224671</td>\n",
       "      <td>0.000540</td>\n",
       "    </tr>\n",
       "  </tbody>\n",
       "</table>\n",
       "</div>"
      ],
      "text/plain": [
       "                           2.5%      97.5%       Var\n",
       "Unnamed: 0                                          \n",
       "Intercept             34.493198  37.715036  0.688887\n",
       "sex                   45.866043  51.935079  2.447109\n",
       "UnemploymentRate       1.020177   1.254238  0.003565\n",
       "sex:UnemploymentRate   0.651787   1.056267  0.010554\n",
       "SNAP                  -0.147155  -0.122533  0.000040\n",
       "sex:SNAP              -0.247880  -0.200637  0.000141\n",
       "Group Var              0.136132   0.224671  0.000540"
      ]
     },
     "execution_count": 20,
     "metadata": {},
     "output_type": "execute_result"
    }
   ],
   "source": [
    "CIandVar = pd.concat([params.quantile(.025), params.quantile(.975), params.var()], axis=1)\n",
    "CIandVar.columns = [\"2.5%\", \"97.5%\", \"Var\"]\n",
    "CIandVar"
   ]
  },
  {
   "cell_type": "code",
   "execution_count": 3,
   "id": "160d967e",
   "metadata": {},
   "outputs": [
    {
     "data": {
      "text/html": [
       "<div>\n",
       "<style scoped>\n",
       "    .dataframe tbody tr th:only-of-type {\n",
       "        vertical-align: middle;\n",
       "    }\n",
       "\n",
       "    .dataframe tbody tr th {\n",
       "        vertical-align: top;\n",
       "    }\n",
       "\n",
       "    .dataframe thead tr th {\n",
       "        text-align: left;\n",
       "    }\n",
       "</style>\n",
       "<table border=\"1\" class=\"dataframe\">\n",
       "  <thead>\n",
       "    <tr>\n",
       "      <th>year</th>\n",
       "      <th colspan=\"2\" halign=\"left\">2003</th>\n",
       "      <th colspan=\"2\" halign=\"left\">2005</th>\n",
       "      <th colspan=\"2\" halign=\"left\">2007</th>\n",
       "      <th colspan=\"2\" halign=\"left\">2009</th>\n",
       "      <th colspan=\"2\" halign=\"left\">2011</th>\n",
       "      <th colspan=\"2\" halign=\"left\">2013</th>\n",
       "      <th colspan=\"2\" halign=\"left\">2015</th>\n",
       "      <th colspan=\"2\" halign=\"left\">2017</th>\n",
       "      <th colspan=\"2\" halign=\"left\">2019</th>\n",
       "    </tr>\n",
       "    <tr>\n",
       "      <th>sex</th>\n",
       "      <th>0.0</th>\n",
       "      <th>1.0</th>\n",
       "      <th>0.0</th>\n",
       "      <th>1.0</th>\n",
       "      <th>0.0</th>\n",
       "      <th>1.0</th>\n",
       "      <th>0.0</th>\n",
       "      <th>1.0</th>\n",
       "      <th>0.0</th>\n",
       "      <th>1.0</th>\n",
       "      <th>0.0</th>\n",
       "      <th>1.0</th>\n",
       "      <th>0.0</th>\n",
       "      <th>1.0</th>\n",
       "      <th>0.0</th>\n",
       "      <th>1.0</th>\n",
       "      <th>0.0</th>\n",
       "      <th>1.0</th>\n",
       "    </tr>\n",
       "  </thead>\n",
       "  <tbody>\n",
       "    <tr>\n",
       "      <th>0</th>\n",
       "      <td>19.247935</td>\n",
       "      <td>66.248088</td>\n",
       "      <td>23.118995</td>\n",
       "      <td>26.520196</td>\n",
       "      <td>44.558896</td>\n",
       "      <td>50.096223</td>\n",
       "      <td>41.538384</td>\n",
       "      <td>61.463199</td>\n",
       "      <td>66.752355</td>\n",
       "      <td>29.281988</td>\n",
       "      <td>30.166713</td>\n",
       "      <td>56.144033</td>\n",
       "      <td>18.286277</td>\n",
       "      <td>31.097899</td>\n",
       "      <td>34.471138</td>\n",
       "      <td>81.672368</td>\n",
       "      <td>27.758141</td>\n",
       "      <td>96.358362</td>\n",
       "    </tr>\n",
       "    <tr>\n",
       "      <th>1</th>\n",
       "      <td>28.576602</td>\n",
       "      <td>55.158699</td>\n",
       "      <td>27.823640</td>\n",
       "      <td>35.098666</td>\n",
       "      <td>44.775234</td>\n",
       "      <td>51.313903</td>\n",
       "      <td>35.272535</td>\n",
       "      <td>54.527335</td>\n",
       "      <td>65.906831</td>\n",
       "      <td>48.983493</td>\n",
       "      <td>25.172281</td>\n",
       "      <td>61.644115</td>\n",
       "      <td>25.085164</td>\n",
       "      <td>40.492948</td>\n",
       "      <td>27.742162</td>\n",
       "      <td>82.164561</td>\n",
       "      <td>22.798413</td>\n",
       "      <td>62.284765</td>\n",
       "    </tr>\n",
       "    <tr>\n",
       "      <th>2</th>\n",
       "      <td>35.596998</td>\n",
       "      <td>65.321297</td>\n",
       "      <td>25.769723</td>\n",
       "      <td>24.509707</td>\n",
       "      <td>49.752559</td>\n",
       "      <td>62.733651</td>\n",
       "      <td>30.935912</td>\n",
       "      <td>59.019582</td>\n",
       "      <td>62.483172</td>\n",
       "      <td>51.292221</td>\n",
       "      <td>26.646720</td>\n",
       "      <td>59.332837</td>\n",
       "      <td>20.149258</td>\n",
       "      <td>42.760458</td>\n",
       "      <td>29.581554</td>\n",
       "      <td>71.752071</td>\n",
       "      <td>30.254295</td>\n",
       "      <td>83.538351</td>\n",
       "    </tr>\n",
       "  </tbody>\n",
       "</table>\n",
       "</div>"
      ],
      "text/plain": [
       "year       2003                  2005                  2007             \\\n",
       "sex         0.0        1.0        0.0        1.0        0.0        1.0   \n",
       "0     19.247935  66.248088  23.118995  26.520196  44.558896  50.096223   \n",
       "1     28.576602  55.158699  27.823640  35.098666  44.775234  51.313903   \n",
       "2     35.596998  65.321297  25.769723  24.509707  49.752559  62.733651   \n",
       "\n",
       "year       2009                  2011                  2013             \\\n",
       "sex         0.0        1.0        0.0        1.0        0.0        1.0   \n",
       "0     41.538384  61.463199  66.752355  29.281988  30.166713  56.144033   \n",
       "1     35.272535  54.527335  65.906831  48.983493  25.172281  61.644115   \n",
       "2     30.935912  59.019582  62.483172  51.292221  26.646720  59.332837   \n",
       "\n",
       "year       2015                  2017                  2019             \n",
       "sex         0.0        1.0        0.0        1.0        0.0        1.0  \n",
       "0     18.286277  31.097899  34.471138  81.672368  27.758141  96.358362  \n",
       "1     25.085164  40.492948  27.742162  82.164561  22.798413  62.284765  \n",
       "2     20.149258  42.760458  29.581554  71.752071  30.254295  83.538351  "
      ]
     },
     "execution_count": 3,
     "metadata": {},
     "output_type": "execute_result"
    }
   ],
   "source": [
    "sample = bootSampleVars.set_index([\"year\", \"sex\"]).T\n",
    "sample.head(3)"
   ]
  },
  {
   "cell_type": "code",
   "execution_count": 4,
   "id": "79c80b59",
   "metadata": {
    "scrolled": true
   },
   "outputs": [
    {
     "data": {
      "text/html": [
       "<div>\n",
       "<style scoped>\n",
       "    .dataframe tbody tr th:only-of-type {\n",
       "        vertical-align: middle;\n",
       "    }\n",
       "\n",
       "    .dataframe tbody tr th {\n",
       "        vertical-align: top;\n",
       "    }\n",
       "\n",
       "    .dataframe thead th {\n",
       "        text-align: right;\n",
       "    }\n",
       "</style>\n",
       "<table border=\"1\" class=\"dataframe\">\n",
       "  <thead>\n",
       "    <tr style=\"text-align: right;\">\n",
       "      <th></th>\n",
       "      <th></th>\n",
       "      <th>2.5%</th>\n",
       "      <th>50%</th>\n",
       "      <th>97.5%</th>\n",
       "    </tr>\n",
       "    <tr>\n",
       "      <th>year</th>\n",
       "      <th>sex</th>\n",
       "      <th></th>\n",
       "      <th></th>\n",
       "      <th></th>\n",
       "    </tr>\n",
       "  </thead>\n",
       "  <tbody>\n",
       "    <tr>\n",
       "      <th rowspan=\"2\" valign=\"top\">2003</th>\n",
       "      <th>0.0</th>\n",
       "      <td>20.487547</td>\n",
       "      <td>28.975275</td>\n",
       "      <td>39.369982</td>\n",
       "    </tr>\n",
       "    <tr>\n",
       "      <th>1.0</th>\n",
       "      <td>42.909531</td>\n",
       "      <td>63.166389</td>\n",
       "      <td>87.594902</td>\n",
       "    </tr>\n",
       "    <tr>\n",
       "      <th rowspan=\"2\" valign=\"top\">2005</th>\n",
       "      <th>0.0</th>\n",
       "      <td>18.435736</td>\n",
       "      <td>25.487855</td>\n",
       "      <td>33.781093</td>\n",
       "    </tr>\n",
       "    <tr>\n",
       "      <th>1.0</th>\n",
       "      <td>16.488979</td>\n",
       "      <td>28.008308</td>\n",
       "      <td>42.620642</td>\n",
       "    </tr>\n",
       "    <tr>\n",
       "      <th rowspan=\"2\" valign=\"top\">2007</th>\n",
       "      <th>0.0</th>\n",
       "      <td>33.096642</td>\n",
       "      <td>42.871496</td>\n",
       "      <td>54.326458</td>\n",
       "    </tr>\n",
       "    <tr>\n",
       "      <th>1.0</th>\n",
       "      <td>39.683972</td>\n",
       "      <td>55.847495</td>\n",
       "      <td>74.592232</td>\n",
       "    </tr>\n",
       "    <tr>\n",
       "      <th rowspan=\"2\" valign=\"top\">2009</th>\n",
       "      <th>0.0</th>\n",
       "      <td>27.964434</td>\n",
       "      <td>37.940907</td>\n",
       "      <td>49.369272</td>\n",
       "    </tr>\n",
       "    <tr>\n",
       "      <th>1.0</th>\n",
       "      <td>40.119897</td>\n",
       "      <td>58.217853</td>\n",
       "      <td>80.355218</td>\n",
       "    </tr>\n",
       "    <tr>\n",
       "      <th rowspan=\"2\" valign=\"top\">2011</th>\n",
       "      <th>0.0</th>\n",
       "      <td>42.474617</td>\n",
       "      <td>52.994506</td>\n",
       "      <td>64.953892</td>\n",
       "    </tr>\n",
       "    <tr>\n",
       "      <th>1.0</th>\n",
       "      <td>26.988938</td>\n",
       "      <td>40.793464</td>\n",
       "      <td>57.650093</td>\n",
       "    </tr>\n",
       "    <tr>\n",
       "      <th rowspan=\"2\" valign=\"top\">2013</th>\n",
       "      <th>0.0</th>\n",
       "      <td>22.247139</td>\n",
       "      <td>29.389621</td>\n",
       "      <td>37.910180</td>\n",
       "    </tr>\n",
       "    <tr>\n",
       "      <th>1.0</th>\n",
       "      <td>45.824871</td>\n",
       "      <td>61.592881</td>\n",
       "      <td>79.718907</td>\n",
       "    </tr>\n",
       "    <tr>\n",
       "      <th rowspan=\"2\" valign=\"top\">2015</th>\n",
       "      <th>0.0</th>\n",
       "      <td>15.215027</td>\n",
       "      <td>21.663729</td>\n",
       "      <td>29.602850</td>\n",
       "    </tr>\n",
       "    <tr>\n",
       "      <th>1.0</th>\n",
       "      <td>27.982682</td>\n",
       "      <td>41.086316</td>\n",
       "      <td>57.169100</td>\n",
       "    </tr>\n",
       "    <tr>\n",
       "      <th rowspan=\"2\" valign=\"top\">2017</th>\n",
       "      <th>0.0</th>\n",
       "      <td>21.091323</td>\n",
       "      <td>28.309363</td>\n",
       "      <td>36.997143</td>\n",
       "    </tr>\n",
       "    <tr>\n",
       "      <th>1.0</th>\n",
       "      <td>54.812713</td>\n",
       "      <td>72.001249</td>\n",
       "      <td>92.353040</td>\n",
       "    </tr>\n",
       "    <tr>\n",
       "      <th rowspan=\"2\" valign=\"top\">2019</th>\n",
       "      <th>0.0</th>\n",
       "      <td>22.102202</td>\n",
       "      <td>30.296630</td>\n",
       "      <td>40.647036</td>\n",
       "    </tr>\n",
       "    <tr>\n",
       "      <th>1.0</th>\n",
       "      <td>67.779982</td>\n",
       "      <td>87.221293</td>\n",
       "      <td>110.048417</td>\n",
       "    </tr>\n",
       "  </tbody>\n",
       "</table>\n",
       "</div>"
      ],
      "text/plain": [
       "               2.5%        50%       97.5%\n",
       "year sex                                  \n",
       "2003 0.0  20.487547  28.975275   39.369982\n",
       "     1.0  42.909531  63.166389   87.594902\n",
       "2005 0.0  18.435736  25.487855   33.781093\n",
       "     1.0  16.488979  28.008308   42.620642\n",
       "2007 0.0  33.096642  42.871496   54.326458\n",
       "     1.0  39.683972  55.847495   74.592232\n",
       "2009 0.0  27.964434  37.940907   49.369272\n",
       "     1.0  40.119897  58.217853   80.355218\n",
       "2011 0.0  42.474617  52.994506   64.953892\n",
       "     1.0  26.988938  40.793464   57.650093\n",
       "2013 0.0  22.247139  29.389621   37.910180\n",
       "     1.0  45.824871  61.592881   79.718907\n",
       "2015 0.0  15.215027  21.663729   29.602850\n",
       "     1.0  27.982682  41.086316   57.169100\n",
       "2017 0.0  21.091323  28.309363   36.997143\n",
       "     1.0  54.812713  72.001249   92.353040\n",
       "2019 0.0  22.102202  30.296630   40.647036\n",
       "     1.0  67.779982  87.221293  110.048417"
      ]
     },
     "execution_count": 4,
     "metadata": {},
     "output_type": "execute_result"
    }
   ],
   "source": [
    "CISample = pd.concat([sample.quantile(.025), sample.quantile(.5), sample.quantile(.975)], axis=1)\n",
    "CISample.columns = [\"2.5%\", \"50%\", \"97.5%\"]\n",
    "CISample"
   ]
  },
  {
   "cell_type": "code",
   "execution_count": 10,
   "id": "050cb2ba",
   "metadata": {},
   "outputs": [
    {
     "data": {
      "text/plain": [
       "<matplotlib.collections.PolyCollection at 0x7f7804efd550>"
      ]
     },
     "execution_count": 10,
     "metadata": {},
     "output_type": "execute_result"
    },
    {
     "data": {
      "image/png": "[encoded data removed]",
      "text/plain": [
       "<Figure size 432x288 with 1 Axes>"
      ]
     },
     "metadata": {
      "needs_background": "light"
     },
     "output_type": "display_data"
    }
   ],
   "source": [
    "plotDat = CISample.reset_index()\n",
    "fig, ax = plt.subplots()\n",
    "ax.plot(plotDat[plotDat[\"sex\"] == 0][\"year\"], plotDat[plotDat[\"sex\"] == 0][\"50%\"])\n",
    "ax.fill_between(plotDat[plotDat[\"sex\"] == 0][\"year\"],\n",
    "                plotDat[plotDat[\"sex\"] == 0][\"2.5%\"],\n",
    "                plotDat[plotDat[\"sex\"] == 0][\"97.5%\"], color='b', alpha=.1)\n",
    "ax.plot(plotDat[plotDat[\"sex\"] == 1][\"year\"], plotDat[plotDat[\"sex\"] == 1][\"50%\"])\n",
    "ax.fill_between(plotDat[plotDat[\"sex\"] == 1][\"year\"],\n",
    "                plotDat[plotDat[\"sex\"] == 1][\"2.5%\"],\n",
    "                plotDat[plotDat[\"sex\"] == 1][\"97.5%\"], color='orange', alpha=.1)"
   ]
  },
  {
   "cell_type": "code",
   "execution_count": 12,
   "id": "8d1350d6",
   "metadata": {},
   "outputs": [
    {
     "data": {
      "text/html": [
       "<div>\n",
       "<style scoped>\n",
       "    .dataframe tbody tr th:only-of-type {\n",
       "        vertical-align: middle;\n",
       "    }\n",
       "\n",
       "    .dataframe tbody tr th {\n",
       "        vertical-align: top;\n",
       "    }\n",
       "\n",
       "    .dataframe thead tr th {\n",
       "        text-align: left;\n",
       "    }\n",
       "</style>\n",
       "<table border=\"1\" class=\"dataframe\">\n",
       "  <thead>\n",
       "    <tr>\n",
       "      <th>year</th>\n",
       "      <th colspan=\"2\" halign=\"left\">2003</th>\n",
       "      <th colspan=\"2\" halign=\"left\">2005</th>\n",
       "      <th colspan=\"2\" halign=\"left\">2007</th>\n",
       "      <th colspan=\"2\" halign=\"left\">2009</th>\n",
       "      <th colspan=\"2\" halign=\"left\">2011</th>\n",
       "      <th colspan=\"2\" halign=\"left\">2013</th>\n",
       "      <th colspan=\"2\" halign=\"left\">2015</th>\n",
       "      <th colspan=\"2\" halign=\"left\">2017</th>\n",
       "      <th colspan=\"2\" halign=\"left\">2019</th>\n",
       "    </tr>\n",
       "    <tr>\n",
       "      <th>sex</th>\n",
       "      <th>0.0</th>\n",
       "      <th>1.0</th>\n",
       "      <th>0.0</th>\n",
       "      <th>1.0</th>\n",
       "      <th>0.0</th>\n",
       "      <th>1.0</th>\n",
       "      <th>0.0</th>\n",
       "      <th>1.0</th>\n",
       "      <th>0.0</th>\n",
       "      <th>1.0</th>\n",
       "      <th>0.0</th>\n",
       "      <th>1.0</th>\n",
       "      <th>0.0</th>\n",
       "      <th>1.0</th>\n",
       "      <th>0.0</th>\n",
       "      <th>1.0</th>\n",
       "      <th>0.0</th>\n",
       "      <th>1.0</th>\n",
       "    </tr>\n",
       "  </thead>\n",
       "  <tbody>\n",
       "    <tr>\n",
       "      <th>0</th>\n",
       "      <td>1.955276</td>\n",
       "      <td>5.420751</td>\n",
       "      <td>1.829585</td>\n",
       "      <td>4.975642</td>\n",
       "      <td>1.165655</td>\n",
       "      <td>5.126110</td>\n",
       "      <td>2.968214</td>\n",
       "      <td>13.136757</td>\n",
       "      <td>2.585223</td>\n",
       "      <td>10.466651</td>\n",
       "      <td>3.375872</td>\n",
       "      <td>14.239690</td>\n",
       "      <td>2.109696</td>\n",
       "      <td>9.779087</td>\n",
       "      <td>1.903537</td>\n",
       "      <td>8.857221</td>\n",
       "      <td>1.394005</td>\n",
       "      <td>6.071048</td>\n",
       "    </tr>\n",
       "    <tr>\n",
       "      <th>1</th>\n",
       "      <td>2.055599</td>\n",
       "      <td>5.815935</td>\n",
       "      <td>1.938410</td>\n",
       "      <td>5.407780</td>\n",
       "      <td>1.276999</td>\n",
       "      <td>5.328144</td>\n",
       "      <td>3.264125</td>\n",
       "      <td>13.684602</td>\n",
       "      <td>2.821912</td>\n",
       "      <td>10.979997</td>\n",
       "      <td>3.699734</td>\n",
       "      <td>14.897234</td>\n",
       "      <td>2.333641</td>\n",
       "      <td>10.166163</td>\n",
       "      <td>2.106448</td>\n",
       "      <td>9.205640</td>\n",
       "      <td>1.533061</td>\n",
       "      <td>6.339622</td>\n",
       "    </tr>\n",
       "    <tr>\n",
       "      <th>2</th>\n",
       "      <td>2.340266</td>\n",
       "      <td>6.184143</td>\n",
       "      <td>2.153072</td>\n",
       "      <td>5.590356</td>\n",
       "      <td>1.295611</td>\n",
       "      <td>6.025330</td>\n",
       "      <td>3.270683</td>\n",
       "      <td>15.401896</td>\n",
       "      <td>2.886858</td>\n",
       "      <td>12.186936</td>\n",
       "      <td>3.741538</td>\n",
       "      <td>16.623569</td>\n",
       "      <td>2.297649</td>\n",
       "      <td>11.485674</td>\n",
       "      <td>2.071511</td>\n",
       "      <td>10.405249</td>\n",
       "      <td>1.534660</td>\n",
       "      <td>7.099656</td>\n",
       "    </tr>\n",
       "  </tbody>\n",
       "</table>\n",
       "</div>"
      ],
      "text/plain": [
       "year      2003                2005                2007                2009  \\\n",
       "sex        0.0       1.0       0.0       1.0       0.0       1.0       0.0   \n",
       "0     1.955276  5.420751  1.829585  4.975642  1.165655  5.126110  2.968214   \n",
       "1     2.055599  5.815935  1.938410  5.407780  1.276999  5.328144  3.264125   \n",
       "2     2.340266  6.184143  2.153072  5.590356  1.295611  6.025330  3.270683   \n",
       "\n",
       "year                 2011                 2013                 2015  \\\n",
       "sex         1.0       0.0        1.0       0.0        1.0       0.0   \n",
       "0     13.136757  2.585223  10.466651  3.375872  14.239690  2.109696   \n",
       "1     13.684602  2.821912  10.979997  3.699734  14.897234  2.333641   \n",
       "2     15.401896  2.886858  12.186936  3.741538  16.623569  2.297649   \n",
       "\n",
       "year                 2017                 2019            \n",
       "sex         1.0       0.0        1.0       0.0       1.0  \n",
       "0      9.779087  1.903537   8.857221  1.394005  6.071048  \n",
       "1     10.166163  2.106448   9.205640  1.533061  6.339622  \n",
       "2     11.485674  2.071511  10.405249  1.534660  7.099656  "
      ]
     },
     "execution_count": 12,
     "metadata": {},
     "output_type": "execute_result"
    }
   ],
   "source": [
    "pred = bootPredVars.set_index([\"year\", \"sex\"]).T\n",
    "pred.head(3)"
   ]
  },
  {
   "cell_type": "code",
   "execution_count": 13,
   "id": "2e469756",
   "metadata": {},
   "outputs": [
    {
     "data": {
      "text/html": [
       "<div>\n",
       "<style scoped>\n",
       "    .dataframe tbody tr th:only-of-type {\n",
       "        vertical-align: middle;\n",
       "    }\n",
       "\n",
       "    .dataframe tbody tr th {\n",
       "        vertical-align: top;\n",
       "    }\n",
       "\n",
       "    .dataframe thead th {\n",
       "        text-align: right;\n",
       "    }\n",
       "</style>\n",
       "<table border=\"1\" class=\"dataframe\">\n",
       "  <thead>\n",
       "    <tr style=\"text-align: right;\">\n",
       "      <th></th>\n",
       "      <th></th>\n",
       "      <th>2.5%</th>\n",
       "      <th>50%</th>\n",
       "      <th>97.5%</th>\n",
       "    </tr>\n",
       "    <tr>\n",
       "      <th>year</th>\n",
       "      <th>sex</th>\n",
       "      <th></th>\n",
       "      <th></th>\n",
       "      <th></th>\n",
       "    </tr>\n",
       "  </thead>\n",
       "  <tbody>\n",
       "    <tr>\n",
       "      <th rowspan=\"2\" valign=\"top\">2003</th>\n",
       "      <th>0.0</th>\n",
       "      <td>1.691238</td>\n",
       "      <td>2.209516</td>\n",
       "      <td>2.833501</td>\n",
       "    </tr>\n",
       "    <tr>\n",
       "      <th>1.0</th>\n",
       "      <td>4.914724</td>\n",
       "      <td>5.844536</td>\n",
       "      <td>6.965242</td>\n",
       "    </tr>\n",
       "    <tr>\n",
       "      <th rowspan=\"2\" valign=\"top\">2005</th>\n",
       "      <th>0.0</th>\n",
       "      <td>1.602172</td>\n",
       "      <td>2.056409</td>\n",
       "      <td>2.568976</td>\n",
       "    </tr>\n",
       "    <tr>\n",
       "      <th>1.0</th>\n",
       "      <td>4.280768</td>\n",
       "      <td>5.369550</td>\n",
       "      <td>6.598980</td>\n",
       "    </tr>\n",
       "    <tr>\n",
       "      <th rowspan=\"2\" valign=\"top\">2007</th>\n",
       "      <th>0.0</th>\n",
       "      <td>1.082121</td>\n",
       "      <td>1.284835</td>\n",
       "      <td>1.511452</td>\n",
       "    </tr>\n",
       "    <tr>\n",
       "      <th>1.0</th>\n",
       "      <td>4.932758</td>\n",
       "      <td>5.499703</td>\n",
       "      <td>6.108454</td>\n",
       "    </tr>\n",
       "    <tr>\n",
       "      <th rowspan=\"2\" valign=\"top\">2009</th>\n",
       "      <th>0.0</th>\n",
       "      <td>2.763989</td>\n",
       "      <td>3.260643</td>\n",
       "      <td>3.806134</td>\n",
       "    </tr>\n",
       "    <tr>\n",
       "      <th>1.0</th>\n",
       "      <td>12.593607</td>\n",
       "      <td>14.093749</td>\n",
       "      <td>15.691343</td>\n",
       "    </tr>\n",
       "    <tr>\n",
       "      <th rowspan=\"2\" valign=\"top\">2011</th>\n",
       "      <th>0.0</th>\n",
       "      <td>2.389567</td>\n",
       "      <td>2.852625</td>\n",
       "      <td>3.368351</td>\n",
       "    </tr>\n",
       "    <tr>\n",
       "      <th>1.0</th>\n",
       "      <td>9.908117</td>\n",
       "      <td>11.240659</td>\n",
       "      <td>12.656468</td>\n",
       "    </tr>\n",
       "    <tr>\n",
       "      <th rowspan=\"2\" valign=\"top\">2013</th>\n",
       "      <th>0.0</th>\n",
       "      <td>3.132181</td>\n",
       "      <td>3.715161</td>\n",
       "      <td>4.356452</td>\n",
       "    </tr>\n",
       "    <tr>\n",
       "      <th>1.0</th>\n",
       "      <td>13.542140</td>\n",
       "      <td>15.286177</td>\n",
       "      <td>17.125802</td>\n",
       "    </tr>\n",
       "    <tr>\n",
       "      <th rowspan=\"2\" valign=\"top\">2015</th>\n",
       "      <th>0.0</th>\n",
       "      <td>1.971279</td>\n",
       "      <td>2.307860</td>\n",
       "      <td>2.683333</td>\n",
       "    </tr>\n",
       "    <tr>\n",
       "      <th>1.0</th>\n",
       "      <td>9.391280</td>\n",
       "      <td>10.484276</td>\n",
       "      <td>11.646444</td>\n",
       "    </tr>\n",
       "    <tr>\n",
       "      <th rowspan=\"2\" valign=\"top\">2017</th>\n",
       "      <th>0.0</th>\n",
       "      <td>1.778873</td>\n",
       "      <td>2.081779</td>\n",
       "      <td>2.419758</td>\n",
       "    </tr>\n",
       "    <tr>\n",
       "      <th>1.0</th>\n",
       "      <td>8.507398</td>\n",
       "      <td>9.496079</td>\n",
       "      <td>10.545579</td>\n",
       "    </tr>\n",
       "    <tr>\n",
       "      <th rowspan=\"2\" valign=\"top\">2019</th>\n",
       "      <th>0.0</th>\n",
       "      <td>1.297712</td>\n",
       "      <td>1.530584</td>\n",
       "      <td>1.786848</td>\n",
       "    </tr>\n",
       "    <tr>\n",
       "      <th>1.0</th>\n",
       "      <td>5.794460</td>\n",
       "      <td>6.514232</td>\n",
       "      <td>7.279982</td>\n",
       "    </tr>\n",
       "  </tbody>\n",
       "</table>\n",
       "</div>"
      ],
      "text/plain": [
       "               2.5%        50%      97.5%\n",
       "year sex                                 \n",
       "2003 0.0   1.691238   2.209516   2.833501\n",
       "     1.0   4.914724   5.844536   6.965242\n",
       "2005 0.0   1.602172   2.056409   2.568976\n",
       "     1.0   4.280768   5.369550   6.598980\n",
       "2007 0.0   1.082121   1.284835   1.511452\n",
       "     1.0   4.932758   5.499703   6.108454\n",
       "2009 0.0   2.763989   3.260643   3.806134\n",
       "     1.0  12.593607  14.093749  15.691343\n",
       "2011 0.0   2.389567   2.852625   3.368351\n",
       "     1.0   9.908117  11.240659  12.656468\n",
       "2013 0.0   3.132181   3.715161   4.356452\n",
       "     1.0  13.542140  15.286177  17.125802\n",
       "2015 0.0   1.971279   2.307860   2.683333\n",
       "     1.0   9.391280  10.484276  11.646444\n",
       "2017 0.0   1.778873   2.081779   2.419758\n",
       "     1.0   8.507398   9.496079  10.545579\n",
       "2019 0.0   1.297712   1.530584   1.786848\n",
       "     1.0   5.794460   6.514232   7.279982"
      ]
     },
     "execution_count": 13,
     "metadata": {},
     "output_type": "execute_result"
    }
   ],
   "source": [
    "CIpred = pd.concat([pred.quantile(.025), pred.quantile(.5), pred.quantile(.975)], axis=1)\n",
    "CIpred.columns = [\"2.5%\", \"50%\", \"97.5%\"]\n",
    "CIpred"
   ]
  },
  {
   "cell_type": "code",
   "execution_count": 14,
   "id": "acf28504",
   "metadata": {},
   "outputs": [
    {
     "data": {
      "text/plain": [
       "<matplotlib.collections.PolyCollection at 0x7f78058292e0>"
      ]
     },
     "execution_count": 14,
     "metadata": {},
     "output_type": "execute_result"
    },
    {
     "data": {
      "image/png": "[encoded data removed]",
      "text/plain": [
       "<Figure size 432x288 with 1 Axes>"
      ]
     },
     "metadata": {
      "needs_background": "light"
     },
     "output_type": "display_data"
    }
   ],
   "source": [
    "plotDat = CIpred.reset_index()\n",
    "fig, ax = plt.subplots()\n",
    "ax.plot(plotDat[plotDat[\"sex\"] == 0][\"year\"], plotDat[plotDat[\"sex\"] == 0][\"50%\"])\n",
    "ax.fill_between(plotDat[plotDat[\"sex\"] == 0][\"year\"],\n",
    "                plotDat[plotDat[\"sex\"] == 0][\"2.5%\"],\n",
    "                plotDat[plotDat[\"sex\"] == 0][\"97.5%\"], color='b', alpha=.1)\n",
    "ax.plot(plotDat[plotDat[\"sex\"] == 1][\"year\"], plotDat[plotDat[\"sex\"] == 1][\"50%\"])\n",
    "ax.fill_between(plotDat[plotDat[\"sex\"] == 1][\"year\"],\n",
    "                plotDat[plotDat[\"sex\"] == 1][\"2.5%\"],\n",
    "                plotDat[plotDat[\"sex\"] == 1][\"97.5%\"], color='orange', alpha=.1)"
   ]
  },
  {
   "cell_type": "code",
   "execution_count": 20,
   "id": "fad421ad",
   "metadata": {},
   "outputs": [],
   "source": [
    "dat = pd.read_csv(root + \"violenceKNNResp_wSex_NotSplitImp.csv\")"
   ]
  },
  {
   "cell_type": "code",
   "execution_count": 21,
   "id": "5e560306",
   "metadata": {},
   "outputs": [
    {
     "data": {
      "text/plain": [
       "<matplotlib.legend.Legend at 0x7f7806a292e0>"
      ]
     },
     "execution_count": 21,
     "metadata": {},
     "output_type": "execute_result"
    },
    {
     "data": {
      "image/png": "[encoded data removed]",
      "text/plain": [
       "<Figure size 720x432 with 1 Axes>"
      ]
     },
     "metadata": {
      "needs_background": "light"
     },
     "output_type": "display_data"
    }
   ],
   "source": [
    "plt.figure(figsize=(10, 6))\n",
    "sns.lineplot(x=\"year\", y=\"violence score\", hue=\"sex\", data=dat)\n",
    "plt.legend(loc='center left', bbox_to_anchor=(1, 0.5))"
   ]
  },
  {
   "cell_type": "code",
   "execution_count": null,
   "id": "ae7eb07d",
   "metadata": {},
   "outputs": [],
   "source": []
  },
  {
   "cell_type": "code",
   "execution_count": 126,
   "id": "05748390",
   "metadata": {},
   "outputs": [
    {
     "data": {
      "text/html": [
       "<div>\n",
       "<style scoped>\n",
       "    .dataframe tbody tr th:only-of-type {\n",
       "        vertical-align: middle;\n",
       "    }\n",
       "\n",
       "    .dataframe tbody tr th {\n",
       "        vertical-align: top;\n",
       "    }\n",
       "\n",
       "    .dataframe thead th {\n",
       "        text-align: right;\n",
       "    }\n",
       "</style>\n",
       "<table border=\"1\" class=\"dataframe\">\n",
       "  <thead>\n",
       "    <tr style=\"text-align: right;\">\n",
       "      <th></th>\n",
       "      <th>Intercept</th>\n",
       "      <th>sex</th>\n",
       "      <th>UnemploymentRate</th>\n",
       "      <th>sex:UnemploymentRate</th>\n",
       "      <th>SNAP</th>\n",
       "      <th>sex:SNAP</th>\n",
       "      <th>Group Var</th>\n",
       "    </tr>\n",
       "  </thead>\n",
       "  <tbody>\n",
       "    <tr>\n",
       "      <th>count</th>\n",
       "      <td>200.000000</td>\n",
       "      <td>200.000000</td>\n",
       "      <td>200.000000</td>\n",
       "      <td>200.000000</td>\n",
       "      <td>200.000000</td>\n",
       "      <td>200.000000</td>\n",
       "      <td>200.000000</td>\n",
       "    </tr>\n",
       "    <tr>\n",
       "      <th>mean</th>\n",
       "      <td>36.158899</td>\n",
       "      <td>48.974770</td>\n",
       "      <td>1.132609</td>\n",
       "      <td>0.845358</td>\n",
       "      <td>-0.135026</td>\n",
       "      <td>-0.224550</td>\n",
       "      <td>0.178785</td>\n",
       "    </tr>\n",
       "    <tr>\n",
       "      <th>std</th>\n",
       "      <td>0.761481</td>\n",
       "      <td>1.526391</td>\n",
       "      <td>0.062171</td>\n",
       "      <td>0.098388</td>\n",
       "      <td>0.005599</td>\n",
       "      <td>0.011695</td>\n",
       "      <td>0.023302</td>\n",
       "    </tr>\n",
       "    <tr>\n",
       "      <th>min</th>\n",
       "      <td>33.913371</td>\n",
       "      <td>45.571856</td>\n",
       "      <td>0.898895</td>\n",
       "      <td>0.564700</td>\n",
       "      <td>-0.147803</td>\n",
       "      <td>-0.257871</td>\n",
       "      <td>0.106440</td>\n",
       "    </tr>\n",
       "    <tr>\n",
       "      <th>25%</th>\n",
       "      <td>35.708494</td>\n",
       "      <td>47.979764</td>\n",
       "      <td>1.090061</td>\n",
       "      <td>0.782211</td>\n",
       "      <td>-0.138897</td>\n",
       "      <td>-0.231268</td>\n",
       "      <td>0.164460</td>\n",
       "    </tr>\n",
       "    <tr>\n",
       "      <th>50%</th>\n",
       "      <td>36.158080</td>\n",
       "      <td>48.848816</td>\n",
       "      <td>1.131262</td>\n",
       "      <td>0.846290</td>\n",
       "      <td>-0.134931</td>\n",
       "      <td>-0.224450</td>\n",
       "      <td>0.178189</td>\n",
       "    </tr>\n",
       "    <tr>\n",
       "      <th>75%</th>\n",
       "      <td>36.671287</td>\n",
       "      <td>50.181559</td>\n",
       "      <td>1.173919</td>\n",
       "      <td>0.915467</td>\n",
       "      <td>-0.131295</td>\n",
       "      <td>-0.215741</td>\n",
       "      <td>0.193562</td>\n",
       "    </tr>\n",
       "    <tr>\n",
       "      <th>max</th>\n",
       "      <td>37.843480</td>\n",
       "      <td>53.806376</td>\n",
       "      <td>1.318591</td>\n",
       "      <td>1.159116</td>\n",
       "      <td>-0.119671</td>\n",
       "      <td>-0.191258</td>\n",
       "      <td>0.238179</td>\n",
       "    </tr>\n",
       "  </tbody>\n",
       "</table>\n",
       "</div>"
      ],
      "text/plain": [
       "        Intercept         sex  UnemploymentRate  sex:UnemploymentRate  \\\n",
       "count  200.000000  200.000000        200.000000            200.000000   \n",
       "mean    36.158899   48.974770          1.132609              0.845358   \n",
       "std      0.761481    1.526391          0.062171              0.098388   \n",
       "min     33.913371   45.571856          0.898895              0.564700   \n",
       "25%     35.708494   47.979764          1.090061              0.782211   \n",
       "50%     36.158080   48.848816          1.131262              0.846290   \n",
       "75%     36.671287   50.181559          1.173919              0.915467   \n",
       "max     37.843480   53.806376          1.318591              1.159116   \n",
       "\n",
       "             SNAP    sex:SNAP   Group Var  \n",
       "count  200.000000  200.000000  200.000000  \n",
       "mean    -0.135026   -0.224550    0.178785  \n",
       "std      0.005599    0.011695    0.023302  \n",
       "min     -0.147803   -0.257871    0.106440  \n",
       "25%     -0.138897   -0.231268    0.164460  \n",
       "50%     -0.134931   -0.224450    0.178189  \n",
       "75%     -0.131295   -0.215741    0.193562  \n",
       "max     -0.119671   -0.191258    0.238179  "
      ]
     },
     "execution_count": 126,
     "metadata": {},
     "output_type": "execute_result"
    }
   ],
   "source": [
    "params.T.describe()"
   ]
  },
  {
   "cell_type": "code",
   "execution_count": 127,
   "id": "abbdb320",
   "metadata": {},
   "outputs": [
    {
     "data": {
      "text/plain": [
       "Intercept               0.579853\n",
       "sex                     2.329870\n",
       "UnemploymentRate        0.003865\n",
       "sex:UnemploymentRate    0.009680\n",
       "SNAP                    0.000031\n",
       "sex:SNAP                0.000137\n",
       "Group Var               0.000543\n",
       "dtype: float64"
      ]
     },
     "execution_count": 127,
     "metadata": {},
     "output_type": "execute_result"
    }
   ],
   "source": [
    "params.T.var()"
   ]
  },
  {
   "cell_type": "code",
   "execution_count": 129,
   "id": "b85ceeda",
   "metadata": {},
   "outputs": [
    {
     "data": {
      "text/plain": [
       "Intercept               0.761481\n",
       "sex                     1.526391\n",
       "UnemploymentRate        0.062171\n",
       "sex:UnemploymentRate    0.098388\n",
       "SNAP                    0.005599\n",
       "sex:SNAP                0.011695\n",
       "Group Var               0.023302\n",
       "dtype: float64"
      ]
     },
     "execution_count": 129,
     "metadata": {},
     "output_type": "execute_result"
    }
   ],
   "source": [
    "params.T.std()"
   ]
  },
  {
   "cell_type": "code",
   "execution_count": 154,
   "id": "cbf15281",
   "metadata": {},
   "outputs": [],
   "source": [
    "normalized_df=(params.T-params.T.mean())/params.T.std()\n",
    "standardized_df=(params.T-params.T.mean())"
   ]
  },
  {
   "cell_type": "code",
   "execution_count": 156,
   "id": "169125ed",
   "metadata": {},
   "outputs": [
    {
     "data": {
      "text/plain": [
       "Intercept               1.0\n",
       "sex                     1.0\n",
       "UnemploymentRate        1.0\n",
       "sex:UnemploymentRate    1.0\n",
       "SNAP                    1.0\n",
       "sex:SNAP                1.0\n",
       "Group Var               1.0\n",
       "dtype: float64"
      ]
     },
     "execution_count": 156,
     "metadata": {},
     "output_type": "execute_result"
    }
   ],
   "source": [
    "normalized_df.var()"
   ]
  },
  {
   "cell_type": "code",
   "execution_count": 157,
   "id": "6935f808",
   "metadata": {},
   "outputs": [
    {
     "data": {
      "text/plain": [
       "Intercept               0.579853\n",
       "sex                     2.329870\n",
       "UnemploymentRate        0.003865\n",
       "sex:UnemploymentRate    0.009680\n",
       "SNAP                    0.000031\n",
       "sex:SNAP                0.000137\n",
       "Group Var               0.000543\n",
       "dtype: float64"
      ]
     },
     "execution_count": 157,
     "metadata": {},
     "output_type": "execute_result"
    }
   ],
   "source": [
    "standardized_df.var()"
   ]
  },
  {
   "cell_type": "code",
   "execution_count": 133,
   "id": "8ab50f45",
   "metadata": {},
   "outputs": [
    {
     "data": {
      "text/plain": [
       "(array([36.05271975, 48.76193217,  1.12394028,  0.83163915, -0.13580677,\n",
       "        -0.22618092,  0.17553542]),\n",
       " array([36.26507899, 49.18760723,  1.14127835,  0.85907729, -0.13424539,\n",
       "        -0.2229195 ,  0.1820338 ]))"
      ]
     },
     "execution_count": 133,
     "metadata": {},
     "output_type": "execute_result"
    }
   ],
   "source": [
    "import scipy.stats as stats\n",
    "stats.t.interval(alpha=0.95, df=len(params.T)-1, loc=np.mean(params.T), scale=stats.sem(params.T))"
   ]
  },
  {
   "cell_type": "code",
   "execution_count": 131,
   "id": "5a2b21f1",
   "metadata": {},
   "outputs": [
    {
     "data": {
      "text/html": [
       "<div>\n",
       "<style scoped>\n",
       "    .dataframe tbody tr th:only-of-type {\n",
       "        vertical-align: middle;\n",
       "    }\n",
       "\n",
       "    .dataframe tbody tr th {\n",
       "        vertical-align: top;\n",
       "    }\n",
       "\n",
       "    .dataframe thead th {\n",
       "        text-align: right;\n",
       "    }\n",
       "</style>\n",
       "<table border=\"1\" class=\"dataframe\">\n",
       "  <thead>\n",
       "    <tr style=\"text-align: right;\">\n",
       "      <th></th>\n",
       "      <th>Males</th>\n",
       "      <th>Females</th>\n",
       "    </tr>\n",
       "  </thead>\n",
       "  <tbody>\n",
       "    <tr>\n",
       "      <th>count</th>\n",
       "      <td>200.000000</td>\n",
       "      <td>200.000000</td>\n",
       "    </tr>\n",
       "    <tr>\n",
       "      <th>mean</th>\n",
       "      <td>140.964227</td>\n",
       "      <td>48.733322</td>\n",
       "    </tr>\n",
       "    <tr>\n",
       "      <th>std</th>\n",
       "      <td>4.954926</td>\n",
       "      <td>1.897155</td>\n",
       "    </tr>\n",
       "    <tr>\n",
       "      <th>min</th>\n",
       "      <td>128.735104</td>\n",
       "      <td>43.563962</td>\n",
       "    </tr>\n",
       "    <tr>\n",
       "      <th>25%</th>\n",
       "      <td>137.623352</td>\n",
       "      <td>47.425013</td>\n",
       "    </tr>\n",
       "    <tr>\n",
       "      <th>50%</th>\n",
       "      <td>140.834101</td>\n",
       "      <td>48.579142</td>\n",
       "    </tr>\n",
       "    <tr>\n",
       "      <th>75%</th>\n",
       "      <td>144.559452</td>\n",
       "      <td>49.979460</td>\n",
       "    </tr>\n",
       "    <tr>\n",
       "      <th>max</th>\n",
       "      <td>153.598500</td>\n",
       "      <td>53.648410</td>\n",
       "    </tr>\n",
       "  </tbody>\n",
       "</table>\n",
       "</div>"
      ],
      "text/plain": [
       "            Males     Females\n",
       "count  200.000000  200.000000\n",
       "mean   140.964227   48.733322\n",
       "std      4.954926    1.897155\n",
       "min    128.735104   43.563962\n",
       "25%    137.623352   47.425013\n",
       "50%    140.834101   48.579142\n",
       "75%    144.559452   49.979460\n",
       "max    153.598500   53.648410"
      ]
     },
     "execution_count": 131,
     "metadata": {},
     "output_type": "execute_result"
    }
   ],
   "source": [
    "sampleVars.describe()"
   ]
  },
  {
   "cell_type": "code",
   "execution_count": 132,
   "id": "24dea633",
   "metadata": {},
   "outputs": [
    {
     "data": {
      "text/html": [
       "<div>\n",
       "<style scoped>\n",
       "    .dataframe tbody tr th:only-of-type {\n",
       "        vertical-align: middle;\n",
       "    }\n",
       "\n",
       "    .dataframe tbody tr th {\n",
       "        vertical-align: top;\n",
       "    }\n",
       "\n",
       "    .dataframe thead th {\n",
       "        text-align: right;\n",
       "    }\n",
       "</style>\n",
       "<table border=\"1\" class=\"dataframe\">\n",
       "  <thead>\n",
       "    <tr style=\"text-align: right;\">\n",
       "      <th></th>\n",
       "      <th>Males</th>\n",
       "      <th>Females</th>\n",
       "    </tr>\n",
       "  </thead>\n",
       "  <tbody>\n",
       "    <tr>\n",
       "      <th>count</th>\n",
       "      <td>200.000000</td>\n",
       "      <td>200.000000</td>\n",
       "    </tr>\n",
       "    <tr>\n",
       "      <th>mean</th>\n",
       "      <td>76.759879</td>\n",
       "      <td>14.666528</td>\n",
       "    </tr>\n",
       "    <tr>\n",
       "      <th>std</th>\n",
       "      <td>3.992726</td>\n",
       "      <td>1.062055</td>\n",
       "    </tr>\n",
       "    <tr>\n",
       "      <th>min</th>\n",
       "      <td>66.736804</td>\n",
       "      <td>11.709920</td>\n",
       "    </tr>\n",
       "    <tr>\n",
       "      <th>25%</th>\n",
       "      <td>74.232785</td>\n",
       "      <td>13.926351</td>\n",
       "    </tr>\n",
       "    <tr>\n",
       "      <th>50%</th>\n",
       "      <td>76.641945</td>\n",
       "      <td>14.624382</td>\n",
       "    </tr>\n",
       "    <tr>\n",
       "      <th>75%</th>\n",
       "      <td>79.154480</td>\n",
       "      <td>15.314846</td>\n",
       "    </tr>\n",
       "    <tr>\n",
       "      <th>max</th>\n",
       "      <td>88.026288</td>\n",
       "      <td>17.043944</td>\n",
       "    </tr>\n",
       "  </tbody>\n",
       "</table>\n",
       "</div>"
      ],
      "text/plain": [
       "            Males     Females\n",
       "count  200.000000  200.000000\n",
       "mean    76.759879   14.666528\n",
       "std      3.992726    1.062055\n",
       "min     66.736804   11.709920\n",
       "25%     74.232785   13.926351\n",
       "50%     76.641945   14.624382\n",
       "75%     79.154480   15.314846\n",
       "max     88.026288   17.043944"
      ]
     },
     "execution_count": 132,
     "metadata": {},
     "output_type": "execute_result"
    }
   ],
   "source": [
    "predictVar.describe()"
   ]
  },
  {
   "cell_type": "code",
   "execution_count": 151,
   "id": "97dcafb3",
   "metadata": {},
   "outputs": [
    {
     "data": {
      "text/html": [
       "<div>\n",
       "<style scoped>\n",
       "    .dataframe tbody tr th:only-of-type {\n",
       "        vertical-align: middle;\n",
       "    }\n",
       "\n",
       "    .dataframe tbody tr th {\n",
       "        vertical-align: top;\n",
       "    }\n",
       "\n",
       "    .dataframe thead th {\n",
       "        text-align: right;\n",
       "    }\n",
       "</style>\n",
       "<table border=\"1\" class=\"dataframe\">\n",
       "  <thead>\n",
       "    <tr style=\"text-align: right;\">\n",
       "      <th></th>\n",
       "      <th>Males</th>\n",
       "      <th>Females</th>\n",
       "    </tr>\n",
       "  </thead>\n",
       "  <tbody>\n",
       "    <tr>\n",
       "      <th>0.025</th>\n",
       "      <td>131.765103</td>\n",
       "      <td>45.534801</td>\n",
       "    </tr>\n",
       "    <tr>\n",
       "      <th>0.975</th>\n",
       "      <td>150.023239</td>\n",
       "      <td>52.327348</td>\n",
       "    </tr>\n",
       "  </tbody>\n",
       "</table>\n",
       "</div>"
      ],
      "text/plain": [
       "            Males    Females\n",
       "0.025  131.765103  45.534801\n",
       "0.975  150.023239  52.327348"
      ]
     },
     "execution_count": 151,
     "metadata": {},
     "output_type": "execute_result"
    }
   ],
   "source": [
    "sampleVars.quantile([.025, .975])"
   ]
  },
  {
   "cell_type": "code",
   "execution_count": 152,
   "id": "813b62f5",
   "metadata": {},
   "outputs": [
    {
     "data": {
      "text/html": [
       "<div>\n",
       "<style scoped>\n",
       "    .dataframe tbody tr th:only-of-type {\n",
       "        vertical-align: middle;\n",
       "    }\n",
       "\n",
       "    .dataframe tbody tr th {\n",
       "        vertical-align: top;\n",
       "    }\n",
       "\n",
       "    .dataframe thead th {\n",
       "        text-align: right;\n",
       "    }\n",
       "</style>\n",
       "<table border=\"1\" class=\"dataframe\">\n",
       "  <thead>\n",
       "    <tr style=\"text-align: right;\">\n",
       "      <th></th>\n",
       "      <th>Males</th>\n",
       "      <th>Females</th>\n",
       "    </tr>\n",
       "  </thead>\n",
       "  <tbody>\n",
       "    <tr>\n",
       "      <th>0.025</th>\n",
       "      <td>68.688960</td>\n",
       "      <td>12.865851</td>\n",
       "    </tr>\n",
       "    <tr>\n",
       "      <th>0.975</th>\n",
       "      <td>84.418489</td>\n",
       "      <td>16.777050</td>\n",
       "    </tr>\n",
       "  </tbody>\n",
       "</table>\n",
       "</div>"
      ],
      "text/plain": [
       "           Males    Females\n",
       "0.025  68.688960  12.865851\n",
       "0.975  84.418489  16.777050"
      ]
     },
     "execution_count": 152,
     "metadata": {},
     "output_type": "execute_result"
    }
   ],
   "source": [
    "predictVar.quantile([.025, .975])"
   ]
  },
  {
   "cell_type": "code",
   "execution_count": 144,
   "id": "a21276a1",
   "metadata": {},
   "outputs": [
    {
     "data": {
      "text/plain": [
       "<AxesSubplot:xlabel='Males', ylabel='Density'>"
      ]
     },
     "execution_count": 144,
     "metadata": {},
     "output_type": "execute_result"
    },
    {
     "data": {
      "image/png": "[encoded data removed]",
      "text/plain": [
       "<Figure size 432x288 with 1 Axes>"
      ]
     },
     "metadata": {
      "needs_background": "light"
     },
     "output_type": "display_data"
    }
   ],
   "source": [
    "import seaborn as sns\n",
    "#sns.kdeplot(sampleVars['Males'])\n",
    "sns.kdeplot(predictVar['Males'])"
   ]
  },
  {
   "cell_type": "code",
   "execution_count": 141,
   "id": "eb3af633",
   "metadata": {},
   "outputs": [
    {
     "data": {
      "text/plain": [
       "<AxesSubplot:xlabel='Females', ylabel='Density'>"
      ]
     },
     "execution_count": 141,
     "metadata": {},
     "output_type": "execute_result"
    },
    {
     "data": {
      "image/png": "[encoded data removed]",
      "text/plain": [
       "<Figure size 432x288 with 1 Axes>"
      ]
     },
     "metadata": {
      "needs_background": "light"
     },
     "output_type": "display_data"
    }
   ],
   "source": [
    "sns.kdeplot(sampleVars['Females'])\n",
    "sns.kdeplot(predictVar['Females'])"
   ]
  },
  {
   "cell_type": "code",
   "execution_count": null,
   "id": "59087f27",
   "metadata": {},
   "outputs": [],
   "source": [
    "# Rerun for spliting it for each year"
   ]
  },
  {
   "cell_type": "code",
   "execution_count": null,
   "id": "2f56c382",
   "metadata": {},
   "outputs": [],
   "source": []
  }
 ],
 "metadata": {
  "kernelspec": {
   "display_name": "Python 3 (ipykernel)",
   "language": "python",
   "name": "python3"
  },
  "language_info": {
   "codemirror_mode": {
    "name": "ipython",
    "version": 3
   },
   "file_extension": ".py",
   "mimetype": "text/x-python",
   "name": "python",
   "nbconvert_exporter": "python",
   "pygments_lexer": "ipython3",
   "version": "3.9.6"
  }
 },
 "nbformat": 4,
 "nbformat_minor": 5
}
