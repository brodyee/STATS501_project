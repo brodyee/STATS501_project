{
 "cells": [
  {
   "cell_type": "markdown",
   "id": "b00bfb93",
   "metadata": {},
   "source": [
    "# Running Unsplit Model in R"
   ]
  },
  {
   "cell_type": "code",
   "execution_count": 4,
   "id": "018b6fe8",
   "metadata": {},
   "outputs": [
    {
     "name": "stderr",
     "output_type": "stream",
     "text": [
      "Warning message:\n",
      "\"package 'corrplot' was built under R version 4.1.2\"\n",
      "corrplot 0.92 loaded\n",
      "\n"
     ]
    }
   ],
   "source": [
    "library(\"nlme\")\n",
    "library(\"mgcv\")\n",
    "library(\"tidyverse\")\n",
    "library(\"stringr\") \n",
    "library(\"plot3D\")\n",
    "library(\"corrplot\")"
   ]
  },
  {
   "cell_type": "markdown",
   "id": "4ae7536c",
   "metadata": {},
   "source": [
    "## Comparing Imputations Methods"
   ]
  },
  {
   "cell_type": "markdown",
   "id": "bd4eef2a",
   "metadata": {},
   "source": [
    "### Model Using KNN Imputations "
   ]
  },
  {
   "cell_type": "code",
   "execution_count": 16,
   "id": "5d8a08f9",
   "metadata": {},
   "outputs": [
    {
     "name": "stderr",
     "output_type": "stream",
     "text": [
      "New names:\n",
      "* `` -> ...1\n",
      "\n",
      "\u001b[1m\u001b[1mRows: \u001b[1m\u001b[22m\u001b[34m\u001b[34m122\u001b[34m\u001b[39m \u001b[1m\u001b[1mColumns: \u001b[1m\u001b[22m\u001b[34m\u001b[34m10\u001b[34m\u001b[39m\n",
      "\n",
      "\u001b[36m--\u001b[39m \u001b[1m\u001b[1mColumn specification\u001b[1m\u001b[22m \u001b[36m------------------------------------------------------------------------------------------------\u001b[39m\n",
      "\u001b[1mDelimiter:\u001b[22m \",\"\n",
      "\u001b[31mchr\u001b[39m (1): sitename\n",
      "\u001b[32mdbl\u001b[39m (9): ...1, year, violenceScore, AllAgesInPovertyPercent, UnderAge18InPov...\n",
      "\n",
      "\n",
      "\u001b[36mi\u001b[39m Use \u001b[30m\u001b[47m\u001b[30m\u001b[47m`spec()`\u001b[47m\u001b[30m\u001b[49m\u001b[39m to retrieve the full column specification for this data.\n",
      "\u001b[36mi\u001b[39m Specify the column types or set \u001b[30m\u001b[47m\u001b[30m\u001b[47m`show_col_types = FALSE`\u001b[47m\u001b[30m\u001b[49m\u001b[39m to quiet this message.\n",
      "\n"
     ]
    }
   ],
   "source": [
    "knn_dat = read_delim('violenceKNN.csv', delim = \",\") %>% select(-c(1))"
   ]
  },
  {
   "cell_type": "code",
   "execution_count": 26,
   "id": "53ba4ce6",
   "metadata": {},
   "outputs": [
    {
     "data": {
      "text/html": [
       "870.557208114959"
      ],
      "text/latex": [
       "870.557208114959"
      ],
      "text/markdown": [
       "870.557208114959"
      ],
      "text/plain": [
       "[1] 870.5572"
      ]
     },
     "metadata": {},
     "output_type": "display_data"
    }
   ],
   "source": [
    "mod_knn = lme(violenceScore ~  ., random = ~ 1 | sitename, method = \"ML\", data = knn_dat)\n",
    "\n",
    "knn_AIC = AIC(mod_knn)"
   ]
  },
  {
   "cell_type": "markdown",
   "id": "a09056db",
   "metadata": {},
   "source": [
    "### Model Using Mean Imputations "
   ]
  },
  {
   "cell_type": "code",
   "execution_count": 31,
   "id": "0bb63ded",
   "metadata": {},
   "outputs": [
    {
     "name": "stderr",
     "output_type": "stream",
     "text": [
      "New names:\n",
      "* `` -> ...1\n",
      "\n",
      "\u001b[1m\u001b[1mRows: \u001b[1m\u001b[22m\u001b[34m\u001b[34m122\u001b[34m\u001b[39m \u001b[1m\u001b[1mColumns: \u001b[1m\u001b[22m\u001b[34m\u001b[34m10\u001b[34m\u001b[39m\n",
      "\n",
      "\u001b[36m--\u001b[39m \u001b[1m\u001b[1mColumn specification\u001b[1m\u001b[22m \u001b[36m------------------------------------------------------------------------------------------------\u001b[39m\n",
      "\u001b[1mDelimiter:\u001b[22m \",\"\n",
      "\u001b[31mchr\u001b[39m (1): sitename\n",
      "\u001b[32mdbl\u001b[39m (8): ...1, year, violence score, All Ages in Poverty Percent, Under Age ...\n",
      "\n",
      "\n",
      "\u001b[36mi\u001b[39m Use \u001b[30m\u001b[47m\u001b[30m\u001b[47m`spec()`\u001b[47m\u001b[30m\u001b[49m\u001b[39m to retrieve the full column specification for this data.\n",
      "\u001b[36mi\u001b[39m Specify the column types or set \u001b[30m\u001b[47m\u001b[30m\u001b[47m`show_col_types = FALSE`\u001b[47m\u001b[30m\u001b[49m\u001b[39m to quiet this message.\n",
      "\n"
     ]
    }
   ],
   "source": [
    "mean_dat = read_delim('violenceMean.csv', delim = \",\") %>% \n",
    "transmute(year = year, sitename = sitename, violenceScore = `violence score`, \n",
    "          AllAgesInPovertyPercent = `All Ages in Poverty Percent`, \n",
    "          UnderAge18InPovertyPercent = `Under Age 18 in Poverty Percent`, \n",
    "          MedianHouseholdIncomeInDollars = `Median Household Income in Dollars`, \n",
    "          UnemploymentRate = `Unemployment Rate`, Population = Population, \n",
    "          SNAP = `SNAP($/Person)`)"
   ]
  },
  {
   "cell_type": "code",
   "execution_count": 33,
   "id": "4a3603c9",
   "metadata": {},
   "outputs": [
    {
     "data": {
      "text/html": [
       "870.268327566039"
      ],
      "text/latex": [
       "870.268327566039"
      ],
      "text/markdown": [
       "870.268327566039"
      ],
      "text/plain": [
       "[1] 870.2683"
      ]
     },
     "metadata": {},
     "output_type": "display_data"
    }
   ],
   "source": [
    "mod_mean = lme(violenceScore ~  ., random = ~ 1 | sitename, method = \"ML\", data = mean_dat)\n",
    "\n",
    "mean_AIC = AIC(mod_mean)"
   ]
  },
  {
   "cell_type": "markdown",
   "id": "055f17c5",
   "metadata": {},
   "source": [
    "### Model Using Median Imputations "
   ]
  },
  {
   "cell_type": "code",
   "execution_count": 48,
   "id": "a8ee9838",
   "metadata": {},
   "outputs": [
    {
     "name": "stderr",
     "output_type": "stream",
     "text": [
      "New names:\n",
      "* `` -> ...1\n",
      "\n",
      "\u001b[1m\u001b[1mRows: \u001b[1m\u001b[22m\u001b[34m\u001b[34m122\u001b[34m\u001b[39m \u001b[1m\u001b[1mColumns: \u001b[1m\u001b[22m\u001b[34m\u001b[34m10\u001b[34m\u001b[39m\n",
      "\n",
      "\u001b[36m--\u001b[39m \u001b[1m\u001b[1mColumn specification\u001b[1m\u001b[22m \u001b[36m------------------------------------------------------------------------------------------------\u001b[39m\n",
      "\u001b[1mDelimiter:\u001b[22m \",\"\n",
      "\u001b[31mchr\u001b[39m (1): sitename\n",
      "\u001b[32mdbl\u001b[39m (8): ...1, year, violenceScore, AllAgesInPovertyPercent, UnderAge18InPov...\n",
      "\n",
      "\n",
      "\u001b[36mi\u001b[39m Use \u001b[30m\u001b[47m\u001b[30m\u001b[47m`spec()`\u001b[47m\u001b[30m\u001b[49m\u001b[39m to retrieve the full column specification for this data.\n",
      "\u001b[36mi\u001b[39m Specify the column types or set \u001b[30m\u001b[47m\u001b[30m\u001b[47m`show_col_types = FALSE`\u001b[47m\u001b[30m\u001b[49m\u001b[39m to quiet this message.\n",
      "\n"
     ]
    }
   ],
   "source": [
    "med_dat = read_delim('violenceMedian.csv', delim = \",\") %>% select(-c(1))"
   ]
  },
  {
   "cell_type": "code",
   "execution_count": 49,
   "id": "1b986d39",
   "metadata": {},
   "outputs": [
    {
     "data": {
      "text/html": [
       "863.717135204856"
      ],
      "text/latex": [
       "863.717135204856"
      ],
      "text/markdown": [
       "863.717135204856"
      ],
      "text/plain": [
       "[1] 863.7171"
      ]
     },
     "metadata": {},
     "output_type": "display_data"
    }
   ],
   "source": [
    "mod_med = lme(violenceScore ~  ., random = ~ 1 | sitename, method = \"ML\", data = med_dat)\n",
    "\n",
    "med_AIC = AIC(mod_med)"
   ]
  },
  {
   "cell_type": "markdown",
   "id": "b0eef5ad",
   "metadata": {},
   "source": [
    "### Model Using Mode Imputations "
   ]
  },
  {
   "cell_type": "code",
   "execution_count": 42,
   "id": "d3104fda",
   "metadata": {},
   "outputs": [
    {
     "name": "stderr",
     "output_type": "stream",
     "text": [
      "New names:\n",
      "* `` -> ...1\n",
      "\n",
      "\u001b[1m\u001b[1mRows: \u001b[1m\u001b[22m\u001b[34m\u001b[34m122\u001b[34m\u001b[39m \u001b[1m\u001b[1mColumns: \u001b[1m\u001b[22m\u001b[34m\u001b[34m10\u001b[34m\u001b[39m\n",
      "\n",
      "\u001b[36m--\u001b[39m \u001b[1m\u001b[1mColumn specification\u001b[1m\u001b[22m \u001b[36m------------------------------------------------------------------------------------------------\u001b[39m\n",
      "\u001b[1mDelimiter:\u001b[22m \",\"\n",
      "\u001b[31mchr\u001b[39m (1): sitename\n",
      "\u001b[32mdbl\u001b[39m (8): ...1, year, violenceScore, AllAgesInPovertyPercent, UnderAge18InPov...\n",
      "\n",
      "\n",
      "\u001b[36mi\u001b[39m Use \u001b[30m\u001b[47m\u001b[30m\u001b[47m`spec()`\u001b[47m\u001b[30m\u001b[49m\u001b[39m to retrieve the full column specification for this data.\n",
      "\u001b[36mi\u001b[39m Specify the column types or set \u001b[30m\u001b[47m\u001b[30m\u001b[47m`show_col_types = FALSE`\u001b[47m\u001b[30m\u001b[49m\u001b[39m to quiet this message.\n",
      "\n"
     ]
    }
   ],
   "source": [
    "mode_dat = read_delim('violenceMode.csv', delim = \",\") %>% select(-c(1))"
   ]
  },
  {
   "cell_type": "code",
   "execution_count": 45,
   "id": "3e0bbe23",
   "metadata": {},
   "outputs": [
    {
     "data": {
      "text/html": [
       "863.717135204856"
      ],
      "text/latex": [
       "863.717135204856"
      ],
      "text/markdown": [
       "863.717135204856"
      ],
      "text/plain": [
       "[1] 863.7171"
      ]
     },
     "metadata": {},
     "output_type": "display_data"
    }
   ],
   "source": [
    "mod_mode = lme(violenceScore ~  ., random = ~ 1 | sitename, method = \"ML\", data = mode_dat)\n",
    "\n",
    "mode_AIC = AIC(mod_mode)"
   ]
  },
  {
   "cell_type": "markdown",
   "id": "a9ebd888",
   "metadata": {},
   "source": [
    "### Compare Imputations Using AIC"
   ]
  },
  {
   "cell_type": "code",
   "execution_count": 51,
   "id": "670f5e92",
   "metadata": {},
   "outputs": [
    {
     "data": {
      "text/html": [
       "<table class=\"dataframe\">\n",
       "<caption>A matrix: 4 × 1 of type dbl</caption>\n",
       "<tbody>\n",
       "\t<tr><th scope=row>KNN AIC</th><td>870.5572</td></tr>\n",
       "\t<tr><th scope=row>Mean AIC</th><td>870.2683</td></tr>\n",
       "\t<tr><th scope=row>Median AIC</th><td>863.7171</td></tr>\n",
       "\t<tr><th scope=row>Mode AIC</th><td>863.7171</td></tr>\n",
       "</tbody>\n",
       "</table>\n"
      ],
      "text/latex": [
       "A matrix: 4 × 1 of type dbl\n",
       "\\begin{tabular}{r|l}\n",
       "\tKNN AIC & 870.5572\\\\\n",
       "\tMean AIC & 870.2683\\\\\n",
       "\tMedian AIC & 863.7171\\\\\n",
       "\tMode AIC & 863.7171\\\\\n",
       "\\end{tabular}\n"
      ],
      "text/markdown": [
       "\n",
       "A matrix: 4 × 1 of type dbl\n",
       "\n",
       "| KNN AIC | 870.5572 |\n",
       "| Mean AIC | 870.2683 |\n",
       "| Median AIC | 863.7171 |\n",
       "| Mode AIC | 863.7171 |\n",
       "\n"
      ],
      "text/plain": [
       "           [,1]    \n",
       "KNN AIC    870.5572\n",
       "Mean AIC   870.2683\n",
       "Median AIC 863.7171\n",
       "Mode AIC   863.7171"
      ]
     },
     "metadata": {},
     "output_type": "display_data"
    }
   ],
   "source": [
    "AIC_mat = matrix(c(knn_AIC, mean_AIC, med_AIC, mode_AIC), nrow = 4)\n",
    "\n",
    "rowNames = c(\"KNN AIC\", \"Mean AIC\", \"Median AIC\", \"Mode AIC\")\n",
    "row.names(AIC_mat) = rowNames\n",
    "\n",
    "AIC_mat"
   ]
  },
  {
   "cell_type": "markdown",
   "id": "aa029bdc",
   "metadata": {},
   "source": [
    "## Finding Best Model"
   ]
  },
  {
   "cell_type": "code",
   "execution_count": 72,
   "id": "4f35641e",
   "metadata": {},
   "outputs": [
    {
     "data": {
      "image/png": "[encoded data removed]",
      "text/plain": [
       "Plot with title \"\""
      ]
     },
     "metadata": {
      "image/png": {
       "height": 420,
       "width": 420
      }
     },
     "output_type": "display_data"
    }
   ],
   "source": [
    "# Correlation plot for all variables\n",
    "dat_cor = cor(knn_dat[,-c(2)])\n",
    "\n",
    "corrplot(dat_cor, method=\"circle\")"
   ]
  },
  {
   "cell_type": "code",
   "execution_count": 53,
   "id": "5930f12a",
   "metadata": {},
   "outputs": [],
   "source": [
    "# All predictors\n",
    "full_model = lme(violenceScore ~  ., random = ~ 1 | sitename, method = \"ML\", data = knn_dat)\n",
    "full_AIC = AIC(full_model)"
   ]
  },
  {
   "cell_type": "code",
   "execution_count": 64,
   "id": "11d3eb8e",
   "metadata": {},
   "outputs": [
    {
     "data": {
      "text/html": [
       "<table class=\"dataframe\">\n",
       "<caption>A matrix: 6 × 1 of type dbl</caption>\n",
       "<tbody>\n",
       "\t<tr><th scope=row>Without Year</th><td>795.0217</td></tr>\n",
       "\t<tr><th scope=row>Without AllAgesInPovertyPercent</th><td>786.3369</td></tr>\n",
       "\t<tr><th scope=row>Without MedianHouseholdIncomeInDollars</th><td>786.3986</td></tr>\n",
       "\t<tr><th scope=row>Without UnemploymentRate</th><td>789.3896</td></tr>\n",
       "\t<tr><th scope=row>Without Population</th><td>786.5969</td></tr>\n",
       "\t<tr><th scope=row>Without SNAP</th><td>786.5085</td></tr>\n",
       "</tbody>\n",
       "</table>\n"
      ],
      "text/latex": [
       "A matrix: 6 × 1 of type dbl\n",
       "\\begin{tabular}{r|l}\n",
       "\tWithout Year & 795.0217\\\\\n",
       "\tWithout AllAgesInPovertyPercent & 786.3369\\\\\n",
       "\tWithout MedianHouseholdIncomeInDollars & 786.3986\\\\\n",
       "\tWithout UnemploymentRate & 789.3896\\\\\n",
       "\tWithout Population & 786.5969\\\\\n",
       "\tWithout SNAP & 786.5085\\\\\n",
       "\\end{tabular}\n"
      ],
      "text/markdown": [
       "\n",
       "A matrix: 6 × 1 of type dbl\n",
       "\n",
       "| Without Year | 795.0217 |\n",
       "| Without AllAgesInPovertyPercent | 786.3369 |\n",
       "| Without MedianHouseholdIncomeInDollars | 786.3986 |\n",
       "| Without UnemploymentRate | 789.3896 |\n",
       "| Without Population | 786.5969 |\n",
       "| Without SNAP | 786.5085 |\n",
       "\n"
      ],
      "text/plain": [
       "                                       [,1]    \n",
       "Without Year                           795.0217\n",
       "Without AllAgesInPovertyPercent        786.3369\n",
       "Without MedianHouseholdIncomeInDollars 786.3986\n",
       "Without UnemploymentRate               789.3896\n",
       "Without Population                     786.5969\n",
       "Without SNAP                           786.5085"
      ]
     },
     "metadata": {},
     "output_type": "display_data"
    }
   ],
   "source": [
    "# Using AllAgesInPovertyPercent, not using UnderAge18InPovertyPercent\n",
    "# Dropping 1\n",
    "\n",
    "# Without year\n",
    "mod1 = lme(violenceScore ~ AllAgesInPovertyPercent + MedianHouseholdIncomeInDollars + UnemploymentRate + Population + SNAP, random = ~ 1 | sitename, method = \"ML\", data = knn_dat)\n",
    "mod1_AIC = AIC(mod1)\n",
    "\n",
    "# Without AllAgesInPovertyPercent\n",
    "mod2 = lme(violenceScore ~ year + MedianHouseholdIncomeInDollars + UnemploymentRate + Population + SNAP, random = ~ 1 | sitename, method = \"ML\", data = knn_dat)\n",
    "mod2_AIC = AIC(mod2)\n",
    "\n",
    "# Without MedianHouseholdIncomeInDollars\n",
    "mod3 = lme(violenceScore ~ year + AllAgesInPovertyPercent + UnemploymentRate + Population + SNAP, random = ~ 1 | sitename, method = \"ML\", data = knn_dat)\n",
    "mod3_AIC = AIC(mod3)\n",
    "\n",
    "# Without UnemploymentRate\n",
    "mod4 = lme(violenceScore ~ year + AllAgesInPovertyPercent + MedianHouseholdIncomeInDollars + Population + SNAP, random = ~ 1 | sitename, method = \"ML\", data = knn_dat)\n",
    "mod4_AIC = AIC(mod4)\n",
    "\n",
    "# Without Population\n",
    "mod5 = lme(violenceScore ~ year + AllAgesInPovertyPercent + MedianHouseholdIncomeInDollars + UnemploymentRate + SNAP, random = ~ 1 | sitename, method = \"ML\", data = knn_dat)\n",
    "mod5_AIC = AIC(mod5)\n",
    "\n",
    "# Without SNAP\n",
    "mod6 = lme(violenceScore ~ year + AllAgesInPovertyPercent + MedianHouseholdIncomeInDollars + UnemploymentRate + Population, random = ~ 1 | sitename, method = \"ML\", data = knn_dat)\n",
    "mod6_AIC = AIC(mod6)\n",
    "\n",
    "AIC_mat = matrix(c(mod1_AIC, mod2_AIC, mod3_AIC, mod4_AIC, mod5_AIC, mod6_AIC), nrow = 6)\n",
    "\n",
    "rowNames = c(\"Without Year\", \"Without AllAgesInPovertyPercent\", \n",
    "             \"Without MedianHouseholdIncomeInDollars\", \"Without UnemploymentRate\", \n",
    "             \"Without Population\", \"Without SNAP\")\n",
    "row.names(AIC_mat) = rowNames\n",
    "\n",
    "AIC_mat"
   ]
  },
  {
   "cell_type": "code",
   "execution_count": 63,
   "id": "028ab6f6",
   "metadata": {},
   "outputs": [
    {
     "data": {
      "text/html": [
       "<table class=\"dataframe\">\n",
       "<caption>A matrix: 6 × 1 of type dbl</caption>\n",
       "<tbody>\n",
       "\t<tr><th scope=row>Without Year</th><td>795.3887</td></tr>\n",
       "\t<tr><th scope=row>Without UnderAge18InPovertyPercent</th><td>786.3369</td></tr>\n",
       "\t<tr><th scope=row>Without MedianHouseholdIncomeInDollars</th><td>786.1210</td></tr>\n",
       "\t<tr><th scope=row>Without UnemploymentRate</th><td>788.8940</td></tr>\n",
       "\t<tr><th scope=row>Without Population</th><td>786.3897</td></tr>\n",
       "\t<tr><th scope=row>Without SNAP</th><td>786.3180</td></tr>\n",
       "</tbody>\n",
       "</table>\n"
      ],
      "text/latex": [
       "A matrix: 6 × 1 of type dbl\n",
       "\\begin{tabular}{r|l}\n",
       "\tWithout Year & 795.3887\\\\\n",
       "\tWithout UnderAge18InPovertyPercent & 786.3369\\\\\n",
       "\tWithout MedianHouseholdIncomeInDollars & 786.1210\\\\\n",
       "\tWithout UnemploymentRate & 788.8940\\\\\n",
       "\tWithout Population & 786.3897\\\\\n",
       "\tWithout SNAP & 786.3180\\\\\n",
       "\\end{tabular}\n"
      ],
      "text/markdown": [
       "\n",
       "A matrix: 6 × 1 of type dbl\n",
       "\n",
       "| Without Year | 795.3887 |\n",
       "| Without UnderAge18InPovertyPercent | 786.3369 |\n",
       "| Without MedianHouseholdIncomeInDollars | 786.1210 |\n",
       "| Without UnemploymentRate | 788.8940 |\n",
       "| Without Population | 786.3897 |\n",
       "| Without SNAP | 786.3180 |\n",
       "\n"
      ],
      "text/plain": [
       "                                       [,1]    \n",
       "Without Year                           795.3887\n",
       "Without UnderAge18InPovertyPercent     786.3369\n",
       "Without MedianHouseholdIncomeInDollars 786.1210\n",
       "Without UnemploymentRate               788.8940\n",
       "Without Population                     786.3897\n",
       "Without SNAP                           786.3180"
      ]
     },
     "metadata": {},
     "output_type": "display_data"
    }
   ],
   "source": [
    "# Using UnderAge18InPovertyPercent, not using AllAgesInPovertyPercent\n",
    "# Dropping 1\n",
    "\n",
    "# Without year\n",
    "mod1 = lme(violenceScore ~ UnderAge18InPovertyPercent + MedianHouseholdIncomeInDollars + UnemploymentRate + Population + SNAP, random = ~ 1 | sitename, method = \"ML\", data = knn_dat)\n",
    "mod1_AIC = AIC(mod1)\n",
    "\n",
    "# Without UnderAge18InPovertyPercent\n",
    "mod2 = lme(violenceScore ~ year + MedianHouseholdIncomeInDollars + UnemploymentRate + Population + SNAP, random = ~ 1 | sitename, method = \"ML\", data = knn_dat)\n",
    "mod2_AIC = AIC(mod2)\n",
    "\n",
    "# Without MedianHouseholdIncomeInDollars\n",
    "mod3 = lme(violenceScore ~ year + UnderAge18InPovertyPercent + UnemploymentRate + Population + SNAP, random = ~ 1 | sitename, method = \"ML\", data = knn_dat)\n",
    "mod3_AIC = AIC(mod3)\n",
    "\n",
    "# Without UnemploymentRate\n",
    "mod4 = lme(violenceScore ~ year + UnderAge18InPovertyPercent + MedianHouseholdIncomeInDollars + Population + SNAP, random = ~ 1 | sitename, method = \"ML\", data = knn_dat)\n",
    "mod4_AIC = AIC(mod4)\n",
    "\n",
    "# Without Population\n",
    "mod5 = lme(violenceScore ~ year + UnderAge18InPovertyPercent + MedianHouseholdIncomeInDollars + UnemploymentRate + SNAP, random = ~ 1 | sitename, method = \"ML\", data = knn_dat)\n",
    "mod5_AIC = AIC(mod5)\n",
    "\n",
    "# Without SNAP\n",
    "mod6 = lme(violenceScore ~ year + UnderAge18InPovertyPercent + MedianHouseholdIncomeInDollars + UnemploymentRate + Population, random = ~ 1 | sitename, method = \"ML\", data = knn_dat)\n",
    "mod6_AIC = AIC(mod6)\n",
    "\n",
    "AIC_mat = matrix(c(mod1_AIC, mod2_AIC, mod3_AIC, mod4_AIC, mod5_AIC, mod6_AIC), nrow = 6)\n",
    "\n",
    "rowNames = c(\"Without Year\", \"Without UnderAge18InPovertyPercent\", \n",
    "             \"Without MedianHouseholdIncomeInDollars\", \"Without UnemploymentRate\", \n",
    "             \"Without Population\", \"Without SNAP\")\n",
    "row.names(AIC_mat) = rowNames\n",
    "\n",
    "AIC_mat"
   ]
  },
  {
   "cell_type": "code",
   "execution_count": 69,
   "id": "38c94229",
   "metadata": {},
   "outputs": [
    {
     "data": {
      "text/html": [
       "<table class=\"dataframe\">\n",
       "<caption>A matrix: 5 × 1 of type dbl</caption>\n",
       "<tbody>\n",
       "\t<tr><th scope=row>Without Year</th><td>793.9079</td></tr>\n",
       "\t<tr><th scope=row>Without UnderAge18InPovertyPercent</th><td>784.4153</td></tr>\n",
       "\t<tr><th scope=row>Without UnemploymentRate</th><td>786.9653</td></tr>\n",
       "\t<tr><th scope=row>Without Population</th><td>784.3899</td></tr>\n",
       "\t<tr><th scope=row>Without SNAP</th><td>784.3269</td></tr>\n",
       "</tbody>\n",
       "</table>\n"
      ],
      "text/latex": [
       "A matrix: 5 × 1 of type dbl\n",
       "\\begin{tabular}{r|l}\n",
       "\tWithout Year & 793.9079\\\\\n",
       "\tWithout UnderAge18InPovertyPercent & 784.4153\\\\\n",
       "\tWithout UnemploymentRate & 786.9653\\\\\n",
       "\tWithout Population & 784.3899\\\\\n",
       "\tWithout SNAP & 784.3269\\\\\n",
       "\\end{tabular}\n"
      ],
      "text/markdown": [
       "\n",
       "A matrix: 5 × 1 of type dbl\n",
       "\n",
       "| Without Year | 793.9079 |\n",
       "| Without UnderAge18InPovertyPercent | 784.4153 |\n",
       "| Without UnemploymentRate | 786.9653 |\n",
       "| Without Population | 784.3899 |\n",
       "| Without SNAP | 784.3269 |\n",
       "\n"
      ],
      "text/plain": [
       "                                   [,1]    \n",
       "Without Year                       793.9079\n",
       "Without UnderAge18InPovertyPercent 784.4153\n",
       "Without UnemploymentRate           786.9653\n",
       "Without Population                 784.3899\n",
       "Without SNAP                       784.3269"
      ]
     },
     "metadata": {},
     "output_type": "display_data"
    }
   ],
   "source": [
    "# Without year\n",
    "mod1 = lme(violenceScore ~ UnderAge18InPovertyPercent + UnemploymentRate + Population + SNAP, random = ~ 1 | sitename, method = \"ML\", data = knn_dat)\n",
    "mod1_AIC = AIC(mod1)\n",
    "\n",
    "# Without UnderAge18InPovertyPercent\n",
    "mod2 = lme(violenceScore ~ year + UnemploymentRate + Population + SNAP, random = ~ 1 | sitename, method = \"ML\", data = knn_dat)\n",
    "mod2_AIC = AIC(mod2)\n",
    "\n",
    "# Without UnemploymentRate\n",
    "mod3 = lme(violenceScore ~ year + UnderAge18InPovertyPercent + Population + SNAP, random = ~ 1 | sitename, method = \"ML\", data = knn_dat)\n",
    "mod3_AIC = AIC(mod3)\n",
    "\n",
    "# Without Population\n",
    "mod4 = lme(violenceScore ~ year + UnderAge18InPovertyPercent + UnemploymentRate + SNAP, random = ~ 1 | sitename, method = \"ML\", data = knn_dat)\n",
    "mod4_AIC = AIC(mod4)\n",
    "\n",
    "# Without SNAP\n",
    "mod5 = lme(violenceScore ~ year + UnderAge18InPovertyPercent + UnemploymentRate + Population, random = ~ 1 | sitename, method = \"ML\", data = knn_dat)\n",
    "mod5_AIC = AIC(mod5)\n",
    "\n",
    "\n",
    "AIC_mat = matrix(c(mod1_AIC, mod2_AIC, mod3_AIC, mod4_AIC, mod5_AIC), nrow = 5)\n",
    "\n",
    "rowNames = c(\"Without Year\", \"Without UnderAge18InPovertyPercent\", \n",
    "             \"Without UnemploymentRate\", \n",
    "             \"Without Population\", \"Without SNAP\")\n",
    "row.names(AIC_mat) = rowNames\n",
    "\n",
    "AIC_mat"
   ]
  },
  {
   "cell_type": "code",
   "execution_count": 83,
   "id": "5a611863",
   "metadata": {},
   "outputs": [
    {
     "data": {
      "text/html": [
       "<table class=\"dataframe\">\n",
       "<caption>A matrix: 9 × 1 of type dbl</caption>\n",
       "<tbody>\n",
       "\t<tr><th scope=row>Model 1</th><td>784.3269</td></tr>\n",
       "\t<tr><th scope=row>Model 2</th><td>782.6588</td></tr>\n",
       "\t<tr><th scope=row>Model 3</th><td>782.6094</td></tr>\n",
       "\t<tr><th scope=row>Model 4</th><td>782.7435</td></tr>\n",
       "\t<tr><th scope=row>Model 5</th><td>780.8245</td></tr>\n",
       "\t<tr><th scope=row>Model 6</th><td>860.3841</td></tr>\n",
       "\t<tr><th scope=row>Model 7</th><td>860.0038</td></tr>\n",
       "\t<tr><th scope=row>Model 8</th><td>790.7013</td></tr>\n",
       "\t<tr><th scope=row>Model 9</th><td>792.1113</td></tr>\n",
       "</tbody>\n",
       "</table>\n"
      ],
      "text/latex": [
       "A matrix: 9 × 1 of type dbl\n",
       "\\begin{tabular}{r|l}\n",
       "\tModel 1 & 784.3269\\\\\n",
       "\tModel 2 & 782.6588\\\\\n",
       "\tModel 3 & 782.6094\\\\\n",
       "\tModel 4 & 782.7435\\\\\n",
       "\tModel 5 & 780.8245\\\\\n",
       "\tModel 6 & 860.3841\\\\\n",
       "\tModel 7 & 860.0038\\\\\n",
       "\tModel 8 & 790.7013\\\\\n",
       "\tModel 9 & 792.1113\\\\\n",
       "\\end{tabular}\n"
      ],
      "text/markdown": [
       "\n",
       "A matrix: 9 × 1 of type dbl\n",
       "\n",
       "| Model 1 | 784.3269 |\n",
       "| Model 2 | 782.6588 |\n",
       "| Model 3 | 782.6094 |\n",
       "| Model 4 | 782.7435 |\n",
       "| Model 5 | 780.8245 |\n",
       "| Model 6 | 860.3841 |\n",
       "| Model 7 | 860.0038 |\n",
       "| Model 8 | 790.7013 |\n",
       "| Model 9 | 792.1113 |\n",
       "\n"
      ],
      "text/plain": [
       "        [,1]    \n",
       "Model 1 784.3269\n",
       "Model 2 782.6588\n",
       "Model 3 782.6094\n",
       "Model 4 782.7435\n",
       "Model 5 780.8245\n",
       "Model 6 860.3841\n",
       "Model 7 860.0038\n",
       "Model 8 790.7013\n",
       "Model 9 792.1113"
      ]
     },
     "metadata": {},
     "output_type": "display_data"
    }
   ],
   "source": [
    "mod1 = lme(violenceScore ~ year + UnemploymentRate + Population + UnderAge18InPovertyPercent, random = ~ 1 | sitename, method = \"ML\", data = knn_dat)\n",
    "mod1_AIC = AIC(mod1)\n",
    "\n",
    "mod2 = lme(violenceScore ~ year + UnemploymentRate + SNAP, random = ~ 1 | sitename, method = \"ML\", data = knn_dat)\n",
    "mod2_AIC = AIC(mod2)\n",
    "\n",
    "mod3 = lme(violenceScore ~ year + UnemploymentRate + Population, random = ~ 1 | sitename, method = \"ML\", data = knn_dat)\n",
    "mod3_AIC = AIC(mod3)\n",
    "\n",
    "mod4 = lme(violenceScore ~ year + UnemploymentRate + MedianHouseholdIncomeInDollars, random = ~ 1 | sitename, method = \"ML\", data = knn_dat)\n",
    "mod4_AIC = AIC(mod4)\n",
    "\n",
    "mod5 = lme(violenceScore ~ year + UnemploymentRate, random = ~ 1 | sitename, method = \"ML\", data = knn_dat)\n",
    "mod5_AIC = AIC(mod5)\n",
    "\n",
    "mod6 = lme(violenceScore ~ UnemploymentRate + Population, random = ~ 1 | sitename, method = \"ML\", data = knn_dat)\n",
    "mod6_AIC = AIC(mod6)\n",
    "\n",
    "mod7 = lme(violenceScore ~ UnemploymentRate + UnderAge18InPovertyPercent, random = ~ 1 | sitename, method = \"ML\", data = knn_dat)\n",
    "mod7_AIC = AIC(mod7)\n",
    "\n",
    "mod8 = lme(violenceScore ~ UnemploymentRate + SNAP, random = ~ 1 | sitename, method = \"ML\", data = knn_dat)\n",
    "mod8_AIC = AIC(mod8)\n",
    "\n",
    "mod9 = lme(violenceScore ~ UnemploymentRate + SNAP + MedianHouseholdIncomeInDollars, random = ~ 1 | sitename, method = \"ML\", data = knn_dat)\n",
    "mod9_AIC = AIC(mod9)\n",
    "\n",
    "AIC_mat = matrix(c(mod1_AIC, mod2_AIC, mod3_AIC, mod4_AIC, mod5_AIC, mod6_AIC, mod7_AIC, mod8_AIC, mod9_AIC), nrow = 9)\n",
    "\n",
    "rowNames = c(\"Model 1\", \"Model 2\", \"Model 3\", \"Model 4\", \"Model 5\", \"Model 6\", \"Model 7\", \"Model 8\", \"Model 9\")\n",
    "row.names(AIC_mat) = rowNames\n",
    "\n",
    "AIC_mat"
   ]
  },
  {
   "cell_type": "code",
   "execution_count": 112,
   "id": "f3c0d5de",
   "metadata": {},
   "outputs": [
    {
     "data": {
      "text/html": [
       "<table class=\"dataframe\">\n",
       "<caption>A matrix: 4 × 1 of type dbl</caption>\n",
       "<tbody>\n",
       "\t<tr><th scope=row>KNN AIC</th><td>780.8245</td></tr>\n",
       "\t<tr><th scope=row>Mean AIC</th><td>778.2661</td></tr>\n",
       "\t<tr><th scope=row>Median AIC</th><td>772.6461</td></tr>\n",
       "\t<tr><th scope=row>Mode AIC</th><td>772.6461</td></tr>\n",
       "</tbody>\n",
       "</table>\n"
      ],
      "text/latex": [
       "A matrix: 4 × 1 of type dbl\n",
       "\\begin{tabular}{r|l}\n",
       "\tKNN AIC & 780.8245\\\\\n",
       "\tMean AIC & 778.2661\\\\\n",
       "\tMedian AIC & 772.6461\\\\\n",
       "\tMode AIC & 772.6461\\\\\n",
       "\\end{tabular}\n"
      ],
      "text/markdown": [
       "\n",
       "A matrix: 4 × 1 of type dbl\n",
       "\n",
       "| KNN AIC | 780.8245 |\n",
       "| Mean AIC | 778.2661 |\n",
       "| Median AIC | 772.6461 |\n",
       "| Mode AIC | 772.6461 |\n",
       "\n"
      ],
      "text/plain": [
       "           [,1]    \n",
       "KNN AIC    780.8245\n",
       "Mean AIC   778.2661\n",
       "Median AIC 772.6461\n",
       "Mode AIC   772.6461"
      ]
     },
     "metadata": {},
     "output_type": "display_data"
    },
    {
     "data": {
      "text/html": [
       "<table class=\"dataframe\">\n",
       "<caption>A matrix: 4 × 1 of type dbl</caption>\n",
       "<tbody>\n",
       "\t<tr><th scope=row>KNN AIC</th><td>790.7013</td></tr>\n",
       "\t<tr><th scope=row>Mean AIC</th><td>788.8769</td></tr>\n",
       "\t<tr><th scope=row>Median AIC</th><td>783.7481</td></tr>\n",
       "\t<tr><th scope=row>Mode AIC</th><td>783.7481</td></tr>\n",
       "</tbody>\n",
       "</table>\n"
      ],
      "text/latex": [
       "A matrix: 4 × 1 of type dbl\n",
       "\\begin{tabular}{r|l}\n",
       "\tKNN AIC & 790.7013\\\\\n",
       "\tMean AIC & 788.8769\\\\\n",
       "\tMedian AIC & 783.7481\\\\\n",
       "\tMode AIC & 783.7481\\\\\n",
       "\\end{tabular}\n"
      ],
      "text/markdown": [
       "\n",
       "A matrix: 4 × 1 of type dbl\n",
       "\n",
       "| KNN AIC | 790.7013 |\n",
       "| Mean AIC | 788.8769 |\n",
       "| Median AIC | 783.7481 |\n",
       "| Mode AIC | 783.7481 |\n",
       "\n"
      ],
      "text/plain": [
       "           [,1]    \n",
       "KNN AIC    790.7013\n",
       "Mean AIC   788.8769\n",
       "Median AIC 783.7481\n",
       "Mode AIC   783.7481"
      ]
     },
     "metadata": {},
     "output_type": "display_data"
    }
   ],
   "source": [
    "#### Comparing Impuatations Again\n",
    "\n",
    "# Using year and UnemploymentRate\n",
    "mod_knn_1 = lme(violenceScore ~  year + UnemploymentRate, random = ~ 1 | sitename, method = \"ML\", data = knn_dat)\n",
    "knn_AIC_1 = AIC(mod_knn_1)\n",
    "\n",
    "mod_mean_1 = lme(violenceScore ~  year + UnemploymentRate, random = ~ 1 | sitename, method = \"ML\", data = mean_dat)\n",
    "mean_AIC_1 = AIC(mod_mean_1)\n",
    "\n",
    "mod_med_1 = lme(violenceScore ~  year + UnemploymentRate, random = ~ 1 | sitename, method = \"ML\", data = med_dat)\n",
    "med_AIC_1 = AIC(mod_med_1)\n",
    "\n",
    "mod_mode_1 = lme(violenceScore ~  year + UnemploymentRate, random = ~ 1 | sitename, method = \"ML\", data = mode_dat)\n",
    "mode_AIC_1 = AIC(mod_mode_1)\n",
    "\n",
    "AIC_mat_1 = matrix(c(knn_AIC_1, mean_AIC_1, med_AIC_1, mode_AIC_1), nrow = 4)\n",
    "\n",
    "rowNames_1 = c(\"KNN AIC\", \"Mean AIC\", \"Median AIC\", \"Mode AIC\")\n",
    "row.names(AIC_mat_1) = rowNames_1\n",
    "\n",
    "AIC_mat_1\n",
    "\n",
    "# Using UnemploymentRate and SNAP\n",
    "mod_knn_2 = lme(violenceScore ~  SNAP + UnemploymentRate, random = ~ 1 | sitename, method = \"ML\", data = knn_dat)\n",
    "knn_AIC_2 = AIC(mod_knn_2)\n",
    "\n",
    "mod_mean_2 = lme(violenceScore ~  SNAP + UnemploymentRate, random = ~ 1 | sitename, method = \"ML\", data = mean_dat)\n",
    "mean_AIC_2 = AIC(mod_mean_2)\n",
    "\n",
    "mod_med_2 = lme(violenceScore ~  SNAP + UnemploymentRate, random = ~ 1 | sitename, method = \"ML\", data = med_dat)\n",
    "med_AIC_2 = AIC(mod_med_2)\n",
    "\n",
    "mod_mode_2 = lme(violenceScore ~  SNAP + UnemploymentRate, random = ~ 1 | sitename, method = \"ML\", data = mode_dat)\n",
    "mode_AIC_2 = AIC(mod_mode_2)\n",
    "\n",
    "AIC_mat_2 = matrix(c(knn_AIC, mean_AIC, med_AIC, mode_AIC), nrow = 4)\n",
    "\n",
    "rowNames_2 = c(\"KNN AIC\", \"Mean AIC\", \"Median AIC\", \"Mode AIC\")\n",
    "row.names(AIC_mat_2) = rowNames_2\n",
    "\n",
    "AIC_mat_2"
   ]
  },
  {
   "cell_type": "markdown",
   "id": "1a9b61c6",
   "metadata": {},
   "source": [
    "## Cross Validation"
   ]
  },
  {
   "cell_type": "code",
   "execution_count": 217,
   "id": "ad1df3cb",
   "metadata": {},
   "outputs": [
    {
     "data": {
      "text/html": [
       "<strong>$mse</strong> = 31.1571368953427"
      ],
      "text/latex": [
       "\\textbf{\\$mse} = 31.1571368953427"
      ],
      "text/markdown": [
       "**$mse** = 31.1571368953427"
      ],
      "text/plain": [
       "$mse\n",
       "[1] 31.15714\n"
      ]
     },
     "metadata": {},
     "output_type": "display_data"
    },
    {
     "data": {
      "text/html": [
       "<strong>$mse</strong> = 30.7915941979738"
      ],
      "text/latex": [
       "\\textbf{\\$mse} = 30.7915941979738"
      ],
      "text/markdown": [
       "**$mse** = 30.7915941979738"
      ],
      "text/plain": [
       "$mse\n",
       "[1] 30.79159\n"
      ]
     },
     "metadata": {},
     "output_type": "display_data"
    },
    {
     "data": {
      "text/html": [
       "<strong>$mse</strong> = 29.711108757232"
      ],
      "text/latex": [
       "\\textbf{\\$mse} = 29.711108757232"
      ],
      "text/markdown": [
       "**$mse** = 29.711108757232"
      ],
      "text/plain": [
       "$mse\n",
       "[1] 29.71111\n"
      ]
     },
     "metadata": {},
     "output_type": "display_data"
    },
    {
     "data": {
      "text/html": [
       "<strong>$mse</strong> = 29.4925096624933"
      ],
      "text/latex": [
       "\\textbf{\\$mse} = 29.4925096624933"
      ],
      "text/markdown": [
       "**$mse** = 29.4925096624933"
      ],
      "text/plain": [
       "$mse\n",
       "[1] 29.49251\n"
      ]
     },
     "metadata": {},
     "output_type": "display_data"
    }
   ],
   "source": [
    "# Model with year and UnemploymentRate\n",
    "\n",
    "library(\"gtools\")\n",
    "\n",
    "CrossValMSE = function(dat) {\n",
    "    columnNames = colnames(dat)\n",
    "    dat = data.frame(dat)  \n",
    "    colnames(dat) = columnNames\n",
    "    \n",
    "    numRow = nrow(dat)\n",
    "    numCol = ncol(dat)\n",
    "    numCounty = length(unique(dat$sitename))\n",
    "    \n",
    "    mses = c(rep(0, 1000))\n",
    "    \n",
    "    for (j in 1:1000) {\n",
    "        dat_keep = data.frame(matrix(nrow = numRow - numCounty, ncol = numCol))\n",
    "        dat_remove = data.frame(matrix(nrow = numCounty, ncol = numCol))\n",
    "\n",
    "        currLoc = 1\n",
    "\n",
    "        # Selecting one set of predictors for each county for the testing set\n",
    "        for (i in 1:numCounty) {\n",
    "            temp_dat = dat %>% filter(dat$sitename == unique(dat$sitename)[i])\n",
    "            randnum = sample(1:length(unique(temp_dat$year)), 1)\n",
    "\n",
    "            totRow = nrow(temp_dat) \n",
    "\n",
    "            dat_keep[currLoc:(currLoc + (totRow-1) - 1), ] = temp_dat[-c(randnum),]\n",
    "            dat_remove[i,] = temp_dat[randnum,]\n",
    "\n",
    "            currLoc = currLoc + (totRow - 1)\n",
    "        }\n",
    "\n",
    "        colnames(dat_keep) = colnames(knn_dat)\n",
    "        colnames(dat_remove) = colnames(knn_dat)\n",
    "\n",
    "        lme_mod = lme(violenceScore ~  year + UnemploymentRate, random = ~ 1 | sitename, method = \"ML\", data = dat_keep)\n",
    "\n",
    "        # Getting the predicted response\n",
    "        pred = predict(lme_mod, dat_remove)\n",
    "        pred_vals = matrix(0, nrow = length(pred), ncol = 1)\n",
    "        for (i in 1:length(pred))\n",
    "            pred_vals[i,1] = pred[[i]]\n",
    "\n",
    "        # Calculating the MSE\n",
    "        mses[j] = sum((dat_remove$violenceScore - pred_vals)^2) / length(pred)\n",
    "\n",
    "    }\n",
    "  \n",
    "    return(list(mse = mean(mses)))\n",
    "  \n",
    "}#function\n",
    "\n",
    "CrossValMSE(knn_dat)\n",
    "CrossValMSE(mean_dat)\n",
    "CrossValMSE(med_dat)\n",
    "CrossValMSE(mode_dat)"
   ]
  },
  {
   "cell_type": "code",
   "execution_count": 218,
   "id": "c44159ec",
   "metadata": {},
   "outputs": [
    {
     "data": {
      "text/html": [
       "<strong>$mse</strong> = 36.1215262189917"
      ],
      "text/latex": [
       "\\textbf{\\$mse} = 36.1215262189917"
      ],
      "text/markdown": [
       "**$mse** = 36.1215262189917"
      ],
      "text/plain": [
       "$mse\n",
       "[1] 36.12153\n"
      ]
     },
     "metadata": {},
     "output_type": "display_data"
    },
    {
     "data": {
      "text/html": [
       "<strong>$mse</strong> = 35.6440619675569"
      ],
      "text/latex": [
       "\\textbf{\\$mse} = 35.6440619675569"
      ],
      "text/markdown": [
       "**$mse** = 35.6440619675569"
      ],
      "text/plain": [
       "$mse\n",
       "[1] 35.64406\n"
      ]
     },
     "metadata": {},
     "output_type": "display_data"
    },
    {
     "data": {
      "text/html": [
       "<strong>$mse</strong> = 34.7489830439783"
      ],
      "text/latex": [
       "\\textbf{\\$mse} = 34.7489830439783"
      ],
      "text/markdown": [
       "**$mse** = 34.7489830439783"
      ],
      "text/plain": [
       "$mse\n",
       "[1] 34.74898\n"
      ]
     },
     "metadata": {},
     "output_type": "display_data"
    },
    {
     "data": {
      "text/html": [
       "<strong>$mse</strong> = 34.0469816002996"
      ],
      "text/latex": [
       "\\textbf{\\$mse} = 34.0469816002996"
      ],
      "text/markdown": [
       "**$mse** = 34.0469816002996"
      ],
      "text/plain": [
       "$mse\n",
       "[1] 34.04698\n"
      ]
     },
     "metadata": {},
     "output_type": "display_data"
    }
   ],
   "source": [
    "# Model with SNAP and UnemploymentRate\n",
    "\n",
    "library(\"gtools\")\n",
    "\n",
    "CrossValMSE = function(dat) {\n",
    "    columnNames = colnames(dat)\n",
    "    dat = data.frame(dat)  \n",
    "    colnames(dat) = columnNames\n",
    "    \n",
    "    numRow = nrow(dat)\n",
    "    numCol = ncol(dat)\n",
    "    numCounty = length(unique(dat$sitename))\n",
    "    \n",
    "    mses = c(rep(0, 1000))\n",
    "    \n",
    "    for (j in 1:1000) {\n",
    "        dat_keep = data.frame(matrix(nrow = numRow - numCounty, ncol = numCol))\n",
    "        dat_remove = data.frame(matrix(nrow = numCounty, ncol = numCol))\n",
    "\n",
    "        currLoc = 1\n",
    "        \n",
    "        # Selecting one set of predictors for each county for the testing set\n",
    "        for (i in 1:numCounty) {\n",
    "            temp_dat = dat %>% filter(dat$sitename == unique(dat$sitename)[i])\n",
    "            randnum = sample(1:length(unique(temp_dat$year)), 1)\n",
    "\n",
    "            totRow = nrow(temp_dat) \n",
    "\n",
    "            dat_keep[currLoc:(currLoc + (totRow-1) - 1), ] = temp_dat[-c(randnum),]\n",
    "            dat_remove[i,] = temp_dat[randnum,]\n",
    "\n",
    "            currLoc = currLoc + (totRow - 1)\n",
    "        }\n",
    "\n",
    "        colnames(dat_keep) = colnames(knn_dat)\n",
    "        colnames(dat_remove) = colnames(knn_dat)\n",
    "\n",
    "        lme_mod = lme(violenceScore ~  SNAP + UnemploymentRate, random = ~ 1 | sitename, method = \"ML\", data = dat_keep)\n",
    "\n",
    "        # Getting the predicted response\n",
    "        pred = predict(lme_mod, dat_remove)\n",
    "        pred_vals = matrix(0, nrow = length(pred), ncol = 1)\n",
    "        for (i in 1:length(pred))\n",
    "            pred_vals[i,1] = pred[[i]]\n",
    "\n",
    "        # Calculating the MSE\n",
    "        mses[j] = sum((dat_remove$violenceScore - pred_vals)^2) / length(pred)\n",
    "\n",
    "    }\n",
    "  \n",
    "    return(list(mse = mean(mses)))\n",
    "  \n",
    "}#function\n",
    "\n",
    "CrossValMSE(knn_dat)\n",
    "CrossValMSE(mean_dat)\n",
    "CrossValMSE(med_dat)\n",
    "CrossValMSE(mode_dat)"
   ]
  }
 ],
 "metadata": {
  "kernelspec": {
   "display_name": "R",
   "language": "R",
   "name": "ir"
  },
  "language_info": {
   "codemirror_mode": "r",
   "file_extension": ".r",
   "mimetype": "text/x-r-source",
   "name": "R",
   "pygments_lexer": "r",
   "version": "4.1.1"
  }
 },
 "nbformat": 4,
 "nbformat_minor": 5
}
